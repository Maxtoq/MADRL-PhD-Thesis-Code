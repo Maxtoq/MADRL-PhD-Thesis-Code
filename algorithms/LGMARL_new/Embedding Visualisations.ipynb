{
 "cells": [
  {
   "cell_type": "code",
   "execution_count": 2,
   "id": "29c4a05b",
   "metadata": {},
   "outputs": [],
   "source": [
    "import pandas as pd\n",
    "import numpy as np\n",
    "import plotly.express as px\n",
    "from sklearn.preprocessing import LabelEncoder\n",
    "from sklearn.manifold import TSNE\n",
    "\n",
    "\n",
    "\n",
    "def plot_tsne(points, labels, n_dim=2, seed=None):\n",
    "    tsne = TSNE(n_components=n_dim, random_state=seed)\n",
    "    embeddings_2d = tsne.fit_transform(points)\n",
    "    \n",
    "    # Step 1: Encode labels\n",
    "    label_encoder = LabelEncoder()\n",
    "    encoded_labels = label_encoder.fit_transform(labels)\n",
    "    # label_names = label_encoder.inverse_transform(np.unique(encoded_labels))\n",
    "\n",
    "    # Step 2: Prepare DataFrame for Plotly\n",
    "    df = pd.DataFrame(embeddings_2d, columns=[\"TSNE-1\", \"TSNE-2\"])\n",
    "    df['Label'] = [label_encoder.inverse_transform([l])[0] for l in encoded_labels]\n",
    "\n",
    "    # Optional: Add color info using plotly's built-in color palettes or your own\n",
    "    # If you want to customize colors:\n",
    "    # from matplotlib.cm import get_cmap\n",
    "    # clrs = generate_gradient_colors(len(label_names), cmap_name='Paired')\n",
    "    # df['Color'] = [clrs[l] for l in encoded_labels]\n",
    "\n",
    "    # Step 3: Plot using Plotly\n",
    "    fig = px.scatter(\n",
    "        df,\n",
    "        x=\"TSNE-1\",\n",
    "        y=\"TSNE-2\",\n",
    "        color=\"Label\",\n",
    "        title=\"Interactive t-SNE Reduced Embeddings\",\n",
    "        labels={\"Label\": \"Description\"},\n",
    "        hover_data={\"Label\": True},\n",
    "    )\n",
    "\n",
    "    # Step 4: Improve interactivity\n",
    "    fig.update_traces(marker=dict(size=6, opacity=0.8),\n",
    "                    selector=dict(mode='markers'))\n",
    "    fig.update_layout(\n",
    "        legend_title_text='Descriptions',\n",
    "        legend=dict(itemsizing='constant'),\n",
    "        width=1000,   # Set your desired width in pixels\n",
    "        height=1000,   # Set your desired height in pixels\n",
    "    )\n",
    "\n",
    "    # Show the plot\n",
    "    fig.show()"
   ]
  },
  {
   "cell_type": "code",
   "execution_count": 3,
   "id": "93b79df8",
   "metadata": {},
   "outputs": [],
   "source": [
    "import json\n",
    "import random\n",
    "\n",
    "\n",
    "\n",
    "\n",
    "def load_data(path):\n",
    "    df = pd.read_csv(path, index_col=0)\n",
    "    df = df.fillna('')\n",
    "\n",
    "    # Drop majority of rows with empty message\n",
    "    empty_ids = df.index[df[\"lang\"] == ''].tolist()\n",
    "    if len(empty_ids) > len(df) * 0.1:\n",
    "        drop_ids = random.sample(empty_ids, int(len(empty_ids) - len(df) * 0.1))\n",
    "        df = df.drop(drop_ids)\n",
    "\n",
    "    # Prepare data\n",
    "    df[\"lang\"] = df[\"lang\"].apply(lambda x: x.split(\" \"))\n",
    "    df[\"obs\"] = df[\"obs\"].apply(json.loads)\n",
    "\n",
    "    obs_dim = len(df.iloc[0][\"obs\"])\n",
    "    max_len = max(df[\"lang\"].apply(len))\n",
    "\n",
    "    print(f\"Obs dim = {obs_dim}, Max message length = {max_len}.\")\n",
    "\n",
    "    return df, obs_dim, max_len\n",
    "\n"
   ]
  },
  {
   "cell_type": "code",
   "execution_count": 5,
   "id": "8b187c6a",
   "metadata": {},
   "outputs": [
    {
     "name": "stdout",
     "output_type": "stream",
     "text": [
      "Obs dim = 78, Max message length = 8.\n"
     ]
    },
    {
     "data": {
      "text/html": [
       "<div>\n",
       "<style scoped>\n",
       "    .dataframe tbody tr th:only-of-type {\n",
       "        vertical-align: middle;\n",
       "    }\n",
       "\n",
       "    .dataframe tbody tr th {\n",
       "        vertical-align: top;\n",
       "    }\n",
       "\n",
       "    .dataframe thead th {\n",
       "        text-align: right;\n",
       "    }\n",
       "</style>\n",
       "<table border=\"1\" class=\"dataframe\">\n",
       "  <thead>\n",
       "    <tr style=\"text-align: right;\">\n",
       "      <th></th>\n",
       "      <th>obs</th>\n",
       "      <th>lang</th>\n",
       "    </tr>\n",
       "  </thead>\n",
       "  <tbody>\n",
       "    <tr>\n",
       "      <th>2</th>\n",
       "      <td>[0.5, 0.42857142857142855, 0.0, 0.0, 0.0, 0.0,...</td>\n",
       "      <td>[Green, Gem, Center]</td>\n",
       "    </tr>\n",
       "    <tr>\n",
       "      <th>4</th>\n",
       "      <td>[0.42857142857142855, 0.42857142857142855, 0.0...</td>\n",
       "      <td>[Green, Gem, Center]</td>\n",
       "    </tr>\n",
       "    <tr>\n",
       "      <th>5</th>\n",
       "      <td>[0.42857142857142855, 0.5, 0.0, 0.0, 0.0, 0.0,...</td>\n",
       "      <td>[Green, Gem, Center]</td>\n",
       "    </tr>\n",
       "    <tr>\n",
       "      <th>8</th>\n",
       "      <td>[0.42857142857142855, 0.42857142857142855, 0.0...</td>\n",
       "      <td>[]</td>\n",
       "    </tr>\n",
       "    <tr>\n",
       "      <th>9</th>\n",
       "      <td>[0.42857142857142855, 0.5, 0.0, 0.0, 0.0, 0.0,...</td>\n",
       "      <td>[]</td>\n",
       "    </tr>\n",
       "  </tbody>\n",
       "</table>\n",
       "</div>"
      ],
      "text/plain": [
       "                                                 obs                  lang\n",
       "2  [0.5, 0.42857142857142855, 0.0, 0.0, 0.0, 0.0,...  [Green, Gem, Center]\n",
       "4  [0.42857142857142855, 0.42857142857142855, 0.0...  [Green, Gem, Center]\n",
       "5  [0.42857142857142855, 0.5, 0.0, 0.0, 0.0, 0.0,...  [Green, Gem, Center]\n",
       "8  [0.42857142857142855, 0.42857142857142855, 0.0...                    []\n",
       "9  [0.42857142857142855, 0.5, 0.0, 0.0, 0.0, 0.0,...                    []"
      ]
     },
     "execution_count": 5,
     "metadata": {},
     "output_type": "execute_result"
    }
   ],
   "source": [
    "df, obs_dim, max_mess_len = load_data(\"../../results/data/lamarl_data/FH_15.csv\")\n",
    "df.head()\n"
   ]
  },
  {
   "cell_type": "markdown",
   "id": "e63d97d0",
   "metadata": {},
   "source": [
    "Create and load model"
   ]
  },
  {
   "cell_type": "code",
   "execution_count": 7,
   "id": "27f7ab2e",
   "metadata": {},
   "outputs": [],
   "source": [
    "import torch\n",
    "\n",
    "from src.algo.policy_diff.langground import LanguageGrounder\n",
    "\n",
    "\n",
    "context_dim = 8\n",
    "hidden_dim = 64\n",
    "embed_dim = 4\n",
    "n_layer = 2\n",
    "lr = 0.007\n",
    "vocab = [\n",
    "    \"Prey\", \"Center\", \"North\", \"South\", \"East\", \"West\",\n",
    "    \"Gem\", \"Yellow\", \"Green\", \"Purple\", \"Danger\"]\n",
    "\n",
    "ll = LanguageGrounder(obs_dim, context_dim, hidden_dim, embed_dim, n_layer, lr, vocab, max_mess_len)\n",
    "ll.load_params(torch.load(\"../../results/data/lamarl_data/FH15_langground.pt\"))\n",
    "ll.prep_rollout(\"cpu\")\n"
   ]
  },
  {
   "cell_type": "markdown",
   "id": "8c85800c",
   "metadata": {},
   "source": [
    "Drop data if needed"
   ]
  },
  {
   "cell_type": "code",
   "execution_count": 14,
   "id": "cd6e1f18",
   "metadata": {},
   "outputs": [
    {
     "data": {
      "text/html": [
       "<div>\n",
       "<style scoped>\n",
       "    .dataframe tbody tr th:only-of-type {\n",
       "        vertical-align: middle;\n",
       "    }\n",
       "\n",
       "    .dataframe tbody tr th {\n",
       "        vertical-align: top;\n",
       "    }\n",
       "\n",
       "    .dataframe thead th {\n",
       "        text-align: right;\n",
       "    }\n",
       "</style>\n",
       "<table border=\"1\" class=\"dataframe\">\n",
       "  <thead>\n",
       "    <tr style=\"text-align: right;\">\n",
       "      <th></th>\n",
       "      <th>obs</th>\n",
       "      <th>lang</th>\n",
       "    </tr>\n",
       "  </thead>\n",
       "  <tbody>\n",
       "    <tr>\n",
       "      <th>3993350</th>\n",
       "      <td>[0.5, 0.07142857142857142, 0.0, 0.0, 0.0, 0.0,...</td>\n",
       "      <td>[Green, Gem, West]</td>\n",
       "    </tr>\n",
       "    <tr>\n",
       "      <th>3993357</th>\n",
       "      <td>[0.14285714285714285, 0.7857142857142857, 0.0,...</td>\n",
       "      <td>[Green, Gem, North, East]</td>\n",
       "    </tr>\n",
       "    <tr>\n",
       "      <th>3993373</th>\n",
       "      <td>[0.2857142857142857, 0.07142857142857142, 0.0,...</td>\n",
       "      <td>[Green, Gem, West]</td>\n",
       "    </tr>\n",
       "    <tr>\n",
       "      <th>3993378</th>\n",
       "      <td>[0.07142857142857142, 0.14285714285714285, 0.0...</td>\n",
       "      <td>[Green, Gem, North, West]</td>\n",
       "    </tr>\n",
       "    <tr>\n",
       "      <th>3993382</th>\n",
       "      <td>[0.6428571428571429, 0.5714285714285714, 0.0, ...</td>\n",
       "      <td>[Green, Gem, Center]</td>\n",
       "    </tr>\n",
       "    <tr>\n",
       "      <th>...</th>\n",
       "      <td>...</td>\n",
       "      <td>...</td>\n",
       "    </tr>\n",
       "    <tr>\n",
       "      <th>3999989</th>\n",
       "      <td>[0.0, 1.0, 0.0, 0.0, 0.0, 0.0, 0.0, 0.0, 0.0, ...</td>\n",
       "      <td>[Green, Gem, North, East]</td>\n",
       "    </tr>\n",
       "    <tr>\n",
       "      <th>3999990</th>\n",
       "      <td>[0.8571428571428571, 0.7857142857142857, 0.0, ...</td>\n",
       "      <td>[Green, Gem, South, East]</td>\n",
       "    </tr>\n",
       "    <tr>\n",
       "      <th>3999996</th>\n",
       "      <td>[0.8571428571428571, 0.5, 0.0, 0.0, 0.0, 0.0, ...</td>\n",
       "      <td>[Green, Gem, South]</td>\n",
       "    </tr>\n",
       "    <tr>\n",
       "      <th>3999997</th>\n",
       "      <td>[0.0, 0.35714285714285715, 0.0, 0.0, 0.0, 0.0,...</td>\n",
       "      <td>[Green, Gem, North]</td>\n",
       "    </tr>\n",
       "    <tr>\n",
       "      <th>3999998</th>\n",
       "      <td>[0.8571428571428571, 0.35714285714285715, 0.0,...</td>\n",
       "      <td>[Green, Gem, South]</td>\n",
       "    </tr>\n",
       "  </tbody>\n",
       "</table>\n",
       "<p>1634 rows × 2 columns</p>\n",
       "</div>"
      ],
      "text/plain": [
       "                                                       obs  \\\n",
       "3993350  [0.5, 0.07142857142857142, 0.0, 0.0, 0.0, 0.0,...   \n",
       "3993357  [0.14285714285714285, 0.7857142857142857, 0.0,...   \n",
       "3993373  [0.2857142857142857, 0.07142857142857142, 0.0,...   \n",
       "3993378  [0.07142857142857142, 0.14285714285714285, 0.0...   \n",
       "3993382  [0.6428571428571429, 0.5714285714285714, 0.0, ...   \n",
       "...                                                    ...   \n",
       "3999989  [0.0, 1.0, 0.0, 0.0, 0.0, 0.0, 0.0, 0.0, 0.0, ...   \n",
       "3999990  [0.8571428571428571, 0.7857142857142857, 0.0, ...   \n",
       "3999996  [0.8571428571428571, 0.5, 0.0, 0.0, 0.0, 0.0, ...   \n",
       "3999997  [0.0, 0.35714285714285715, 0.0, 0.0, 0.0, 0.0,...   \n",
       "3999998  [0.8571428571428571, 0.35714285714285715, 0.0,...   \n",
       "\n",
       "                              lang  \n",
       "3993350         [Green, Gem, West]  \n",
       "3993357  [Green, Gem, North, East]  \n",
       "3993373         [Green, Gem, West]  \n",
       "3993378  [Green, Gem, North, West]  \n",
       "3993382       [Green, Gem, Center]  \n",
       "...                            ...  \n",
       "3999989  [Green, Gem, North, East]  \n",
       "3999990  [Green, Gem, South, East]  \n",
       "3999996        [Green, Gem, South]  \n",
       "3999997        [Green, Gem, North]  \n",
       "3999998        [Green, Gem, South]  \n",
       "\n",
       "[1634 rows x 2 columns]"
      ]
     },
     "execution_count": 14,
     "metadata": {},
     "output_type": "execute_result"
    }
   ],
   "source": [
    "eval_data = df.iloc[-5000:]\n",
    "\n",
    "# Remove rows with long messages\n",
    "rids = []\n",
    "for i, row in eval_data.iterrows():\n",
    "    if len(row[\"lang\"]) > 4 or \"Green\" not in row[\"lang\"]:# or len(row[\"lang\"]) <= 1 or 10 not in row[\"lang\"]:# or 10 not in row[\"lang\"]:\n",
    "        rids.append(i)\n",
    "display_data = eval_data.drop(rids)\n",
    "display_data"
   ]
  },
  {
   "cell_type": "markdown",
   "id": "bcfe5134",
   "metadata": {},
   "source": [
    "Generate embeddings and labels"
   ]
  },
  {
   "cell_type": "code",
   "execution_count": 15,
   "id": "bbf272f7",
   "metadata": {},
   "outputs": [
    {
     "data": {
      "application/vnd.plotly.v1+json": {
       "config": {
        "plotlyServerURL": "https://plot.ly"
       },
       "data": [
        {
         "customdata": [
          [
           "Green Gem West"
          ],
          [
           "Green Gem West"
          ],
          [
           "Green Gem West"
          ],
          [
           "Green Gem West"
          ],
          [
           "Green Gem West"
          ],
          [
           "Green Gem West"
          ],
          [
           "Green Gem West"
          ],
          [
           "Green Gem West"
          ],
          [
           "Green Gem West"
          ],
          [
           "Green Gem West"
          ],
          [
           "Green Gem West"
          ],
          [
           "Green Gem West"
          ],
          [
           "Green Gem West"
          ],
          [
           "Green Gem West"
          ],
          [
           "Green Gem West"
          ],
          [
           "Green Gem West"
          ],
          [
           "Green Gem West"
          ],
          [
           "Green Gem West"
          ],
          [
           "Green Gem West"
          ],
          [
           "Green Gem West"
          ],
          [
           "Green Gem West"
          ],
          [
           "Green Gem West"
          ],
          [
           "Green Gem West"
          ],
          [
           "Green Gem West"
          ],
          [
           "Green Gem West"
          ],
          [
           "Green Gem West"
          ],
          [
           "Green Gem West"
          ],
          [
           "Green Gem West"
          ],
          [
           "Green Gem West"
          ],
          [
           "Green Gem West"
          ],
          [
           "Green Gem West"
          ],
          [
           "Green Gem West"
          ],
          [
           "Green Gem West"
          ],
          [
           "Green Gem West"
          ],
          [
           "Green Gem West"
          ],
          [
           "Green Gem West"
          ],
          [
           "Green Gem West"
          ],
          [
           "Green Gem West"
          ],
          [
           "Green Gem West"
          ],
          [
           "Green Gem West"
          ],
          [
           "Green Gem West"
          ],
          [
           "Green Gem West"
          ],
          [
           "Green Gem West"
          ],
          [
           "Green Gem West"
          ],
          [
           "Green Gem West"
          ],
          [
           "Green Gem West"
          ],
          [
           "Green Gem West"
          ],
          [
           "Green Gem West"
          ],
          [
           "Green Gem West"
          ],
          [
           "Green Gem West"
          ],
          [
           "Green Gem West"
          ],
          [
           "Green Gem West"
          ],
          [
           "Green Gem West"
          ],
          [
           "Green Gem West"
          ],
          [
           "Green Gem West"
          ],
          [
           "Green Gem West"
          ],
          [
           "Green Gem West"
          ],
          [
           "Green Gem West"
          ],
          [
           "Green Gem West"
          ],
          [
           "Green Gem West"
          ],
          [
           "Green Gem West"
          ],
          [
           "Green Gem West"
          ],
          [
           "Green Gem West"
          ],
          [
           "Green Gem West"
          ],
          [
           "Green Gem West"
          ],
          [
           "Green Gem West"
          ],
          [
           "Green Gem West"
          ],
          [
           "Green Gem West"
          ],
          [
           "Green Gem West"
          ],
          [
           "Green Gem West"
          ],
          [
           "Green Gem West"
          ],
          [
           "Green Gem West"
          ],
          [
           "Green Gem West"
          ],
          [
           "Green Gem West"
          ],
          [
           "Green Gem West"
          ],
          [
           "Green Gem West"
          ],
          [
           "Green Gem West"
          ],
          [
           "Green Gem West"
          ],
          [
           "Green Gem West"
          ],
          [
           "Green Gem West"
          ],
          [
           "Green Gem West"
          ],
          [
           "Green Gem West"
          ],
          [
           "Green Gem West"
          ],
          [
           "Green Gem West"
          ],
          [
           "Green Gem West"
          ],
          [
           "Green Gem West"
          ],
          [
           "Green Gem West"
          ],
          [
           "Green Gem West"
          ],
          [
           "Green Gem West"
          ],
          [
           "Green Gem West"
          ],
          [
           "Green Gem West"
          ],
          [
           "Green Gem West"
          ],
          [
           "Green Gem West"
          ],
          [
           "Green Gem West"
          ],
          [
           "Green Gem West"
          ],
          [
           "Green Gem West"
          ],
          [
           "Green Gem West"
          ],
          [
           "Green Gem West"
          ],
          [
           "Green Gem West"
          ],
          [
           "Green Gem West"
          ],
          [
           "Green Gem West"
          ],
          [
           "Green Gem West"
          ],
          [
           "Green Gem West"
          ],
          [
           "Green Gem West"
          ],
          [
           "Green Gem West"
          ],
          [
           "Green Gem West"
          ],
          [
           "Green Gem West"
          ],
          [
           "Green Gem West"
          ],
          [
           "Green Gem West"
          ],
          [
           "Green Gem West"
          ],
          [
           "Green Gem West"
          ],
          [
           "Green Gem West"
          ],
          [
           "Green Gem West"
          ],
          [
           "Green Gem West"
          ],
          [
           "Green Gem West"
          ],
          [
           "Green Gem West"
          ],
          [
           "Green Gem West"
          ],
          [
           "Green Gem West"
          ],
          [
           "Green Gem West"
          ],
          [
           "Green Gem West"
          ],
          [
           "Green Gem West"
          ],
          [
           "Green Gem West"
          ],
          [
           "Green Gem West"
          ],
          [
           "Green Gem West"
          ],
          [
           "Green Gem West"
          ],
          [
           "Green Gem West"
          ],
          [
           "Green Gem West"
          ],
          [
           "Green Gem West"
          ],
          [
           "Green Gem West"
          ],
          [
           "Green Gem West"
          ],
          [
           "Green Gem West"
          ],
          [
           "Green Gem West"
          ],
          [
           "Green Gem West"
          ],
          [
           "Green Gem West"
          ],
          [
           "Green Gem West"
          ],
          [
           "Green Gem West"
          ],
          [
           "Green Gem West"
          ],
          [
           "Green Gem West"
          ],
          [
           "Green Gem West"
          ],
          [
           "Green Gem West"
          ],
          [
           "Green Gem West"
          ],
          [
           "Green Gem West"
          ],
          [
           "Green Gem West"
          ],
          [
           "Green Gem West"
          ],
          [
           "Green Gem West"
          ],
          [
           "Green Gem West"
          ],
          [
           "Green Gem West"
          ],
          [
           "Green Gem West"
          ],
          [
           "Green Gem West"
          ],
          [
           "Green Gem West"
          ],
          [
           "Green Gem West"
          ],
          [
           "Green Gem West"
          ],
          [
           "Green Gem West"
          ],
          [
           "Green Gem West"
          ],
          [
           "Green Gem West"
          ],
          [
           "Green Gem West"
          ],
          [
           "Green Gem West"
          ],
          [
           "Green Gem West"
          ],
          [
           "Green Gem West"
          ],
          [
           "Green Gem West"
          ],
          [
           "Green Gem West"
          ],
          [
           "Green Gem West"
          ],
          [
           "Green Gem West"
          ],
          [
           "Green Gem West"
          ],
          [
           "Green Gem West"
          ],
          [
           "Green Gem West"
          ],
          [
           "Green Gem West"
          ],
          [
           "Green Gem West"
          ],
          [
           "Green Gem West"
          ],
          [
           "Green Gem West"
          ],
          [
           "Green Gem West"
          ],
          [
           "Green Gem West"
          ],
          [
           "Green Gem West"
          ],
          [
           "Green Gem West"
          ],
          [
           "Green Gem West"
          ],
          [
           "Green Gem West"
          ],
          [
           "Green Gem West"
          ],
          [
           "Green Gem West"
          ],
          [
           "Green Gem West"
          ],
          [
           "Green Gem West"
          ],
          [
           "Green Gem West"
          ],
          [
           "Green Gem West"
          ],
          [
           "Green Gem West"
          ],
          [
           "Green Gem West"
          ],
          [
           "Green Gem West"
          ],
          [
           "Green Gem West"
          ],
          [
           "Green Gem West"
          ],
          [
           "Green Gem West"
          ],
          [
           "Green Gem West"
          ],
          [
           "Green Gem West"
          ],
          [
           "Green Gem West"
          ],
          [
           "Green Gem West"
          ],
          [
           "Green Gem West"
          ],
          [
           "Green Gem West"
          ],
          [
           "Green Gem West"
          ],
          [
           "Green Gem West"
          ],
          [
           "Green Gem West"
          ],
          [
           "Green Gem West"
          ],
          [
           "Green Gem West"
          ],
          [
           "Green Gem West"
          ],
          [
           "Green Gem West"
          ],
          [
           "Green Gem West"
          ],
          [
           "Green Gem West"
          ],
          [
           "Green Gem West"
          ],
          [
           "Green Gem West"
          ],
          [
           "Green Gem West"
          ],
          [
           "Green Gem West"
          ],
          [
           "Green Gem West"
          ],
          [
           "Green Gem West"
          ],
          [
           "Green Gem West"
          ],
          [
           "Green Gem West"
          ],
          [
           "Green Gem West"
          ],
          [
           "Green Gem West"
          ],
          [
           "Green Gem West"
          ],
          [
           "Green Gem West"
          ],
          [
           "Green Gem West"
          ],
          [
           "Green Gem West"
          ],
          [
           "Green Gem West"
          ],
          [
           "Green Gem West"
          ],
          [
           "Green Gem West"
          ],
          [
           "Green Gem West"
          ],
          [
           "Green Gem West"
          ],
          [
           "Green Gem West"
          ],
          [
           "Green Gem West"
          ],
          [
           "Green Gem West"
          ],
          [
           "Green Gem West"
          ],
          [
           "Green Gem West"
          ],
          [
           "Green Gem West"
          ],
          [
           "Green Gem West"
          ],
          [
           "Green Gem West"
          ]
         ],
         "hovertemplate": "Description=%{customdata[0]}<br>TSNE-1=%{x}<br>TSNE-2=%{y}<extra></extra>",
         "legendgroup": "Green Gem West",
         "marker": {
          "color": "#636efa",
          "opacity": 0.8,
          "size": 6,
          "symbol": "circle"
         },
         "mode": "markers",
         "name": "Green Gem West",
         "showlegend": true,
         "type": "scattergl",
         "x": {
          "bdata": "qBIbwsr5rMHfeM/BbKMgwu5V4sFTRRXCxiW3wcnSGsKEnkXBjLnkwfTxhsEMHI3BhZixwffnqsGIHS7C5lofwuP7HsLlGgTCOs3gwaXYKcFLGyTBXrrhwWjEDMDHuA/C7wLiwW72CsJtSYvBOJgkwtPx5MEzEQ7CQ3wRwj34tsFx0RrC6apFwZClu8Gk2+XBI4QqwVsnacECMzLCUJaxwZG1jME51ELBFx0kwqpYBMIfmaXB690pwSnfBMIKdSzCMKYcwh3/0cGQpbvB3P8KwsNai8EKbYfBbx0QwkX9GcIOThXCpCgjwtEkCsJRkefBpMG9waE/jsHYwQzCcJKxwfusBMICkaXB7ovdwR0N08Ea4CPBlBgFwoPRDMCzFB/CiCg3wddr0sHnEr/BKxziwUBti8HSyIfB6m62wRUD0cHbEB3Czd6uwQofDsJk9vDB+cTrwdPVIMLDnejBSddYwf1G+8FfBrHBSycNwlUpMsIkkLHBJo1jwQztBMJs7xTC461CwQ0Z08FY2x3BJD0Fwk53LMLfeiXCYCMfwvf6u8F2aNLBuUEiwSt/i8FfGEDBL1tQwcIB0cHZFR3CkZqAwd6UF8JzCuzB6IQWwlCSVcG2pwbCP4SOweqKjsF04gTCXxtxwYH0GcINvQ7CV4j1wYZ34cHyDFjBWMoowfwi08Hhzx3BbbDiwUdb5sGCWyzCP44pwlKOHMIQCTfBP7zhwXkqv8EqfYrBy2VmwR33MMHupMjBzxUdwtySwsHhWBHCW6vTwdxoMsIqierBRfYowd+VVcG4zxHCyeXBwX0lfMF425vBChPBwYEAGsKBuBTCj15kwdGpMcLpzinBl8jmwRZ1r8EUB93BRfQpwkZCH8JQYtLBPCoKwgW3dsERXVDBU5a2wYwdHcJwh43ByMQOwhp3FsJTxOnBRLBSwc4UwsEtbo7BImsHwmtAccF1jw3CB70Uwp6oGMKJaDvBKpYxwnoyQ8E3webBjF7jweJUv8FQMd3BkYYtwQRSH8IvsxzCkDLrwbPviMHZ/HLBUF5QwXeX5MHNqbbBK/vRwdzWjcG2zg7CLwizwcsnDMLuj3PB7l2OwVpYAcKBpgXCRkgWwl/CFMKwSu7B1Uo6wVkDu8HnQCnBRsrmwc8V5ME9YgLC+oHnwf424sE/pCzCY+8VwqFSGcK6nevBBWMEwseJc8FvItHB5oyGwVsv1MHTD8PBDIgYwoqVvsE=",
          "dtype": "f4"
         },
         "xaxis": "x",
         "y": {
          "bdata": "GvCawUMJ2sG5DBTBfy6hwX8xksHhrLTBOEjiwdvcqcGtGs/BsErPwRsL08Fyj9LBDN3Zwb9w3cFCx5HB3PyawftIl8FQ68vB1heVwX9CvMErEr/Bk4zKwXHPPsJUNLnBcEqPwftTwcGbaNrBjUCPwWN5ncGKGMjBAt20wYtb4sFU1qnB6hbPwSdN0sH27s7BdGu6wTiN0MEyAZnBV9HZweZu3cH4wcvBluuOwQF8xMEb+NPBfEu8way5v8G7xI/BYrWbwYWHOsEnTdLBPDXBwTNv2sG1C9LBGcy1wVWQlcHam7TBO1uQwYuqysGnm87B7crewSOa0sG9e8PBBsfZwZWLxMG38NPBGnTYwTjB2MEg677B1le/wWfPPsLN9ZbBUQLTwejaPsGENMnBOnTPwSV12sF6ANLBUvXNwdwWK8E28Y/BKiLPwZTExsEFvdbBr5zIwe2BmcFke87BrFnRwaiG1MFxct3BXoS3wSvsmMExu9nBhpnTwaKIxMFFFZXBxoPMwRm/2MFrRb3B+iG/wSHCj8FqqI7BmsuWwdJC0sEBsD7BPSPGwc172sEDy8rB6yrRwe8AK8Hb6I/Bu/XSwdwdrsEorMjBp7++wRM6rcGW6sHBuJ3PwdPH4sG7r8HBWOnZwQFcnsG9K7vB7ybHwQOxlsH6mKzBdGmzwaSu2MEzPr3B2S3KwemyyMGIrY/BgnyOwdTbm8FtEtPBUtSPwdkrycF7fsvBwb3TwfBVxMG30MjAUeKPwZ2sysF0LLXBhWFMwW59mcHjMN/BtKK9wVs5rcEJr8TBttLZwcgB3MHF+tTBUN3SwbA+nsFaVazBBavTwR3gl8E8pbHBLZ3Swcvcy8Ggis/BNouOwSN4lsHWVD7BSi/EwXOp08G2KNHBo+nZwevYj8FeK9PBOn29wTAMv8GiaM7Bvu/MwTbJ2cHTyeLB0va+wa/t2cEMI7XBzkmswcGessGjhcnBEruXwf+vzMHfndLBiuvJwWt8zcF7ks/BU0jBwQZPlsF9uJvBVjuWwe4KzMHRx9PBpifRwbo6ncGd4dnBBkk5wQU308EuZ73B6vjRwWxXucGoZtXBLMviweqKwsG8oMDBVfmUweY+rMF055XBOL/Mwf5mz8GfcLfB6pbSwXHFycHYSsDB/unIwTgA3sHL7I/B3EzBwcH6qcEuFJfBzeDGwR2+08FiScLBZ0nVwYvtUMFfdcrByr2nwQsG5ME=",
          "dtype": "f4"
         },
         "yaxis": "y"
        },
        {
         "customdata": [
          [
           "Green Gem North East"
          ],
          [
           "Green Gem North East"
          ],
          [
           "Green Gem North East"
          ],
          [
           "Green Gem North East"
          ],
          [
           "Green Gem North East"
          ],
          [
           "Green Gem North East"
          ],
          [
           "Green Gem North East"
          ],
          [
           "Green Gem North East"
          ],
          [
           "Green Gem North East"
          ],
          [
           "Green Gem North East"
          ],
          [
           "Green Gem North East"
          ],
          [
           "Green Gem North East"
          ],
          [
           "Green Gem North East"
          ],
          [
           "Green Gem North East"
          ],
          [
           "Green Gem North East"
          ],
          [
           "Green Gem North East"
          ],
          [
           "Green Gem North East"
          ],
          [
           "Green Gem North East"
          ],
          [
           "Green Gem North East"
          ],
          [
           "Green Gem North East"
          ],
          [
           "Green Gem North East"
          ],
          [
           "Green Gem North East"
          ],
          [
           "Green Gem North East"
          ],
          [
           "Green Gem North East"
          ],
          [
           "Green Gem North East"
          ],
          [
           "Green Gem North East"
          ],
          [
           "Green Gem North East"
          ],
          [
           "Green Gem North East"
          ],
          [
           "Green Gem North East"
          ],
          [
           "Green Gem North East"
          ],
          [
           "Green Gem North East"
          ],
          [
           "Green Gem North East"
          ],
          [
           "Green Gem North East"
          ],
          [
           "Green Gem North East"
          ],
          [
           "Green Gem North East"
          ],
          [
           "Green Gem North East"
          ],
          [
           "Green Gem North East"
          ],
          [
           "Green Gem North East"
          ],
          [
           "Green Gem North East"
          ],
          [
           "Green Gem North East"
          ],
          [
           "Green Gem North East"
          ],
          [
           "Green Gem North East"
          ],
          [
           "Green Gem North East"
          ],
          [
           "Green Gem North East"
          ],
          [
           "Green Gem North East"
          ],
          [
           "Green Gem North East"
          ],
          [
           "Green Gem North East"
          ],
          [
           "Green Gem North East"
          ],
          [
           "Green Gem North East"
          ],
          [
           "Green Gem North East"
          ],
          [
           "Green Gem North East"
          ],
          [
           "Green Gem North East"
          ],
          [
           "Green Gem North East"
          ],
          [
           "Green Gem North East"
          ],
          [
           "Green Gem North East"
          ],
          [
           "Green Gem North East"
          ],
          [
           "Green Gem North East"
          ],
          [
           "Green Gem North East"
          ],
          [
           "Green Gem North East"
          ],
          [
           "Green Gem North East"
          ],
          [
           "Green Gem North East"
          ],
          [
           "Green Gem North East"
          ],
          [
           "Green Gem North East"
          ],
          [
           "Green Gem North East"
          ],
          [
           "Green Gem North East"
          ],
          [
           "Green Gem North East"
          ],
          [
           "Green Gem North East"
          ],
          [
           "Green Gem North East"
          ],
          [
           "Green Gem North East"
          ],
          [
           "Green Gem North East"
          ],
          [
           "Green Gem North East"
          ],
          [
           "Green Gem North East"
          ],
          [
           "Green Gem North East"
          ],
          [
           "Green Gem North East"
          ],
          [
           "Green Gem North East"
          ],
          [
           "Green Gem North East"
          ],
          [
           "Green Gem North East"
          ],
          [
           "Green Gem North East"
          ],
          [
           "Green Gem North East"
          ],
          [
           "Green Gem North East"
          ],
          [
           "Green Gem North East"
          ],
          [
           "Green Gem North East"
          ],
          [
           "Green Gem North East"
          ],
          [
           "Green Gem North East"
          ],
          [
           "Green Gem North East"
          ]
         ],
         "hovertemplate": "Description=%{customdata[0]}<br>TSNE-1=%{x}<br>TSNE-2=%{y}<extra></extra>",
         "legendgroup": "Green Gem North East",
         "marker": {
          "color": "#EF553B",
          "opacity": 0.8,
          "size": 6,
          "symbol": "circle"
         },
         "mode": "markers",
         "name": "Green Gem North East",
         "showlegend": true,
         "type": "scattergl",
         "x": {
          "bdata": "8weIQR9Qp0GRrrpBqlLsQW6br0EcReVBOr24QehVtUHm64lBFJGyQazui0Gmh55BclTsQS6gr0HxRNtBhTGrQW5H70HpBYhBGrOWQS1LnkEtt69BMkrbQc6vuUFl3IlBwwSIQXezlkHEsJ5BteSvQSdP20HZYPJB32mrQW56kEH0ALFBx8HGQf/9h0GnqNJBR9irQUs7u0GyVqJBUSezQU9rz0H8XNxBpt++QSeHq0HcgMdB12SmQSU8o0FSdNJB21SRQQO0lkFQE95B/tieQaRd7EE0bbNB+IPPQSFb3EGVCr9BhD65QSEpsUE9FNFBgxneQQwQo0EBrrNBo5zPQQ0xv0GoVLlBsRzyQQA/sUHaR6ZBMFTVQXN8o0FkH9FB0+/xQbPK3UGBHKNBEMmzQbNi20EbWr9BV+GrQdf58EGuU7FB2lnVQUMB2UFyOqNBVP+yQQ==",
          "dtype": "f4"
         },
         "xaxis": "x",
         "y": {
          "bdata": "qEgoQjwiKkL4/SlCLREwQkBkN0ImbjBC6S4tQr3HL0LUNShCEJorQvqRJ0IUtydCYhEwQmSJN0K8SjVCTdQzQjkBMUIfSChCt9gnQk+1KUI2rTdCJEs1QjOJLkIuOihC1UcoQl7ZJ0INuSdC9dA3Qo5MNUIijDJCeeszQtUTJ0Ky5C9Cmo8sQhk6J0JLui9COrYsQhVjKkLrAy5C+Kg2QpGeLkJmjS9CRVErQur2M0JaVixCaBMwQsOrK0JW2jFCcaUnQq/aJ0JJYS9CXbsnQg8TMEKkxzZCcaYuQjCXL0IvZitCdXYtQjnxL0IY8y1C2WovQkG4MULz+DZCv60uQmJzK0I/gS1C0n4yQif3L0KACjBC5tYvQnu8K0KE9i1ChGMzQgkZLkJZNSpCAFY3QmZTNUKDiStCmxg0QmQBMUKd/S9C89svQmRrNkKgRypCvRc4Qg==",
          "dtype": "f4"
         },
         "yaxis": "y"
        },
        {
         "customdata": [
          [
           "Green Gem North West"
          ],
          [
           "Green Gem North West"
          ],
          [
           "Green Gem North West"
          ],
          [
           "Green Gem North West"
          ],
          [
           "Green Gem North West"
          ],
          [
           "Green Gem North West"
          ],
          [
           "Green Gem North West"
          ],
          [
           "Green Gem North West"
          ],
          [
           "Green Gem North West"
          ],
          [
           "Green Gem North West"
          ],
          [
           "Green Gem North West"
          ],
          [
           "Green Gem North West"
          ],
          [
           "Green Gem North West"
          ],
          [
           "Green Gem North West"
          ],
          [
           "Green Gem North West"
          ],
          [
           "Green Gem North West"
          ],
          [
           "Green Gem North West"
          ],
          [
           "Green Gem North West"
          ],
          [
           "Green Gem North West"
          ],
          [
           "Green Gem North West"
          ],
          [
           "Green Gem North West"
          ],
          [
           "Green Gem North West"
          ],
          [
           "Green Gem North West"
          ],
          [
           "Green Gem North West"
          ],
          [
           "Green Gem North West"
          ],
          [
           "Green Gem North West"
          ],
          [
           "Green Gem North West"
          ],
          [
           "Green Gem North West"
          ],
          [
           "Green Gem North West"
          ],
          [
           "Green Gem North West"
          ],
          [
           "Green Gem North West"
          ],
          [
           "Green Gem North West"
          ],
          [
           "Green Gem North West"
          ],
          [
           "Green Gem North West"
          ],
          [
           "Green Gem North West"
          ],
          [
           "Green Gem North West"
          ],
          [
           "Green Gem North West"
          ],
          [
           "Green Gem North West"
          ],
          [
           "Green Gem North West"
          ],
          [
           "Green Gem North West"
          ],
          [
           "Green Gem North West"
          ],
          [
           "Green Gem North West"
          ],
          [
           "Green Gem North West"
          ],
          [
           "Green Gem North West"
          ],
          [
           "Green Gem North West"
          ],
          [
           "Green Gem North West"
          ],
          [
           "Green Gem North West"
          ],
          [
           "Green Gem North West"
          ],
          [
           "Green Gem North West"
          ],
          [
           "Green Gem North West"
          ],
          [
           "Green Gem North West"
          ],
          [
           "Green Gem North West"
          ],
          [
           "Green Gem North West"
          ],
          [
           "Green Gem North West"
          ],
          [
           "Green Gem North West"
          ],
          [
           "Green Gem North West"
          ],
          [
           "Green Gem North West"
          ],
          [
           "Green Gem North West"
          ],
          [
           "Green Gem North West"
          ],
          [
           "Green Gem North West"
          ],
          [
           "Green Gem North West"
          ],
          [
           "Green Gem North West"
          ],
          [
           "Green Gem North West"
          ],
          [
           "Green Gem North West"
          ],
          [
           "Green Gem North West"
          ],
          [
           "Green Gem North West"
          ],
          [
           "Green Gem North West"
          ],
          [
           "Green Gem North West"
          ],
          [
           "Green Gem North West"
          ],
          [
           "Green Gem North West"
          ],
          [
           "Green Gem North West"
          ],
          [
           "Green Gem North West"
          ],
          [
           "Green Gem North West"
          ],
          [
           "Green Gem North West"
          ],
          [
           "Green Gem North West"
          ],
          [
           "Green Gem North West"
          ],
          [
           "Green Gem North West"
          ],
          [
           "Green Gem North West"
          ],
          [
           "Green Gem North West"
          ],
          [
           "Green Gem North West"
          ],
          [
           "Green Gem North West"
          ],
          [
           "Green Gem North West"
          ],
          [
           "Green Gem North West"
          ],
          [
           "Green Gem North West"
          ],
          [
           "Green Gem North West"
          ],
          [
           "Green Gem North West"
          ],
          [
           "Green Gem North West"
          ],
          [
           "Green Gem North West"
          ],
          [
           "Green Gem North West"
          ],
          [
           "Green Gem North West"
          ],
          [
           "Green Gem North West"
          ],
          [
           "Green Gem North West"
          ],
          [
           "Green Gem North West"
          ],
          [
           "Green Gem North West"
          ],
          [
           "Green Gem North West"
          ],
          [
           "Green Gem North West"
          ],
          [
           "Green Gem North West"
          ],
          [
           "Green Gem North West"
          ],
          [
           "Green Gem North West"
          ],
          [
           "Green Gem North West"
          ],
          [
           "Green Gem North West"
          ],
          [
           "Green Gem North West"
          ],
          [
           "Green Gem North West"
          ],
          [
           "Green Gem North West"
          ],
          [
           "Green Gem North West"
          ],
          [
           "Green Gem North West"
          ],
          [
           "Green Gem North West"
          ],
          [
           "Green Gem North West"
          ],
          [
           "Green Gem North West"
          ],
          [
           "Green Gem North West"
          ],
          [
           "Green Gem North West"
          ],
          [
           "Green Gem North West"
          ],
          [
           "Green Gem North West"
          ],
          [
           "Green Gem North West"
          ],
          [
           "Green Gem North West"
          ],
          [
           "Green Gem North West"
          ],
          [
           "Green Gem North West"
          ],
          [
           "Green Gem North West"
          ],
          [
           "Green Gem North West"
          ],
          [
           "Green Gem North West"
          ],
          [
           "Green Gem North West"
          ],
          [
           "Green Gem North West"
          ],
          [
           "Green Gem North West"
          ],
          [
           "Green Gem North West"
          ],
          [
           "Green Gem North West"
          ],
          [
           "Green Gem North West"
          ],
          [
           "Green Gem North West"
          ],
          [
           "Green Gem North West"
          ],
          [
           "Green Gem North West"
          ],
          [
           "Green Gem North West"
          ],
          [
           "Green Gem North West"
          ],
          [
           "Green Gem North West"
          ],
          [
           "Green Gem North West"
          ],
          [
           "Green Gem North West"
          ],
          [
           "Green Gem North West"
          ],
          [
           "Green Gem North West"
          ],
          [
           "Green Gem North West"
          ],
          [
           "Green Gem North West"
          ],
          [
           "Green Gem North West"
          ],
          [
           "Green Gem North West"
          ],
          [
           "Green Gem North West"
          ],
          [
           "Green Gem North West"
          ],
          [
           "Green Gem North West"
          ],
          [
           "Green Gem North West"
          ],
          [
           "Green Gem North West"
          ],
          [
           "Green Gem North West"
          ],
          [
           "Green Gem North West"
          ],
          [
           "Green Gem North West"
          ],
          [
           "Green Gem North West"
          ],
          [
           "Green Gem North West"
          ],
          [
           "Green Gem North West"
          ],
          [
           "Green Gem North West"
          ],
          [
           "Green Gem North West"
          ],
          [
           "Green Gem North West"
          ],
          [
           "Green Gem North West"
          ],
          [
           "Green Gem North West"
          ],
          [
           "Green Gem North West"
          ],
          [
           "Green Gem North West"
          ],
          [
           "Green Gem North West"
          ]
         ],
         "hovertemplate": "Description=%{customdata[0]}<br>TSNE-1=%{x}<br>TSNE-2=%{y}<extra></extra>",
         "legendgroup": "Green Gem North West",
         "marker": {
          "color": "#00cc96",
          "opacity": 0.8,
          "size": 6,
          "symbol": "circle"
         },
         "mode": "markers",
         "name": "Green Gem North West",
         "showlegend": true,
         "type": "scattergl",
         "x": {
          "bdata": "Gp8Kwp+sGsK3YjjCJeZFwoWHU8L1qo/BfL4Jwt6FUMLvGR7CiE8FwjrlPcKzdBzCpLoowsakHMJVLiPCwNdRwswVQsItSCvCIgolwj/OLMKNE0LC6bYKwkhGIMJ+l0PChWk8wuF9ScKajFPCm2U8wnJESMIlEBDCp2RSwlOzB8J8Jz7C7i8UwtAPCsKQLBjCyjAjwlhjTMJrPQzCt9AswiDLNsL5bB/CsFMgwucRQMIhizzC+LBBwqIwWcKWmEnCtNIqwgPDHcL/TxDCJa5Qwht1B8Kzqx3CsvciwgGpHMIZMyPC79dRwngPRMIL0yzCAfc7wr0BUMKOXAjCQmUgwnvHPMLOyibCwTBZwtHcKsJ2gibCAdSQwVJ3B8JF8g/CsJQlwmqqHMKq11HCTw9Vwj85RMKywRLCwhVEwjIWUcKf/BfC43YKwhC6PsIdUBzCjbtZwsyaU8J2hjrCsfAOwoXlEMKT1lDCNO0Rwub9D8IXeSLCR7ENwi2tHMIRaUTCoSM8wqMbUcI21R/CT2Qfwp/cPcKxjj7CwWoMwoT7PMIitkvC+s88wjwOB8KEiw7CLutQwkNXIcL3tBXCQEgFwhhfGMJcnkTCYRtEwlAlJ8LocE7CON4fwvJwH8LwDj7C1rQ+womlIcLm1jjCqsJLwiERB8J/nA7Cmb5SwmJ9IcJA/ifCS45CwlXFFsKji0fCzSgnwoR1TsKVsQvCsGwowvF9H8JkYSDCL+wMwoLqOMI+qlPC818XwhrPUsKzoyHC4lQ/wjviFsLCaR3C9IEfwvpVQsK5BiLCuBhRwhkvDMIsix/CT2o9wm+vU8L/zjrCHrYcwrUpCsJ1NlDC",
          "dtype": "f4"
         },
         "xaxis": "x",
         "y": {
          "bdata": "Aai9QUD+ikGFHhhBj3MXQce4qUAdNxxC25C5Qc0ir0CqulZBe5rJQQDDHkEhGXFBSchzQV+QZUHnQ2lB38ISQeAtDEFSdmRBpBJ7QTiSgkEeUOpAw8O8QeO9bUEsZB5B8JANQQuA1UDZnqlAESztQGKu60ABW7RBKqtqQFdov0Hf6R1BTOSmQQkLw0Hn7ZhBW/VoQVgyu0Abr71BloiCQQNIGEEDYJVBXgVtQfQWAkHsQA1BBkoqQVlwiUBo59RAuoZiQcYQTkFH2bNBrT2vQL0MvkEjPlRB5maFQZoDZUEBp2hBMacSQQ9NGkEDgIJBLLQeQetMh0CmDL1BEUBsQbly+0B6lnpB73GJQJQ3YkHS0mJBqggcQkVRvUGOd69BLVuCQaG9ZEF0pBJBzKyCQGJgGUFMwatBwCsvQZ+7ZECCq5tBVY/BQdXQ6kAkHZNBAw2MQIhAqUDv2gNBv/ixQefps0GOU69ATx2uQblSr0GwGXBB5ieyQaN2ZEFYTRhB4mIeQSuRZEAG6JNBNMGMQR+X+UDi3ORAbdnBQXZHDEE2fL1A9azqQNnsw0HZ5rRBtFavQG5mlkHpeKNBiD/KQQTrl0GWDRdB3BcvQa/ea0GAnotACrSTQRuNjEFk8vhAI3vkQFITkkFdARZB5lC9QFi/w0EJl7RBhWtqQEsUlkFgd3lBW8IKQennnUEQ//VAuHNrQU+gi0AB47pBRCBnQUpYjEFti15BknvAQeGoFUEX5ahA8zGnQWGNakDrvpVBr5QEQbORnUEMPqFBgFxZQWScKkElJnFB+RiPQBjmv0HsIYxBYz4LQWfJqEB+dAJBvdyTQe7iuUEvUJ1A",
          "dtype": "f4"
         },
         "yaxis": "y"
        },
        {
         "customdata": [
          [
           "Green Gem Center"
          ],
          [
           "Green Gem Center"
          ],
          [
           "Green Gem Center"
          ],
          [
           "Green Gem Center"
          ],
          [
           "Green Gem Center"
          ],
          [
           "Green Gem Center"
          ],
          [
           "Green Gem Center"
          ],
          [
           "Green Gem Center"
          ],
          [
           "Green Gem Center"
          ],
          [
           "Green Gem Center"
          ],
          [
           "Green Gem Center"
          ],
          [
           "Green Gem Center"
          ],
          [
           "Green Gem Center"
          ],
          [
           "Green Gem Center"
          ],
          [
           "Green Gem Center"
          ],
          [
           "Green Gem Center"
          ],
          [
           "Green Gem Center"
          ],
          [
           "Green Gem Center"
          ],
          [
           "Green Gem Center"
          ],
          [
           "Green Gem Center"
          ],
          [
           "Green Gem Center"
          ],
          [
           "Green Gem Center"
          ],
          [
           "Green Gem Center"
          ],
          [
           "Green Gem Center"
          ],
          [
           "Green Gem Center"
          ],
          [
           "Green Gem Center"
          ],
          [
           "Green Gem Center"
          ],
          [
           "Green Gem Center"
          ],
          [
           "Green Gem Center"
          ],
          [
           "Green Gem Center"
          ],
          [
           "Green Gem Center"
          ],
          [
           "Green Gem Center"
          ],
          [
           "Green Gem Center"
          ],
          [
           "Green Gem Center"
          ],
          [
           "Green Gem Center"
          ],
          [
           "Green Gem Center"
          ],
          [
           "Green Gem Center"
          ],
          [
           "Green Gem Center"
          ],
          [
           "Green Gem Center"
          ],
          [
           "Green Gem Center"
          ],
          [
           "Green Gem Center"
          ],
          [
           "Green Gem Center"
          ],
          [
           "Green Gem Center"
          ],
          [
           "Green Gem Center"
          ],
          [
           "Green Gem Center"
          ],
          [
           "Green Gem Center"
          ],
          [
           "Green Gem Center"
          ],
          [
           "Green Gem Center"
          ],
          [
           "Green Gem Center"
          ],
          [
           "Green Gem Center"
          ],
          [
           "Green Gem Center"
          ],
          [
           "Green Gem Center"
          ],
          [
           "Green Gem Center"
          ],
          [
           "Green Gem Center"
          ],
          [
           "Green Gem Center"
          ],
          [
           "Green Gem Center"
          ],
          [
           "Green Gem Center"
          ],
          [
           "Green Gem Center"
          ],
          [
           "Green Gem Center"
          ],
          [
           "Green Gem Center"
          ],
          [
           "Green Gem Center"
          ],
          [
           "Green Gem Center"
          ],
          [
           "Green Gem Center"
          ],
          [
           "Green Gem Center"
          ],
          [
           "Green Gem Center"
          ],
          [
           "Green Gem Center"
          ],
          [
           "Green Gem Center"
          ],
          [
           "Green Gem Center"
          ],
          [
           "Green Gem Center"
          ],
          [
           "Green Gem Center"
          ],
          [
           "Green Gem Center"
          ],
          [
           "Green Gem Center"
          ],
          [
           "Green Gem Center"
          ],
          [
           "Green Gem Center"
          ],
          [
           "Green Gem Center"
          ],
          [
           "Green Gem Center"
          ],
          [
           "Green Gem Center"
          ],
          [
           "Green Gem Center"
          ],
          [
           "Green Gem Center"
          ],
          [
           "Green Gem Center"
          ],
          [
           "Green Gem Center"
          ],
          [
           "Green Gem Center"
          ],
          [
           "Green Gem Center"
          ],
          [
           "Green Gem Center"
          ],
          [
           "Green Gem Center"
          ],
          [
           "Green Gem Center"
          ],
          [
           "Green Gem Center"
          ],
          [
           "Green Gem Center"
          ],
          [
           "Green Gem Center"
          ],
          [
           "Green Gem Center"
          ],
          [
           "Green Gem Center"
          ],
          [
           "Green Gem Center"
          ],
          [
           "Green Gem Center"
          ],
          [
           "Green Gem Center"
          ],
          [
           "Green Gem Center"
          ],
          [
           "Green Gem Center"
          ],
          [
           "Green Gem Center"
          ],
          [
           "Green Gem Center"
          ],
          [
           "Green Gem Center"
          ],
          [
           "Green Gem Center"
          ],
          [
           "Green Gem Center"
          ],
          [
           "Green Gem Center"
          ],
          [
           "Green Gem Center"
          ],
          [
           "Green Gem Center"
          ],
          [
           "Green Gem Center"
          ],
          [
           "Green Gem Center"
          ],
          [
           "Green Gem Center"
          ],
          [
           "Green Gem Center"
          ],
          [
           "Green Gem Center"
          ],
          [
           "Green Gem Center"
          ],
          [
           "Green Gem Center"
          ],
          [
           "Green Gem Center"
          ],
          [
           "Green Gem Center"
          ],
          [
           "Green Gem Center"
          ],
          [
           "Green Gem Center"
          ],
          [
           "Green Gem Center"
          ],
          [
           "Green Gem Center"
          ],
          [
           "Green Gem Center"
          ],
          [
           "Green Gem Center"
          ],
          [
           "Green Gem Center"
          ],
          [
           "Green Gem Center"
          ],
          [
           "Green Gem Center"
          ],
          [
           "Green Gem Center"
          ],
          [
           "Green Gem Center"
          ],
          [
           "Green Gem Center"
          ],
          [
           "Green Gem Center"
          ],
          [
           "Green Gem Center"
          ],
          [
           "Green Gem Center"
          ],
          [
           "Green Gem Center"
          ],
          [
           "Green Gem Center"
          ],
          [
           "Green Gem Center"
          ],
          [
           "Green Gem Center"
          ],
          [
           "Green Gem Center"
          ],
          [
           "Green Gem Center"
          ],
          [
           "Green Gem Center"
          ],
          [
           "Green Gem Center"
          ],
          [
           "Green Gem Center"
          ],
          [
           "Green Gem Center"
          ],
          [
           "Green Gem Center"
          ],
          [
           "Green Gem Center"
          ],
          [
           "Green Gem Center"
          ],
          [
           "Green Gem Center"
          ],
          [
           "Green Gem Center"
          ],
          [
           "Green Gem Center"
          ],
          [
           "Green Gem Center"
          ],
          [
           "Green Gem Center"
          ],
          [
           "Green Gem Center"
          ],
          [
           "Green Gem Center"
          ],
          [
           "Green Gem Center"
          ],
          [
           "Green Gem Center"
          ],
          [
           "Green Gem Center"
          ],
          [
           "Green Gem Center"
          ],
          [
           "Green Gem Center"
          ],
          [
           "Green Gem Center"
          ],
          [
           "Green Gem Center"
          ],
          [
           "Green Gem Center"
          ],
          [
           "Green Gem Center"
          ],
          [
           "Green Gem Center"
          ],
          [
           "Green Gem Center"
          ],
          [
           "Green Gem Center"
          ],
          [
           "Green Gem Center"
          ],
          [
           "Green Gem Center"
          ],
          [
           "Green Gem Center"
          ],
          [
           "Green Gem Center"
          ],
          [
           "Green Gem Center"
          ],
          [
           "Green Gem Center"
          ],
          [
           "Green Gem Center"
          ],
          [
           "Green Gem Center"
          ],
          [
           "Green Gem Center"
          ],
          [
           "Green Gem Center"
          ],
          [
           "Green Gem Center"
          ],
          [
           "Green Gem Center"
          ],
          [
           "Green Gem Center"
          ],
          [
           "Green Gem Center"
          ],
          [
           "Green Gem Center"
          ],
          [
           "Green Gem Center"
          ],
          [
           "Green Gem Center"
          ],
          [
           "Green Gem Center"
          ],
          [
           "Green Gem Center"
          ],
          [
           "Green Gem Center"
          ],
          [
           "Green Gem Center"
          ],
          [
           "Green Gem Center"
          ],
          [
           "Green Gem Center"
          ],
          [
           "Green Gem Center"
          ],
          [
           "Green Gem Center"
          ],
          [
           "Green Gem Center"
          ],
          [
           "Green Gem Center"
          ],
          [
           "Green Gem Center"
          ],
          [
           "Green Gem Center"
          ],
          [
           "Green Gem Center"
          ],
          [
           "Green Gem Center"
          ],
          [
           "Green Gem Center"
          ],
          [
           "Green Gem Center"
          ],
          [
           "Green Gem Center"
          ],
          [
           "Green Gem Center"
          ],
          [
           "Green Gem Center"
          ],
          [
           "Green Gem Center"
          ],
          [
           "Green Gem Center"
          ],
          [
           "Green Gem Center"
          ],
          [
           "Green Gem Center"
          ],
          [
           "Green Gem Center"
          ],
          [
           "Green Gem Center"
          ],
          [
           "Green Gem Center"
          ],
          [
           "Green Gem Center"
          ],
          [
           "Green Gem Center"
          ],
          [
           "Green Gem Center"
          ],
          [
           "Green Gem Center"
          ],
          [
           "Green Gem Center"
          ],
          [
           "Green Gem Center"
          ],
          [
           "Green Gem Center"
          ],
          [
           "Green Gem Center"
          ],
          [
           "Green Gem Center"
          ],
          [
           "Green Gem Center"
          ],
          [
           "Green Gem Center"
          ],
          [
           "Green Gem Center"
          ],
          [
           "Green Gem Center"
          ],
          [
           "Green Gem Center"
          ],
          [
           "Green Gem Center"
          ],
          [
           "Green Gem Center"
          ],
          [
           "Green Gem Center"
          ],
          [
           "Green Gem Center"
          ],
          [
           "Green Gem Center"
          ],
          [
           "Green Gem Center"
          ],
          [
           "Green Gem Center"
          ],
          [
           "Green Gem Center"
          ],
          [
           "Green Gem Center"
          ],
          [
           "Green Gem Center"
          ],
          [
           "Green Gem Center"
          ],
          [
           "Green Gem Center"
          ],
          [
           "Green Gem Center"
          ],
          [
           "Green Gem Center"
          ],
          [
           "Green Gem Center"
          ],
          [
           "Green Gem Center"
          ],
          [
           "Green Gem Center"
          ],
          [
           "Green Gem Center"
          ],
          [
           "Green Gem Center"
          ],
          [
           "Green Gem Center"
          ],
          [
           "Green Gem Center"
          ],
          [
           "Green Gem Center"
          ],
          [
           "Green Gem Center"
          ],
          [
           "Green Gem Center"
          ],
          [
           "Green Gem Center"
          ],
          [
           "Green Gem Center"
          ],
          [
           "Green Gem Center"
          ],
          [
           "Green Gem Center"
          ],
          [
           "Green Gem Center"
          ],
          [
           "Green Gem Center"
          ],
          [
           "Green Gem Center"
          ],
          [
           "Green Gem Center"
          ],
          [
           "Green Gem Center"
          ],
          [
           "Green Gem Center"
          ],
          [
           "Green Gem Center"
          ],
          [
           "Green Gem Center"
          ],
          [
           "Green Gem Center"
          ],
          [
           "Green Gem Center"
          ],
          [
           "Green Gem Center"
          ],
          [
           "Green Gem Center"
          ],
          [
           "Green Gem Center"
          ],
          [
           "Green Gem Center"
          ],
          [
           "Green Gem Center"
          ],
          [
           "Green Gem Center"
          ],
          [
           "Green Gem Center"
          ],
          [
           "Green Gem Center"
          ],
          [
           "Green Gem Center"
          ],
          [
           "Green Gem Center"
          ],
          [
           "Green Gem Center"
          ],
          [
           "Green Gem Center"
          ],
          [
           "Green Gem Center"
          ],
          [
           "Green Gem Center"
          ]
         ],
         "hovertemplate": "Description=%{customdata[0]}<br>TSNE-1=%{x}<br>TSNE-2=%{y}<extra></extra>",
         "legendgroup": "Green Gem Center",
         "marker": {
          "color": "#ab63fa",
          "opacity": 0.8,
          "size": 6,
          "symbol": "circle"
         },
         "mode": "markers",
         "name": "Green Gem Center",
         "showlegend": true,
         "type": "scattergl",
         "x": {
          "bdata": "mALQP7M04kAecXRBcc7RQD1Z+D+ELyFBk+URQtBwPkGemPZAB3R7QESxlj/o54FATXdVQdAsjj/hoIRAF1xYQatJJUFOunlAY/daQZL0RUCnC1BBT2GaQCAxs0BpDFBBx7JFQRUBYkHv5RVBijwVQdWj1j6Pw5hBLyslQRZ5f0FxPg9CqKNKQU1fSEHAnlXAdCnAQM5CHkFTbZFA9pRXQXVvRkHTUhdBTRI0QK6gUUGLn05BDkxBQHI77T6X2QBAVFclQQSHUEFzXC9BTw1bQWXCSEEUNUFBWkmaQP4GVUDIelBB7bROQQ7LB0FJCZhBBkoOQtdwKEH6GP9AsAkgQS+tf0HqQmtBzTtoQeLXJ0EktHRBbXYaQbCo/UClNPdA3eOxP3RzQEEbiV1AmksHQZiGaEBpXQFAkAREQeB6cUF5YcFAGOAwQfIxmkDi3XNBfwU1QbnISkGxwRVBBD1KQUaBKEH1s2BBGLx/QeQ3d0FP0WhBkUhrQWSdfkGFk0hBtZrjQDTB/kBHjytBL8feP7yXcUFCY1hBhXNFQCuAF0GP2YE/SvtKQJo4akDtZTM/UqNZQc9zJUG3EVFBEna4QA6rP0FFG5pA/2BRQeOkbUHWfIVAgCmwQN28bUBQSHQ/7eOXQeVTLUGaIQBBMOFTQf8jaUF7VCVBAK5IQQ/5dEHuYf1AHomAQSCUgUBeFkdAeu5qQa6YQUG95V5AuoyRPzX8YT9hGlVB6R4/QYKUwkDZbx1BLBNVQR3SQUEyMYRBf9EeQeOUaUE80lFB3lg1QcRkgkH8KE9BJ5lKQc2XmEFF4ENAhStkQbIBgEG4D5xBN7clQcl4aEHgG3VBDhVGQLyMgkFMNoNAAANJQFpkW0F/rhdBfyxJQU6JbUEwS2I/8aZZQT/P8T/4XhNCyC/DQMPXHUHoz4pB2RRkQUQGQkFnMIRBt0nmQANDUkF8B3pBYhHcQFubSkFmGD9A3BCAQckUeEHWFT0/6EgRQXgaJkEETQpBoDENQkCa8z+GkotBjdxFQEFtWUG+7VhApy5WPyEYiEFzmmI/YHGEvYCn8j9wvBFB2JpdQUoyZEG6LoRBT/QpQZPVmUDGtUdB0whPQbnuVUGwdTBAptxCQKQAUEGEnx5A+Yk5QQNWKUGHtj1AnxBaQZNca0HnC5xBwDBGQRJ7JkH0rWhBFrAlQSFldUEU/O0//5VkQU3ud0GMx1pBGiPGQIhKh0AHL2tBLGsiQaYRXkHEJYhBgRs0P8Jv8z/irT9BiNWKQRxodEE32nFA1nRCQeb/H0FOuJlAzIB4QQLgSEGMAFBBaBeKQLUpPED+WbBA8IgRQMIVqj9036ZAftBkQRKPPEFfOT5Awq4lQRpia0FthT0/kmlLQfY+OkFzIn9BTOQsQYDjVUHPzN1AgSCYQTMeeEG7yFpBgdEhQcPkWT8=",
          "dtype": "f4"
         },
         "xaxis": "x",
         "y": {
          "bdata": "iRJVwhh6RMLatRLCMWpEwgK0UcJT7jnCjCGSwX2TG8LLoTLCJaxQwoSTNsJ54z3CGDI2wr1yUcK1HEDC+nMHwpq4IsK/+kjCtm8awsuwMsJTQy/CwjwcwtqOR8JyQi/CWT4CwmWYQ8Ky/yrC+UI1wlrBTcIZyAXCalpQwpWQOsJCbZfB5pr1wcLk9sHbY0VCkYg/wmrsRcKJ8zvCL6fswcPuGcL/xjnCHoVPwnTWCMIYjyDCWsAswt9fLsJBVUvCxrciwnvGK8K8sDbCoG8awv8eDsJvVC7CcD8cwp6SScIDNS/CL0ENwozeM8JF8gvCgzeZwYF8R8IhEzHCYA9KwrrDOsIbVtLBt2nawTNSP8IWvhLCzRI+wo8PHMLdvDLCEss4wrl/AcIzm0nCqowawhMpM8J3VUvCUsMPwqOjQsIFTFTC6vshwkpCHMJrtz/C3p8cwpCJD8ICAjXCIyorwh58R8LIuxrCSfc6wmVtQMIQ8TfCGj7SwRktFcJ6nPbBB2JEwhOGOMI4Dz3CoOZQwrWRQ8IeGezBUnxMwpPrOcJ4njDCvJAvwvYJM8IAQDXCOyYHwl+1IsLbryvCBQNUwiFRDcJqRRzC7x8vwpNmQMKUPS/CdIwYwj65TsJOADnC8FoMwgKfRsLQGzHCAeZHwu34N8LnCzLCW3r2wVLGEsKYn0LC8rlDwojDQsIAaEzCS3XTwc5jH8LOr0nCqfhNwuTtNcIQoAvCMTAdwqc9VMJbkzHCEdo+wQ1BLsI38D7Ck2BJwsI0QcIBFy/CYY8cwtG0OMKUhkfCCd4BwnlLBsK37VDC5iMXws1VO8I+/QHCTQYywlnC2cGJyhLCnGlTwlUoOcIPe0LCM1VMwt0TH8IVDzrCaUL1we0tOsIv7jXCIx4HwsDaRcKDH4/BlTZUwvCKMcL2LhfCar3hwbw5LsLC8T7Coi5EwpQQL8IuaDvC5zBUwpXVAcLAEkfCqoI7wmpnQMKq0U3CbkAbwqQCMsIBdhrC7DmbwQcgUMIbEBXCindTwqxN68Ex0kbCnBUwwkHXFsIX7zXCWkVNwivgRcIieizCVb44wtCZ4cF+8z7CG3JAwoROHMLB5UfCOgLywby1CsInQzTCs+pBwshcR8JP5DXC9WwtwjXvFML7dEXC6roawkTY0cEb/wHCTIIbwgoAMsJ5VdnB/2YTwmHTEsLRVUzCBH8ZwqYoRsLV2QbCF01Twm+TR8LGyNLBl+RPwkcpF8JS2RbCvT81wljmRcJu7kjCqDAXwhdzRcJfqjLC8icuwu5NPMLOURzCOKk3whL5L8JtXPHBmLUuwvZUScILhRjC1cpSwqaXOMJvG1DCUAgXwr/oCcIqiUXCGwUTwtC/0cHh4U3CN4ICwthVD8JbBhXChqU4wqI8DMKB2kHClUAKwn+fQsI52AbCcngSwp4JMMI=",
          "dtype": "f4"
         },
         "yaxis": "y"
        },
        {
         "customdata": [
          [
           "Green Gem South"
          ],
          [
           "Green Gem South"
          ],
          [
           "Green Gem South"
          ],
          [
           "Green Gem South"
          ],
          [
           "Green Gem South"
          ],
          [
           "Green Gem South"
          ],
          [
           "Green Gem South"
          ],
          [
           "Green Gem South"
          ],
          [
           "Green Gem South"
          ],
          [
           "Green Gem South"
          ],
          [
           "Green Gem South"
          ],
          [
           "Green Gem South"
          ],
          [
           "Green Gem South"
          ],
          [
           "Green Gem South"
          ],
          [
           "Green Gem South"
          ],
          [
           "Green Gem South"
          ],
          [
           "Green Gem South"
          ],
          [
           "Green Gem South"
          ],
          [
           "Green Gem South"
          ],
          [
           "Green Gem South"
          ],
          [
           "Green Gem South"
          ],
          [
           "Green Gem South"
          ],
          [
           "Green Gem South"
          ],
          [
           "Green Gem South"
          ],
          [
           "Green Gem South"
          ],
          [
           "Green Gem South"
          ],
          [
           "Green Gem South"
          ],
          [
           "Green Gem South"
          ],
          [
           "Green Gem South"
          ],
          [
           "Green Gem South"
          ],
          [
           "Green Gem South"
          ],
          [
           "Green Gem South"
          ],
          [
           "Green Gem South"
          ],
          [
           "Green Gem South"
          ],
          [
           "Green Gem South"
          ],
          [
           "Green Gem South"
          ],
          [
           "Green Gem South"
          ],
          [
           "Green Gem South"
          ],
          [
           "Green Gem South"
          ],
          [
           "Green Gem South"
          ],
          [
           "Green Gem South"
          ],
          [
           "Green Gem South"
          ],
          [
           "Green Gem South"
          ],
          [
           "Green Gem South"
          ],
          [
           "Green Gem South"
          ],
          [
           "Green Gem South"
          ],
          [
           "Green Gem South"
          ],
          [
           "Green Gem South"
          ],
          [
           "Green Gem South"
          ],
          [
           "Green Gem South"
          ],
          [
           "Green Gem South"
          ],
          [
           "Green Gem South"
          ],
          [
           "Green Gem South"
          ],
          [
           "Green Gem South"
          ],
          [
           "Green Gem South"
          ],
          [
           "Green Gem South"
          ],
          [
           "Green Gem South"
          ],
          [
           "Green Gem South"
          ],
          [
           "Green Gem South"
          ],
          [
           "Green Gem South"
          ],
          [
           "Green Gem South"
          ],
          [
           "Green Gem South"
          ],
          [
           "Green Gem South"
          ],
          [
           "Green Gem South"
          ],
          [
           "Green Gem South"
          ],
          [
           "Green Gem South"
          ],
          [
           "Green Gem South"
          ],
          [
           "Green Gem South"
          ],
          [
           "Green Gem South"
          ],
          [
           "Green Gem South"
          ],
          [
           "Green Gem South"
          ],
          [
           "Green Gem South"
          ],
          [
           "Green Gem South"
          ],
          [
           "Green Gem South"
          ],
          [
           "Green Gem South"
          ],
          [
           "Green Gem South"
          ],
          [
           "Green Gem South"
          ],
          [
           "Green Gem South"
          ],
          [
           "Green Gem South"
          ],
          [
           "Green Gem South"
          ],
          [
           "Green Gem South"
          ],
          [
           "Green Gem South"
          ],
          [
           "Green Gem South"
          ],
          [
           "Green Gem South"
          ],
          [
           "Green Gem South"
          ],
          [
           "Green Gem South"
          ],
          [
           "Green Gem South"
          ],
          [
           "Green Gem South"
          ],
          [
           "Green Gem South"
          ],
          [
           "Green Gem South"
          ],
          [
           "Green Gem South"
          ],
          [
           "Green Gem South"
          ],
          [
           "Green Gem South"
          ],
          [
           "Green Gem South"
          ],
          [
           "Green Gem South"
          ],
          [
           "Green Gem South"
          ],
          [
           "Green Gem South"
          ],
          [
           "Green Gem South"
          ],
          [
           "Green Gem South"
          ],
          [
           "Green Gem South"
          ],
          [
           "Green Gem South"
          ],
          [
           "Green Gem South"
          ],
          [
           "Green Gem South"
          ],
          [
           "Green Gem South"
          ],
          [
           "Green Gem South"
          ],
          [
           "Green Gem South"
          ],
          [
           "Green Gem South"
          ],
          [
           "Green Gem South"
          ],
          [
           "Green Gem South"
          ],
          [
           "Green Gem South"
          ],
          [
           "Green Gem South"
          ],
          [
           "Green Gem South"
          ],
          [
           "Green Gem South"
          ],
          [
           "Green Gem South"
          ],
          [
           "Green Gem South"
          ],
          [
           "Green Gem South"
          ],
          [
           "Green Gem South"
          ],
          [
           "Green Gem South"
          ],
          [
           "Green Gem South"
          ],
          [
           "Green Gem South"
          ],
          [
           "Green Gem South"
          ],
          [
           "Green Gem South"
          ],
          [
           "Green Gem South"
          ],
          [
           "Green Gem South"
          ],
          [
           "Green Gem South"
          ],
          [
           "Green Gem South"
          ],
          [
           "Green Gem South"
          ],
          [
           "Green Gem South"
          ],
          [
           "Green Gem South"
          ],
          [
           "Green Gem South"
          ],
          [
           "Green Gem South"
          ],
          [
           "Green Gem South"
          ],
          [
           "Green Gem South"
          ],
          [
           "Green Gem South"
          ],
          [
           "Green Gem South"
          ],
          [
           "Green Gem South"
          ],
          [
           "Green Gem South"
          ],
          [
           "Green Gem South"
          ],
          [
           "Green Gem South"
          ],
          [
           "Green Gem South"
          ],
          [
           "Green Gem South"
          ],
          [
           "Green Gem South"
          ],
          [
           "Green Gem South"
          ],
          [
           "Green Gem South"
          ],
          [
           "Green Gem South"
          ],
          [
           "Green Gem South"
          ],
          [
           "Green Gem South"
          ],
          [
           "Green Gem South"
          ],
          [
           "Green Gem South"
          ],
          [
           "Green Gem South"
          ],
          [
           "Green Gem South"
          ],
          [
           "Green Gem South"
          ],
          [
           "Green Gem South"
          ],
          [
           "Green Gem South"
          ],
          [
           "Green Gem South"
          ],
          [
           "Green Gem South"
          ],
          [
           "Green Gem South"
          ],
          [
           "Green Gem South"
          ],
          [
           "Green Gem South"
          ],
          [
           "Green Gem South"
          ],
          [
           "Green Gem South"
          ],
          [
           "Green Gem South"
          ],
          [
           "Green Gem South"
          ],
          [
           "Green Gem South"
          ],
          [
           "Green Gem South"
          ],
          [
           "Green Gem South"
          ],
          [
           "Green Gem South"
          ],
          [
           "Green Gem South"
          ],
          [
           "Green Gem South"
          ],
          [
           "Green Gem South"
          ],
          [
           "Green Gem South"
          ],
          [
           "Green Gem South"
          ],
          [
           "Green Gem South"
          ],
          [
           "Green Gem South"
          ],
          [
           "Green Gem South"
          ],
          [
           "Green Gem South"
          ],
          [
           "Green Gem South"
          ],
          [
           "Green Gem South"
          ],
          [
           "Green Gem South"
          ],
          [
           "Green Gem South"
          ],
          [
           "Green Gem South"
          ],
          [
           "Green Gem South"
          ],
          [
           "Green Gem South"
          ],
          [
           "Green Gem South"
          ],
          [
           "Green Gem South"
          ],
          [
           "Green Gem South"
          ],
          [
           "Green Gem South"
          ],
          [
           "Green Gem South"
          ],
          [
           "Green Gem South"
          ],
          [
           "Green Gem South"
          ],
          [
           "Green Gem South"
          ],
          [
           "Green Gem South"
          ],
          [
           "Green Gem South"
          ],
          [
           "Green Gem South"
          ],
          [
           "Green Gem South"
          ],
          [
           "Green Gem South"
          ],
          [
           "Green Gem South"
          ],
          [
           "Green Gem South"
          ],
          [
           "Green Gem South"
          ],
          [
           "Green Gem South"
          ],
          [
           "Green Gem South"
          ],
          [
           "Green Gem South"
          ],
          [
           "Green Gem South"
          ],
          [
           "Green Gem South"
          ],
          [
           "Green Gem South"
          ],
          [
           "Green Gem South"
          ],
          [
           "Green Gem South"
          ],
          [
           "Green Gem South"
          ],
          [
           "Green Gem South"
          ],
          [
           "Green Gem South"
          ],
          [
           "Green Gem South"
          ],
          [
           "Green Gem South"
          ],
          [
           "Green Gem South"
          ],
          [
           "Green Gem South"
          ],
          [
           "Green Gem South"
          ],
          [
           "Green Gem South"
          ],
          [
           "Green Gem South"
          ],
          [
           "Green Gem South"
          ],
          [
           "Green Gem South"
          ],
          [
           "Green Gem South"
          ],
          [
           "Green Gem South"
          ],
          [
           "Green Gem South"
          ],
          [
           "Green Gem South"
          ],
          [
           "Green Gem South"
          ],
          [
           "Green Gem South"
          ],
          [
           "Green Gem South"
          ],
          [
           "Green Gem South"
          ],
          [
           "Green Gem South"
          ],
          [
           "Green Gem South"
          ],
          [
           "Green Gem South"
          ],
          [
           "Green Gem South"
          ],
          [
           "Green Gem South"
          ],
          [
           "Green Gem South"
          ],
          [
           "Green Gem South"
          ],
          [
           "Green Gem South"
          ],
          [
           "Green Gem South"
          ],
          [
           "Green Gem South"
          ],
          [
           "Green Gem South"
          ],
          [
           "Green Gem South"
          ],
          [
           "Green Gem South"
          ],
          [
           "Green Gem South"
          ],
          [
           "Green Gem South"
          ],
          [
           "Green Gem South"
          ],
          [
           "Green Gem South"
          ],
          [
           "Green Gem South"
          ]
         ],
         "hovertemplate": "Description=%{customdata[0]}<br>TSNE-1=%{x}<br>TSNE-2=%{y}<extra></extra>",
         "legendgroup": "Green Gem South",
         "marker": {
          "color": "#FFA15A",
          "opacity": 0.8,
          "size": 6,
          "symbol": "circle"
         },
         "mode": "markers",
         "name": "Green Gem South",
         "showlegend": true,
         "type": "scattergl",
         "x": {
          "bdata": "1lXbPukAxECt/65AbY+gv9JsckHW71PAIq0owOo9CEB6uXBAWr8sQYatnEC2yy5AwG0wQWjJuEDxxYvAMl+IQBNIg8BJB/xA6aMtQbH7J0GkLX9BkTPRQJ/nW0FFFB1BwB9sQSxVEUFYlXq/pNRjQR7iEUGoIPq/o3JyQdXBtL/HOSrAGzDlQBg8pD/Jg2pBN4IqwBkzf8C9zixBvqRVQRtiJ0Elo+RA548vQGB9MEEA+iNBQriPQDr87kCE1pbB/bA3QeXR10D0qS1B2WolQYOX7D/sxZJAMu1bQf4sHUEhCIjAzGURQURLZUGjAt9AkYgQQTAJwD+qr0xA26KzQCY6GEGLMFnAcibsQBOumUDvjnRB4IfkQMNYMEDVnDRBrox5QZisksAKdx5ArhRYQWdKgsBJCgNBL7FZQQ1oJUHWY2NBArDRQOXyW0G9Rx1BNyOIwLpbGEFB1We/u4v5vwioAkFOnxBB1bTBPyPAs0C6WxhBA42JwcbtLEFG15lA+o50QQJb5ECFJbNA5415QZq/jUA2KFhB2AeSwBC7gcC74i1BazC+QBn8F0HtwwLAV2mHPv43X0GnDVxBJKhbQZgJTsDPi2pBpDRJQLD4PD8pPqtAma/ev5DFAkF4r5c/4AIZwHKuMkH1JGRAwfYJQT3+BsCw/SxBpwcwQSWZ6ED/ZSZBwY95QbeKksD7PFhB63L8QEYCLkG4SL5AJLQCwMZCC0Cm2mBBnEdnQVfaUkGxzAa9bX5wQGKPakH3nK0/hzF4QKfaGMDZBq1AwWI0wExwhL2Xcno/37FGQOh8F0DHhR/AS/bsQKkbmkB7CslAUG+BQQR6hEDBdQi/ut03QaqO/EDJxqxA1l++QIhFXEGwGGNB1QeAwGAzHkGt/IJAfLeJwPwwHsACP4q/dxA7QQXkEEHo8x7AK25dwL5Pkj/ZzvhAoZV+PuUGQEAXz2y/2+tAwPMfLUGqiFVBYIMnQcQbM0EsaoFBUUdYQV99i0ANH37Aiar8QOTkrED6Bi1B0PujP+3vUkGrKlhATS7EQO610kDJF2NB77nWPzYVFUHzCElAAZWHwKuTskDAiY7AhfQ6QTGVckGHM8g/iFJpwJcBD8Az3H8+Qa0YQGcxHcDHiElBimhBQYwgM0H4ZIFBtEKLQAwCjEAOLD9BzRF9wM7G/ED+VS5B2hYgQQH/Uj9xw++/FHcoQSEcxEBplpNAsDxnQUWLCMATRRVAvatyP3Jph8CXsfy/V6b0QCGbckEdK3XAsc7JP1Jlp0CorYXAM4u0QMVbcEBKwStBx3jDQDoJCkE=",
          "dtype": "f4"
         },
         "xaxis": "x",
         "y": {
          "bdata": "1qyTQAwL2b9W/+TAE4dhwGxdl8C+4FFAJCOdQOPgHj99PrhA8EvpwNyW8MA7yPE+CVYIwcul68Afpw+/ONhPQDrJK0B523XAiB8cP/TCUEArp5zAIeAPwCiL/cBUte0+m2zNwTYFFEDuvmDAPhPiwQRk38ACWTzAH4qXwNCdXkB8E51AhV0GwMJyvEB0MpHAe3CAQLRXfr7DienAyDFAwZZCEcFu5gzBXYbwPrVlCMFxvXNAPP4Dwftf0MBr58k/ZTW6P5eDsr+XSBg/9EthQJJEIEBtBcjAAsH9wHCi6D5wzl+/jegTQCVly8DmHN3ACXWeP57MeT9nqoJA6vc0P40h0z+xn5pAIGnFwLuR3sDoa1O/cdUMwUSc7z4tURvB7nFnwLGZIr/QcqpAlRmWwNV1LECGf/jA9KKXwCJJYUADkNrA2KkQwPr2/cBQ/eM+hSYIPwpr0j9r1HHArhc8wCEVCsEbS54/Stp4PxQyNT8Ka9I/N5Y/QFgJ6sCEcd7AU2xTv+XFDMGwrFm/YoZnwIGCu0Aie5bAc0jxP0K8LEB1aRE/pTrKQNIHeT9jzxTAkYwoPw3NAsEtolTABrWwwIgdvr9G6ZHACpODQAuog0CbwN7AMEFJwBT9CcGs3nY/a7hNwM/JoT/8mHRAu065P9zbnEDmR+rA82oRwe2QzcBwFIDAh5pnwByQIb+c25bAR8R2wHrcDT/EMspA06oUwPHLID+j/t7AR2eswIywgMAD54PA8b3ewEYoksB3vRVAD/YEQK3oTcD1t/nAGqaBQLLNuD9gAUlAdDa7QN5LfECWtIpAHTvFwNIh3sBblfm//ASEwDQfAsF7M0NAct+4P8n6dsB4jxtA2SrKQIbFVcB9Ev/AKZOBQJLoBsFbvNvA2wICQN4+KUD6rinAOtMgwVRUnT+Tw2FAn3AfQL7AdkBJfI/AeOq/QE5CXEATwLJA5IWEQAjJ6sCF7D/BiSgRwZCwtMD+FoTAxZtJwQxzTEDNTyxACTV3wAyBG0DZgzFAIHS+QJPyOsHjCZ1ADR+HP0BdEsBFQf/A5FklQFtaAcFrhoNAMt7JPxBT+8DN3Se/Sr8gweeMmMCN53M/dRmAQKbyhEBs6b9Aa1F8QJrFikCTJefA3tQkwd26tMAfJ4TAMgzgwH3CS0BRAFnAUZssQHBxd8CETAM/VTZvQKGru0B55FbA8lPlP7A0hz/NxsfAzja9wDJwXUBWzLC+Pe2JQDXyyj/M7yjAU84JwTa5mMALM5JADsByP/Zg2b44FYlAbgs1PxAiuEA2zRtAYMoFQHAgrj8=",
          "dtype": "f4"
         },
         "yaxis": "y"
        },
        {
         "customdata": [
          [
           "Green Gem South West"
          ],
          [
           "Green Gem South West"
          ],
          [
           "Green Gem South West"
          ],
          [
           "Green Gem South West"
          ],
          [
           "Green Gem South West"
          ],
          [
           "Green Gem South West"
          ],
          [
           "Green Gem South West"
          ],
          [
           "Green Gem South West"
          ],
          [
           "Green Gem South West"
          ],
          [
           "Green Gem South West"
          ],
          [
           "Green Gem South West"
          ],
          [
           "Green Gem South West"
          ],
          [
           "Green Gem South West"
          ],
          [
           "Green Gem South West"
          ],
          [
           "Green Gem South West"
          ],
          [
           "Green Gem South West"
          ],
          [
           "Green Gem South West"
          ],
          [
           "Green Gem South West"
          ],
          [
           "Green Gem South West"
          ],
          [
           "Green Gem South West"
          ],
          [
           "Green Gem South West"
          ],
          [
           "Green Gem South West"
          ],
          [
           "Green Gem South West"
          ],
          [
           "Green Gem South West"
          ],
          [
           "Green Gem South West"
          ],
          [
           "Green Gem South West"
          ],
          [
           "Green Gem South West"
          ],
          [
           "Green Gem South West"
          ],
          [
           "Green Gem South West"
          ],
          [
           "Green Gem South West"
          ],
          [
           "Green Gem South West"
          ],
          [
           "Green Gem South West"
          ],
          [
           "Green Gem South West"
          ],
          [
           "Green Gem South West"
          ],
          [
           "Green Gem South West"
          ],
          [
           "Green Gem South West"
          ],
          [
           "Green Gem South West"
          ],
          [
           "Green Gem South West"
          ],
          [
           "Green Gem South West"
          ],
          [
           "Green Gem South West"
          ],
          [
           "Green Gem South West"
          ],
          [
           "Green Gem South West"
          ],
          [
           "Green Gem South West"
          ],
          [
           "Green Gem South West"
          ],
          [
           "Green Gem South West"
          ],
          [
           "Green Gem South West"
          ],
          [
           "Green Gem South West"
          ],
          [
           "Green Gem South West"
          ],
          [
           "Green Gem South West"
          ],
          [
           "Green Gem South West"
          ],
          [
           "Green Gem South West"
          ],
          [
           "Green Gem South West"
          ],
          [
           "Green Gem South West"
          ],
          [
           "Green Gem South West"
          ],
          [
           "Green Gem South West"
          ],
          [
           "Green Gem South West"
          ],
          [
           "Green Gem South West"
          ],
          [
           "Green Gem South West"
          ],
          [
           "Green Gem South West"
          ],
          [
           "Green Gem South West"
          ],
          [
           "Green Gem South West"
          ],
          [
           "Green Gem South West"
          ],
          [
           "Green Gem South West"
          ],
          [
           "Green Gem South West"
          ],
          [
           "Green Gem South West"
          ],
          [
           "Green Gem South West"
          ],
          [
           "Green Gem South West"
          ],
          [
           "Green Gem South West"
          ],
          [
           "Green Gem South West"
          ],
          [
           "Green Gem South West"
          ],
          [
           "Green Gem South West"
          ],
          [
           "Green Gem South West"
          ],
          [
           "Green Gem South West"
          ],
          [
           "Green Gem South West"
          ],
          [
           "Green Gem South West"
          ],
          [
           "Green Gem South West"
          ],
          [
           "Green Gem South West"
          ],
          [
           "Green Gem South West"
          ],
          [
           "Green Gem South West"
          ],
          [
           "Green Gem South West"
          ],
          [
           "Green Gem South West"
          ],
          [
           "Green Gem South West"
          ],
          [
           "Green Gem South West"
          ]
         ],
         "hovertemplate": "Description=%{customdata[0]}<br>TSNE-1=%{x}<br>TSNE-2=%{y}<extra></extra>",
         "legendgroup": "Green Gem South West",
         "marker": {
          "color": "#19d3f3",
          "opacity": 0.8,
          "size": 6,
          "symbol": "circle"
         },
         "mode": "markers",
         "name": "Green Gem South West",
         "showlegend": true,
         "type": "scattergl",
         "x": {
          "bdata": "z5e8wX1oksF9Q53BaYu5wSqtzMFucNDB6LSNweoitcFOmZPBD4qGwSR3psFlecPBbxHLwV6+jMGArrzBXVfOwSRoncGHzovBiYi5wWHGzMEQ8q7BwGe0wf2Wk8G8jobBZrWmwZvfxcFXIMnBHdWMwU3FvMGdlK3BAvmbwdgky8ExhrnB58PMwTWQqMF1K7XBbNKUwZIcrMEf9MbBcjfOwZgPzsHi5q3ByTy6we1s0MF1SKHBATK1wdyEosFa2cbBhQeNwWvzvMFeVc7BuGvBwTZKusETlcrBXpezwW1XlcGz0ofBU7/GwaoczsExasHBHFPOwfFmysG/U7rBMGrQwX2Ts8GmMpTBUWaiweWVxsHgDc7BdGbBwd/fuMGEy9HBoxyVwRaWxsGF1JrBOcLCwYN6ucG4sIvBkAPAwV1fn8Gl5cXBhV3BwW9CncE=",
          "dtype": "f4"
         },
         "xaxis": "x",
         "y": {
          "bdata": "DMhywJ7Qnz/zt10/R0ouwA9vm8BagiLBdWcdQCXse78hWglAZTNMQPAt2D4L/I7AKF3WwMtvEEBawXPAukwDwdzxWD86YDNAxmQuwIt7wsBX2R+/qmTWvzb2BkBp/UtA96rMPs+DgsDpQcfAYHMPQESzdMDdBb89ptWVP9wQscBtfS7Avn/CwNO/WL//aH2/eJDnP/Af+r6kO0HAHEbVwO4LxMAtWos9+1oAwEpLIsE4+Ya/4wB+vx3Fmr8ZqEHA2pkNQN6cdsBa7wLBgFVVwIryAMA7DsXAFuyWvxtI6D9ibDxAYQJDwEzW1cC8mCXAx8sCwa+3l8CbqAHAcyciwdTBl79LJQRANCibvxqHRMBxH9bAvTcmwB9JCsCqYzbB1UR1QLv7RcCAl6A/5+v6v0UDL8AcXGtAwJZUwG7nyD7bmYLAHYQnwE3giT8=",
          "dtype": "f4"
         },
         "yaxis": "y"
        },
        {
         "customdata": [
          [
           "Green Gem South East"
          ],
          [
           "Green Gem South East"
          ],
          [
           "Green Gem South East"
          ],
          [
           "Green Gem South East"
          ],
          [
           "Green Gem South East"
          ],
          [
           "Green Gem South East"
          ],
          [
           "Green Gem South East"
          ],
          [
           "Green Gem South East"
          ],
          [
           "Green Gem South East"
          ],
          [
           "Green Gem South East"
          ],
          [
           "Green Gem South East"
          ],
          [
           "Green Gem South East"
          ],
          [
           "Green Gem South East"
          ],
          [
           "Green Gem South East"
          ],
          [
           "Green Gem South East"
          ],
          [
           "Green Gem South East"
          ],
          [
           "Green Gem South East"
          ],
          [
           "Green Gem South East"
          ],
          [
           "Green Gem South East"
          ],
          [
           "Green Gem South East"
          ],
          [
           "Green Gem South East"
          ],
          [
           "Green Gem South East"
          ],
          [
           "Green Gem South East"
          ],
          [
           "Green Gem South East"
          ],
          [
           "Green Gem South East"
          ],
          [
           "Green Gem South East"
          ],
          [
           "Green Gem South East"
          ],
          [
           "Green Gem South East"
          ],
          [
           "Green Gem South East"
          ],
          [
           "Green Gem South East"
          ],
          [
           "Green Gem South East"
          ],
          [
           "Green Gem South East"
          ],
          [
           "Green Gem South East"
          ],
          [
           "Green Gem South East"
          ],
          [
           "Green Gem South East"
          ],
          [
           "Green Gem South East"
          ],
          [
           "Green Gem South East"
          ],
          [
           "Green Gem South East"
          ],
          [
           "Green Gem South East"
          ],
          [
           "Green Gem South East"
          ],
          [
           "Green Gem South East"
          ],
          [
           "Green Gem South East"
          ],
          [
           "Green Gem South East"
          ],
          [
           "Green Gem South East"
          ],
          [
           "Green Gem South East"
          ],
          [
           "Green Gem South East"
          ],
          [
           "Green Gem South East"
          ],
          [
           "Green Gem South East"
          ],
          [
           "Green Gem South East"
          ],
          [
           "Green Gem South East"
          ],
          [
           "Green Gem South East"
          ],
          [
           "Green Gem South East"
          ],
          [
           "Green Gem South East"
          ],
          [
           "Green Gem South East"
          ],
          [
           "Green Gem South East"
          ],
          [
           "Green Gem South East"
          ],
          [
           "Green Gem South East"
          ],
          [
           "Green Gem South East"
          ],
          [
           "Green Gem South East"
          ],
          [
           "Green Gem South East"
          ],
          [
           "Green Gem South East"
          ],
          [
           "Green Gem South East"
          ],
          [
           "Green Gem South East"
          ],
          [
           "Green Gem South East"
          ],
          [
           "Green Gem South East"
          ],
          [
           "Green Gem South East"
          ],
          [
           "Green Gem South East"
          ],
          [
           "Green Gem South East"
          ],
          [
           "Green Gem South East"
          ],
          [
           "Green Gem South East"
          ],
          [
           "Green Gem South East"
          ],
          [
           "Green Gem South East"
          ],
          [
           "Green Gem South East"
          ],
          [
           "Green Gem South East"
          ],
          [
           "Green Gem South East"
          ],
          [
           "Green Gem South East"
          ],
          [
           "Green Gem South East"
          ],
          [
           "Green Gem South East"
          ],
          [
           "Green Gem South East"
          ],
          [
           "Green Gem South East"
          ],
          [
           "Green Gem South East"
          ],
          [
           "Green Gem South East"
          ],
          [
           "Green Gem South East"
          ],
          [
           "Green Gem South East"
          ],
          [
           "Green Gem South East"
          ],
          [
           "Green Gem South East"
          ],
          [
           "Green Gem South East"
          ],
          [
           "Green Gem South East"
          ],
          [
           "Green Gem South East"
          ],
          [
           "Green Gem South East"
          ],
          [
           "Green Gem South East"
          ],
          [
           "Green Gem South East"
          ],
          [
           "Green Gem South East"
          ],
          [
           "Green Gem South East"
          ],
          [
           "Green Gem South East"
          ],
          [
           "Green Gem South East"
          ],
          [
           "Green Gem South East"
          ],
          [
           "Green Gem South East"
          ],
          [
           "Green Gem South East"
          ],
          [
           "Green Gem South East"
          ],
          [
           "Green Gem South East"
          ],
          [
           "Green Gem South East"
          ],
          [
           "Green Gem South East"
          ],
          [
           "Green Gem South East"
          ],
          [
           "Green Gem South East"
          ]
         ],
         "hovertemplate": "Description=%{customdata[0]}<br>TSNE-1=%{x}<br>TSNE-2=%{y}<extra></extra>",
         "legendgroup": "Green Gem South East",
         "marker": {
          "color": "#FF6692",
          "opacity": 0.8,
          "size": 6,
          "symbol": "circle"
         },
         "mode": "markers",
         "name": "Green Gem South East",
         "showlegend": true,
         "type": "scattergl",
         "x": {
          "bdata": "g0rSQUzm20ESAK9BmlGeQZLQ9EFBfL9B1cKyQccNxUEWP99BNtXTQW3l6UHpLQVCqZgEQi0A2UE2ZdNBAMjjQXQPr0F+ybpBuqalQaTd9EEeVdBBgV7YQYgHykF9icNB+uPpQYTPA0IGLdlB2wWTQSTK40FQJbtBSKelQcbq9EEWhNBBbDvVQZGJ00F7XsxB7lrZQUb/0EGnFehBCDCvQX6npUHT9/RB6LbQQdV21EGJx9tBMdjjQem1skEmHZJBEqflQcmNq0HRQZ5BLULoQf/fv0HCwt9BTALiQWi32UEvROtBBkABQilFzkG6FaZBTBr7QS9QskGaWehBrPq/QUkh0UGe08VB+0bfQag+1EGkQgBCC2QGQgzl2UGvcfJBkYwGQlAekkF00dZBSEvwQWRWskElOp5BnG/oQeFU0UEZxelBeW7PQexZ7EF4D9pB3ofyQfvSJ0Ig9MlBKAGmQdc72EGvuuhBOFyyQb5mrUEeg+ZBBePIQSci2EE9EeFBVIq0QQPr/UHjaAVCvPLXQZcX6UFI0SdCtHPRQX36k0FmlNpB",
          "dtype": "f4"
         },
         "xaxis": "x",
         "y": {
          "bdata": "paiNQcXhkkGpHJNBRbONQTrzc0Gm/Y5BnXeNQV/ckkG4mrBBMMudQUlYpUHuJ3xBWU57QSwAekHdsH9B1eiGQQAck0FiKp5BjIiOQa3kc0HPcI9BIyiQQRHop0HLFpdBuFWlQcWdfEGU0XlBwEaLQV/shkEAuZ5BUomOQenVc0Hie49BmpGcQWrLoEHdRKRBX6F5QZkbg0FyMINBlBqTQeWKjkGQx3NBaIWPQUmNpkEF76FBFHGVQf6xk0E6BYtB7vyJQeRTjUHMr41BnAx6QcrVjkFpKrBB7HShQRs/eUGxk2lBUV54QSHneEHezpNBBwB2QVS3lUH78XlBXMqOQb6ej0GOupJB3ZiwQU3InUE1YnZBkBl3QRMNeUGlVWxBtd12QZUFi0EefKJB2C2BQR+1lUFvr41BVdB5Qbqqj0F9fqNBVg6bQT9Mh0GD3nhBxlVsQekDJEEszppBDMaTQYuEnkEHUYBBcbOVQduPl0G32YJBxA+hQX3fh0FPD5RB+SyNQeJMdkGsW3xBnayBQeJXc0E8CSRBwleWQdKEi0HkSZdB",
          "dtype": "f4"
         },
         "yaxis": "y"
        },
        {
         "customdata": [
          [
           "Green Gem North"
          ],
          [
           "Green Gem North"
          ],
          [
           "Green Gem North"
          ],
          [
           "Green Gem North"
          ],
          [
           "Green Gem North"
          ],
          [
           "Green Gem North"
          ],
          [
           "Green Gem North"
          ],
          [
           "Green Gem North"
          ],
          [
           "Green Gem North"
          ],
          [
           "Green Gem North"
          ],
          [
           "Green Gem North"
          ],
          [
           "Green Gem North"
          ],
          [
           "Green Gem North"
          ],
          [
           "Green Gem North"
          ],
          [
           "Green Gem North"
          ],
          [
           "Green Gem North"
          ],
          [
           "Green Gem North"
          ],
          [
           "Green Gem North"
          ],
          [
           "Green Gem North"
          ],
          [
           "Green Gem North"
          ],
          [
           "Green Gem North"
          ],
          [
           "Green Gem North"
          ],
          [
           "Green Gem North"
          ],
          [
           "Green Gem North"
          ],
          [
           "Green Gem North"
          ],
          [
           "Green Gem North"
          ],
          [
           "Green Gem North"
          ],
          [
           "Green Gem North"
          ],
          [
           "Green Gem North"
          ],
          [
           "Green Gem North"
          ],
          [
           "Green Gem North"
          ],
          [
           "Green Gem North"
          ],
          [
           "Green Gem North"
          ],
          [
           "Green Gem North"
          ],
          [
           "Green Gem North"
          ],
          [
           "Green Gem North"
          ],
          [
           "Green Gem North"
          ],
          [
           "Green Gem North"
          ],
          [
           "Green Gem North"
          ],
          [
           "Green Gem North"
          ],
          [
           "Green Gem North"
          ],
          [
           "Green Gem North"
          ],
          [
           "Green Gem North"
          ],
          [
           "Green Gem North"
          ],
          [
           "Green Gem North"
          ],
          [
           "Green Gem North"
          ],
          [
           "Green Gem North"
          ],
          [
           "Green Gem North"
          ],
          [
           "Green Gem North"
          ],
          [
           "Green Gem North"
          ],
          [
           "Green Gem North"
          ],
          [
           "Green Gem North"
          ],
          [
           "Green Gem North"
          ],
          [
           "Green Gem North"
          ],
          [
           "Green Gem North"
          ],
          [
           "Green Gem North"
          ],
          [
           "Green Gem North"
          ],
          [
           "Green Gem North"
          ],
          [
           "Green Gem North"
          ],
          [
           "Green Gem North"
          ],
          [
           "Green Gem North"
          ],
          [
           "Green Gem North"
          ],
          [
           "Green Gem North"
          ],
          [
           "Green Gem North"
          ],
          [
           "Green Gem North"
          ],
          [
           "Green Gem North"
          ],
          [
           "Green Gem North"
          ],
          [
           "Green Gem North"
          ],
          [
           "Green Gem North"
          ],
          [
           "Green Gem North"
          ],
          [
           "Green Gem North"
          ],
          [
           "Green Gem North"
          ],
          [
           "Green Gem North"
          ],
          [
           "Green Gem North"
          ],
          [
           "Green Gem North"
          ],
          [
           "Green Gem North"
          ],
          [
           "Green Gem North"
          ],
          [
           "Green Gem North"
          ],
          [
           "Green Gem North"
          ],
          [
           "Green Gem North"
          ],
          [
           "Green Gem North"
          ],
          [
           "Green Gem North"
          ],
          [
           "Green Gem North"
          ],
          [
           "Green Gem North"
          ],
          [
           "Green Gem North"
          ],
          [
           "Green Gem North"
          ],
          [
           "Green Gem North"
          ],
          [
           "Green Gem North"
          ],
          [
           "Green Gem North"
          ],
          [
           "Green Gem North"
          ],
          [
           "Green Gem North"
          ],
          [
           "Green Gem North"
          ],
          [
           "Green Gem North"
          ],
          [
           "Green Gem North"
          ],
          [
           "Green Gem North"
          ],
          [
           "Green Gem North"
          ],
          [
           "Green Gem North"
          ],
          [
           "Green Gem North"
          ],
          [
           "Green Gem North"
          ],
          [
           "Green Gem North"
          ],
          [
           "Green Gem North"
          ],
          [
           "Green Gem North"
          ],
          [
           "Green Gem North"
          ],
          [
           "Green Gem North"
          ],
          [
           "Green Gem North"
          ],
          [
           "Green Gem North"
          ],
          [
           "Green Gem North"
          ],
          [
           "Green Gem North"
          ],
          [
           "Green Gem North"
          ],
          [
           "Green Gem North"
          ],
          [
           "Green Gem North"
          ],
          [
           "Green Gem North"
          ],
          [
           "Green Gem North"
          ],
          [
           "Green Gem North"
          ],
          [
           "Green Gem North"
          ],
          [
           "Green Gem North"
          ],
          [
           "Green Gem North"
          ],
          [
           "Green Gem North"
          ],
          [
           "Green Gem North"
          ],
          [
           "Green Gem North"
          ],
          [
           "Green Gem North"
          ],
          [
           "Green Gem North"
          ],
          [
           "Green Gem North"
          ],
          [
           "Green Gem North"
          ],
          [
           "Green Gem North"
          ],
          [
           "Green Gem North"
          ],
          [
           "Green Gem North"
          ],
          [
           "Green Gem North"
          ],
          [
           "Green Gem North"
          ],
          [
           "Green Gem North"
          ],
          [
           "Green Gem North"
          ],
          [
           "Green Gem North"
          ],
          [
           "Green Gem North"
          ],
          [
           "Green Gem North"
          ],
          [
           "Green Gem North"
          ],
          [
           "Green Gem North"
          ],
          [
           "Green Gem North"
          ],
          [
           "Green Gem North"
          ],
          [
           "Green Gem North"
          ],
          [
           "Green Gem North"
          ],
          [
           "Green Gem North"
          ],
          [
           "Green Gem North"
          ],
          [
           "Green Gem North"
          ],
          [
           "Green Gem North"
          ],
          [
           "Green Gem North"
          ],
          [
           "Green Gem North"
          ],
          [
           "Green Gem North"
          ],
          [
           "Green Gem North"
          ],
          [
           "Green Gem North"
          ],
          [
           "Green Gem North"
          ],
          [
           "Green Gem North"
          ],
          [
           "Green Gem North"
          ],
          [
           "Green Gem North"
          ],
          [
           "Green Gem North"
          ],
          [
           "Green Gem North"
          ],
          [
           "Green Gem North"
          ],
          [
           "Green Gem North"
          ],
          [
           "Green Gem North"
          ],
          [
           "Green Gem North"
          ],
          [
           "Green Gem North"
          ],
          [
           "Green Gem North"
          ],
          [
           "Green Gem North"
          ],
          [
           "Green Gem North"
          ],
          [
           "Green Gem North"
          ],
          [
           "Green Gem North"
          ],
          [
           "Green Gem North"
          ],
          [
           "Green Gem North"
          ],
          [
           "Green Gem North"
          ],
          [
           "Green Gem North"
          ],
          [
           "Green Gem North"
          ],
          [
           "Green Gem North"
          ],
          [
           "Green Gem North"
          ],
          [
           "Green Gem North"
          ],
          [
           "Green Gem North"
          ],
          [
           "Green Gem North"
          ],
          [
           "Green Gem North"
          ],
          [
           "Green Gem North"
          ],
          [
           "Green Gem North"
          ],
          [
           "Green Gem North"
          ],
          [
           "Green Gem North"
          ],
          [
           "Green Gem North"
          ],
          [
           "Green Gem North"
          ],
          [
           "Green Gem North"
          ],
          [
           "Green Gem North"
          ],
          [
           "Green Gem North"
          ],
          [
           "Green Gem North"
          ],
          [
           "Green Gem North"
          ],
          [
           "Green Gem North"
          ],
          [
           "Green Gem North"
          ],
          [
           "Green Gem North"
          ],
          [
           "Green Gem North"
          ],
          [
           "Green Gem North"
          ],
          [
           "Green Gem North"
          ],
          [
           "Green Gem North"
          ],
          [
           "Green Gem North"
          ],
          [
           "Green Gem North"
          ],
          [
           "Green Gem North"
          ],
          [
           "Green Gem North"
          ],
          [
           "Green Gem North"
          ],
          [
           "Green Gem North"
          ],
          [
           "Green Gem North"
          ],
          [
           "Green Gem North"
          ],
          [
           "Green Gem North"
          ],
          [
           "Green Gem North"
          ],
          [
           "Green Gem North"
          ],
          [
           "Green Gem North"
          ],
          [
           "Green Gem North"
          ],
          [
           "Green Gem North"
          ],
          [
           "Green Gem North"
          ],
          [
           "Green Gem North"
          ],
          [
           "Green Gem North"
          ],
          [
           "Green Gem North"
          ],
          [
           "Green Gem North"
          ],
          [
           "Green Gem North"
          ],
          [
           "Green Gem North"
          ],
          [
           "Green Gem North"
          ],
          [
           "Green Gem North"
          ],
          [
           "Green Gem North"
          ],
          [
           "Green Gem North"
          ],
          [
           "Green Gem North"
          ],
          [
           "Green Gem North"
          ],
          [
           "Green Gem North"
          ],
          [
           "Green Gem North"
          ],
          [
           "Green Gem North"
          ],
          [
           "Green Gem North"
          ],
          [
           "Green Gem North"
          ],
          [
           "Green Gem North"
          ],
          [
           "Green Gem North"
          ],
          [
           "Green Gem North"
          ],
          [
           "Green Gem North"
          ],
          [
           "Green Gem North"
          ],
          [
           "Green Gem North"
          ],
          [
           "Green Gem North"
          ],
          [
           "Green Gem North"
          ],
          [
           "Green Gem North"
          ],
          [
           "Green Gem North"
          ],
          [
           "Green Gem North"
          ],
          [
           "Green Gem North"
          ],
          [
           "Green Gem North"
          ],
          [
           "Green Gem North"
          ],
          [
           "Green Gem North"
          ],
          [
           "Green Gem North"
          ],
          [
           "Green Gem North"
          ],
          [
           "Green Gem North"
          ],
          [
           "Green Gem North"
          ],
          [
           "Green Gem North"
          ],
          [
           "Green Gem North"
          ],
          [
           "Green Gem North"
          ],
          [
           "Green Gem North"
          ],
          [
           "Green Gem North"
          ],
          [
           "Green Gem North"
          ],
          [
           "Green Gem North"
          ],
          [
           "Green Gem North"
          ],
          [
           "Green Gem North"
          ],
          [
           "Green Gem North"
          ],
          [
           "Green Gem North"
          ],
          [
           "Green Gem North"
          ],
          [
           "Green Gem North"
          ],
          [
           "Green Gem North"
          ],
          [
           "Green Gem North"
          ],
          [
           "Green Gem North"
          ]
         ],
         "hovertemplate": "Description=%{customdata[0]}<br>TSNE-1=%{x}<br>TSNE-2=%{y}<extra></extra>",
         "legendgroup": "Green Gem North",
         "marker": {
          "color": "#B6E880",
          "opacity": 0.8,
          "size": 6,
          "symbol": "circle"
         },
         "mode": "markers",
         "name": "Green Gem North",
         "showlegend": true,
         "type": "scattergl",
         "x": {
          "bdata": "mJD5wBDjYcE0bRDBt+wcwUHvb8CA8RPBcW5Cv6kdLsEOKTfBPE0iwQFZbcGdeLXAfDnGwL+GAMHdr4HAvXGBwKp88cAUmvnAoXA5wcdFVsFEAIHBqyDkwCHFLcEOZNXAGr4MwZWGNr4JjjbBleMTwRqA5cAneofB+nPmwJfpisG20THBr2/0wLcQBMFBYxLBQPWHwfUuN8HdAgDB3LyPwZKIyz7kZRTBUxLGwKFzaMGd7dLAd3c2wQfEAcF6PfnA3xIDwY3QK8GS7gu/iW4Pv3+2BMHwbjjBy3otweSAwcCTORLBoSAWwESSdcCCqAbBtuXgwF5/5sCrMXPBCLKgwKHX18Aur0XBlLpwwGkYEsGr+TXBaeg4wfGlCsHLJRrBf++HwaFMEcFy+cXAinAcwY/Y0sAxsrrAlK8BwV+Lg8FfNerAL7I5v8VGDL8Uqt/AszwZwXMIEL8GZTjBliQLwbR578BqhwS/rxEdwZfPzcD4HwHBSj0dweh5VcGB+cjAP7zowNcGC8GJHnHAGWE+wRvMNcH1QxrBD3UmwW7jC8B5cOHA09nFwGxTT8FTGhvBq6gmvw63879FDzjBFLIrwaibDL/3md/AJ0lZwYQsEL9W1rPAyupMwUpOC8GFOhzBAesywYaVzcDFixbBOwG5wJkAVsFqvx7BPPMrwT4nC8Ha4hnBmbeHwXyGi8EgK37BKXTMwP7WOMFxy+HAvMbFwD72G8FKzT3BZAQmv1lVfsD6PTnBS0tWwZ/vFMGnBRnBbHgQv3cJLcE+pLPAp6gzwcCaBMHS5ozBAy5GwFuezcDcNgPB9KJywTteOMGp3LjAvM38wFx0VcH4/dLAvCODwVHtccChZz7BZUB8wPLEiMEChibB0YYtwRd0D8GbuIHBNyriwKkQbcHbgUzB3WPlwMCxG8Ff7au/BbMtwMNIsMCeIfO/KC5RwR84A8FvSlnB780QvyKdJsETpAvBf67UwDpWPsHsVx6/57jUwGG1zcBlpADBjyK/wGB1osCJdlDA1JzGwHF0u8CRvhDBDabiwPh7i8GRcX7BR+nawB3zfMDThOLAkD76wNrepcBpXTDBdqDmwB43HcGaQUbABF0BwUxQJMEViSbBUO0twcgIyMDhE4nBWcwLwarjGsGTjBvBjy3gwME1hEHCnwLB+MFxwOzkBsBE+DDB16ENv9Bt0sBrq8fAKHUQwRh/Y8EF6ALBUqSIwUCTfsFrwMDAcUQ7wRgCRMC/8GLA0+XYwEwuH8G8DOjAmb01wcc9RsCQyi3Al3bSwA1q6cBl5y3BMW1Gwb4RicGyjTPBIgk+wWjRBME+mhvBp/D+wLlUs8CCUhzAgBUtwYcXhMGt11HAnqHHwLgF88Codj7B6ZRtwNEXbMCloSbB",
          "dtype": "f4"
         },
         "xaxis": "x",
         "y": {
          "bdata": "6ZXyQWGnCkLbxRVCLfvgQaYxJkLAFd1BSCo4Qt9BIUJ4vjZCmkM4QsI/BULcIxVC5wIeQpCqFkIVm/1BtXj4Qfr6FEJlYyBCEnYiQrFX+EEtlwhCazzWQUdWC0IoKCpCtwwDQmGZP0Jl8D9CyMgBQpr9/EF7e/pBTjLsQfafBUKzxzxCZWcmQrtM30GLDAxCJHH+QSnNNkKKTS5CXgocQhv5P0LuD/5BVhkeQtaOGkKwqPBBc5E/QkC/xEHdmiBCNebdQQu99UFvfTVC/TU/QlV680EH1hhCrWrhQSn0D0If1jlCtjMyQjVyIEJMdAFCQJPwQd9a7EG5eQZC+wM1QjC72EGO9SFCQjsmQtA6DEJfAB9CQkEXQv9w9kGtot1B/GX6QeJNBUJNLR5C1ToOQs+88EE7ONVBJr/EQXfdGkIwScpBy+05QtpwNUIxKtVBUfImQpkqP0LR6hhCHCU3QiL3J0JKtDtCztk6QsFaJELlLS1CtXADQvpY2kEcvhhCDLPWQYteKUItQCZCTn7oQXQqH0KfPzZC8Iw2Qm3NFkKUFzBCoj8eQggSAUJL3txBF3AzQtgJMEK1YfpBli32QRlgNULOM9VB03H2QUggP0InQtlBz8T+QZkyN0JAZg5CTdg9QhF6JEJRw+xBwdHrQSFX3EEerxRC3NDsQVN3KULepjVCQIz9QSYNBELbjR9CAjsRQkF9F0IbKjBCxFQeQuWSDkKNiTZCQ3IzQvGN+0HyyyJC7Pv4QU+H/EFSECdC9hY/Qro1+UETVtlBV7MpQnDjFEJ4WgdCaQUaQpCaJEIkjgJC2XcGQqbK90Ec++tBgjYBQprr2UFP8BFCV+YfQhRKJkKKluhBBSEzQlqvBUJPnTZCsY8hQsX/CEKNDgdC+TwwQpk4BUL2N/RBeagpQnK9DkLtDEJCiTwmQsz2NEJIGTBCUd7WQVXDykFGrfZBMwo/QljXOkJcTTdCoCcoQnFt6EFy+ztCz+oxQka6JELhJA5CFBAcQrgNNUIYMCdCnJEHQkOzJkIxCQ1CT2UZQk4PBEKgix9CNWgjQvW7/UFMTzBCY9jUQe+o2kF3DgRCzt0pQudu40GfAUVCo73EQcgsCUKC4zpCGuEMQobmFEJWkP1Bylo3QoIC5kFU6w5C3U/pQQKtKEKK/gJCsRz8QZMHFkIAtTlCAjY1Qv4hEkKbggdCbj8NQsxfCkKkMgZCNbsFQjqKH0IRfh1CesL5QUf1REI+kgBCeM7YQbJQ+EGHFypCKwImQj0BRUKdPCZCbCbxQRClykG2Cg1CGp7zQRqY/UFYzylClo5CQoAoEkJqwt1BcFE2Qtk6NUKMJxdC7qfaQc35A0IsMidCNIcHQkq5AULcw+hBhxIzQhHAMkLAtTZC",
          "dtype": "f4"
         },
         "yaxis": "y"
        },
        {
         "customdata": [
          [
           "Green Gem East"
          ],
          [
           "Green Gem East"
          ],
          [
           "Green Gem East"
          ],
          [
           "Green Gem East"
          ],
          [
           "Green Gem East"
          ],
          [
           "Green Gem East"
          ],
          [
           "Green Gem East"
          ],
          [
           "Green Gem East"
          ],
          [
           "Green Gem East"
          ],
          [
           "Green Gem East"
          ],
          [
           "Green Gem East"
          ],
          [
           "Green Gem East"
          ],
          [
           "Green Gem East"
          ],
          [
           "Green Gem East"
          ],
          [
           "Green Gem East"
          ],
          [
           "Green Gem East"
          ],
          [
           "Green Gem East"
          ],
          [
           "Green Gem East"
          ],
          [
           "Green Gem East"
          ],
          [
           "Green Gem East"
          ],
          [
           "Green Gem East"
          ],
          [
           "Green Gem East"
          ],
          [
           "Green Gem East"
          ],
          [
           "Green Gem East"
          ],
          [
           "Green Gem East"
          ],
          [
           "Green Gem East"
          ],
          [
           "Green Gem East"
          ],
          [
           "Green Gem East"
          ],
          [
           "Green Gem East"
          ],
          [
           "Green Gem East"
          ],
          [
           "Green Gem East"
          ],
          [
           "Green Gem East"
          ],
          [
           "Green Gem East"
          ],
          [
           "Green Gem East"
          ],
          [
           "Green Gem East"
          ],
          [
           "Green Gem East"
          ],
          [
           "Green Gem East"
          ],
          [
           "Green Gem East"
          ],
          [
           "Green Gem East"
          ],
          [
           "Green Gem East"
          ],
          [
           "Green Gem East"
          ],
          [
           "Green Gem East"
          ],
          [
           "Green Gem East"
          ],
          [
           "Green Gem East"
          ],
          [
           "Green Gem East"
          ],
          [
           "Green Gem East"
          ],
          [
           "Green Gem East"
          ],
          [
           "Green Gem East"
          ],
          [
           "Green Gem East"
          ],
          [
           "Green Gem East"
          ],
          [
           "Green Gem East"
          ],
          [
           "Green Gem East"
          ],
          [
           "Green Gem East"
          ],
          [
           "Green Gem East"
          ],
          [
           "Green Gem East"
          ],
          [
           "Green Gem East"
          ],
          [
           "Green Gem East"
          ],
          [
           "Green Gem East"
          ],
          [
           "Green Gem East"
          ],
          [
           "Green Gem East"
          ],
          [
           "Green Gem East"
          ],
          [
           "Green Gem East"
          ],
          [
           "Green Gem East"
          ],
          [
           "Green Gem East"
          ],
          [
           "Green Gem East"
          ],
          [
           "Green Gem East"
          ],
          [
           "Green Gem East"
          ],
          [
           "Green Gem East"
          ],
          [
           "Green Gem East"
          ],
          [
           "Green Gem East"
          ],
          [
           "Green Gem East"
          ],
          [
           "Green Gem East"
          ],
          [
           "Green Gem East"
          ],
          [
           "Green Gem East"
          ],
          [
           "Green Gem East"
          ],
          [
           "Green Gem East"
          ],
          [
           "Green Gem East"
          ],
          [
           "Green Gem East"
          ],
          [
           "Green Gem East"
          ],
          [
           "Green Gem East"
          ],
          [
           "Green Gem East"
          ],
          [
           "Green Gem East"
          ],
          [
           "Green Gem East"
          ],
          [
           "Green Gem East"
          ],
          [
           "Green Gem East"
          ],
          [
           "Green Gem East"
          ],
          [
           "Green Gem East"
          ],
          [
           "Green Gem East"
          ],
          [
           "Green Gem East"
          ],
          [
           "Green Gem East"
          ],
          [
           "Green Gem East"
          ],
          [
           "Green Gem East"
          ],
          [
           "Green Gem East"
          ],
          [
           "Green Gem East"
          ],
          [
           "Green Gem East"
          ],
          [
           "Green Gem East"
          ],
          [
           "Green Gem East"
          ],
          [
           "Green Gem East"
          ],
          [
           "Green Gem East"
          ],
          [
           "Green Gem East"
          ],
          [
           "Green Gem East"
          ],
          [
           "Green Gem East"
          ],
          [
           "Green Gem East"
          ],
          [
           "Green Gem East"
          ],
          [
           "Green Gem East"
          ],
          [
           "Green Gem East"
          ],
          [
           "Green Gem East"
          ],
          [
           "Green Gem East"
          ],
          [
           "Green Gem East"
          ],
          [
           "Green Gem East"
          ],
          [
           "Green Gem East"
          ],
          [
           "Green Gem East"
          ],
          [
           "Green Gem East"
          ],
          [
           "Green Gem East"
          ],
          [
           "Green Gem East"
          ],
          [
           "Green Gem East"
          ],
          [
           "Green Gem East"
          ],
          [
           "Green Gem East"
          ],
          [
           "Green Gem East"
          ],
          [
           "Green Gem East"
          ],
          [
           "Green Gem East"
          ],
          [
           "Green Gem East"
          ],
          [
           "Green Gem East"
          ],
          [
           "Green Gem East"
          ],
          [
           "Green Gem East"
          ],
          [
           "Green Gem East"
          ],
          [
           "Green Gem East"
          ],
          [
           "Green Gem East"
          ],
          [
           "Green Gem East"
          ],
          [
           "Green Gem East"
          ],
          [
           "Green Gem East"
          ],
          [
           "Green Gem East"
          ],
          [
           "Green Gem East"
          ],
          [
           "Green Gem East"
          ],
          [
           "Green Gem East"
          ],
          [
           "Green Gem East"
          ],
          [
           "Green Gem East"
          ],
          [
           "Green Gem East"
          ],
          [
           "Green Gem East"
          ],
          [
           "Green Gem East"
          ],
          [
           "Green Gem East"
          ],
          [
           "Green Gem East"
          ],
          [
           "Green Gem East"
          ],
          [
           "Green Gem East"
          ],
          [
           "Green Gem East"
          ],
          [
           "Green Gem East"
          ],
          [
           "Green Gem East"
          ],
          [
           "Green Gem East"
          ],
          [
           "Green Gem East"
          ],
          [
           "Green Gem East"
          ],
          [
           "Green Gem East"
          ],
          [
           "Green Gem East"
          ],
          [
           "Green Gem East"
          ],
          [
           "Green Gem East"
          ],
          [
           "Green Gem East"
          ],
          [
           "Green Gem East"
          ],
          [
           "Green Gem East"
          ],
          [
           "Green Gem East"
          ],
          [
           "Green Gem East"
          ],
          [
           "Green Gem East"
          ],
          [
           "Green Gem East"
          ],
          [
           "Green Gem East"
          ],
          [
           "Green Gem East"
          ],
          [
           "Green Gem East"
          ],
          [
           "Green Gem East"
          ],
          [
           "Green Gem East"
          ],
          [
           "Green Gem East"
          ],
          [
           "Green Gem East"
          ],
          [
           "Green Gem East"
          ],
          [
           "Green Gem East"
          ],
          [
           "Green Gem East"
          ],
          [
           "Green Gem East"
          ],
          [
           "Green Gem East"
          ],
          [
           "Green Gem East"
          ],
          [
           "Green Gem East"
          ],
          [
           "Green Gem East"
          ],
          [
           "Green Gem East"
          ],
          [
           "Green Gem East"
          ],
          [
           "Green Gem East"
          ],
          [
           "Green Gem East"
          ],
          [
           "Green Gem East"
          ],
          [
           "Green Gem East"
          ],
          [
           "Green Gem East"
          ],
          [
           "Green Gem East"
          ],
          [
           "Green Gem East"
          ],
          [
           "Green Gem East"
          ],
          [
           "Green Gem East"
          ],
          [
           "Green Gem East"
          ],
          [
           "Green Gem East"
          ],
          [
           "Green Gem East"
          ],
          [
           "Green Gem East"
          ],
          [
           "Green Gem East"
          ],
          [
           "Green Gem East"
          ],
          [
           "Green Gem East"
          ],
          [
           "Green Gem East"
          ],
          [
           "Green Gem East"
          ],
          [
           "Green Gem East"
          ]
         ],
         "hovertemplate": "Description=%{customdata[0]}<br>TSNE-1=%{x}<br>TSNE-2=%{y}<extra></extra>",
         "legendgroup": "Green Gem East",
         "marker": {
          "color": "#FF97FF",
          "opacity": 0.8,
          "size": 6,
          "symbol": "circle"
         },
         "mode": "markers",
         "name": "Green Gem East",
         "showlegend": true,
         "type": "scattergl",
         "x": {
          "bdata": "BCQnQuZ8F0IfUEFCm44bQhr4GkKEkTVC20MRQjkNOkKubjZCehRMQid7SUJw/zxCFzQ2QsvdLEKXuzNCHFY9QknDJ0LaIUpC1XkeQpEURUIMDCVCiPEbQk8OJ0JOUBpCvSguQiMONkLAZB5CJI0aQgaJNUIEdSZC9UQRQnVxRUK4VDZCVz5LQvB7SUJdrylCeUUzQgLeL0IAuSJCwUg9Qph9KUKgejJCrKZFQtywKUJ+5yFCS3YgQrobKEIq/z5CyskoQmi9J0JknyBCymtFQvtBSkIPozRC1sk6QiWyKUJhSilCxtIvQuAcK0JXBy1CIXQnQq+xRUJhSilCCJkiQg10DELOyZFAdmoaQrz3HUIkDTxCqpcbQpnwNUJ8TilCyfYqQgivMELUcCZCc5InQoxmRUIOPEpCnR9LQkK7OkIdrCNCHOpCQiOXOUJ+HytCdawfQoINIUIzAjNCVHEpQq8VKULnlSJCmWMgQrspJ0It0zpCQVJMQm1SH0Jrg0VCn2uWQfUeTkIQxRpCaeIqQo1POEKYuCdChVsPQnBiRUKe00tCDpdLQi8YH0I1HEhC0jM3Qji2IkIjRiJCdbAXQllSSkIxW0hCP1A8QrNQJULPaDNC6KsYQmiHGkJ8C0hCJacpQqmonEG81jVCrckqQpoDMEL0tSdCbGYRQsR8HkIR1UtC0lJLQlKzFEIM9TlC1Lg4QqxNL0Kw8zxCoxUoQkJOPULfx0VCy0c1QtepHUJ+i1FCFAJEQuHTIkJEXUxCONY7QmO/SkL/Ax9C458/QioKL0LtoSpCyhpJQnFgHEJ24UJC6RoxQj6mS0KAeg1CNrE4QiKpT0J22TxCPDQYQma7R0L3BBNCxahFQl9CNUJrQyVC2nczQpQXLEJGZExChPRJQpNKRkKlpRdCaws3QpWROEJXahxCn1UPQjSOOUKZlSNCvMU9Qn+CNELaQEZCn+k5QjJNPELmdEtC5gM8QuIXMkJtNhxCSsVHQnY7NUIrsR1Cv4tRQlYPGELW1CJCXl5JQnY4TkItMR9CJAU3QnEmI0I=",
          "dtype": "f4"
         },
         "xaxis": "x",
         "y": {
          "bdata": "gj7KwOVTGsGQAZBAUceBwUFlH8GfA9o+RHGTwXPoHb/YSSBA9hs4QWZjF0GhdcK/P1vIvGIo279ZmIPAmNRAQOeZ0cBFW/FAJzJpwZPqQkHyLx3BifVnwV5NFcFfIX7BHGSwwMdrm782UnHByqMdwdctxz6p4SfBKm+Twez8ykBbCR1AGqj7QDMhF0HZ1bfA6zqxv+sQXr83fjTBd3Q+QIoO0MAgkSzApA/fQLtq7cDSoD7BF4M/wUNOC8HKgh9B86YGwYIaJEGM3EXBX4TKQBedK0FxLBU8MyPcPwR9uMDb4e7AmvBbv5jQsMDYvunAkUQSwbbj3kDb4e7A4fAwQT2QnMEx+j7Cd3h9wRekccEVkjxA5UhtwcC6qb+bep/AgAH8wLHapcCbPCfBWAs0wZjtyUD0gCtBeNMSQR2m2T98KD3B9kcjQSH1MUB6GbHA1TVYwZNUT8FG9/u/nUfRwJf078AB+TBB6fc/waRBO8EFl4E/qdceQbYOS8GHyN9AGHcBwnyuCkEsWh7B9IX8wI0oVL9LJiRBTDSXwc9myUBGXzlBalkIQUyjf8F9+D1BPOUGQEOHNMGodkvB5CcawQs29EC+ywJBTMd/QPqFM8HQ6srAvTeBwcrgfMF9sOBA/py7wM++AcKEArm/6if9wLEa28AhLSRB+yiTwRSmacGqTTlBMwQSQetWjMFG4mBADbTeP4DCrsAdv9w+RmYjQapjvz7Ik95A5cAAwEdeeMEAe4JAD6gPQPj2UcHXvh5BOd4ZQJQqD0FDLV7BD5J0QK1N978yCP7ARl0aQZ+ChMHonJVAxgMZwNsGCEEiuJrBTkDeP6rJAUG+T8o+iXIrwbXKCEEy0Y/BXhBCQWwbA8DB8TPBO43KwMI9JcGqsh5B97cjQbVFM0EDeIXBkTucPwb0JEBPkoTBPj+XwZNSRb9NHSrBPDlgQOPgub5ARh1AzbtgQNM15T9PBxBBXUd5QDv8OcB3BHfBeGgIQSssBcBhUXjBwnqCQDWle8F72lHB+y8rQZ0vEEGKe13BbkiZP9YwMcE=",
          "dtype": "f4"
         },
         "yaxis": "y"
        }
       ],
       "layout": {
        "height": 1000,
        "legend": {
         "itemsizing": "constant",
         "title": {
          "text": "Descriptions"
         },
         "tracegroupgap": 0
        },
        "template": {
         "data": {
          "bar": [
           {
            "error_x": {
             "color": "#2a3f5f"
            },
            "error_y": {
             "color": "#2a3f5f"
            },
            "marker": {
             "line": {
              "color": "#E5ECF6",
              "width": 0.5
             },
             "pattern": {
              "fillmode": "overlay",
              "size": 10,
              "solidity": 0.2
             }
            },
            "type": "bar"
           }
          ],
          "barpolar": [
           {
            "marker": {
             "line": {
              "color": "#E5ECF6",
              "width": 0.5
             },
             "pattern": {
              "fillmode": "overlay",
              "size": 10,
              "solidity": 0.2
             }
            },
            "type": "barpolar"
           }
          ],
          "carpet": [
           {
            "aaxis": {
             "endlinecolor": "#2a3f5f",
             "gridcolor": "white",
             "linecolor": "white",
             "minorgridcolor": "white",
             "startlinecolor": "#2a3f5f"
            },
            "baxis": {
             "endlinecolor": "#2a3f5f",
             "gridcolor": "white",
             "linecolor": "white",
             "minorgridcolor": "white",
             "startlinecolor": "#2a3f5f"
            },
            "type": "carpet"
           }
          ],
          "choropleth": [
           {
            "colorbar": {
             "outlinewidth": 0,
             "ticks": ""
            },
            "type": "choropleth"
           }
          ],
          "contour": [
           {
            "colorbar": {
             "outlinewidth": 0,
             "ticks": ""
            },
            "colorscale": [
             [
              0,
              "#0d0887"
             ],
             [
              0.1111111111111111,
              "#46039f"
             ],
             [
              0.2222222222222222,
              "#7201a8"
             ],
             [
              0.3333333333333333,
              "#9c179e"
             ],
             [
              0.4444444444444444,
              "#bd3786"
             ],
             [
              0.5555555555555556,
              "#d8576b"
             ],
             [
              0.6666666666666666,
              "#ed7953"
             ],
             [
              0.7777777777777778,
              "#fb9f3a"
             ],
             [
              0.8888888888888888,
              "#fdca26"
             ],
             [
              1,
              "#f0f921"
             ]
            ],
            "type": "contour"
           }
          ],
          "contourcarpet": [
           {
            "colorbar": {
             "outlinewidth": 0,
             "ticks": ""
            },
            "type": "contourcarpet"
           }
          ],
          "heatmap": [
           {
            "colorbar": {
             "outlinewidth": 0,
             "ticks": ""
            },
            "colorscale": [
             [
              0,
              "#0d0887"
             ],
             [
              0.1111111111111111,
              "#46039f"
             ],
             [
              0.2222222222222222,
              "#7201a8"
             ],
             [
              0.3333333333333333,
              "#9c179e"
             ],
             [
              0.4444444444444444,
              "#bd3786"
             ],
             [
              0.5555555555555556,
              "#d8576b"
             ],
             [
              0.6666666666666666,
              "#ed7953"
             ],
             [
              0.7777777777777778,
              "#fb9f3a"
             ],
             [
              0.8888888888888888,
              "#fdca26"
             ],
             [
              1,
              "#f0f921"
             ]
            ],
            "type": "heatmap"
           }
          ],
          "histogram": [
           {
            "marker": {
             "pattern": {
              "fillmode": "overlay",
              "size": 10,
              "solidity": 0.2
             }
            },
            "type": "histogram"
           }
          ],
          "histogram2d": [
           {
            "colorbar": {
             "outlinewidth": 0,
             "ticks": ""
            },
            "colorscale": [
             [
              0,
              "#0d0887"
             ],
             [
              0.1111111111111111,
              "#46039f"
             ],
             [
              0.2222222222222222,
              "#7201a8"
             ],
             [
              0.3333333333333333,
              "#9c179e"
             ],
             [
              0.4444444444444444,
              "#bd3786"
             ],
             [
              0.5555555555555556,
              "#d8576b"
             ],
             [
              0.6666666666666666,
              "#ed7953"
             ],
             [
              0.7777777777777778,
              "#fb9f3a"
             ],
             [
              0.8888888888888888,
              "#fdca26"
             ],
             [
              1,
              "#f0f921"
             ]
            ],
            "type": "histogram2d"
           }
          ],
          "histogram2dcontour": [
           {
            "colorbar": {
             "outlinewidth": 0,
             "ticks": ""
            },
            "colorscale": [
             [
              0,
              "#0d0887"
             ],
             [
              0.1111111111111111,
              "#46039f"
             ],
             [
              0.2222222222222222,
              "#7201a8"
             ],
             [
              0.3333333333333333,
              "#9c179e"
             ],
             [
              0.4444444444444444,
              "#bd3786"
             ],
             [
              0.5555555555555556,
              "#d8576b"
             ],
             [
              0.6666666666666666,
              "#ed7953"
             ],
             [
              0.7777777777777778,
              "#fb9f3a"
             ],
             [
              0.8888888888888888,
              "#fdca26"
             ],
             [
              1,
              "#f0f921"
             ]
            ],
            "type": "histogram2dcontour"
           }
          ],
          "mesh3d": [
           {
            "colorbar": {
             "outlinewidth": 0,
             "ticks": ""
            },
            "type": "mesh3d"
           }
          ],
          "parcoords": [
           {
            "line": {
             "colorbar": {
              "outlinewidth": 0,
              "ticks": ""
             }
            },
            "type": "parcoords"
           }
          ],
          "pie": [
           {
            "automargin": true,
            "type": "pie"
           }
          ],
          "scatter": [
           {
            "fillpattern": {
             "fillmode": "overlay",
             "size": 10,
             "solidity": 0.2
            },
            "type": "scatter"
           }
          ],
          "scatter3d": [
           {
            "line": {
             "colorbar": {
              "outlinewidth": 0,
              "ticks": ""
             }
            },
            "marker": {
             "colorbar": {
              "outlinewidth": 0,
              "ticks": ""
             }
            },
            "type": "scatter3d"
           }
          ],
          "scattercarpet": [
           {
            "marker": {
             "colorbar": {
              "outlinewidth": 0,
              "ticks": ""
             }
            },
            "type": "scattercarpet"
           }
          ],
          "scattergeo": [
           {
            "marker": {
             "colorbar": {
              "outlinewidth": 0,
              "ticks": ""
             }
            },
            "type": "scattergeo"
           }
          ],
          "scattergl": [
           {
            "marker": {
             "colorbar": {
              "outlinewidth": 0,
              "ticks": ""
             }
            },
            "type": "scattergl"
           }
          ],
          "scattermap": [
           {
            "marker": {
             "colorbar": {
              "outlinewidth": 0,
              "ticks": ""
             }
            },
            "type": "scattermap"
           }
          ],
          "scattermapbox": [
           {
            "marker": {
             "colorbar": {
              "outlinewidth": 0,
              "ticks": ""
             }
            },
            "type": "scattermapbox"
           }
          ],
          "scatterpolar": [
           {
            "marker": {
             "colorbar": {
              "outlinewidth": 0,
              "ticks": ""
             }
            },
            "type": "scatterpolar"
           }
          ],
          "scatterpolargl": [
           {
            "marker": {
             "colorbar": {
              "outlinewidth": 0,
              "ticks": ""
             }
            },
            "type": "scatterpolargl"
           }
          ],
          "scatterternary": [
           {
            "marker": {
             "colorbar": {
              "outlinewidth": 0,
              "ticks": ""
             }
            },
            "type": "scatterternary"
           }
          ],
          "surface": [
           {
            "colorbar": {
             "outlinewidth": 0,
             "ticks": ""
            },
            "colorscale": [
             [
              0,
              "#0d0887"
             ],
             [
              0.1111111111111111,
              "#46039f"
             ],
             [
              0.2222222222222222,
              "#7201a8"
             ],
             [
              0.3333333333333333,
              "#9c179e"
             ],
             [
              0.4444444444444444,
              "#bd3786"
             ],
             [
              0.5555555555555556,
              "#d8576b"
             ],
             [
              0.6666666666666666,
              "#ed7953"
             ],
             [
              0.7777777777777778,
              "#fb9f3a"
             ],
             [
              0.8888888888888888,
              "#fdca26"
             ],
             [
              1,
              "#f0f921"
             ]
            ],
            "type": "surface"
           }
          ],
          "table": [
           {
            "cells": {
             "fill": {
              "color": "#EBF0F8"
             },
             "line": {
              "color": "white"
             }
            },
            "header": {
             "fill": {
              "color": "#C8D4E3"
             },
             "line": {
              "color": "white"
             }
            },
            "type": "table"
           }
          ]
         },
         "layout": {
          "annotationdefaults": {
           "arrowcolor": "#2a3f5f",
           "arrowhead": 0,
           "arrowwidth": 1
          },
          "autotypenumbers": "strict",
          "coloraxis": {
           "colorbar": {
            "outlinewidth": 0,
            "ticks": ""
           }
          },
          "colorscale": {
           "diverging": [
            [
             0,
             "#8e0152"
            ],
            [
             0.1,
             "#c51b7d"
            ],
            [
             0.2,
             "#de77ae"
            ],
            [
             0.3,
             "#f1b6da"
            ],
            [
             0.4,
             "#fde0ef"
            ],
            [
             0.5,
             "#f7f7f7"
            ],
            [
             0.6,
             "#e6f5d0"
            ],
            [
             0.7,
             "#b8e186"
            ],
            [
             0.8,
             "#7fbc41"
            ],
            [
             0.9,
             "#4d9221"
            ],
            [
             1,
             "#276419"
            ]
           ],
           "sequential": [
            [
             0,
             "#0d0887"
            ],
            [
             0.1111111111111111,
             "#46039f"
            ],
            [
             0.2222222222222222,
             "#7201a8"
            ],
            [
             0.3333333333333333,
             "#9c179e"
            ],
            [
             0.4444444444444444,
             "#bd3786"
            ],
            [
             0.5555555555555556,
             "#d8576b"
            ],
            [
             0.6666666666666666,
             "#ed7953"
            ],
            [
             0.7777777777777778,
             "#fb9f3a"
            ],
            [
             0.8888888888888888,
             "#fdca26"
            ],
            [
             1,
             "#f0f921"
            ]
           ],
           "sequentialminus": [
            [
             0,
             "#0d0887"
            ],
            [
             0.1111111111111111,
             "#46039f"
            ],
            [
             0.2222222222222222,
             "#7201a8"
            ],
            [
             0.3333333333333333,
             "#9c179e"
            ],
            [
             0.4444444444444444,
             "#bd3786"
            ],
            [
             0.5555555555555556,
             "#d8576b"
            ],
            [
             0.6666666666666666,
             "#ed7953"
            ],
            [
             0.7777777777777778,
             "#fb9f3a"
            ],
            [
             0.8888888888888888,
             "#fdca26"
            ],
            [
             1,
             "#f0f921"
            ]
           ]
          },
          "colorway": [
           "#636efa",
           "#EF553B",
           "#00cc96",
           "#ab63fa",
           "#FFA15A",
           "#19d3f3",
           "#FF6692",
           "#B6E880",
           "#FF97FF",
           "#FECB52"
          ],
          "font": {
           "color": "#2a3f5f"
          },
          "geo": {
           "bgcolor": "white",
           "lakecolor": "white",
           "landcolor": "#E5ECF6",
           "showlakes": true,
           "showland": true,
           "subunitcolor": "white"
          },
          "hoverlabel": {
           "align": "left"
          },
          "hovermode": "closest",
          "mapbox": {
           "style": "light"
          },
          "paper_bgcolor": "white",
          "plot_bgcolor": "#E5ECF6",
          "polar": {
           "angularaxis": {
            "gridcolor": "white",
            "linecolor": "white",
            "ticks": ""
           },
           "bgcolor": "#E5ECF6",
           "radialaxis": {
            "gridcolor": "white",
            "linecolor": "white",
            "ticks": ""
           }
          },
          "scene": {
           "xaxis": {
            "backgroundcolor": "#E5ECF6",
            "gridcolor": "white",
            "gridwidth": 2,
            "linecolor": "white",
            "showbackground": true,
            "ticks": "",
            "zerolinecolor": "white"
           },
           "yaxis": {
            "backgroundcolor": "#E5ECF6",
            "gridcolor": "white",
            "gridwidth": 2,
            "linecolor": "white",
            "showbackground": true,
            "ticks": "",
            "zerolinecolor": "white"
           },
           "zaxis": {
            "backgroundcolor": "#E5ECF6",
            "gridcolor": "white",
            "gridwidth": 2,
            "linecolor": "white",
            "showbackground": true,
            "ticks": "",
            "zerolinecolor": "white"
           }
          },
          "shapedefaults": {
           "line": {
            "color": "#2a3f5f"
           }
          },
          "ternary": {
           "aaxis": {
            "gridcolor": "white",
            "linecolor": "white",
            "ticks": ""
           },
           "baxis": {
            "gridcolor": "white",
            "linecolor": "white",
            "ticks": ""
           },
           "bgcolor": "#E5ECF6",
           "caxis": {
            "gridcolor": "white",
            "linecolor": "white",
            "ticks": ""
           }
          },
          "title": {
           "x": 0.05
          },
          "xaxis": {
           "automargin": true,
           "gridcolor": "white",
           "linecolor": "white",
           "ticks": "",
           "title": {
            "standoff": 15
           },
           "zerolinecolor": "white",
           "zerolinewidth": 2
          },
          "yaxis": {
           "automargin": true,
           "gridcolor": "white",
           "linecolor": "white",
           "ticks": "",
           "title": {
            "standoff": 15
           },
           "zerolinecolor": "white",
           "zerolinewidth": 2
          }
         }
        },
        "title": {
         "text": "Interactive t-SNE Reduced Embeddings"
        },
        "width": 1000,
        "xaxis": {
         "anchor": "y",
         "domain": [
          0,
          1
         ],
         "title": {
          "text": "TSNE-1"
         }
        },
        "yaxis": {
         "anchor": "x",
         "domain": [
          0,
          1
         ],
         "title": {
          "text": "TSNE-2"
         }
        }
       }
      }
     },
     "metadata": {},
     "output_type": "display_data"
    }
   ],
   "source": [
    "obs = torch.Tensor(np.array(list(display_data[\"obs\"])))\n",
    "labels = [\" \".join(s) for s in list(display_data[\"lang\"])]\n",
    "\n",
    "enc_obs = ll.obs_encoder(obs).detach().numpy()\n",
    "\n",
    "plot_tsne(enc_obs, labels)"
   ]
  },
  {
   "cell_type": "markdown",
   "id": "8c38871c",
   "metadata": {},
   "source": [
    "# Now with trained models\n",
    "\n",
    "Lang in PredPrey_18"
   ]
  },
  {
   "cell_type": "code",
   "execution_count": 7,
   "id": "1ab5a9e7",
   "metadata": {},
   "outputs": [
    {
     "name": "stdout",
     "output_type": "stream",
     "text": [
      "Obs dim = 77, Max message length = 6.\n",
      "WARNING: Argument log_tensorboard not found in config.\n",
      "WARNING: Argument comm_autoencode not found in config.\n"
     ]
    }
   ],
   "source": [
    "import torch\n",
    "\n",
    "from src.utils.config import get_config\n",
    "from src.utils.utils import load_args\n",
    "from src.envs.make_env import make_env\n",
    "from src.algo.lgmarl_diff import LanguageGroundedMARL\n",
    "\n",
    "# Load data\n",
    "df, obs_dim, max_mess_len = load_data(\"../../results/data/lamarl_data/PPrgb_18.csv\")\n",
    "df.head()\n",
    "\n",
    "cfg = get_config().parse_args(\"\")\n",
    "cfg.model_dir = \"../../models/magym_PredPrey_RGB/18s50np_lang_ce0/run1\"\n",
    "cfg.continue_run = True\n",
    "load_args(cfg)\n",
    "\n",
    "# Create model\n",
    "envs, parser = make_env(cfg, 1)\n",
    "n_agents = envs.n_agents\n",
    "obs_space = envs.observation_space\n",
    "shared_obs_space = envs.shared_observation_space\n",
    "act_space = envs.action_space\n",
    "model = LanguageGroundedMARL(\n",
    "    cfg, \n",
    "    n_agents, \n",
    "    obs_space, \n",
    "    shared_obs_space, \n",
    "    act_space,\n",
    "    parser)\n",
    "\n",
    "# Load params\n",
    "pretrained_model_path = cfg.model_dir + \"/model_ep.pt\"\n",
    "model.load(pretrained_model_path)"
   ]
  },
  {
   "cell_type": "code",
   "execution_count": 11,
   "id": "8b9290d1",
   "metadata": {},
   "outputs": [
    {
     "data": {
      "text/html": [
       "<div>\n",
       "<style scoped>\n",
       "    .dataframe tbody tr th:only-of-type {\n",
       "        vertical-align: middle;\n",
       "    }\n",
       "\n",
       "    .dataframe tbody tr th {\n",
       "        vertical-align: top;\n",
       "    }\n",
       "\n",
       "    .dataframe thead th {\n",
       "        text-align: right;\n",
       "    }\n",
       "</style>\n",
       "<table border=\"1\" class=\"dataframe\">\n",
       "  <thead>\n",
       "    <tr style=\"text-align: right;\">\n",
       "      <th></th>\n",
       "      <th>obs</th>\n",
       "      <th>lang</th>\n",
       "    </tr>\n",
       "  </thead>\n",
       "  <tbody>\n",
       "    <tr>\n",
       "      <th>7</th>\n",
       "      <td>[0.7058823529411765, 0.7058823529411765, 0.0, ...</td>\n",
       "      <td>[]</td>\n",
       "    </tr>\n",
       "    <tr>\n",
       "      <th>9</th>\n",
       "      <td>[0.5882352941176471, 0.7058823529411765, 0.0, ...</td>\n",
       "      <td>[]</td>\n",
       "    </tr>\n",
       "    <tr>\n",
       "      <th>19</th>\n",
       "      <td>[0.7058823529411765, 0.6470588235294118, 0.0, ...</td>\n",
       "      <td>[]</td>\n",
       "    </tr>\n",
       "    <tr>\n",
       "      <th>27</th>\n",
       "      <td>[0.7647058823529411, 0.6470588235294118, 0.0, ...</td>\n",
       "      <td>[]</td>\n",
       "    </tr>\n",
       "    <tr>\n",
       "      <th>28</th>\n",
       "      <td>[0.8823529411764706, 0.17647058823529413, 0.0,...</td>\n",
       "      <td>[Prey, South, West]</td>\n",
       "    </tr>\n",
       "    <tr>\n",
       "      <th>...</th>\n",
       "      <td>...</td>\n",
       "      <td>...</td>\n",
       "    </tr>\n",
       "    <tr>\n",
       "      <th>3999987</th>\n",
       "      <td>[1.0, 0.8235294117647058, 0.0, 0.0, 0.0, 0.0, ...</td>\n",
       "      <td>[]</td>\n",
       "    </tr>\n",
       "    <tr>\n",
       "      <th>3999988</th>\n",
       "      <td>[0.47058823529411764, 0.5294117647058824, 0.0,...</td>\n",
       "      <td>[Prey, Center]</td>\n",
       "    </tr>\n",
       "    <tr>\n",
       "      <th>3999991</th>\n",
       "      <td>[1.0, 0.8823529411764706, 0.0, 0.0, 0.0, 0.0, ...</td>\n",
       "      <td>[]</td>\n",
       "    </tr>\n",
       "    <tr>\n",
       "      <th>3999992</th>\n",
       "      <td>[0.47058823529411764, 0.47058823529411764, 0.0...</td>\n",
       "      <td>[Prey, Center]</td>\n",
       "    </tr>\n",
       "    <tr>\n",
       "      <th>3999999</th>\n",
       "      <td>[1.0, 0.9411764705882353, 0.0, 0.0, 0.0, 0.0, ...</td>\n",
       "      <td>[]</td>\n",
       "    </tr>\n",
       "  </tbody>\n",
       "</table>\n",
       "<p>822553 rows × 2 columns</p>\n",
       "</div>"
      ],
      "text/plain": [
       "                                                       obs  \\\n",
       "7        [0.7058823529411765, 0.7058823529411765, 0.0, ...   \n",
       "9        [0.5882352941176471, 0.7058823529411765, 0.0, ...   \n",
       "19       [0.7058823529411765, 0.6470588235294118, 0.0, ...   \n",
       "27       [0.7647058823529411, 0.6470588235294118, 0.0, ...   \n",
       "28       [0.8823529411764706, 0.17647058823529413, 0.0,...   \n",
       "...                                                    ...   \n",
       "3999987  [1.0, 0.8235294117647058, 0.0, 0.0, 0.0, 0.0, ...   \n",
       "3999988  [0.47058823529411764, 0.5294117647058824, 0.0,...   \n",
       "3999991  [1.0, 0.8823529411764706, 0.0, 0.0, 0.0, 0.0, ...   \n",
       "3999992  [0.47058823529411764, 0.47058823529411764, 0.0...   \n",
       "3999999  [1.0, 0.9411764705882353, 0.0, 0.0, 0.0, 0.0, ...   \n",
       "\n",
       "                        lang  \n",
       "7                         []  \n",
       "9                         []  \n",
       "19                        []  \n",
       "27                        []  \n",
       "28       [Prey, South, West]  \n",
       "...                      ...  \n",
       "3999987                   []  \n",
       "3999988       [Prey, Center]  \n",
       "3999991                   []  \n",
       "3999992       [Prey, Center]  \n",
       "3999999                   []  \n",
       "\n",
       "[822553 rows x 2 columns]"
      ]
     },
     "execution_count": 11,
     "metadata": {},
     "output_type": "execute_result"
    }
   ],
   "source": [
    "df"
   ]
  },
  {
   "cell_type": "code",
   "execution_count": 12,
   "id": "6d73a0ad",
   "metadata": {},
   "outputs": [
    {
     "name": "stdout",
     "output_type": "stream",
     "text": [
      "4971\n",
      "(4971, 128)\n"
     ]
    }
   ],
   "source": [
    "eval_data = df.iloc[-5000:]\n",
    "\n",
    "# Remove rows with long messages\n",
    "rids = []\n",
    "for i, row in eval_data.iterrows():\n",
    "    if len(row[\"lang\"]) > 4: # or \"Green\" not in row[\"lang\"]:# or len(row[\"lang\"]) <= 1 or 10 not in row[\"lang\"]:# or 10 not in row[\"lang\"]:\n",
    "        rids.append(i)\n",
    "display_data = eval_data.drop(rids)\n",
    "print(len(display_data))\n",
    "\n",
    "obs = torch.Tensor(np.array(list(display_data[\"obs\"])))\n",
    "labels = [\" \".join(s) for s in list(display_data[\"lang\"])]\n",
    "\n",
    "enc_obs = model.model.agents[0].obs_in(obs).detach().numpy()\n",
    "print(enc_obs.shape)"
   ]
  },
  {
   "cell_type": "code",
   "execution_count": 13,
   "id": "b6bf759d",
   "metadata": {},
   "outputs": [
    {
     "data": {
      "application/vnd.plotly.v1+json": {
       "config": {
        "plotlyServerURL": "https://plot.ly"
       },
       "data": [
        {
         "customdata": [
          [
           ""
          ],
          [
           ""
          ],
          [
           ""
          ],
          [
           ""
          ],
          [
           ""
          ],
          [
           ""
          ],
          [
           ""
          ],
          [
           ""
          ],
          [
           ""
          ],
          [
           ""
          ],
          [
           ""
          ],
          [
           ""
          ],
          [
           ""
          ],
          [
           ""
          ],
          [
           ""
          ],
          [
           ""
          ],
          [
           ""
          ],
          [
           ""
          ],
          [
           ""
          ],
          [
           ""
          ],
          [
           ""
          ],
          [
           ""
          ],
          [
           ""
          ],
          [
           ""
          ],
          [
           ""
          ],
          [
           ""
          ],
          [
           ""
          ],
          [
           ""
          ],
          [
           ""
          ],
          [
           ""
          ],
          [
           ""
          ],
          [
           ""
          ],
          [
           ""
          ],
          [
           ""
          ],
          [
           ""
          ],
          [
           ""
          ],
          [
           ""
          ],
          [
           ""
          ],
          [
           ""
          ],
          [
           ""
          ],
          [
           ""
          ],
          [
           ""
          ],
          [
           ""
          ],
          [
           ""
          ],
          [
           ""
          ],
          [
           ""
          ],
          [
           ""
          ],
          [
           ""
          ],
          [
           ""
          ],
          [
           ""
          ],
          [
           ""
          ],
          [
           ""
          ],
          [
           ""
          ],
          [
           ""
          ],
          [
           ""
          ],
          [
           ""
          ],
          [
           ""
          ],
          [
           ""
          ],
          [
           ""
          ],
          [
           ""
          ],
          [
           ""
          ],
          [
           ""
          ],
          [
           ""
          ],
          [
           ""
          ],
          [
           ""
          ],
          [
           ""
          ],
          [
           ""
          ],
          [
           ""
          ],
          [
           ""
          ],
          [
           ""
          ],
          [
           ""
          ],
          [
           ""
          ],
          [
           ""
          ],
          [
           ""
          ],
          [
           ""
          ],
          [
           ""
          ],
          [
           ""
          ],
          [
           ""
          ],
          [
           ""
          ],
          [
           ""
          ],
          [
           ""
          ],
          [
           ""
          ],
          [
           ""
          ],
          [
           ""
          ],
          [
           ""
          ],
          [
           ""
          ],
          [
           ""
          ],
          [
           ""
          ],
          [
           ""
          ],
          [
           ""
          ],
          [
           ""
          ],
          [
           ""
          ],
          [
           ""
          ],
          [
           ""
          ],
          [
           ""
          ],
          [
           ""
          ],
          [
           ""
          ],
          [
           ""
          ],
          [
           ""
          ],
          [
           ""
          ],
          [
           ""
          ],
          [
           ""
          ],
          [
           ""
          ],
          [
           ""
          ],
          [
           ""
          ],
          [
           ""
          ],
          [
           ""
          ],
          [
           ""
          ],
          [
           ""
          ],
          [
           ""
          ],
          [
           ""
          ],
          [
           ""
          ],
          [
           ""
          ],
          [
           ""
          ],
          [
           ""
          ],
          [
           ""
          ],
          [
           ""
          ],
          [
           ""
          ],
          [
           ""
          ],
          [
           ""
          ],
          [
           ""
          ],
          [
           ""
          ],
          [
           ""
          ],
          [
           ""
          ],
          [
           ""
          ],
          [
           ""
          ],
          [
           ""
          ],
          [
           ""
          ],
          [
           ""
          ],
          [
           ""
          ],
          [
           ""
          ],
          [
           ""
          ],
          [
           ""
          ],
          [
           ""
          ],
          [
           ""
          ],
          [
           ""
          ],
          [
           ""
          ],
          [
           ""
          ],
          [
           ""
          ],
          [
           ""
          ],
          [
           ""
          ],
          [
           ""
          ],
          [
           ""
          ],
          [
           ""
          ],
          [
           ""
          ],
          [
           ""
          ],
          [
           ""
          ],
          [
           ""
          ],
          [
           ""
          ],
          [
           ""
          ],
          [
           ""
          ],
          [
           ""
          ],
          [
           ""
          ],
          [
           ""
          ],
          [
           ""
          ],
          [
           ""
          ],
          [
           ""
          ],
          [
           ""
          ],
          [
           ""
          ],
          [
           ""
          ],
          [
           ""
          ],
          [
           ""
          ],
          [
           ""
          ],
          [
           ""
          ],
          [
           ""
          ],
          [
           ""
          ],
          [
           ""
          ],
          [
           ""
          ],
          [
           ""
          ],
          [
           ""
          ],
          [
           ""
          ],
          [
           ""
          ],
          [
           ""
          ],
          [
           ""
          ],
          [
           ""
          ],
          [
           ""
          ],
          [
           ""
          ],
          [
           ""
          ],
          [
           ""
          ],
          [
           ""
          ],
          [
           ""
          ],
          [
           ""
          ],
          [
           ""
          ],
          [
           ""
          ],
          [
           ""
          ],
          [
           ""
          ],
          [
           ""
          ],
          [
           ""
          ],
          [
           ""
          ],
          [
           ""
          ],
          [
           ""
          ],
          [
           ""
          ],
          [
           ""
          ],
          [
           ""
          ],
          [
           ""
          ],
          [
           ""
          ],
          [
           ""
          ],
          [
           ""
          ],
          [
           ""
          ],
          [
           ""
          ],
          [
           ""
          ],
          [
           ""
          ],
          [
           ""
          ],
          [
           ""
          ],
          [
           ""
          ],
          [
           ""
          ],
          [
           ""
          ],
          [
           ""
          ],
          [
           ""
          ],
          [
           ""
          ],
          [
           ""
          ],
          [
           ""
          ],
          [
           ""
          ],
          [
           ""
          ],
          [
           ""
          ],
          [
           ""
          ],
          [
           ""
          ],
          [
           ""
          ],
          [
           ""
          ],
          [
           ""
          ],
          [
           ""
          ],
          [
           ""
          ],
          [
           ""
          ],
          [
           ""
          ],
          [
           ""
          ],
          [
           ""
          ],
          [
           ""
          ],
          [
           ""
          ],
          [
           ""
          ],
          [
           ""
          ],
          [
           ""
          ],
          [
           ""
          ],
          [
           ""
          ],
          [
           ""
          ],
          [
           ""
          ],
          [
           ""
          ],
          [
           ""
          ],
          [
           ""
          ],
          [
           ""
          ],
          [
           ""
          ],
          [
           ""
          ],
          [
           ""
          ],
          [
           ""
          ],
          [
           ""
          ],
          [
           ""
          ],
          [
           ""
          ],
          [
           ""
          ],
          [
           ""
          ],
          [
           ""
          ],
          [
           ""
          ],
          [
           ""
          ],
          [
           ""
          ],
          [
           ""
          ],
          [
           ""
          ],
          [
           ""
          ],
          [
           ""
          ],
          [
           ""
          ],
          [
           ""
          ],
          [
           ""
          ],
          [
           ""
          ],
          [
           ""
          ],
          [
           ""
          ],
          [
           ""
          ],
          [
           ""
          ],
          [
           ""
          ],
          [
           ""
          ],
          [
           ""
          ],
          [
           ""
          ],
          [
           ""
          ],
          [
           ""
          ],
          [
           ""
          ],
          [
           ""
          ],
          [
           ""
          ],
          [
           ""
          ],
          [
           ""
          ],
          [
           ""
          ],
          [
           ""
          ],
          [
           ""
          ],
          [
           ""
          ],
          [
           ""
          ],
          [
           ""
          ],
          [
           ""
          ],
          [
           ""
          ],
          [
           ""
          ],
          [
           ""
          ],
          [
           ""
          ],
          [
           ""
          ],
          [
           ""
          ],
          [
           ""
          ],
          [
           ""
          ],
          [
           ""
          ],
          [
           ""
          ],
          [
           ""
          ],
          [
           ""
          ],
          [
           ""
          ],
          [
           ""
          ],
          [
           ""
          ],
          [
           ""
          ],
          [
           ""
          ],
          [
           ""
          ],
          [
           ""
          ],
          [
           ""
          ],
          [
           ""
          ],
          [
           ""
          ],
          [
           ""
          ],
          [
           ""
          ],
          [
           ""
          ],
          [
           ""
          ],
          [
           ""
          ],
          [
           ""
          ],
          [
           ""
          ],
          [
           ""
          ],
          [
           ""
          ],
          [
           ""
          ],
          [
           ""
          ],
          [
           ""
          ],
          [
           ""
          ],
          [
           ""
          ],
          [
           ""
          ],
          [
           ""
          ],
          [
           ""
          ],
          [
           ""
          ],
          [
           ""
          ],
          [
           ""
          ],
          [
           ""
          ],
          [
           ""
          ],
          [
           ""
          ],
          [
           ""
          ],
          [
           ""
          ],
          [
           ""
          ],
          [
           ""
          ],
          [
           ""
          ],
          [
           ""
          ],
          [
           ""
          ],
          [
           ""
          ],
          [
           ""
          ],
          [
           ""
          ],
          [
           ""
          ],
          [
           ""
          ],
          [
           ""
          ],
          [
           ""
          ],
          [
           ""
          ],
          [
           ""
          ],
          [
           ""
          ],
          [
           ""
          ],
          [
           ""
          ],
          [
           ""
          ],
          [
           ""
          ],
          [
           ""
          ],
          [
           ""
          ],
          [
           ""
          ],
          [
           ""
          ],
          [
           ""
          ],
          [
           ""
          ],
          [
           ""
          ],
          [
           ""
          ],
          [
           ""
          ],
          [
           ""
          ],
          [
           ""
          ],
          [
           ""
          ],
          [
           ""
          ],
          [
           ""
          ],
          [
           ""
          ],
          [
           ""
          ],
          [
           ""
          ],
          [
           ""
          ],
          [
           ""
          ],
          [
           ""
          ],
          [
           ""
          ],
          [
           ""
          ],
          [
           ""
          ],
          [
           ""
          ],
          [
           ""
          ],
          [
           ""
          ],
          [
           ""
          ],
          [
           ""
          ],
          [
           ""
          ],
          [
           ""
          ],
          [
           ""
          ],
          [
           ""
          ],
          [
           ""
          ],
          [
           ""
          ],
          [
           ""
          ],
          [
           ""
          ],
          [
           ""
          ],
          [
           ""
          ],
          [
           ""
          ],
          [
           ""
          ],
          [
           ""
          ],
          [
           ""
          ],
          [
           ""
          ],
          [
           ""
          ],
          [
           ""
          ],
          [
           ""
          ],
          [
           ""
          ],
          [
           ""
          ],
          [
           ""
          ],
          [
           ""
          ],
          [
           ""
          ],
          [
           ""
          ],
          [
           ""
          ],
          [
           ""
          ],
          [
           ""
          ],
          [
           ""
          ],
          [
           ""
          ],
          [
           ""
          ],
          [
           ""
          ],
          [
           ""
          ],
          [
           ""
          ],
          [
           ""
          ],
          [
           ""
          ],
          [
           ""
          ],
          [
           ""
          ],
          [
           ""
          ],
          [
           ""
          ],
          [
           ""
          ],
          [
           ""
          ],
          [
           ""
          ],
          [
           ""
          ],
          [
           ""
          ],
          [
           ""
          ],
          [
           ""
          ],
          [
           ""
          ],
          [
           ""
          ],
          [
           ""
          ],
          [
           ""
          ],
          [
           ""
          ],
          [
           ""
          ],
          [
           ""
          ],
          [
           ""
          ],
          [
           ""
          ],
          [
           ""
          ],
          [
           ""
          ],
          [
           ""
          ],
          [
           ""
          ],
          [
           ""
          ],
          [
           ""
          ],
          [
           ""
          ],
          [
           ""
          ],
          [
           ""
          ],
          [
           ""
          ],
          [
           ""
          ],
          [
           ""
          ],
          [
           ""
          ],
          [
           ""
          ],
          [
           ""
          ],
          [
           ""
          ],
          [
           ""
          ],
          [
           ""
          ],
          [
           ""
          ],
          [
           ""
          ],
          [
           ""
          ],
          [
           ""
          ],
          [
           ""
          ],
          [
           ""
          ],
          [
           ""
          ],
          [
           ""
          ],
          [
           ""
          ],
          [
           ""
          ],
          [
           ""
          ],
          [
           ""
          ],
          [
           ""
          ],
          [
           ""
          ],
          [
           ""
          ],
          [
           ""
          ],
          [
           ""
          ],
          [
           ""
          ],
          [
           ""
          ],
          [
           ""
          ],
          [
           ""
          ],
          [
           ""
          ],
          [
           ""
          ],
          [
           ""
          ],
          [
           ""
          ],
          [
           ""
          ],
          [
           ""
          ],
          [
           ""
          ],
          [
           ""
          ],
          [
           ""
          ],
          [
           ""
          ],
          [
           ""
          ],
          [
           ""
          ],
          [
           ""
          ],
          [
           ""
          ],
          [
           ""
          ],
          [
           ""
          ],
          [
           ""
          ],
          [
           ""
          ],
          [
           ""
          ],
          [
           ""
          ],
          [
           ""
          ],
          [
           ""
          ],
          [
           ""
          ],
          [
           ""
          ],
          [
           ""
          ],
          [
           ""
          ],
          [
           ""
          ],
          [
           ""
          ],
          [
           ""
          ],
          [
           ""
          ],
          [
           ""
          ],
          [
           ""
          ],
          [
           ""
          ],
          [
           ""
          ],
          [
           ""
          ],
          [
           ""
          ],
          [
           ""
          ],
          [
           ""
          ],
          [
           ""
          ],
          [
           ""
          ],
          [
           ""
          ],
          [
           ""
          ],
          [
           ""
          ],
          [
           ""
          ],
          [
           ""
          ],
          [
           ""
          ],
          [
           ""
          ],
          [
           ""
          ],
          [
           ""
          ],
          [
           ""
          ],
          [
           ""
          ],
          [
           ""
          ],
          [
           ""
          ],
          [
           ""
          ],
          [
           ""
          ],
          [
           ""
          ],
          [
           ""
          ],
          [
           ""
          ],
          [
           ""
          ],
          [
           ""
          ],
          [
           ""
          ],
          [
           ""
          ],
          [
           ""
          ],
          [
           ""
          ],
          [
           ""
          ],
          [
           ""
          ],
          [
           ""
          ],
          [
           ""
          ],
          [
           ""
          ],
          [
           ""
          ],
          [
           ""
          ],
          [
           ""
          ],
          [
           ""
          ],
          [
           ""
          ],
          [
           ""
          ],
          [
           ""
          ],
          [
           ""
          ],
          [
           ""
          ],
          [
           ""
          ],
          [
           ""
          ],
          [
           ""
          ],
          [
           ""
          ],
          [
           ""
          ],
          [
           ""
          ],
          [
           ""
          ],
          [
           ""
          ],
          [
           ""
          ],
          [
           ""
          ],
          [
           ""
          ],
          [
           ""
          ],
          [
           ""
          ],
          [
           ""
          ],
          [
           ""
          ],
          [
           ""
          ],
          [
           ""
          ],
          [
           ""
          ],
          [
           ""
          ],
          [
           ""
          ],
          [
           ""
          ],
          [
           ""
          ],
          [
           ""
          ],
          [
           ""
          ],
          [
           ""
          ],
          [
           ""
          ],
          [
           ""
          ],
          [
           ""
          ],
          [
           ""
          ],
          [
           ""
          ],
          [
           ""
          ],
          [
           ""
          ],
          [
           ""
          ],
          [
           ""
          ],
          [
           ""
          ],
          [
           ""
          ],
          [
           ""
          ],
          [
           ""
          ],
          [
           ""
          ],
          [
           ""
          ],
          [
           ""
          ],
          [
           ""
          ],
          [
           ""
          ],
          [
           ""
          ],
          [
           ""
          ],
          [
           ""
          ],
          [
           ""
          ],
          [
           ""
          ],
          [
           ""
          ],
          [
           ""
          ],
          [
           ""
          ],
          [
           ""
          ],
          [
           ""
          ],
          [
           ""
          ],
          [
           ""
          ],
          [
           ""
          ],
          [
           ""
          ],
          [
           ""
          ],
          [
           ""
          ],
          [
           ""
          ],
          [
           ""
          ],
          [
           ""
          ],
          [
           ""
          ],
          [
           ""
          ],
          [
           ""
          ],
          [
           ""
          ],
          [
           ""
          ],
          [
           ""
          ],
          [
           ""
          ],
          [
           ""
          ],
          [
           ""
          ],
          [
           ""
          ],
          [
           ""
          ],
          [
           ""
          ],
          [
           ""
          ],
          [
           ""
          ],
          [
           ""
          ],
          [
           ""
          ],
          [
           ""
          ],
          [
           ""
          ],
          [
           ""
          ],
          [
           ""
          ],
          [
           ""
          ],
          [
           ""
          ],
          [
           ""
          ],
          [
           ""
          ],
          [
           ""
          ],
          [
           ""
          ],
          [
           ""
          ],
          [
           ""
          ],
          [
           ""
          ],
          [
           ""
          ],
          [
           ""
          ],
          [
           ""
          ],
          [
           ""
          ],
          [
           ""
          ],
          [
           ""
          ],
          [
           ""
          ],
          [
           ""
          ],
          [
           ""
          ],
          [
           ""
          ],
          [
           ""
          ],
          [
           ""
          ],
          [
           ""
          ],
          [
           ""
          ],
          [
           ""
          ],
          [
           ""
          ],
          [
           ""
          ],
          [
           ""
          ],
          [
           ""
          ],
          [
           ""
          ],
          [
           ""
          ],
          [
           ""
          ],
          [
           ""
          ],
          [
           ""
          ],
          [
           ""
          ],
          [
           ""
          ],
          [
           ""
          ],
          [
           ""
          ],
          [
           ""
          ],
          [
           ""
          ],
          [
           ""
          ],
          [
           ""
          ],
          [
           ""
          ],
          [
           ""
          ],
          [
           ""
          ],
          [
           ""
          ],
          [
           ""
          ],
          [
           ""
          ],
          [
           ""
          ],
          [
           ""
          ],
          [
           ""
          ],
          [
           ""
          ],
          [
           ""
          ],
          [
           ""
          ],
          [
           ""
          ],
          [
           ""
          ],
          [
           ""
          ],
          [
           ""
          ],
          [
           ""
          ],
          [
           ""
          ],
          [
           ""
          ],
          [
           ""
          ],
          [
           ""
          ],
          [
           ""
          ],
          [
           ""
          ],
          [
           ""
          ],
          [
           ""
          ],
          [
           ""
          ],
          [
           ""
          ],
          [
           ""
          ],
          [
           ""
          ],
          [
           ""
          ],
          [
           ""
          ],
          [
           ""
          ],
          [
           ""
          ],
          [
           ""
          ],
          [
           ""
          ],
          [
           ""
          ],
          [
           ""
          ],
          [
           ""
          ],
          [
           ""
          ],
          [
           ""
          ],
          [
           ""
          ],
          [
           ""
          ],
          [
           ""
          ],
          [
           ""
          ],
          [
           ""
          ],
          [
           ""
          ],
          [
           ""
          ],
          [
           ""
          ],
          [
           ""
          ],
          [
           ""
          ],
          [
           ""
          ],
          [
           ""
          ],
          [
           ""
          ],
          [
           ""
          ],
          [
           ""
          ],
          [
           ""
          ],
          [
           ""
          ],
          [
           ""
          ],
          [
           ""
          ],
          [
           ""
          ],
          [
           ""
          ],
          [
           ""
          ],
          [
           ""
          ],
          [
           ""
          ],
          [
           ""
          ],
          [
           ""
          ],
          [
           ""
          ],
          [
           ""
          ],
          [
           ""
          ],
          [
           ""
          ],
          [
           ""
          ],
          [
           ""
          ],
          [
           ""
          ],
          [
           ""
          ],
          [
           ""
          ],
          [
           ""
          ],
          [
           ""
          ],
          [
           ""
          ],
          [
           ""
          ],
          [
           ""
          ],
          [
           ""
          ],
          [
           ""
          ],
          [
           ""
          ],
          [
           ""
          ],
          [
           ""
          ],
          [
           ""
          ],
          [
           ""
          ],
          [
           ""
          ],
          [
           ""
          ],
          [
           ""
          ],
          [
           ""
          ],
          [
           ""
          ],
          [
           ""
          ],
          [
           ""
          ],
          [
           ""
          ],
          [
           ""
          ],
          [
           ""
          ],
          [
           ""
          ],
          [
           ""
          ],
          [
           ""
          ],
          [
           ""
          ],
          [
           ""
          ],
          [
           ""
          ],
          [
           ""
          ],
          [
           ""
          ],
          [
           ""
          ],
          [
           ""
          ],
          [
           ""
          ],
          [
           ""
          ],
          [
           ""
          ],
          [
           ""
          ],
          [
           ""
          ],
          [
           ""
          ],
          [
           ""
          ],
          [
           ""
          ],
          [
           ""
          ],
          [
           ""
          ],
          [
           ""
          ],
          [
           ""
          ],
          [
           ""
          ],
          [
           ""
          ],
          [
           ""
          ],
          [
           ""
          ],
          [
           ""
          ],
          [
           ""
          ],
          [
           ""
          ],
          [
           ""
          ],
          [
           ""
          ],
          [
           ""
          ],
          [
           ""
          ],
          [
           ""
          ],
          [
           ""
          ],
          [
           ""
          ],
          [
           ""
          ],
          [
           ""
          ],
          [
           ""
          ],
          [
           ""
          ],
          [
           ""
          ],
          [
           ""
          ],
          [
           ""
          ],
          [
           ""
          ],
          [
           ""
          ],
          [
           ""
          ],
          [
           ""
          ],
          [
           ""
          ],
          [
           ""
          ],
          [
           ""
          ],
          [
           ""
          ],
          [
           ""
          ],
          [
           ""
          ],
          [
           ""
          ],
          [
           ""
          ],
          [
           ""
          ],
          [
           ""
          ],
          [
           ""
          ],
          [
           ""
          ],
          [
           ""
          ],
          [
           ""
          ],
          [
           ""
          ],
          [
           ""
          ],
          [
           ""
          ],
          [
           ""
          ],
          [
           ""
          ],
          [
           ""
          ],
          [
           ""
          ],
          [
           ""
          ],
          [
           ""
          ],
          [
           ""
          ],
          [
           ""
          ],
          [
           ""
          ],
          [
           ""
          ],
          [
           ""
          ],
          [
           ""
          ],
          [
           ""
          ],
          [
           ""
          ],
          [
           ""
          ],
          [
           ""
          ],
          [
           ""
          ],
          [
           ""
          ],
          [
           ""
          ],
          [
           ""
          ],
          [
           ""
          ],
          [
           ""
          ],
          [
           ""
          ],
          [
           ""
          ],
          [
           ""
          ],
          [
           ""
          ],
          [
           ""
          ],
          [
           ""
          ],
          [
           ""
          ],
          [
           ""
          ],
          [
           ""
          ],
          [
           ""
          ],
          [
           ""
          ],
          [
           ""
          ],
          [
           ""
          ],
          [
           ""
          ],
          [
           ""
          ],
          [
           ""
          ],
          [
           ""
          ],
          [
           ""
          ],
          [
           ""
          ],
          [
           ""
          ],
          [
           ""
          ],
          [
           ""
          ],
          [
           ""
          ],
          [
           ""
          ],
          [
           ""
          ],
          [
           ""
          ],
          [
           ""
          ],
          [
           ""
          ],
          [
           ""
          ],
          [
           ""
          ],
          [
           ""
          ],
          [
           ""
          ],
          [
           ""
          ],
          [
           ""
          ],
          [
           ""
          ],
          [
           ""
          ],
          [
           ""
          ],
          [
           ""
          ],
          [
           ""
          ],
          [
           ""
          ],
          [
           ""
          ],
          [
           ""
          ],
          [
           ""
          ],
          [
           ""
          ],
          [
           ""
          ],
          [
           ""
          ],
          [
           ""
          ],
          [
           ""
          ],
          [
           ""
          ],
          [
           ""
          ],
          [
           ""
          ],
          [
           ""
          ],
          [
           ""
          ],
          [
           ""
          ],
          [
           ""
          ],
          [
           ""
          ],
          [
           ""
          ],
          [
           ""
          ],
          [
           ""
          ],
          [
           ""
          ],
          [
           ""
          ],
          [
           ""
          ],
          [
           ""
          ],
          [
           ""
          ],
          [
           ""
          ],
          [
           ""
          ],
          [
           ""
          ],
          [
           ""
          ],
          [
           ""
          ],
          [
           ""
          ],
          [
           ""
          ],
          [
           ""
          ],
          [
           ""
          ],
          [
           ""
          ],
          [
           ""
          ],
          [
           ""
          ],
          [
           ""
          ],
          [
           ""
          ],
          [
           ""
          ],
          [
           ""
          ],
          [
           ""
          ],
          [
           ""
          ],
          [
           ""
          ],
          [
           ""
          ],
          [
           ""
          ],
          [
           ""
          ],
          [
           ""
          ],
          [
           ""
          ],
          [
           ""
          ],
          [
           ""
          ],
          [
           ""
          ],
          [
           ""
          ],
          [
           ""
          ],
          [
           ""
          ],
          [
           ""
          ],
          [
           ""
          ],
          [
           ""
          ],
          [
           ""
          ],
          [
           ""
          ],
          [
           ""
          ],
          [
           ""
          ],
          [
           ""
          ],
          [
           ""
          ],
          [
           ""
          ],
          [
           ""
          ],
          [
           ""
          ],
          [
           ""
          ],
          [
           ""
          ],
          [
           ""
          ],
          [
           ""
          ],
          [
           ""
          ],
          [
           ""
          ],
          [
           ""
          ],
          [
           ""
          ],
          [
           ""
          ],
          [
           ""
          ],
          [
           ""
          ],
          [
           ""
          ],
          [
           ""
          ],
          [
           ""
          ],
          [
           ""
          ],
          [
           ""
          ],
          [
           ""
          ],
          [
           ""
          ],
          [
           ""
          ],
          [
           ""
          ],
          [
           ""
          ],
          [
           ""
          ],
          [
           ""
          ],
          [
           ""
          ],
          [
           ""
          ],
          [
           ""
          ],
          [
           ""
          ],
          [
           ""
          ],
          [
           ""
          ],
          [
           ""
          ],
          [
           ""
          ],
          [
           ""
          ],
          [
           ""
          ],
          [
           ""
          ],
          [
           ""
          ],
          [
           ""
          ],
          [
           ""
          ],
          [
           ""
          ],
          [
           ""
          ],
          [
           ""
          ],
          [
           ""
          ],
          [
           ""
          ],
          [
           ""
          ],
          [
           ""
          ],
          [
           ""
          ],
          [
           ""
          ],
          [
           ""
          ],
          [
           ""
          ],
          [
           ""
          ],
          [
           ""
          ],
          [
           ""
          ],
          [
           ""
          ],
          [
           ""
          ],
          [
           ""
          ],
          [
           ""
          ],
          [
           ""
          ],
          [
           ""
          ],
          [
           ""
          ],
          [
           ""
          ],
          [
           ""
          ],
          [
           ""
          ],
          [
           ""
          ],
          [
           ""
          ],
          [
           ""
          ],
          [
           ""
          ],
          [
           ""
          ],
          [
           ""
          ],
          [
           ""
          ],
          [
           ""
          ],
          [
           ""
          ],
          [
           ""
          ],
          [
           ""
          ],
          [
           ""
          ],
          [
           ""
          ],
          [
           ""
          ],
          [
           ""
          ],
          [
           ""
          ],
          [
           ""
          ],
          [
           ""
          ],
          [
           ""
          ],
          [
           ""
          ],
          [
           ""
          ],
          [
           ""
          ],
          [
           ""
          ],
          [
           ""
          ],
          [
           ""
          ],
          [
           ""
          ],
          [
           ""
          ],
          [
           ""
          ],
          [
           ""
          ],
          [
           ""
          ],
          [
           ""
          ],
          [
           ""
          ],
          [
           ""
          ],
          [
           ""
          ],
          [
           ""
          ],
          [
           ""
          ],
          [
           ""
          ],
          [
           ""
          ],
          [
           ""
          ],
          [
           ""
          ],
          [
           ""
          ],
          [
           ""
          ],
          [
           ""
          ],
          [
           ""
          ],
          [
           ""
          ],
          [
           ""
          ],
          [
           ""
          ],
          [
           ""
          ],
          [
           ""
          ],
          [
           ""
          ],
          [
           ""
          ],
          [
           ""
          ],
          [
           ""
          ],
          [
           ""
          ],
          [
           ""
          ],
          [
           ""
          ],
          [
           ""
          ],
          [
           ""
          ],
          [
           ""
          ],
          [
           ""
          ],
          [
           ""
          ],
          [
           ""
          ],
          [
           ""
          ],
          [
           ""
          ],
          [
           ""
          ],
          [
           ""
          ],
          [
           ""
          ],
          [
           ""
          ],
          [
           ""
          ],
          [
           ""
          ],
          [
           ""
          ],
          [
           ""
          ],
          [
           ""
          ],
          [
           ""
          ],
          [
           ""
          ],
          [
           ""
          ],
          [
           ""
          ],
          [
           ""
          ],
          [
           ""
          ],
          [
           ""
          ],
          [
           ""
          ],
          [
           ""
          ],
          [
           ""
          ],
          [
           ""
          ],
          [
           ""
          ],
          [
           ""
          ],
          [
           ""
          ],
          [
           ""
          ],
          [
           ""
          ],
          [
           ""
          ],
          [
           ""
          ],
          [
           ""
          ],
          [
           ""
          ],
          [
           ""
          ],
          [
           ""
          ],
          [
           ""
          ],
          [
           ""
          ],
          [
           ""
          ],
          [
           ""
          ],
          [
           ""
          ],
          [
           ""
          ],
          [
           ""
          ],
          [
           ""
          ],
          [
           ""
          ],
          [
           ""
          ],
          [
           ""
          ],
          [
           ""
          ],
          [
           ""
          ],
          [
           ""
          ],
          [
           ""
          ],
          [
           ""
          ],
          [
           ""
          ],
          [
           ""
          ],
          [
           ""
          ],
          [
           ""
          ],
          [
           ""
          ],
          [
           ""
          ],
          [
           ""
          ],
          [
           ""
          ],
          [
           ""
          ],
          [
           ""
          ],
          [
           ""
          ],
          [
           ""
          ],
          [
           ""
          ],
          [
           ""
          ],
          [
           ""
          ],
          [
           ""
          ],
          [
           ""
          ],
          [
           ""
          ],
          [
           ""
          ],
          [
           ""
          ],
          [
           ""
          ],
          [
           ""
          ],
          [
           ""
          ],
          [
           ""
          ],
          [
           ""
          ],
          [
           ""
          ],
          [
           ""
          ],
          [
           ""
          ],
          [
           ""
          ],
          [
           ""
          ],
          [
           ""
          ],
          [
           ""
          ],
          [
           ""
          ],
          [
           ""
          ],
          [
           ""
          ],
          [
           ""
          ],
          [
           ""
          ],
          [
           ""
          ],
          [
           ""
          ],
          [
           ""
          ],
          [
           ""
          ],
          [
           ""
          ],
          [
           ""
          ],
          [
           ""
          ],
          [
           ""
          ],
          [
           ""
          ],
          [
           ""
          ],
          [
           ""
          ],
          [
           ""
          ],
          [
           ""
          ],
          [
           ""
          ],
          [
           ""
          ],
          [
           ""
          ],
          [
           ""
          ],
          [
           ""
          ],
          [
           ""
          ],
          [
           ""
          ],
          [
           ""
          ],
          [
           ""
          ],
          [
           ""
          ],
          [
           ""
          ],
          [
           ""
          ],
          [
           ""
          ],
          [
           ""
          ],
          [
           ""
          ],
          [
           ""
          ],
          [
           ""
          ],
          [
           ""
          ],
          [
           ""
          ],
          [
           ""
          ],
          [
           ""
          ],
          [
           ""
          ],
          [
           ""
          ],
          [
           ""
          ],
          [
           ""
          ],
          [
           ""
          ],
          [
           ""
          ],
          [
           ""
          ],
          [
           ""
          ],
          [
           ""
          ],
          [
           ""
          ],
          [
           ""
          ],
          [
           ""
          ],
          [
           ""
          ],
          [
           ""
          ],
          [
           ""
          ],
          [
           ""
          ],
          [
           ""
          ],
          [
           ""
          ],
          [
           ""
          ],
          [
           ""
          ],
          [
           ""
          ],
          [
           ""
          ],
          [
           ""
          ],
          [
           ""
          ],
          [
           ""
          ],
          [
           ""
          ],
          [
           ""
          ],
          [
           ""
          ],
          [
           ""
          ],
          [
           ""
          ],
          [
           ""
          ],
          [
           ""
          ],
          [
           ""
          ],
          [
           ""
          ],
          [
           ""
          ],
          [
           ""
          ],
          [
           ""
          ],
          [
           ""
          ],
          [
           ""
          ],
          [
           ""
          ],
          [
           ""
          ],
          [
           ""
          ],
          [
           ""
          ],
          [
           ""
          ],
          [
           ""
          ],
          [
           ""
          ],
          [
           ""
          ],
          [
           ""
          ],
          [
           ""
          ],
          [
           ""
          ],
          [
           ""
          ],
          [
           ""
          ],
          [
           ""
          ],
          [
           ""
          ],
          [
           ""
          ],
          [
           ""
          ],
          [
           ""
          ],
          [
           ""
          ],
          [
           ""
          ],
          [
           ""
          ],
          [
           ""
          ],
          [
           ""
          ],
          [
           ""
          ],
          [
           ""
          ],
          [
           ""
          ],
          [
           ""
          ],
          [
           ""
          ],
          [
           ""
          ],
          [
           ""
          ],
          [
           ""
          ],
          [
           ""
          ],
          [
           ""
          ],
          [
           ""
          ],
          [
           ""
          ],
          [
           ""
          ],
          [
           ""
          ],
          [
           ""
          ],
          [
           ""
          ],
          [
           ""
          ],
          [
           ""
          ],
          [
           ""
          ],
          [
           ""
          ],
          [
           ""
          ],
          [
           ""
          ],
          [
           ""
          ],
          [
           ""
          ],
          [
           ""
          ],
          [
           ""
          ],
          [
           ""
          ],
          [
           ""
          ],
          [
           ""
          ],
          [
           ""
          ],
          [
           ""
          ],
          [
           ""
          ],
          [
           ""
          ],
          [
           ""
          ],
          [
           ""
          ],
          [
           ""
          ],
          [
           ""
          ],
          [
           ""
          ],
          [
           ""
          ],
          [
           ""
          ],
          [
           ""
          ],
          [
           ""
          ],
          [
           ""
          ],
          [
           ""
          ],
          [
           ""
          ],
          [
           ""
          ],
          [
           ""
          ],
          [
           ""
          ],
          [
           ""
          ],
          [
           ""
          ],
          [
           ""
          ],
          [
           ""
          ],
          [
           ""
          ],
          [
           ""
          ],
          [
           ""
          ],
          [
           ""
          ],
          [
           ""
          ],
          [
           ""
          ],
          [
           ""
          ],
          [
           ""
          ],
          [
           ""
          ],
          [
           ""
          ],
          [
           ""
          ],
          [
           ""
          ],
          [
           ""
          ],
          [
           ""
          ],
          [
           ""
          ],
          [
           ""
          ],
          [
           ""
          ],
          [
           ""
          ],
          [
           ""
          ],
          [
           ""
          ],
          [
           ""
          ],
          [
           ""
          ],
          [
           ""
          ],
          [
           ""
          ],
          [
           ""
          ],
          [
           ""
          ],
          [
           ""
          ],
          [
           ""
          ],
          [
           ""
          ],
          [
           ""
          ],
          [
           ""
          ],
          [
           ""
          ],
          [
           ""
          ],
          [
           ""
          ],
          [
           ""
          ],
          [
           ""
          ],
          [
           ""
          ],
          [
           ""
          ],
          [
           ""
          ],
          [
           ""
          ],
          [
           ""
          ],
          [
           ""
          ],
          [
           ""
          ],
          [
           ""
          ],
          [
           ""
          ],
          [
           ""
          ],
          [
           ""
          ],
          [
           ""
          ],
          [
           ""
          ],
          [
           ""
          ],
          [
           ""
          ],
          [
           ""
          ],
          [
           ""
          ],
          [
           ""
          ],
          [
           ""
          ],
          [
           ""
          ],
          [
           ""
          ],
          [
           ""
          ],
          [
           ""
          ],
          [
           ""
          ],
          [
           ""
          ],
          [
           ""
          ],
          [
           ""
          ],
          [
           ""
          ],
          [
           ""
          ],
          [
           ""
          ],
          [
           ""
          ],
          [
           ""
          ],
          [
           ""
          ],
          [
           ""
          ],
          [
           ""
          ],
          [
           ""
          ],
          [
           ""
          ],
          [
           ""
          ],
          [
           ""
          ],
          [
           ""
          ],
          [
           ""
          ],
          [
           ""
          ],
          [
           ""
          ],
          [
           ""
          ],
          [
           ""
          ],
          [
           ""
          ],
          [
           ""
          ],
          [
           ""
          ],
          [
           ""
          ],
          [
           ""
          ],
          [
           ""
          ],
          [
           ""
          ],
          [
           ""
          ],
          [
           ""
          ],
          [
           ""
          ],
          [
           ""
          ],
          [
           ""
          ],
          [
           ""
          ],
          [
           ""
          ],
          [
           ""
          ],
          [
           ""
          ],
          [
           ""
          ],
          [
           ""
          ],
          [
           ""
          ],
          [
           ""
          ],
          [
           ""
          ],
          [
           ""
          ],
          [
           ""
          ],
          [
           ""
          ],
          [
           ""
          ],
          [
           ""
          ],
          [
           ""
          ],
          [
           ""
          ],
          [
           ""
          ],
          [
           ""
          ],
          [
           ""
          ],
          [
           ""
          ],
          [
           ""
          ],
          [
           ""
          ],
          [
           ""
          ],
          [
           ""
          ],
          [
           ""
          ],
          [
           ""
          ],
          [
           ""
          ],
          [
           ""
          ],
          [
           ""
          ],
          [
           ""
          ],
          [
           ""
          ],
          [
           ""
          ],
          [
           ""
          ],
          [
           ""
          ],
          [
           ""
          ],
          [
           ""
          ],
          [
           ""
          ],
          [
           ""
          ],
          [
           ""
          ],
          [
           ""
          ],
          [
           ""
          ],
          [
           ""
          ],
          [
           ""
          ],
          [
           ""
          ],
          [
           ""
          ],
          [
           ""
          ],
          [
           ""
          ],
          [
           ""
          ],
          [
           ""
          ],
          [
           ""
          ],
          [
           ""
          ],
          [
           ""
          ],
          [
           ""
          ],
          [
           ""
          ],
          [
           ""
          ],
          [
           ""
          ],
          [
           ""
          ],
          [
           ""
          ],
          [
           ""
          ],
          [
           ""
          ],
          [
           ""
          ],
          [
           ""
          ],
          [
           ""
          ],
          [
           ""
          ],
          [
           ""
          ],
          [
           ""
          ],
          [
           ""
          ],
          [
           ""
          ],
          [
           ""
          ],
          [
           ""
          ],
          [
           ""
          ],
          [
           ""
          ],
          [
           ""
          ],
          [
           ""
          ],
          [
           ""
          ],
          [
           ""
          ],
          [
           ""
          ],
          [
           ""
          ],
          [
           ""
          ],
          [
           ""
          ],
          [
           ""
          ],
          [
           ""
          ],
          [
           ""
          ],
          [
           ""
          ],
          [
           ""
          ],
          [
           ""
          ],
          [
           ""
          ],
          [
           ""
          ],
          [
           ""
          ],
          [
           ""
          ],
          [
           ""
          ],
          [
           ""
          ],
          [
           ""
          ],
          [
           ""
          ],
          [
           ""
          ],
          [
           ""
          ],
          [
           ""
          ],
          [
           ""
          ],
          [
           ""
          ],
          [
           ""
          ],
          [
           ""
          ],
          [
           ""
          ],
          [
           ""
          ],
          [
           ""
          ],
          [
           ""
          ],
          [
           ""
          ],
          [
           ""
          ],
          [
           ""
          ],
          [
           ""
          ],
          [
           ""
          ],
          [
           ""
          ],
          [
           ""
          ],
          [
           ""
          ],
          [
           ""
          ],
          [
           ""
          ],
          [
           ""
          ],
          [
           ""
          ],
          [
           ""
          ],
          [
           ""
          ],
          [
           ""
          ],
          [
           ""
          ],
          [
           ""
          ],
          [
           ""
          ],
          [
           ""
          ],
          [
           ""
          ],
          [
           ""
          ],
          [
           ""
          ],
          [
           ""
          ],
          [
           ""
          ],
          [
           ""
          ],
          [
           ""
          ],
          [
           ""
          ],
          [
           ""
          ],
          [
           ""
          ],
          [
           ""
          ],
          [
           ""
          ],
          [
           ""
          ],
          [
           ""
          ],
          [
           ""
          ],
          [
           ""
          ],
          [
           ""
          ],
          [
           ""
          ],
          [
           ""
          ],
          [
           ""
          ],
          [
           ""
          ],
          [
           ""
          ],
          [
           ""
          ],
          [
           ""
          ],
          [
           ""
          ],
          [
           ""
          ],
          [
           ""
          ],
          [
           ""
          ],
          [
           ""
          ],
          [
           ""
          ],
          [
           ""
          ],
          [
           ""
          ],
          [
           ""
          ],
          [
           ""
          ],
          [
           ""
          ],
          [
           ""
          ],
          [
           ""
          ],
          [
           ""
          ],
          [
           ""
          ],
          [
           ""
          ],
          [
           ""
          ],
          [
           ""
          ],
          [
           ""
          ],
          [
           ""
          ],
          [
           ""
          ],
          [
           ""
          ],
          [
           ""
          ],
          [
           ""
          ],
          [
           ""
          ],
          [
           ""
          ],
          [
           ""
          ],
          [
           ""
          ],
          [
           ""
          ],
          [
           ""
          ],
          [
           ""
          ],
          [
           ""
          ],
          [
           ""
          ],
          [
           ""
          ],
          [
           ""
          ],
          [
           ""
          ],
          [
           ""
          ],
          [
           ""
          ],
          [
           ""
          ],
          [
           ""
          ],
          [
           ""
          ],
          [
           ""
          ],
          [
           ""
          ],
          [
           ""
          ],
          [
           ""
          ],
          [
           ""
          ],
          [
           ""
          ],
          [
           ""
          ],
          [
           ""
          ],
          [
           ""
          ],
          [
           ""
          ],
          [
           ""
          ],
          [
           ""
          ],
          [
           ""
          ],
          [
           ""
          ],
          [
           ""
          ],
          [
           ""
          ],
          [
           ""
          ],
          [
           ""
          ],
          [
           ""
          ],
          [
           ""
          ],
          [
           ""
          ],
          [
           ""
          ],
          [
           ""
          ],
          [
           ""
          ],
          [
           ""
          ],
          [
           ""
          ],
          [
           ""
          ],
          [
           ""
          ],
          [
           ""
          ],
          [
           ""
          ],
          [
           ""
          ],
          [
           ""
          ],
          [
           ""
          ],
          [
           ""
          ],
          [
           ""
          ],
          [
           ""
          ],
          [
           ""
          ],
          [
           ""
          ],
          [
           ""
          ],
          [
           ""
          ],
          [
           ""
          ],
          [
           ""
          ],
          [
           ""
          ],
          [
           ""
          ],
          [
           ""
          ],
          [
           ""
          ],
          [
           ""
          ],
          [
           ""
          ],
          [
           ""
          ],
          [
           ""
          ],
          [
           ""
          ],
          [
           ""
          ],
          [
           ""
          ],
          [
           ""
          ],
          [
           ""
          ],
          [
           ""
          ],
          [
           ""
          ],
          [
           ""
          ],
          [
           ""
          ],
          [
           ""
          ],
          [
           ""
          ],
          [
           ""
          ],
          [
           ""
          ],
          [
           ""
          ],
          [
           ""
          ],
          [
           ""
          ],
          [
           ""
          ],
          [
           ""
          ],
          [
           ""
          ],
          [
           ""
          ],
          [
           ""
          ],
          [
           ""
          ],
          [
           ""
          ],
          [
           ""
          ],
          [
           ""
          ],
          [
           ""
          ],
          [
           ""
          ],
          [
           ""
          ],
          [
           ""
          ],
          [
           ""
          ],
          [
           ""
          ],
          [
           ""
          ],
          [
           ""
          ],
          [
           ""
          ],
          [
           ""
          ],
          [
           ""
          ],
          [
           ""
          ],
          [
           ""
          ],
          [
           ""
          ],
          [
           ""
          ],
          [
           ""
          ],
          [
           ""
          ],
          [
           ""
          ],
          [
           ""
          ],
          [
           ""
          ],
          [
           ""
          ],
          [
           ""
          ],
          [
           ""
          ],
          [
           ""
          ],
          [
           ""
          ],
          [
           ""
          ],
          [
           ""
          ],
          [
           ""
          ],
          [
           ""
          ],
          [
           ""
          ],
          [
           ""
          ],
          [
           ""
          ],
          [
           ""
          ],
          [
           ""
          ],
          [
           ""
          ],
          [
           ""
          ],
          [
           ""
          ],
          [
           ""
          ],
          [
           ""
          ],
          [
           ""
          ],
          [
           ""
          ],
          [
           ""
          ],
          [
           ""
          ],
          [
           ""
          ],
          [
           ""
          ],
          [
           ""
          ],
          [
           ""
          ],
          [
           ""
          ],
          [
           ""
          ],
          [
           ""
          ],
          [
           ""
          ],
          [
           ""
          ],
          [
           ""
          ],
          [
           ""
          ],
          [
           ""
          ],
          [
           ""
          ],
          [
           ""
          ],
          [
           ""
          ],
          [
           ""
          ],
          [
           ""
          ],
          [
           ""
          ],
          [
           ""
          ],
          [
           ""
          ],
          [
           ""
          ],
          [
           ""
          ],
          [
           ""
          ],
          [
           ""
          ],
          [
           ""
          ],
          [
           ""
          ],
          [
           ""
          ],
          [
           ""
          ],
          [
           ""
          ],
          [
           ""
          ],
          [
           ""
          ],
          [
           ""
          ],
          [
           ""
          ],
          [
           ""
          ],
          [
           ""
          ],
          [
           ""
          ],
          [
           ""
          ],
          [
           ""
          ],
          [
           ""
          ],
          [
           ""
          ],
          [
           ""
          ],
          [
           ""
          ],
          [
           ""
          ],
          [
           ""
          ],
          [
           ""
          ],
          [
           ""
          ],
          [
           ""
          ],
          [
           ""
          ],
          [
           ""
          ],
          [
           ""
          ],
          [
           ""
          ],
          [
           ""
          ],
          [
           ""
          ],
          [
           ""
          ],
          [
           ""
          ],
          [
           ""
          ],
          [
           ""
          ],
          [
           ""
          ],
          [
           ""
          ],
          [
           ""
          ],
          [
           ""
          ],
          [
           ""
          ],
          [
           ""
          ],
          [
           ""
          ],
          [
           ""
          ],
          [
           ""
          ],
          [
           ""
          ],
          [
           ""
          ],
          [
           ""
          ],
          [
           ""
          ],
          [
           ""
          ],
          [
           ""
          ],
          [
           ""
          ],
          [
           ""
          ],
          [
           ""
          ],
          [
           ""
          ],
          [
           ""
          ],
          [
           ""
          ],
          [
           ""
          ],
          [
           ""
          ],
          [
           ""
          ],
          [
           ""
          ],
          [
           ""
          ],
          [
           ""
          ],
          [
           ""
          ],
          [
           ""
          ],
          [
           ""
          ],
          [
           ""
          ],
          [
           ""
          ],
          [
           ""
          ],
          [
           ""
          ],
          [
           ""
          ],
          [
           ""
          ],
          [
           ""
          ],
          [
           ""
          ],
          [
           ""
          ],
          [
           ""
          ],
          [
           ""
          ],
          [
           ""
          ],
          [
           ""
          ],
          [
           ""
          ],
          [
           ""
          ],
          [
           ""
          ],
          [
           ""
          ],
          [
           ""
          ],
          [
           ""
          ],
          [
           ""
          ],
          [
           ""
          ],
          [
           ""
          ],
          [
           ""
          ],
          [
           ""
          ],
          [
           ""
          ],
          [
           ""
          ],
          [
           ""
          ],
          [
           ""
          ],
          [
           ""
          ],
          [
           ""
          ],
          [
           ""
          ],
          [
           ""
          ],
          [
           ""
          ],
          [
           ""
          ],
          [
           ""
          ],
          [
           ""
          ],
          [
           ""
          ],
          [
           ""
          ],
          [
           ""
          ],
          [
           ""
          ],
          [
           ""
          ],
          [
           ""
          ],
          [
           ""
          ],
          [
           ""
          ],
          [
           ""
          ],
          [
           ""
          ],
          [
           ""
          ],
          [
           ""
          ],
          [
           ""
          ],
          [
           ""
          ],
          [
           ""
          ],
          [
           ""
          ],
          [
           ""
          ],
          [
           ""
          ],
          [
           ""
          ],
          [
           ""
          ],
          [
           ""
          ],
          [
           ""
          ],
          [
           ""
          ],
          [
           ""
          ],
          [
           ""
          ],
          [
           ""
          ],
          [
           ""
          ],
          [
           ""
          ],
          [
           ""
          ],
          [
           ""
          ],
          [
           ""
          ],
          [
           ""
          ],
          [
           ""
          ],
          [
           ""
          ],
          [
           ""
          ],
          [
           ""
          ],
          [
           ""
          ],
          [
           ""
          ],
          [
           ""
          ],
          [
           ""
          ],
          [
           ""
          ],
          [
           ""
          ],
          [
           ""
          ],
          [
           ""
          ],
          [
           ""
          ],
          [
           ""
          ],
          [
           ""
          ],
          [
           ""
          ],
          [
           ""
          ],
          [
           ""
          ],
          [
           ""
          ],
          [
           ""
          ],
          [
           ""
          ],
          [
           ""
          ],
          [
           ""
          ],
          [
           ""
          ],
          [
           ""
          ],
          [
           ""
          ],
          [
           ""
          ],
          [
           ""
          ],
          [
           ""
          ],
          [
           ""
          ],
          [
           ""
          ],
          [
           ""
          ],
          [
           ""
          ],
          [
           ""
          ],
          [
           ""
          ],
          [
           ""
          ],
          [
           ""
          ],
          [
           ""
          ],
          [
           ""
          ],
          [
           ""
          ],
          [
           ""
          ],
          [
           ""
          ],
          [
           ""
          ],
          [
           ""
          ],
          [
           ""
          ],
          [
           ""
          ],
          [
           ""
          ],
          [
           ""
          ],
          [
           ""
          ],
          [
           ""
          ],
          [
           ""
          ],
          [
           ""
          ],
          [
           ""
          ],
          [
           ""
          ],
          [
           ""
          ],
          [
           ""
          ],
          [
           ""
          ],
          [
           ""
          ],
          [
           ""
          ],
          [
           ""
          ],
          [
           ""
          ],
          [
           ""
          ],
          [
           ""
          ],
          [
           ""
          ],
          [
           ""
          ],
          [
           ""
          ],
          [
           ""
          ],
          [
           ""
          ],
          [
           ""
          ],
          [
           ""
          ],
          [
           ""
          ],
          [
           ""
          ],
          [
           ""
          ],
          [
           ""
          ],
          [
           ""
          ],
          [
           ""
          ],
          [
           ""
          ],
          [
           ""
          ],
          [
           ""
          ],
          [
           ""
          ],
          [
           ""
          ],
          [
           ""
          ],
          [
           ""
          ],
          [
           ""
          ],
          [
           ""
          ],
          [
           ""
          ],
          [
           ""
          ],
          [
           ""
          ],
          [
           ""
          ],
          [
           ""
          ],
          [
           ""
          ],
          [
           ""
          ],
          [
           ""
          ],
          [
           ""
          ],
          [
           ""
          ],
          [
           ""
          ],
          [
           ""
          ],
          [
           ""
          ],
          [
           ""
          ],
          [
           ""
          ],
          [
           ""
          ],
          [
           ""
          ],
          [
           ""
          ],
          [
           ""
          ],
          [
           ""
          ],
          [
           ""
          ],
          [
           ""
          ],
          [
           ""
          ],
          [
           ""
          ],
          [
           ""
          ],
          [
           ""
          ],
          [
           ""
          ],
          [
           ""
          ],
          [
           ""
          ],
          [
           ""
          ],
          [
           ""
          ],
          [
           ""
          ],
          [
           ""
          ],
          [
           ""
          ],
          [
           ""
          ],
          [
           ""
          ],
          [
           ""
          ],
          [
           ""
          ],
          [
           ""
          ],
          [
           ""
          ],
          [
           ""
          ],
          [
           ""
          ],
          [
           ""
          ],
          [
           ""
          ],
          [
           ""
          ],
          [
           ""
          ],
          [
           ""
          ],
          [
           ""
          ],
          [
           ""
          ],
          [
           ""
          ],
          [
           ""
          ],
          [
           ""
          ],
          [
           ""
          ],
          [
           ""
          ],
          [
           ""
          ],
          [
           ""
          ],
          [
           ""
          ],
          [
           ""
          ],
          [
           ""
          ],
          [
           ""
          ],
          [
           ""
          ],
          [
           ""
          ],
          [
           ""
          ],
          [
           ""
          ],
          [
           ""
          ],
          [
           ""
          ],
          [
           ""
          ],
          [
           ""
          ],
          [
           ""
          ],
          [
           ""
          ],
          [
           ""
          ],
          [
           ""
          ],
          [
           ""
          ],
          [
           ""
          ],
          [
           ""
          ],
          [
           ""
          ],
          [
           ""
          ],
          [
           ""
          ],
          [
           ""
          ],
          [
           ""
          ],
          [
           ""
          ],
          [
           ""
          ],
          [
           ""
          ],
          [
           ""
          ],
          [
           ""
          ],
          [
           ""
          ],
          [
           ""
          ],
          [
           ""
          ],
          [
           ""
          ],
          [
           ""
          ],
          [
           ""
          ],
          [
           ""
          ],
          [
           ""
          ],
          [
           ""
          ],
          [
           ""
          ],
          [
           ""
          ],
          [
           ""
          ],
          [
           ""
          ],
          [
           ""
          ],
          [
           ""
          ],
          [
           ""
          ],
          [
           ""
          ],
          [
           ""
          ],
          [
           ""
          ],
          [
           ""
          ],
          [
           ""
          ],
          [
           ""
          ],
          [
           ""
          ],
          [
           ""
          ],
          [
           ""
          ],
          [
           ""
          ],
          [
           ""
          ],
          [
           ""
          ],
          [
           ""
          ],
          [
           ""
          ],
          [
           ""
          ],
          [
           ""
          ],
          [
           ""
          ],
          [
           ""
          ],
          [
           ""
          ],
          [
           ""
          ],
          [
           ""
          ],
          [
           ""
          ],
          [
           ""
          ],
          [
           ""
          ],
          [
           ""
          ],
          [
           ""
          ],
          [
           ""
          ],
          [
           ""
          ],
          [
           ""
          ],
          [
           ""
          ],
          [
           ""
          ],
          [
           ""
          ],
          [
           ""
          ],
          [
           ""
          ],
          [
           ""
          ],
          [
           ""
          ],
          [
           ""
          ],
          [
           ""
          ],
          [
           ""
          ],
          [
           ""
          ],
          [
           ""
          ],
          [
           ""
          ],
          [
           ""
          ],
          [
           ""
          ],
          [
           ""
          ],
          [
           ""
          ],
          [
           ""
          ],
          [
           ""
          ],
          [
           ""
          ],
          [
           ""
          ],
          [
           ""
          ],
          [
           ""
          ],
          [
           ""
          ],
          [
           ""
          ],
          [
           ""
          ],
          [
           ""
          ],
          [
           ""
          ],
          [
           ""
          ],
          [
           ""
          ],
          [
           ""
          ],
          [
           ""
          ],
          [
           ""
          ],
          [
           ""
          ],
          [
           ""
          ],
          [
           ""
          ],
          [
           ""
          ],
          [
           ""
          ],
          [
           ""
          ],
          [
           ""
          ],
          [
           ""
          ],
          [
           ""
          ],
          [
           ""
          ],
          [
           ""
          ],
          [
           ""
          ],
          [
           ""
          ],
          [
           ""
          ],
          [
           ""
          ],
          [
           ""
          ],
          [
           ""
          ],
          [
           ""
          ],
          [
           ""
          ],
          [
           ""
          ],
          [
           ""
          ],
          [
           ""
          ],
          [
           ""
          ],
          [
           ""
          ],
          [
           ""
          ],
          [
           ""
          ],
          [
           ""
          ],
          [
           ""
          ],
          [
           ""
          ],
          [
           ""
          ],
          [
           ""
          ],
          [
           ""
          ],
          [
           ""
          ],
          [
           ""
          ],
          [
           ""
          ],
          [
           ""
          ],
          [
           ""
          ],
          [
           ""
          ],
          [
           ""
          ],
          [
           ""
          ],
          [
           ""
          ],
          [
           ""
          ],
          [
           ""
          ],
          [
           ""
          ],
          [
           ""
          ],
          [
           ""
          ],
          [
           ""
          ],
          [
           ""
          ],
          [
           ""
          ],
          [
           ""
          ],
          [
           ""
          ],
          [
           ""
          ],
          [
           ""
          ],
          [
           ""
          ],
          [
           ""
          ],
          [
           ""
          ],
          [
           ""
          ],
          [
           ""
          ],
          [
           ""
          ],
          [
           ""
          ],
          [
           ""
          ],
          [
           ""
          ],
          [
           ""
          ],
          [
           ""
          ],
          [
           ""
          ],
          [
           ""
          ],
          [
           ""
          ],
          [
           ""
          ],
          [
           ""
          ],
          [
           ""
          ],
          [
           ""
          ],
          [
           ""
          ],
          [
           ""
          ],
          [
           ""
          ],
          [
           ""
          ],
          [
           ""
          ],
          [
           ""
          ],
          [
           ""
          ],
          [
           ""
          ],
          [
           ""
          ],
          [
           ""
          ],
          [
           ""
          ],
          [
           ""
          ],
          [
           ""
          ],
          [
           ""
          ],
          [
           ""
          ],
          [
           ""
          ],
          [
           ""
          ],
          [
           ""
          ],
          [
           ""
          ],
          [
           ""
          ],
          [
           ""
          ],
          [
           ""
          ],
          [
           ""
          ],
          [
           ""
          ],
          [
           ""
          ],
          [
           ""
          ],
          [
           ""
          ],
          [
           ""
          ],
          [
           ""
          ],
          [
           ""
          ],
          [
           ""
          ],
          [
           ""
          ],
          [
           ""
          ],
          [
           ""
          ],
          [
           ""
          ],
          [
           ""
          ],
          [
           ""
          ],
          [
           ""
          ],
          [
           ""
          ],
          [
           ""
          ],
          [
           ""
          ],
          [
           ""
          ],
          [
           ""
          ],
          [
           ""
          ],
          [
           ""
          ],
          [
           ""
          ],
          [
           ""
          ],
          [
           ""
          ],
          [
           ""
          ],
          [
           ""
          ],
          [
           ""
          ],
          [
           ""
          ],
          [
           ""
          ],
          [
           ""
          ],
          [
           ""
          ],
          [
           ""
          ],
          [
           ""
          ],
          [
           ""
          ],
          [
           ""
          ],
          [
           ""
          ],
          [
           ""
          ],
          [
           ""
          ],
          [
           ""
          ],
          [
           ""
          ],
          [
           ""
          ],
          [
           ""
          ],
          [
           ""
          ],
          [
           ""
          ],
          [
           ""
          ],
          [
           ""
          ],
          [
           ""
          ],
          [
           ""
          ],
          [
           ""
          ],
          [
           ""
          ],
          [
           ""
          ],
          [
           ""
          ],
          [
           ""
          ],
          [
           ""
          ],
          [
           ""
          ],
          [
           ""
          ],
          [
           ""
          ],
          [
           ""
          ],
          [
           ""
          ],
          [
           ""
          ],
          [
           ""
          ],
          [
           ""
          ],
          [
           ""
          ],
          [
           ""
          ],
          [
           ""
          ],
          [
           ""
          ],
          [
           ""
          ],
          [
           ""
          ],
          [
           ""
          ],
          [
           ""
          ],
          [
           ""
          ],
          [
           ""
          ],
          [
           ""
          ],
          [
           ""
          ],
          [
           ""
          ],
          [
           ""
          ],
          [
           ""
          ],
          [
           ""
          ],
          [
           ""
          ],
          [
           ""
          ],
          [
           ""
          ],
          [
           ""
          ],
          [
           ""
          ],
          [
           ""
          ],
          [
           ""
          ],
          [
           ""
          ],
          [
           ""
          ],
          [
           ""
          ],
          [
           ""
          ],
          [
           ""
          ],
          [
           ""
          ],
          [
           ""
          ],
          [
           ""
          ],
          [
           ""
          ],
          [
           ""
          ],
          [
           ""
          ],
          [
           ""
          ],
          [
           ""
          ],
          [
           ""
          ],
          [
           ""
          ],
          [
           ""
          ],
          [
           ""
          ],
          [
           ""
          ],
          [
           ""
          ],
          [
           ""
          ],
          [
           ""
          ],
          [
           ""
          ],
          [
           ""
          ],
          [
           ""
          ],
          [
           ""
          ],
          [
           ""
          ],
          [
           ""
          ],
          [
           ""
          ],
          [
           ""
          ],
          [
           ""
          ],
          [
           ""
          ],
          [
           ""
          ],
          [
           ""
          ],
          [
           ""
          ],
          [
           ""
          ],
          [
           ""
          ],
          [
           ""
          ],
          [
           ""
          ],
          [
           ""
          ],
          [
           ""
          ],
          [
           ""
          ],
          [
           ""
          ]
         ],
         "hovertemplate": "Description=%{customdata[0]}<br>TSNE-1=%{x}<br>TSNE-2=%{y}<extra></extra>",
         "legendgroup": "",
         "marker": {
          "color": "#636efa",
          "opacity": 0.8,
          "size": 6,
          "symbol": "circle"
         },
         "mode": "markers",
         "name": "",
         "showlegend": false,
         "type": "scattergl",
         "x": {
          "bdata": "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",
          "dtype": "f4"
         },
         "xaxis": "x",
         "y": {
          "bdata": "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",
          "dtype": "f4"
         },
         "yaxis": "y"
        },
        {
         "customdata": [
          [
           "Prey South West"
          ],
          [
           "Prey South West"
          ],
          [
           "Prey South West"
          ],
          [
           "Prey South West"
          ],
          [
           "Prey South West"
          ],
          [
           "Prey South West"
          ],
          [
           "Prey South West"
          ],
          [
           "Prey South West"
          ],
          [
           "Prey South West"
          ],
          [
           "Prey South West"
          ],
          [
           "Prey South West"
          ],
          [
           "Prey South West"
          ],
          [
           "Prey South West"
          ],
          [
           "Prey South West"
          ],
          [
           "Prey South West"
          ],
          [
           "Prey South West"
          ],
          [
           "Prey South West"
          ],
          [
           "Prey South West"
          ],
          [
           "Prey South West"
          ],
          [
           "Prey South West"
          ],
          [
           "Prey South West"
          ],
          [
           "Prey South West"
          ],
          [
           "Prey South West"
          ],
          [
           "Prey South West"
          ],
          [
           "Prey South West"
          ],
          [
           "Prey South West"
          ],
          [
           "Prey South West"
          ],
          [
           "Prey South West"
          ],
          [
           "Prey South West"
          ],
          [
           "Prey South West"
          ],
          [
           "Prey South West"
          ],
          [
           "Prey South West"
          ],
          [
           "Prey South West"
          ],
          [
           "Prey South West"
          ],
          [
           "Prey South West"
          ],
          [
           "Prey South West"
          ],
          [
           "Prey South West"
          ],
          [
           "Prey South West"
          ],
          [
           "Prey South West"
          ],
          [
           "Prey South West"
          ],
          [
           "Prey South West"
          ],
          [
           "Prey South West"
          ],
          [
           "Prey South West"
          ],
          [
           "Prey South West"
          ],
          [
           "Prey South West"
          ]
         ],
         "hovertemplate": "Description=%{customdata[0]}<br>TSNE-1=%{x}<br>TSNE-2=%{y}<extra></extra>",
         "legendgroup": "Prey South West",
         "marker": {
          "color": "#EF553B",
          "opacity": 0.8,
          "size": 6,
          "symbol": "circle"
         },
         "mode": "markers",
         "name": "Prey South West",
         "showlegend": true,
         "type": "scattergl",
         "x": {
          "bdata": "/9yQwMpCuUFuYpfAyBSgwLVhB8Fl6LNBD/+/QMOiwMBt3PfAFB0HwRLliUEGPIxBfFXLQOeyCsHnsgrBL2UHwcpCuUHrlcpA/9yQwI40i0EWpzbCvRh+whvO2cAtjCjCeG4nwp+MKMJZTCnCs8M3wmRHKMK4eb5B1EM/wSZEP8HgEsHBkGEKwbh5vkF8N61BELizwSljHMICgy/CAoMvwuEGN8J4bifCIm7UwbyGA8H5qVhB",
          "dtype": "f4"
         },
         "xaxis": "x",
         "y": {
          "bdata": "MH38QRhKA0GW/vpBElH7QQvSpkEPLQRBIoiAQSf1/kFNN4xBJsmOQfk9YsEvj2DBKBKEQTIDo0EyA6NBEdSmQRhKA0EO94JBMH38QaGYX8GkFQ9C8e4BQXHb/UEZBBlCkSoaQsYEGUKf0hpCtAsQQqDBG0JQ4wJBhauIwAWriMA3UoRBNluqQVDjAkHkgQxBwT+AQej1o8DtdtY/7XbWP+QXD0KRKhpCCCUHQsQQikFmz9XB",
          "dtype": "f4"
         },
         "yaxis": "y"
        },
        {
         "customdata": [
          [
           "Prey North West"
          ],
          [
           "Prey North West"
          ],
          [
           "Prey North West"
          ],
          [
           "Prey North West"
          ],
          [
           "Prey North West"
          ],
          [
           "Prey North West"
          ],
          [
           "Prey North West"
          ],
          [
           "Prey North West"
          ],
          [
           "Prey North West"
          ],
          [
           "Prey North West"
          ],
          [
           "Prey North West"
          ],
          [
           "Prey North West"
          ],
          [
           "Prey North West"
          ],
          [
           "Prey North West"
          ],
          [
           "Prey North West"
          ],
          [
           "Prey North West"
          ],
          [
           "Prey North West"
          ],
          [
           "Prey North West"
          ],
          [
           "Prey North West"
          ],
          [
           "Prey North West"
          ],
          [
           "Prey North West"
          ],
          [
           "Prey North West"
          ],
          [
           "Prey North West"
          ],
          [
           "Prey North West"
          ],
          [
           "Prey North West"
          ],
          [
           "Prey North West"
          ],
          [
           "Prey North West"
          ],
          [
           "Prey North West"
          ],
          [
           "Prey North West"
          ],
          [
           "Prey North West"
          ],
          [
           "Prey North West"
          ],
          [
           "Prey North West"
          ],
          [
           "Prey North West"
          ],
          [
           "Prey North West"
          ],
          [
           "Prey North West"
          ],
          [
           "Prey North West"
          ],
          [
           "Prey North West"
          ],
          [
           "Prey North West"
          ],
          [
           "Prey North West"
          ],
          [
           "Prey North West"
          ],
          [
           "Prey North West"
          ],
          [
           "Prey North West"
          ],
          [
           "Prey North West"
          ],
          [
           "Prey North West"
          ],
          [
           "Prey North West"
          ],
          [
           "Prey North West"
          ],
          [
           "Prey North West"
          ],
          [
           "Prey North West"
          ],
          [
           "Prey North West"
          ],
          [
           "Prey North West"
          ],
          [
           "Prey North West"
          ],
          [
           "Prey North West"
          ],
          [
           "Prey North West"
          ],
          [
           "Prey North West"
          ],
          [
           "Prey North West"
          ],
          [
           "Prey North West"
          ],
          [
           "Prey North West"
          ],
          [
           "Prey North West"
          ],
          [
           "Prey North West"
          ],
          [
           "Prey North West"
          ],
          [
           "Prey North West"
          ],
          [
           "Prey North West"
          ],
          [
           "Prey North West"
          ],
          [
           "Prey North West"
          ],
          [
           "Prey North West"
          ],
          [
           "Prey North West"
          ],
          [
           "Prey North West"
          ],
          [
           "Prey North West"
          ],
          [
           "Prey North West"
          ],
          [
           "Prey North West"
          ],
          [
           "Prey North West"
          ],
          [
           "Prey North West"
          ],
          [
           "Prey North West"
          ],
          [
           "Prey North West"
          ],
          [
           "Prey North West"
          ],
          [
           "Prey North West"
          ],
          [
           "Prey North West"
          ],
          [
           "Prey North West"
          ],
          [
           "Prey North West"
          ],
          [
           "Prey North West"
          ],
          [
           "Prey North West"
          ],
          [
           "Prey North West"
          ],
          [
           "Prey North West"
          ],
          [
           "Prey North West"
          ],
          [
           "Prey North West"
          ],
          [
           "Prey North West"
          ],
          [
           "Prey North West"
          ],
          [
           "Prey North West"
          ],
          [
           "Prey North West"
          ],
          [
           "Prey North West"
          ],
          [
           "Prey North West"
          ],
          [
           "Prey North West"
          ],
          [
           "Prey North West"
          ],
          [
           "Prey North West"
          ],
          [
           "Prey North West"
          ],
          [
           "Prey North West"
          ],
          [
           "Prey North West"
          ],
          [
           "Prey North West"
          ],
          [
           "Prey North West"
          ],
          [
           "Prey North West"
          ],
          [
           "Prey North West"
          ],
          [
           "Prey North West"
          ],
          [
           "Prey North West"
          ],
          [
           "Prey North West"
          ],
          [
           "Prey North West"
          ],
          [
           "Prey North West"
          ],
          [
           "Prey North West"
          ],
          [
           "Prey North West"
          ],
          [
           "Prey North West"
          ],
          [
           "Prey North West"
          ],
          [
           "Prey North West"
          ],
          [
           "Prey North West"
          ],
          [
           "Prey North West"
          ],
          [
           "Prey North West"
          ],
          [
           "Prey North West"
          ],
          [
           "Prey North West"
          ],
          [
           "Prey North West"
          ],
          [
           "Prey North West"
          ],
          [
           "Prey North West"
          ],
          [
           "Prey North West"
          ],
          [
           "Prey North West"
          ],
          [
           "Prey North West"
          ],
          [
           "Prey North West"
          ],
          [
           "Prey North West"
          ],
          [
           "Prey North West"
          ],
          [
           "Prey North West"
          ],
          [
           "Prey North West"
          ],
          [
           "Prey North West"
          ],
          [
           "Prey North West"
          ],
          [
           "Prey North West"
          ],
          [
           "Prey North West"
          ],
          [
           "Prey North West"
          ],
          [
           "Prey North West"
          ],
          [
           "Prey North West"
          ],
          [
           "Prey North West"
          ],
          [
           "Prey North West"
          ],
          [
           "Prey North West"
          ],
          [
           "Prey North West"
          ],
          [
           "Prey North West"
          ],
          [
           "Prey North West"
          ],
          [
           "Prey North West"
          ],
          [
           "Prey North West"
          ],
          [
           "Prey North West"
          ],
          [
           "Prey North West"
          ],
          [
           "Prey North West"
          ],
          [
           "Prey North West"
          ],
          [
           "Prey North West"
          ],
          [
           "Prey North West"
          ],
          [
           "Prey North West"
          ],
          [
           "Prey North West"
          ],
          [
           "Prey North West"
          ],
          [
           "Prey North West"
          ],
          [
           "Prey North West"
          ],
          [
           "Prey North West"
          ],
          [
           "Prey North West"
          ],
          [
           "Prey North West"
          ],
          [
           "Prey North West"
          ],
          [
           "Prey North West"
          ],
          [
           "Prey North West"
          ],
          [
           "Prey North West"
          ],
          [
           "Prey North West"
          ],
          [
           "Prey North West"
          ],
          [
           "Prey North West"
          ],
          [
           "Prey North West"
          ],
          [
           "Prey North West"
          ],
          [
           "Prey North West"
          ],
          [
           "Prey North West"
          ],
          [
           "Prey North West"
          ],
          [
           "Prey North West"
          ],
          [
           "Prey North West"
          ],
          [
           "Prey North West"
          ],
          [
           "Prey North West"
          ],
          [
           "Prey North West"
          ],
          [
           "Prey North West"
          ],
          [
           "Prey North West"
          ],
          [
           "Prey North West"
          ],
          [
           "Prey North West"
          ],
          [
           "Prey North West"
          ],
          [
           "Prey North West"
          ],
          [
           "Prey North West"
          ],
          [
           "Prey North West"
          ],
          [
           "Prey North West"
          ],
          [
           "Prey North West"
          ],
          [
           "Prey North West"
          ],
          [
           "Prey North West"
          ],
          [
           "Prey North West"
          ],
          [
           "Prey North West"
          ],
          [
           "Prey North West"
          ],
          [
           "Prey North West"
          ],
          [
           "Prey North West"
          ],
          [
           "Prey North West"
          ],
          [
           "Prey North West"
          ],
          [
           "Prey North West"
          ],
          [
           "Prey North West"
          ],
          [
           "Prey North West"
          ],
          [
           "Prey North West"
          ],
          [
           "Prey North West"
          ],
          [
           "Prey North West"
          ],
          [
           "Prey North West"
          ],
          [
           "Prey North West"
          ],
          [
           "Prey North West"
          ],
          [
           "Prey North West"
          ],
          [
           "Prey North West"
          ],
          [
           "Prey North West"
          ],
          [
           "Prey North West"
          ],
          [
           "Prey North West"
          ],
          [
           "Prey North West"
          ],
          [
           "Prey North West"
          ],
          [
           "Prey North West"
          ],
          [
           "Prey North West"
          ],
          [
           "Prey North West"
          ],
          [
           "Prey North West"
          ],
          [
           "Prey North West"
          ],
          [
           "Prey North West"
          ],
          [
           "Prey North West"
          ],
          [
           "Prey North West"
          ],
          [
           "Prey North West"
          ],
          [
           "Prey North West"
          ],
          [
           "Prey North West"
          ],
          [
           "Prey North West"
          ],
          [
           "Prey North West"
          ],
          [
           "Prey North West"
          ],
          [
           "Prey North West"
          ],
          [
           "Prey North West"
          ],
          [
           "Prey North West"
          ],
          [
           "Prey North West"
          ],
          [
           "Prey North West"
          ],
          [
           "Prey North West"
          ],
          [
           "Prey North West"
          ],
          [
           "Prey North West"
          ],
          [
           "Prey North West"
          ],
          [
           "Prey North West"
          ],
          [
           "Prey North West"
          ],
          [
           "Prey North West"
          ],
          [
           "Prey North West"
          ],
          [
           "Prey North West"
          ],
          [
           "Prey North West"
          ],
          [
           "Prey North West"
          ],
          [
           "Prey North West"
          ],
          [
           "Prey North West"
          ],
          [
           "Prey North West"
          ],
          [
           "Prey North West"
          ],
          [
           "Prey North West"
          ],
          [
           "Prey North West"
          ],
          [
           "Prey North West"
          ],
          [
           "Prey North West"
          ],
          [
           "Prey North West"
          ],
          [
           "Prey North West"
          ],
          [
           "Prey North West"
          ],
          [
           "Prey North West"
          ],
          [
           "Prey North West"
          ],
          [
           "Prey North West"
          ],
          [
           "Prey North West"
          ],
          [
           "Prey North West"
          ],
          [
           "Prey North West"
          ],
          [
           "Prey North West"
          ],
          [
           "Prey North West"
          ],
          [
           "Prey North West"
          ],
          [
           "Prey North West"
          ],
          [
           "Prey North West"
          ]
         ],
         "hovertemplate": "Description=%{customdata[0]}<br>TSNE-1=%{x}<br>TSNE-2=%{y}<extra></extra>",
         "legendgroup": "Prey North West",
         "marker": {
          "color": "#00cc96",
          "opacity": 0.8,
          "size": 6,
          "symbol": "circle"
         },
         "mode": "markers",
         "name": "Prey North West",
         "showlegend": true,
         "type": "scattergl",
         "x": {
          "bdata": "J1Olwk29hMJykZ3CXOTUwYrrncI1zEnCno6JwkZBLsIJ7onChY6JwjlBLsLfIBzC3yAcwrlg1cHNI1LCJBLPwRMEzMHTCNDBO/+owhsF578aeN7BX3gWwsQEpcGzVUzCbFVMwpQ3msLg7DzC4Ow8wq0MC8Lg7DzCAWULwtz61MHc+tTBL3vuv95lI8DcL6g/DojNwd5lI8DeZSPAi1vVwcxb1cGIQ1DCX2hQwniDXz8kEs/BL3vuvxxWzMHRBMzBL3vuvw6IzcHeZSPAX2hQwvyNUMIW2g3C4Ow8wkceC8JOeMbBb2kKwi5iUsIvQTnCK0E5wt8FhMLpEU/CkjP8vluFKb7lLGVBl9BOwOST5sE7sBDC5JPmweST5sFJlWvCOvQ7wil4pMI+9TvC4eUNwK8EwcHUrsDBxASlwS86N78kMDe/4eUNwAKnqMLQbqfCS4SDwm2zp8LQbqfCcV2FwgKnqMJ1v4LCdb+CwlTQZ8LbAKbC35ULwuAApsJfC6fCXwunwgaxgMIBrabCnTNowoUtZcJ5M2XCeTNlwp9G4MEk7ZlBq1qfwuQ06sHkNOrByZY0wr2jiMJkmaXCGmSHwpYiY8JfGIbCl6qpwk0YhsKpqqnCyPKGwiZfqMIsPojCN3Iwwg/PhsKZKJ/CnYjtwYqITcJp653CXqQZwoqITcLaZfvBPITzvyXaq8El2qvBVvXEQTyE879EmWNBprfwvw6cY0FepBnCZxVVQV94FsIxTsZBX3gWwoWKUEGmrDfCqZkfP08XC8LziCq+nTNowsFeS0GPMpfAyF5LQXJ43sFJlWvCvWzIwc5jSMIpiw7CUxEewvCuOcIpiw7CzmNIwsp9D8I1zEnC35ULwnSRncJU0GfCzTOcwlTQZ8KVBTrClQU6wimEg8IPoxjC6eFKwp6Agb+9iZrCirmKvr2JmsJBQrHB6eFKwunhSsJXoxjClA+kwtpdgcJElWxB2l2Bwg+EpMIfyqXCyEyVv101bEHnTcDB6RFPwkhPHMLursDBrwTBwUHZHMIracfBIccbwluFKb71uJvC8bibwj96S8KLtU7CgfUawsmUncLho/y/GpsfP2gJ48EfOjbA4eUNwEr3oMJK96DCwIEqwv0lqMLvcqfCiCGkwh/KpcIJvwzC/J8MwpnpLcCOhdTBR4tmwgriPsKruIDCH8qlwpApmsJyeT3CJZLjwcYsH8K2e9LBk9x/wpPcf8JewmbCMsJmwmLcDcJi3A3CO7AQwlHsY0E/ekvCMUKOv56Agb+egIG/T2jHwU54xsF9hZ3CVqmIwgnuicJI96DCw5xSwmUwiMILdp/C722Iwjv/qMJR+anCEvmpwlMEYsI14GTCq7iAwkeLZsK5u4DCCuI+wtGMp8I=",
          "dtype": "f4"
         },
         "xaxis": "x",
         "y": {
          "bdata": "rAwLQeXXAcJqtmHB6r9+wsMCXcHR8DzCIj0DwgBJWkHSxgTCoUMDwgtJWkG+nLrBvpy6wbXjgsKGIEPCZlqCwk2jg8KqUoPCBJsjQWzhFEK+zH3CRnPFwbSnLMJ0kTLCYpEywlCWR8FNtG9BTbRvQWWMSkJNtG9BFGNLQiC/UUIgv1FC7NYdQh4XIELQeMdBZqiAwh4XIEIeFyBC1xeBwgYYgcIc7EDCReA8wuAeyUFmWoLC7NYdQvxrgsJLo4PC7NYdQmaogMIeFyBCReA8wtHFOMKso0hCTbRvQVuwSkLS6ILCqEdIQo6qOsLE3GpBydxqQc4mC8JiXzTCWkguwnqVK8KnQBDCO3REwUCnrUCPCEtCQKetQECnrUCtv+5BGrZPQUSdzEB2tk9BMPcWQvxWgcI9mX/CtKcswg+exUFlnsVBMPcWQlQhAEFhPQ5BgkEFwoe0DEFhPQ5BEvYFwlQhAEFy2gjCnNoIwsdd70FLi/lAPpxDQi2M+UDgOeFA4DnhQHSKC8LTTh1B5H/6QUB3/UEenfdBHp33QS0O60BeOsU/maNtwZe2LMGXtizBntBIQRPu88EcfjhBleUJwpEi8UFQawnC3gUNQYRqCcKMBQ1BQxsGwtCfGkFgxQLC+rVZQV4NAsITdlvBbCwnwbUmP8JqEV3BTYrAwbUmP8IbJLLAvmEswl1yLMJdcizC5lu0wb5hLMKvVQzCdb8qwhFWDMJNisDBtKMSQUZzxcF1fbvBRnPFwTJ9DkGW3FRBUyDGQdy1P0K2z8FB5H/6QVdLGEGE/znBFEoYQTHNfcKtv+5BEl4qQqe/QcJvBD9CFycBwa3VQ0FvBD9Cp79BwsIEQ0LR8DzCPpxDQmi2YcHHXe9ButpYwcdd70FKsF5BSrBeQbdBBcIBNsvB+6A4wpT0K8K2slfBZ2cqwrayV8F0ACzC+6A4wvugOMK4NcvBfeDXQJJaBMK1rw7CkloEwlaDzUCld7lARsguwuI4C8Ll8IHCYl80wqJxzME4mX/C/FaBwgBIxsEw74DC28DJwXqVK8LrCE7BLgpOwfIPNcKRNjfCu7bFwW/1UcFvrRpCyB/GQeoX1UB5CBlCMPcWQifrVsEn61bBsYVWQf3ELkFFhj1BWVHXQKV3uUCxjUZClY5GQhZ/HEKbnVFCNAnqQYyNZEEo2QfCpXe5QJCYTsEt5lpBubPMQHcSBMHrPFJCxgoLwsYKC8KeLeZBuy3mQQB1S0IAdUtCjwhLQiDdBMLyDzXCHAkqwpT0K8KU9CvCgO+AwtLogsKVzUrB0sIHwtLGBMLT61bBSso+wh58BsLS9k/BNTEHwgSbI0HXHhhBGR8YQdoU90GDSPJBKNkHwjQJ6kGk3QfCjI1kQSuO3EA=",
          "dtype": "f4"
         },
         "yaxis": "y"
        },
        {
         "customdata": [
          [
           "Prey West"
          ],
          [
           "Prey West"
          ],
          [
           "Prey West"
          ],
          [
           "Prey West"
          ],
          [
           "Prey West"
          ],
          [
           "Prey West"
          ],
          [
           "Prey West"
          ],
          [
           "Prey West"
          ],
          [
           "Prey West"
          ],
          [
           "Prey West"
          ],
          [
           "Prey West"
          ],
          [
           "Prey West"
          ],
          [
           "Prey West"
          ],
          [
           "Prey West"
          ],
          [
           "Prey West"
          ],
          [
           "Prey West"
          ],
          [
           "Prey West"
          ],
          [
           "Prey West"
          ],
          [
           "Prey West"
          ],
          [
           "Prey West"
          ],
          [
           "Prey West"
          ],
          [
           "Prey West"
          ],
          [
           "Prey West"
          ],
          [
           "Prey West"
          ],
          [
           "Prey West"
          ],
          [
           "Prey West"
          ],
          [
           "Prey West"
          ],
          [
           "Prey West"
          ],
          [
           "Prey West"
          ],
          [
           "Prey West"
          ],
          [
           "Prey West"
          ],
          [
           "Prey West"
          ],
          [
           "Prey West"
          ],
          [
           "Prey West"
          ],
          [
           "Prey West"
          ],
          [
           "Prey West"
          ],
          [
           "Prey West"
          ],
          [
           "Prey West"
          ],
          [
           "Prey West"
          ],
          [
           "Prey West"
          ],
          [
           "Prey West"
          ],
          [
           "Prey West"
          ],
          [
           "Prey West"
          ],
          [
           "Prey West"
          ],
          [
           "Prey West"
          ],
          [
           "Prey West"
          ],
          [
           "Prey West"
          ],
          [
           "Prey West"
          ],
          [
           "Prey West"
          ],
          [
           "Prey West"
          ],
          [
           "Prey West"
          ],
          [
           "Prey West"
          ],
          [
           "Prey West"
          ],
          [
           "Prey West"
          ],
          [
           "Prey West"
          ],
          [
           "Prey West"
          ],
          [
           "Prey West"
          ],
          [
           "Prey West"
          ],
          [
           "Prey West"
          ],
          [
           "Prey West"
          ],
          [
           "Prey West"
          ],
          [
           "Prey West"
          ],
          [
           "Prey West"
          ],
          [
           "Prey West"
          ],
          [
           "Prey West"
          ],
          [
           "Prey West"
          ],
          [
           "Prey West"
          ],
          [
           "Prey West"
          ],
          [
           "Prey West"
          ],
          [
           "Prey West"
          ],
          [
           "Prey West"
          ],
          [
           "Prey West"
          ],
          [
           "Prey West"
          ],
          [
           "Prey West"
          ],
          [
           "Prey West"
          ],
          [
           "Prey West"
          ],
          [
           "Prey West"
          ],
          [
           "Prey West"
          ],
          [
           "Prey West"
          ],
          [
           "Prey West"
          ],
          [
           "Prey West"
          ],
          [
           "Prey West"
          ],
          [
           "Prey West"
          ],
          [
           "Prey West"
          ],
          [
           "Prey West"
          ],
          [
           "Prey West"
          ],
          [
           "Prey West"
          ],
          [
           "Prey West"
          ],
          [
           "Prey West"
          ],
          [
           "Prey West"
          ],
          [
           "Prey West"
          ],
          [
           "Prey West"
          ],
          [
           "Prey West"
          ],
          [
           "Prey West"
          ],
          [
           "Prey West"
          ],
          [
           "Prey West"
          ],
          [
           "Prey West"
          ],
          [
           "Prey West"
          ],
          [
           "Prey West"
          ],
          [
           "Prey West"
          ],
          [
           "Prey West"
          ],
          [
           "Prey West"
          ],
          [
           "Prey West"
          ],
          [
           "Prey West"
          ],
          [
           "Prey West"
          ],
          [
           "Prey West"
          ],
          [
           "Prey West"
          ],
          [
           "Prey West"
          ],
          [
           "Prey West"
          ],
          [
           "Prey West"
          ],
          [
           "Prey West"
          ],
          [
           "Prey West"
          ],
          [
           "Prey West"
          ],
          [
           "Prey West"
          ],
          [
           "Prey West"
          ],
          [
           "Prey West"
          ],
          [
           "Prey West"
          ],
          [
           "Prey West"
          ],
          [
           "Prey West"
          ],
          [
           "Prey West"
          ],
          [
           "Prey West"
          ],
          [
           "Prey West"
          ],
          [
           "Prey West"
          ],
          [
           "Prey West"
          ],
          [
           "Prey West"
          ],
          [
           "Prey West"
          ],
          [
           "Prey West"
          ],
          [
           "Prey West"
          ],
          [
           "Prey West"
          ],
          [
           "Prey West"
          ],
          [
           "Prey West"
          ],
          [
           "Prey West"
          ],
          [
           "Prey West"
          ],
          [
           "Prey West"
          ],
          [
           "Prey West"
          ],
          [
           "Prey West"
          ],
          [
           "Prey West"
          ],
          [
           "Prey West"
          ],
          [
           "Prey West"
          ],
          [
           "Prey West"
          ],
          [
           "Prey West"
          ],
          [
           "Prey West"
          ],
          [
           "Prey West"
          ],
          [
           "Prey West"
          ],
          [
           "Prey West"
          ],
          [
           "Prey West"
          ],
          [
           "Prey West"
          ],
          [
           "Prey West"
          ],
          [
           "Prey West"
          ],
          [
           "Prey West"
          ],
          [
           "Prey West"
          ],
          [
           "Prey West"
          ],
          [
           "Prey West"
          ],
          [
           "Prey West"
          ],
          [
           "Prey West"
          ],
          [
           "Prey West"
          ],
          [
           "Prey West"
          ],
          [
           "Prey West"
          ],
          [
           "Prey West"
          ],
          [
           "Prey West"
          ],
          [
           "Prey West"
          ],
          [
           "Prey West"
          ],
          [
           "Prey West"
          ],
          [
           "Prey West"
          ],
          [
           "Prey West"
          ],
          [
           "Prey West"
          ],
          [
           "Prey West"
          ],
          [
           "Prey West"
          ],
          [
           "Prey West"
          ],
          [
           "Prey West"
          ],
          [
           "Prey West"
          ],
          [
           "Prey West"
          ],
          [
           "Prey West"
          ],
          [
           "Prey West"
          ],
          [
           "Prey West"
          ],
          [
           "Prey West"
          ],
          [
           "Prey West"
          ],
          [
           "Prey West"
          ],
          [
           "Prey West"
          ],
          [
           "Prey West"
          ],
          [
           "Prey West"
          ],
          [
           "Prey West"
          ],
          [
           "Prey West"
          ],
          [
           "Prey West"
          ],
          [
           "Prey West"
          ],
          [
           "Prey West"
          ],
          [
           "Prey West"
          ],
          [
           "Prey West"
          ],
          [
           "Prey West"
          ],
          [
           "Prey West"
          ],
          [
           "Prey West"
          ],
          [
           "Prey West"
          ],
          [
           "Prey West"
          ],
          [
           "Prey West"
          ],
          [
           "Prey West"
          ],
          [
           "Prey West"
          ],
          [
           "Prey West"
          ],
          [
           "Prey West"
          ],
          [
           "Prey West"
          ],
          [
           "Prey West"
          ],
          [
           "Prey West"
          ],
          [
           "Prey West"
          ],
          [
           "Prey West"
          ],
          [
           "Prey West"
          ],
          [
           "Prey West"
          ],
          [
           "Prey West"
          ],
          [
           "Prey West"
          ],
          [
           "Prey West"
          ],
          [
           "Prey West"
          ],
          [
           "Prey West"
          ],
          [
           "Prey West"
          ],
          [
           "Prey West"
          ],
          [
           "Prey West"
          ],
          [
           "Prey West"
          ],
          [
           "Prey West"
          ],
          [
           "Prey West"
          ],
          [
           "Prey West"
          ],
          [
           "Prey West"
          ],
          [
           "Prey West"
          ],
          [
           "Prey West"
          ],
          [
           "Prey West"
          ],
          [
           "Prey West"
          ],
          [
           "Prey West"
          ],
          [
           "Prey West"
          ],
          [
           "Prey West"
          ],
          [
           "Prey West"
          ],
          [
           "Prey West"
          ],
          [
           "Prey West"
          ],
          [
           "Prey West"
          ],
          [
           "Prey West"
          ],
          [
           "Prey West"
          ],
          [
           "Prey West"
          ],
          [
           "Prey West"
          ],
          [
           "Prey West"
          ],
          [
           "Prey West"
          ],
          [
           "Prey West"
          ],
          [
           "Prey West"
          ],
          [
           "Prey West"
          ],
          [
           "Prey West"
          ],
          [
           "Prey West"
          ],
          [
           "Prey West"
          ],
          [
           "Prey West"
          ],
          [
           "Prey West"
          ],
          [
           "Prey West"
          ],
          [
           "Prey West"
          ],
          [
           "Prey West"
          ],
          [
           "Prey West"
          ],
          [
           "Prey West"
          ],
          [
           "Prey West"
          ],
          [
           "Prey West"
          ],
          [
           "Prey West"
          ],
          [
           "Prey West"
          ],
          [
           "Prey West"
          ],
          [
           "Prey West"
          ],
          [
           "Prey West"
          ],
          [
           "Prey West"
          ],
          [
           "Prey West"
          ],
          [
           "Prey West"
          ],
          [
           "Prey West"
          ],
          [
           "Prey West"
          ],
          [
           "Prey West"
          ],
          [
           "Prey West"
          ],
          [
           "Prey West"
          ],
          [
           "Prey West"
          ],
          [
           "Prey West"
          ],
          [
           "Prey West"
          ],
          [
           "Prey West"
          ],
          [
           "Prey West"
          ],
          [
           "Prey West"
          ],
          [
           "Prey West"
          ],
          [
           "Prey West"
          ],
          [
           "Prey West"
          ],
          [
           "Prey West"
          ],
          [
           "Prey West"
          ],
          [
           "Prey West"
          ],
          [
           "Prey West"
          ],
          [
           "Prey West"
          ],
          [
           "Prey West"
          ],
          [
           "Prey West"
          ],
          [
           "Prey West"
          ],
          [
           "Prey West"
          ],
          [
           "Prey West"
          ],
          [
           "Prey West"
          ],
          [
           "Prey West"
          ],
          [
           "Prey West"
          ],
          [
           "Prey West"
          ],
          [
           "Prey West"
          ],
          [
           "Prey West"
          ],
          [
           "Prey West"
          ],
          [
           "Prey West"
          ],
          [
           "Prey West"
          ],
          [
           "Prey West"
          ],
          [
           "Prey West"
          ],
          [
           "Prey West"
          ],
          [
           "Prey West"
          ],
          [
           "Prey West"
          ],
          [
           "Prey West"
          ],
          [
           "Prey West"
          ],
          [
           "Prey West"
          ],
          [
           "Prey West"
          ],
          [
           "Prey West"
          ],
          [
           "Prey West"
          ],
          [
           "Prey West"
          ],
          [
           "Prey West"
          ],
          [
           "Prey West"
          ],
          [
           "Prey West"
          ],
          [
           "Prey West"
          ],
          [
           "Prey West"
          ],
          [
           "Prey West"
          ],
          [
           "Prey West"
          ],
          [
           "Prey West"
          ],
          [
           "Prey West"
          ],
          [
           "Prey West"
          ],
          [
           "Prey West"
          ],
          [
           "Prey West"
          ],
          [
           "Prey West"
          ],
          [
           "Prey West"
          ],
          [
           "Prey West"
          ],
          [
           "Prey West"
          ],
          [
           "Prey West"
          ],
          [
           "Prey West"
          ],
          [
           "Prey West"
          ],
          [
           "Prey West"
          ],
          [
           "Prey West"
          ],
          [
           "Prey West"
          ],
          [
           "Prey West"
          ],
          [
           "Prey West"
          ],
          [
           "Prey West"
          ],
          [
           "Prey West"
          ],
          [
           "Prey West"
          ],
          [
           "Prey West"
          ],
          [
           "Prey West"
          ],
          [
           "Prey West"
          ],
          [
           "Prey West"
          ],
          [
           "Prey West"
          ],
          [
           "Prey West"
          ],
          [
           "Prey West"
          ],
          [
           "Prey West"
          ],
          [
           "Prey West"
          ],
          [
           "Prey West"
          ],
          [
           "Prey West"
          ],
          [
           "Prey West"
          ],
          [
           "Prey West"
          ],
          [
           "Prey West"
          ],
          [
           "Prey West"
          ],
          [
           "Prey West"
          ],
          [
           "Prey West"
          ],
          [
           "Prey West"
          ],
          [
           "Prey West"
          ],
          [
           "Prey West"
          ],
          [
           "Prey West"
          ],
          [
           "Prey West"
          ],
          [
           "Prey West"
          ],
          [
           "Prey West"
          ],
          [
           "Prey West"
          ],
          [
           "Prey West"
          ],
          [
           "Prey West"
          ],
          [
           "Prey West"
          ],
          [
           "Prey West"
          ],
          [
           "Prey West"
          ],
          [
           "Prey West"
          ],
          [
           "Prey West"
          ],
          [
           "Prey West"
          ],
          [
           "Prey West"
          ],
          [
           "Prey West"
          ],
          [
           "Prey West"
          ],
          [
           "Prey West"
          ],
          [
           "Prey West"
          ],
          [
           "Prey West"
          ],
          [
           "Prey West"
          ],
          [
           "Prey West"
          ],
          [
           "Prey West"
          ],
          [
           "Prey West"
          ],
          [
           "Prey West"
          ],
          [
           "Prey West"
          ],
          [
           "Prey West"
          ],
          [
           "Prey West"
          ],
          [
           "Prey West"
          ],
          [
           "Prey West"
          ],
          [
           "Prey West"
          ],
          [
           "Prey West"
          ],
          [
           "Prey West"
          ],
          [
           "Prey West"
          ],
          [
           "Prey West"
          ],
          [
           "Prey West"
          ],
          [
           "Prey West"
          ],
          [
           "Prey West"
          ],
          [
           "Prey West"
          ],
          [
           "Prey West"
          ],
          [
           "Prey West"
          ],
          [
           "Prey West"
          ],
          [
           "Prey West"
          ],
          [
           "Prey West"
          ],
          [
           "Prey West"
          ],
          [
           "Prey West"
          ],
          [
           "Prey West"
          ],
          [
           "Prey West"
          ],
          [
           "Prey West"
          ],
          [
           "Prey West"
          ],
          [
           "Prey West"
          ],
          [
           "Prey West"
          ],
          [
           "Prey West"
          ],
          [
           "Prey West"
          ],
          [
           "Prey West"
          ],
          [
           "Prey West"
          ],
          [
           "Prey West"
          ],
          [
           "Prey West"
          ],
          [
           "Prey West"
          ],
          [
           "Prey West"
          ],
          [
           "Prey West"
          ],
          [
           "Prey West"
          ],
          [
           "Prey West"
          ],
          [
           "Prey West"
          ],
          [
           "Prey West"
          ],
          [
           "Prey West"
          ],
          [
           "Prey West"
          ],
          [
           "Prey West"
          ],
          [
           "Prey West"
          ],
          [
           "Prey West"
          ],
          [
           "Prey West"
          ],
          [
           "Prey West"
          ],
          [
           "Prey West"
          ],
          [
           "Prey West"
          ],
          [
           "Prey West"
          ],
          [
           "Prey West"
          ],
          [
           "Prey West"
          ],
          [
           "Prey West"
          ],
          [
           "Prey West"
          ],
          [
           "Prey West"
          ],
          [
           "Prey West"
          ],
          [
           "Prey West"
          ],
          [
           "Prey West"
          ],
          [
           "Prey West"
          ],
          [
           "Prey West"
          ],
          [
           "Prey West"
          ],
          [
           "Prey West"
          ],
          [
           "Prey West"
          ],
          [
           "Prey West"
          ],
          [
           "Prey West"
          ],
          [
           "Prey West"
          ],
          [
           "Prey West"
          ],
          [
           "Prey West"
          ],
          [
           "Prey West"
          ],
          [
           "Prey West"
          ],
          [
           "Prey West"
          ],
          [
           "Prey West"
          ],
          [
           "Prey West"
          ],
          [
           "Prey West"
          ],
          [
           "Prey West"
          ],
          [
           "Prey West"
          ],
          [
           "Prey West"
          ],
          [
           "Prey West"
          ],
          [
           "Prey West"
          ],
          [
           "Prey West"
          ],
          [
           "Prey West"
          ],
          [
           "Prey West"
          ],
          [
           "Prey West"
          ],
          [
           "Prey West"
          ],
          [
           "Prey West"
          ],
          [
           "Prey West"
          ],
          [
           "Prey West"
          ],
          [
           "Prey West"
          ],
          [
           "Prey West"
          ],
          [
           "Prey West"
          ],
          [
           "Prey West"
          ],
          [
           "Prey West"
          ],
          [
           "Prey West"
          ],
          [
           "Prey West"
          ],
          [
           "Prey West"
          ],
          [
           "Prey West"
          ],
          [
           "Prey West"
          ],
          [
           "Prey West"
          ],
          [
           "Prey West"
          ],
          [
           "Prey West"
          ],
          [
           "Prey West"
          ],
          [
           "Prey West"
          ],
          [
           "Prey West"
          ],
          [
           "Prey West"
          ],
          [
           "Prey West"
          ],
          [
           "Prey West"
          ],
          [
           "Prey West"
          ],
          [
           "Prey West"
          ],
          [
           "Prey West"
          ],
          [
           "Prey West"
          ],
          [
           "Prey West"
          ],
          [
           "Prey West"
          ],
          [
           "Prey West"
          ],
          [
           "Prey West"
          ],
          [
           "Prey West"
          ],
          [
           "Prey West"
          ],
          [
           "Prey West"
          ],
          [
           "Prey West"
          ],
          [
           "Prey West"
          ],
          [
           "Prey West"
          ],
          [
           "Prey West"
          ],
          [
           "Prey West"
          ],
          [
           "Prey West"
          ],
          [
           "Prey West"
          ],
          [
           "Prey West"
          ],
          [
           "Prey West"
          ],
          [
           "Prey West"
          ],
          [
           "Prey West"
          ],
          [
           "Prey West"
          ],
          [
           "Prey West"
          ],
          [
           "Prey West"
          ],
          [
           "Prey West"
          ],
          [
           "Prey West"
          ],
          [
           "Prey West"
          ],
          [
           "Prey West"
          ],
          [
           "Prey West"
          ],
          [
           "Prey West"
          ],
          [
           "Prey West"
          ],
          [
           "Prey West"
          ],
          [
           "Prey West"
          ]
         ],
         "hovertemplate": "Description=%{customdata[0]}<br>TSNE-1=%{x}<br>TSNE-2=%{y}<extra></extra>",
         "legendgroup": "Prey West",
         "marker": {
          "color": "#ab63fa",
          "opacity": 0.8,
          "size": 6,
          "symbol": "circle"
         },
         "mode": "markers",
         "name": "Prey West",
         "showlegend": true,
         "type": "scattergl",
         "x": {
          "bdata": "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",
          "dtype": "f4"
         },
         "xaxis": "x",
         "y": {
          "bdata": "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",
          "dtype": "f4"
         },
         "yaxis": "y"
        },
        {
         "customdata": [
          [
           "Prey North"
          ],
          [
           "Prey North"
          ],
          [
           "Prey North"
          ],
          [
           "Prey North"
          ],
          [
           "Prey North"
          ],
          [
           "Prey North"
          ],
          [
           "Prey North"
          ],
          [
           "Prey North"
          ],
          [
           "Prey North"
          ],
          [
           "Prey North"
          ],
          [
           "Prey North"
          ],
          [
           "Prey North"
          ],
          [
           "Prey North"
          ],
          [
           "Prey North"
          ],
          [
           "Prey North"
          ],
          [
           "Prey North"
          ],
          [
           "Prey North"
          ],
          [
           "Prey North"
          ],
          [
           "Prey North"
          ],
          [
           "Prey North"
          ],
          [
           "Prey North"
          ],
          [
           "Prey North"
          ],
          [
           "Prey North"
          ],
          [
           "Prey North"
          ],
          [
           "Prey North"
          ],
          [
           "Prey North"
          ],
          [
           "Prey North"
          ],
          [
           "Prey North"
          ],
          [
           "Prey North"
          ],
          [
           "Prey North"
          ],
          [
           "Prey North"
          ],
          [
           "Prey North"
          ],
          [
           "Prey North"
          ],
          [
           "Prey North"
          ],
          [
           "Prey North"
          ],
          [
           "Prey North"
          ],
          [
           "Prey North"
          ],
          [
           "Prey North"
          ],
          [
           "Prey North"
          ],
          [
           "Prey North"
          ],
          [
           "Prey North"
          ],
          [
           "Prey North"
          ],
          [
           "Prey North"
          ],
          [
           "Prey North"
          ],
          [
           "Prey North"
          ],
          [
           "Prey North"
          ],
          [
           "Prey North"
          ],
          [
           "Prey North"
          ],
          [
           "Prey North"
          ],
          [
           "Prey North"
          ],
          [
           "Prey North"
          ],
          [
           "Prey North"
          ],
          [
           "Prey North"
          ],
          [
           "Prey North"
          ],
          [
           "Prey North"
          ],
          [
           "Prey North"
          ],
          [
           "Prey North"
          ],
          [
           "Prey North"
          ],
          [
           "Prey North"
          ],
          [
           "Prey North"
          ],
          [
           "Prey North"
          ],
          [
           "Prey North"
          ],
          [
           "Prey North"
          ],
          [
           "Prey North"
          ],
          [
           "Prey North"
          ],
          [
           "Prey North"
          ],
          [
           "Prey North"
          ],
          [
           "Prey North"
          ],
          [
           "Prey North"
          ],
          [
           "Prey North"
          ],
          [
           "Prey North"
          ],
          [
           "Prey North"
          ],
          [
           "Prey North"
          ],
          [
           "Prey North"
          ],
          [
           "Prey North"
          ],
          [
           "Prey North"
          ],
          [
           "Prey North"
          ],
          [
           "Prey North"
          ],
          [
           "Prey North"
          ],
          [
           "Prey North"
          ],
          [
           "Prey North"
          ],
          [
           "Prey North"
          ],
          [
           "Prey North"
          ],
          [
           "Prey North"
          ],
          [
           "Prey North"
          ],
          [
           "Prey North"
          ],
          [
           "Prey North"
          ],
          [
           "Prey North"
          ],
          [
           "Prey North"
          ],
          [
           "Prey North"
          ],
          [
           "Prey North"
          ],
          [
           "Prey North"
          ],
          [
           "Prey North"
          ],
          [
           "Prey North"
          ],
          [
           "Prey North"
          ],
          [
           "Prey North"
          ],
          [
           "Prey North"
          ],
          [
           "Prey North"
          ],
          [
           "Prey North"
          ],
          [
           "Prey North"
          ],
          [
           "Prey North"
          ],
          [
           "Prey North"
          ],
          [
           "Prey North"
          ],
          [
           "Prey North"
          ],
          [
           "Prey North"
          ],
          [
           "Prey North"
          ],
          [
           "Prey North"
          ],
          [
           "Prey North"
          ],
          [
           "Prey North"
          ],
          [
           "Prey North"
          ],
          [
           "Prey North"
          ],
          [
           "Prey North"
          ],
          [
           "Prey North"
          ],
          [
           "Prey North"
          ],
          [
           "Prey North"
          ],
          [
           "Prey North"
          ],
          [
           "Prey North"
          ],
          [
           "Prey North"
          ],
          [
           "Prey North"
          ],
          [
           "Prey North"
          ],
          [
           "Prey North"
          ],
          [
           "Prey North"
          ],
          [
           "Prey North"
          ],
          [
           "Prey North"
          ],
          [
           "Prey North"
          ],
          [
           "Prey North"
          ],
          [
           "Prey North"
          ],
          [
           "Prey North"
          ],
          [
           "Prey North"
          ],
          [
           "Prey North"
          ],
          [
           "Prey North"
          ],
          [
           "Prey North"
          ],
          [
           "Prey North"
          ],
          [
           "Prey North"
          ],
          [
           "Prey North"
          ],
          [
           "Prey North"
          ],
          [
           "Prey North"
          ],
          [
           "Prey North"
          ],
          [
           "Prey North"
          ],
          [
           "Prey North"
          ],
          [
           "Prey North"
          ],
          [
           "Prey North"
          ],
          [
           "Prey North"
          ],
          [
           "Prey North"
          ],
          [
           "Prey North"
          ],
          [
           "Prey North"
          ],
          [
           "Prey North"
          ],
          [
           "Prey North"
          ],
          [
           "Prey North"
          ],
          [
           "Prey North"
          ],
          [
           "Prey North"
          ],
          [
           "Prey North"
          ],
          [
           "Prey North"
          ],
          [
           "Prey North"
          ],
          [
           "Prey North"
          ],
          [
           "Prey North"
          ],
          [
           "Prey North"
          ],
          [
           "Prey North"
          ],
          [
           "Prey North"
          ],
          [
           "Prey North"
          ],
          [
           "Prey North"
          ],
          [
           "Prey North"
          ],
          [
           "Prey North"
          ],
          [
           "Prey North"
          ],
          [
           "Prey North"
          ],
          [
           "Prey North"
          ],
          [
           "Prey North"
          ],
          [
           "Prey North"
          ],
          [
           "Prey North"
          ],
          [
           "Prey North"
          ],
          [
           "Prey North"
          ],
          [
           "Prey North"
          ],
          [
           "Prey North"
          ],
          [
           "Prey North"
          ],
          [
           "Prey North"
          ],
          [
           "Prey North"
          ],
          [
           "Prey North"
          ],
          [
           "Prey North"
          ],
          [
           "Prey North"
          ],
          [
           "Prey North"
          ],
          [
           "Prey North"
          ],
          [
           "Prey North"
          ],
          [
           "Prey North"
          ],
          [
           "Prey North"
          ],
          [
           "Prey North"
          ],
          [
           "Prey North"
          ],
          [
           "Prey North"
          ],
          [
           "Prey North"
          ],
          [
           "Prey North"
          ],
          [
           "Prey North"
          ],
          [
           "Prey North"
          ],
          [
           "Prey North"
          ],
          [
           "Prey North"
          ],
          [
           "Prey North"
          ],
          [
           "Prey North"
          ],
          [
           "Prey North"
          ],
          [
           "Prey North"
          ],
          [
           "Prey North"
          ],
          [
           "Prey North"
          ],
          [
           "Prey North"
          ],
          [
           "Prey North"
          ],
          [
           "Prey North"
          ],
          [
           "Prey North"
          ],
          [
           "Prey North"
          ],
          [
           "Prey North"
          ],
          [
           "Prey North"
          ],
          [
           "Prey North"
          ],
          [
           "Prey North"
          ],
          [
           "Prey North"
          ],
          [
           "Prey North"
          ],
          [
           "Prey North"
          ],
          [
           "Prey North"
          ],
          [
           "Prey North"
          ],
          [
           "Prey North"
          ],
          [
           "Prey North"
          ],
          [
           "Prey North"
          ],
          [
           "Prey North"
          ],
          [
           "Prey North"
          ],
          [
           "Prey North"
          ],
          [
           "Prey North"
          ],
          [
           "Prey North"
          ],
          [
           "Prey North"
          ],
          [
           "Prey North"
          ],
          [
           "Prey North"
          ],
          [
           "Prey North"
          ],
          [
           "Prey North"
          ],
          [
           "Prey North"
          ],
          [
           "Prey North"
          ],
          [
           "Prey North"
          ],
          [
           "Prey North"
          ],
          [
           "Prey North"
          ],
          [
           "Prey North"
          ],
          [
           "Prey North"
          ],
          [
           "Prey North"
          ],
          [
           "Prey North"
          ],
          [
           "Prey North"
          ],
          [
           "Prey North"
          ],
          [
           "Prey North"
          ],
          [
           "Prey North"
          ],
          [
           "Prey North"
          ],
          [
           "Prey North"
          ],
          [
           "Prey North"
          ],
          [
           "Prey North"
          ],
          [
           "Prey North"
          ],
          [
           "Prey North"
          ],
          [
           "Prey North"
          ],
          [
           "Prey North"
          ],
          [
           "Prey North"
          ],
          [
           "Prey North"
          ],
          [
           "Prey North"
          ],
          [
           "Prey North"
          ],
          [
           "Prey North"
          ],
          [
           "Prey North"
          ],
          [
           "Prey North"
          ],
          [
           "Prey North"
          ],
          [
           "Prey North"
          ],
          [
           "Prey North"
          ],
          [
           "Prey North"
          ],
          [
           "Prey North"
          ],
          [
           "Prey North"
          ],
          [
           "Prey North"
          ],
          [
           "Prey North"
          ],
          [
           "Prey North"
          ],
          [
           "Prey North"
          ],
          [
           "Prey North"
          ],
          [
           "Prey North"
          ],
          [
           "Prey North"
          ],
          [
           "Prey North"
          ],
          [
           "Prey North"
          ],
          [
           "Prey North"
          ],
          [
           "Prey North"
          ],
          [
           "Prey North"
          ],
          [
           "Prey North"
          ],
          [
           "Prey North"
          ],
          [
           "Prey North"
          ],
          [
           "Prey North"
          ],
          [
           "Prey North"
          ],
          [
           "Prey North"
          ],
          [
           "Prey North"
          ],
          [
           "Prey North"
          ],
          [
           "Prey North"
          ],
          [
           "Prey North"
          ],
          [
           "Prey North"
          ],
          [
           "Prey North"
          ],
          [
           "Prey North"
          ],
          [
           "Prey North"
          ],
          [
           "Prey North"
          ],
          [
           "Prey North"
          ],
          [
           "Prey North"
          ],
          [
           "Prey North"
          ],
          [
           "Prey North"
          ],
          [
           "Prey North"
          ],
          [
           "Prey North"
          ],
          [
           "Prey North"
          ],
          [
           "Prey North"
          ],
          [
           "Prey North"
          ],
          [
           "Prey North"
          ],
          [
           "Prey North"
          ],
          [
           "Prey North"
          ],
          [
           "Prey North"
          ],
          [
           "Prey North"
          ],
          [
           "Prey North"
          ],
          [
           "Prey North"
          ],
          [
           "Prey North"
          ],
          [
           "Prey North"
          ],
          [
           "Prey North"
          ],
          [
           "Prey North"
          ],
          [
           "Prey North"
          ],
          [
           "Prey North"
          ],
          [
           "Prey North"
          ],
          [
           "Prey North"
          ],
          [
           "Prey North"
          ],
          [
           "Prey North"
          ],
          [
           "Prey North"
          ],
          [
           "Prey North"
          ],
          [
           "Prey North"
          ],
          [
           "Prey North"
          ],
          [
           "Prey North"
          ],
          [
           "Prey North"
          ],
          [
           "Prey North"
          ],
          [
           "Prey North"
          ],
          [
           "Prey North"
          ],
          [
           "Prey North"
          ],
          [
           "Prey North"
          ],
          [
           "Prey North"
          ],
          [
           "Prey North"
          ],
          [
           "Prey North"
          ],
          [
           "Prey North"
          ],
          [
           "Prey North"
          ],
          [
           "Prey North"
          ],
          [
           "Prey North"
          ],
          [
           "Prey North"
          ],
          [
           "Prey North"
          ],
          [
           "Prey North"
          ],
          [
           "Prey North"
          ],
          [
           "Prey North"
          ],
          [
           "Prey North"
          ],
          [
           "Prey North"
          ],
          [
           "Prey North"
          ],
          [
           "Prey North"
          ],
          [
           "Prey North"
          ],
          [
           "Prey North"
          ],
          [
           "Prey North"
          ],
          [
           "Prey North"
          ],
          [
           "Prey North"
          ],
          [
           "Prey North"
          ],
          [
           "Prey North"
          ],
          [
           "Prey North"
          ],
          [
           "Prey North"
          ],
          [
           "Prey North"
          ],
          [
           "Prey North"
          ],
          [
           "Prey North"
          ],
          [
           "Prey North"
          ],
          [
           "Prey North"
          ],
          [
           "Prey North"
          ],
          [
           "Prey North"
          ],
          [
           "Prey North"
          ],
          [
           "Prey North"
          ],
          [
           "Prey North"
          ],
          [
           "Prey North"
          ],
          [
           "Prey North"
          ],
          [
           "Prey North"
          ],
          [
           "Prey North"
          ],
          [
           "Prey North"
          ],
          [
           "Prey North"
          ],
          [
           "Prey North"
          ],
          [
           "Prey North"
          ],
          [
           "Prey North"
          ],
          [
           "Prey North"
          ],
          [
           "Prey North"
          ],
          [
           "Prey North"
          ],
          [
           "Prey North"
          ],
          [
           "Prey North"
          ],
          [
           "Prey North"
          ],
          [
           "Prey North"
          ],
          [
           "Prey North"
          ],
          [
           "Prey North"
          ],
          [
           "Prey North"
          ],
          [
           "Prey North"
          ],
          [
           "Prey North"
          ],
          [
           "Prey North"
          ],
          [
           "Prey North"
          ],
          [
           "Prey North"
          ],
          [
           "Prey North"
          ],
          [
           "Prey North"
          ],
          [
           "Prey North"
          ],
          [
           "Prey North"
          ],
          [
           "Prey North"
          ],
          [
           "Prey North"
          ],
          [
           "Prey North"
          ],
          [
           "Prey North"
          ],
          [
           "Prey North"
          ],
          [
           "Prey North"
          ],
          [
           "Prey North"
          ],
          [
           "Prey North"
          ],
          [
           "Prey North"
          ],
          [
           "Prey North"
          ],
          [
           "Prey North"
          ],
          [
           "Prey North"
          ],
          [
           "Prey North"
          ],
          [
           "Prey North"
          ],
          [
           "Prey North"
          ],
          [
           "Prey North"
          ],
          [
           "Prey North"
          ],
          [
           "Prey North"
          ],
          [
           "Prey North"
          ],
          [
           "Prey North"
          ],
          [
           "Prey North"
          ],
          [
           "Prey North"
          ],
          [
           "Prey North"
          ],
          [
           "Prey North"
          ],
          [
           "Prey North"
          ],
          [
           "Prey North"
          ],
          [
           "Prey North"
          ],
          [
           "Prey North"
          ],
          [
           "Prey North"
          ],
          [
           "Prey North"
          ],
          [
           "Prey North"
          ],
          [
           "Prey North"
          ],
          [
           "Prey North"
          ],
          [
           "Prey North"
          ],
          [
           "Prey North"
          ],
          [
           "Prey North"
          ],
          [
           "Prey North"
          ],
          [
           "Prey North"
          ],
          [
           "Prey North"
          ],
          [
           "Prey North"
          ],
          [
           "Prey North"
          ],
          [
           "Prey North"
          ],
          [
           "Prey North"
          ],
          [
           "Prey North"
          ],
          [
           "Prey North"
          ],
          [
           "Prey North"
          ],
          [
           "Prey North"
          ],
          [
           "Prey North"
          ],
          [
           "Prey North"
          ],
          [
           "Prey North"
          ],
          [
           "Prey North"
          ],
          [
           "Prey North"
          ],
          [
           "Prey North"
          ],
          [
           "Prey North"
          ],
          [
           "Prey North"
          ],
          [
           "Prey North"
          ],
          [
           "Prey North"
          ],
          [
           "Prey North"
          ],
          [
           "Prey North"
          ],
          [
           "Prey North"
          ],
          [
           "Prey North"
          ],
          [
           "Prey North"
          ],
          [
           "Prey North"
          ],
          [
           "Prey North"
          ],
          [
           "Prey North"
          ],
          [
           "Prey North"
          ],
          [
           "Prey North"
          ],
          [
           "Prey North"
          ],
          [
           "Prey North"
          ],
          [
           "Prey North"
          ],
          [
           "Prey North"
          ],
          [
           "Prey North"
          ],
          [
           "Prey North"
          ],
          [
           "Prey North"
          ],
          [
           "Prey North"
          ],
          [
           "Prey North"
          ],
          [
           "Prey North"
          ],
          [
           "Prey North"
          ],
          [
           "Prey North"
          ],
          [
           "Prey North"
          ]
         ],
         "hovertemplate": "Description=%{customdata[0]}<br>TSNE-1=%{x}<br>TSNE-2=%{y}<extra></extra>",
         "legendgroup": "Prey North",
         "marker": {
          "color": "#FFA15A",
          "opacity": 0.8,
          "size": 6,
          "symbol": "circle"
         },
         "mode": "markers",
         "name": "Prey North",
         "showlegend": true,
         "type": "scattergl",
         "x": {
          "bdata": "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",
          "dtype": "f4"
         },
         "xaxis": "x",
         "y": {
          "bdata": "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",
          "dtype": "f4"
         },
         "yaxis": "y"
        },
        {
         "customdata": [
          [
           "Prey Center"
          ],
          [
           "Prey Center"
          ],
          [
           "Prey Center"
          ],
          [
           "Prey Center"
          ],
          [
           "Prey Center"
          ],
          [
           "Prey Center"
          ],
          [
           "Prey Center"
          ],
          [
           "Prey Center"
          ],
          [
           "Prey Center"
          ],
          [
           "Prey Center"
          ],
          [
           "Prey Center"
          ],
          [
           "Prey Center"
          ],
          [
           "Prey Center"
          ],
          [
           "Prey Center"
          ],
          [
           "Prey Center"
          ],
          [
           "Prey Center"
          ],
          [
           "Prey Center"
          ],
          [
           "Prey Center"
          ],
          [
           "Prey Center"
          ],
          [
           "Prey Center"
          ],
          [
           "Prey Center"
          ],
          [
           "Prey Center"
          ],
          [
           "Prey Center"
          ],
          [
           "Prey Center"
          ],
          [
           "Prey Center"
          ],
          [
           "Prey Center"
          ],
          [
           "Prey Center"
          ],
          [
           "Prey Center"
          ],
          [
           "Prey Center"
          ],
          [
           "Prey Center"
          ],
          [
           "Prey Center"
          ],
          [
           "Prey Center"
          ],
          [
           "Prey Center"
          ],
          [
           "Prey Center"
          ],
          [
           "Prey Center"
          ],
          [
           "Prey Center"
          ],
          [
           "Prey Center"
          ],
          [
           "Prey Center"
          ],
          [
           "Prey Center"
          ],
          [
           "Prey Center"
          ],
          [
           "Prey Center"
          ],
          [
           "Prey Center"
          ],
          [
           "Prey Center"
          ],
          [
           "Prey Center"
          ],
          [
           "Prey Center"
          ],
          [
           "Prey Center"
          ],
          [
           "Prey Center"
          ],
          [
           "Prey Center"
          ],
          [
           "Prey Center"
          ],
          [
           "Prey Center"
          ],
          [
           "Prey Center"
          ],
          [
           "Prey Center"
          ],
          [
           "Prey Center"
          ],
          [
           "Prey Center"
          ],
          [
           "Prey Center"
          ],
          [
           "Prey Center"
          ],
          [
           "Prey Center"
          ],
          [
           "Prey Center"
          ],
          [
           "Prey Center"
          ],
          [
           "Prey Center"
          ],
          [
           "Prey Center"
          ],
          [
           "Prey Center"
          ],
          [
           "Prey Center"
          ],
          [
           "Prey Center"
          ],
          [
           "Prey Center"
          ],
          [
           "Prey Center"
          ],
          [
           "Prey Center"
          ],
          [
           "Prey Center"
          ],
          [
           "Prey Center"
          ],
          [
           "Prey Center"
          ],
          [
           "Prey Center"
          ],
          [
           "Prey Center"
          ],
          [
           "Prey Center"
          ],
          [
           "Prey Center"
          ],
          [
           "Prey Center"
          ],
          [
           "Prey Center"
          ],
          [
           "Prey Center"
          ],
          [
           "Prey Center"
          ],
          [
           "Prey Center"
          ],
          [
           "Prey Center"
          ],
          [
           "Prey Center"
          ],
          [
           "Prey Center"
          ],
          [
           "Prey Center"
          ],
          [
           "Prey Center"
          ],
          [
           "Prey Center"
          ],
          [
           "Prey Center"
          ],
          [
           "Prey Center"
          ],
          [
           "Prey Center"
          ],
          [
           "Prey Center"
          ],
          [
           "Prey Center"
          ],
          [
           "Prey Center"
          ],
          [
           "Prey Center"
          ],
          [
           "Prey Center"
          ],
          [
           "Prey Center"
          ],
          [
           "Prey Center"
          ],
          [
           "Prey Center"
          ],
          [
           "Prey Center"
          ],
          [
           "Prey Center"
          ],
          [
           "Prey Center"
          ],
          [
           "Prey Center"
          ],
          [
           "Prey Center"
          ],
          [
           "Prey Center"
          ],
          [
           "Prey Center"
          ],
          [
           "Prey Center"
          ],
          [
           "Prey Center"
          ],
          [
           "Prey Center"
          ],
          [
           "Prey Center"
          ],
          [
           "Prey Center"
          ],
          [
           "Prey Center"
          ],
          [
           "Prey Center"
          ],
          [
           "Prey Center"
          ],
          [
           "Prey Center"
          ],
          [
           "Prey Center"
          ],
          [
           "Prey Center"
          ],
          [
           "Prey Center"
          ],
          [
           "Prey Center"
          ],
          [
           "Prey Center"
          ],
          [
           "Prey Center"
          ],
          [
           "Prey Center"
          ],
          [
           "Prey Center"
          ],
          [
           "Prey Center"
          ],
          [
           "Prey Center"
          ],
          [
           "Prey Center"
          ],
          [
           "Prey Center"
          ],
          [
           "Prey Center"
          ],
          [
           "Prey Center"
          ],
          [
           "Prey Center"
          ],
          [
           "Prey Center"
          ],
          [
           "Prey Center"
          ],
          [
           "Prey Center"
          ],
          [
           "Prey Center"
          ],
          [
           "Prey Center"
          ],
          [
           "Prey Center"
          ],
          [
           "Prey Center"
          ],
          [
           "Prey Center"
          ],
          [
           "Prey Center"
          ],
          [
           "Prey Center"
          ],
          [
           "Prey Center"
          ],
          [
           "Prey Center"
          ],
          [
           "Prey Center"
          ],
          [
           "Prey Center"
          ],
          [
           "Prey Center"
          ],
          [
           "Prey Center"
          ],
          [
           "Prey Center"
          ],
          [
           "Prey Center"
          ],
          [
           "Prey Center"
          ],
          [
           "Prey Center"
          ],
          [
           "Prey Center"
          ],
          [
           "Prey Center"
          ],
          [
           "Prey Center"
          ],
          [
           "Prey Center"
          ],
          [
           "Prey Center"
          ],
          [
           "Prey Center"
          ],
          [
           "Prey Center"
          ],
          [
           "Prey Center"
          ],
          [
           "Prey Center"
          ],
          [
           "Prey Center"
          ],
          [
           "Prey Center"
          ],
          [
           "Prey Center"
          ],
          [
           "Prey Center"
          ],
          [
           "Prey Center"
          ],
          [
           "Prey Center"
          ],
          [
           "Prey Center"
          ],
          [
           "Prey Center"
          ],
          [
           "Prey Center"
          ],
          [
           "Prey Center"
          ],
          [
           "Prey Center"
          ],
          [
           "Prey Center"
          ],
          [
           "Prey Center"
          ],
          [
           "Prey Center"
          ],
          [
           "Prey Center"
          ],
          [
           "Prey Center"
          ],
          [
           "Prey Center"
          ],
          [
           "Prey Center"
          ],
          [
           "Prey Center"
          ],
          [
           "Prey Center"
          ],
          [
           "Prey Center"
          ],
          [
           "Prey Center"
          ],
          [
           "Prey Center"
          ],
          [
           "Prey Center"
          ],
          [
           "Prey Center"
          ],
          [
           "Prey Center"
          ],
          [
           "Prey Center"
          ],
          [
           "Prey Center"
          ],
          [
           "Prey Center"
          ],
          [
           "Prey Center"
          ],
          [
           "Prey Center"
          ],
          [
           "Prey Center"
          ],
          [
           "Prey Center"
          ],
          [
           "Prey Center"
          ],
          [
           "Prey Center"
          ],
          [
           "Prey Center"
          ],
          [
           "Prey Center"
          ],
          [
           "Prey Center"
          ],
          [
           "Prey Center"
          ],
          [
           "Prey Center"
          ],
          [
           "Prey Center"
          ],
          [
           "Prey Center"
          ],
          [
           "Prey Center"
          ],
          [
           "Prey Center"
          ],
          [
           "Prey Center"
          ],
          [
           "Prey Center"
          ],
          [
           "Prey Center"
          ],
          [
           "Prey Center"
          ],
          [
           "Prey Center"
          ],
          [
           "Prey Center"
          ],
          [
           "Prey Center"
          ],
          [
           "Prey Center"
          ],
          [
           "Prey Center"
          ],
          [
           "Prey Center"
          ],
          [
           "Prey Center"
          ],
          [
           "Prey Center"
          ],
          [
           "Prey Center"
          ],
          [
           "Prey Center"
          ],
          [
           "Prey Center"
          ],
          [
           "Prey Center"
          ],
          [
           "Prey Center"
          ],
          [
           "Prey Center"
          ],
          [
           "Prey Center"
          ],
          [
           "Prey Center"
          ],
          [
           "Prey Center"
          ],
          [
           "Prey Center"
          ],
          [
           "Prey Center"
          ],
          [
           "Prey Center"
          ],
          [
           "Prey Center"
          ],
          [
           "Prey Center"
          ],
          [
           "Prey Center"
          ],
          [
           "Prey Center"
          ],
          [
           "Prey Center"
          ],
          [
           "Prey Center"
          ],
          [
           "Prey Center"
          ],
          [
           "Prey Center"
          ],
          [
           "Prey Center"
          ],
          [
           "Prey Center"
          ],
          [
           "Prey Center"
          ],
          [
           "Prey Center"
          ],
          [
           "Prey Center"
          ],
          [
           "Prey Center"
          ],
          [
           "Prey Center"
          ],
          [
           "Prey Center"
          ],
          [
           "Prey Center"
          ],
          [
           "Prey Center"
          ],
          [
           "Prey Center"
          ],
          [
           "Prey Center"
          ],
          [
           "Prey Center"
          ],
          [
           "Prey Center"
          ],
          [
           "Prey Center"
          ],
          [
           "Prey Center"
          ],
          [
           "Prey Center"
          ],
          [
           "Prey Center"
          ],
          [
           "Prey Center"
          ],
          [
           "Prey Center"
          ],
          [
           "Prey Center"
          ],
          [
           "Prey Center"
          ],
          [
           "Prey Center"
          ],
          [
           "Prey Center"
          ],
          [
           "Prey Center"
          ],
          [
           "Prey Center"
          ],
          [
           "Prey Center"
          ],
          [
           "Prey Center"
          ],
          [
           "Prey Center"
          ],
          [
           "Prey Center"
          ],
          [
           "Prey Center"
          ],
          [
           "Prey Center"
          ],
          [
           "Prey Center"
          ],
          [
           "Prey Center"
          ],
          [
           "Prey Center"
          ],
          [
           "Prey Center"
          ],
          [
           "Prey Center"
          ],
          [
           "Prey Center"
          ],
          [
           "Prey Center"
          ],
          [
           "Prey Center"
          ],
          [
           "Prey Center"
          ],
          [
           "Prey Center"
          ],
          [
           "Prey Center"
          ],
          [
           "Prey Center"
          ],
          [
           "Prey Center"
          ],
          [
           "Prey Center"
          ],
          [
           "Prey Center"
          ],
          [
           "Prey Center"
          ],
          [
           "Prey Center"
          ],
          [
           "Prey Center"
          ],
          [
           "Prey Center"
          ],
          [
           "Prey Center"
          ],
          [
           "Prey Center"
          ],
          [
           "Prey Center"
          ],
          [
           "Prey Center"
          ],
          [
           "Prey Center"
          ],
          [
           "Prey Center"
          ],
          [
           "Prey Center"
          ],
          [
           "Prey Center"
          ],
          [
           "Prey Center"
          ],
          [
           "Prey Center"
          ],
          [
           "Prey Center"
          ],
          [
           "Prey Center"
          ],
          [
           "Prey Center"
          ],
          [
           "Prey Center"
          ],
          [
           "Prey Center"
          ],
          [
           "Prey Center"
          ],
          [
           "Prey Center"
          ],
          [
           "Prey Center"
          ],
          [
           "Prey Center"
          ],
          [
           "Prey Center"
          ],
          [
           "Prey Center"
          ],
          [
           "Prey Center"
          ],
          [
           "Prey Center"
          ],
          [
           "Prey Center"
          ],
          [
           "Prey Center"
          ],
          [
           "Prey Center"
          ],
          [
           "Prey Center"
          ],
          [
           "Prey Center"
          ],
          [
           "Prey Center"
          ],
          [
           "Prey Center"
          ],
          [
           "Prey Center"
          ],
          [
           "Prey Center"
          ],
          [
           "Prey Center"
          ],
          [
           "Prey Center"
          ],
          [
           "Prey Center"
          ],
          [
           "Prey Center"
          ],
          [
           "Prey Center"
          ],
          [
           "Prey Center"
          ],
          [
           "Prey Center"
          ],
          [
           "Prey Center"
          ],
          [
           "Prey Center"
          ],
          [
           "Prey Center"
          ],
          [
           "Prey Center"
          ],
          [
           "Prey Center"
          ],
          [
           "Prey Center"
          ],
          [
           "Prey Center"
          ],
          [
           "Prey Center"
          ],
          [
           "Prey Center"
          ],
          [
           "Prey Center"
          ],
          [
           "Prey Center"
          ],
          [
           "Prey Center"
          ],
          [
           "Prey Center"
          ],
          [
           "Prey Center"
          ],
          [
           "Prey Center"
          ],
          [
           "Prey Center"
          ],
          [
           "Prey Center"
          ],
          [
           "Prey Center"
          ],
          [
           "Prey Center"
          ],
          [
           "Prey Center"
          ],
          [
           "Prey Center"
          ],
          [
           "Prey Center"
          ],
          [
           "Prey Center"
          ],
          [
           "Prey Center"
          ],
          [
           "Prey Center"
          ],
          [
           "Prey Center"
          ],
          [
           "Prey Center"
          ],
          [
           "Prey Center"
          ],
          [
           "Prey Center"
          ],
          [
           "Prey Center"
          ],
          [
           "Prey Center"
          ],
          [
           "Prey Center"
          ],
          [
           "Prey Center"
          ],
          [
           "Prey Center"
          ],
          [
           "Prey Center"
          ],
          [
           "Prey Center"
          ],
          [
           "Prey Center"
          ],
          [
           "Prey Center"
          ],
          [
           "Prey Center"
          ],
          [
           "Prey Center"
          ],
          [
           "Prey Center"
          ],
          [
           "Prey Center"
          ],
          [
           "Prey Center"
          ],
          [
           "Prey Center"
          ],
          [
           "Prey Center"
          ],
          [
           "Prey Center"
          ],
          [
           "Prey Center"
          ],
          [
           "Prey Center"
          ],
          [
           "Prey Center"
          ],
          [
           "Prey Center"
          ],
          [
           "Prey Center"
          ],
          [
           "Prey Center"
          ],
          [
           "Prey Center"
          ],
          [
           "Prey Center"
          ],
          [
           "Prey Center"
          ],
          [
           "Prey Center"
          ],
          [
           "Prey Center"
          ],
          [
           "Prey Center"
          ],
          [
           "Prey Center"
          ],
          [
           "Prey Center"
          ],
          [
           "Prey Center"
          ],
          [
           "Prey Center"
          ],
          [
           "Prey Center"
          ],
          [
           "Prey Center"
          ],
          [
           "Prey Center"
          ],
          [
           "Prey Center"
          ],
          [
           "Prey Center"
          ],
          [
           "Prey Center"
          ],
          [
           "Prey Center"
          ],
          [
           "Prey Center"
          ],
          [
           "Prey Center"
          ],
          [
           "Prey Center"
          ],
          [
           "Prey Center"
          ],
          [
           "Prey Center"
          ],
          [
           "Prey Center"
          ],
          [
           "Prey Center"
          ],
          [
           "Prey Center"
          ],
          [
           "Prey Center"
          ],
          [
           "Prey Center"
          ],
          [
           "Prey Center"
          ],
          [
           "Prey Center"
          ],
          [
           "Prey Center"
          ],
          [
           "Prey Center"
          ],
          [
           "Prey Center"
          ],
          [
           "Prey Center"
          ],
          [
           "Prey Center"
          ],
          [
           "Prey Center"
          ],
          [
           "Prey Center"
          ],
          [
           "Prey Center"
          ],
          [
           "Prey Center"
          ],
          [
           "Prey Center"
          ],
          [
           "Prey Center"
          ],
          [
           "Prey Center"
          ],
          [
           "Prey Center"
          ],
          [
           "Prey Center"
          ],
          [
           "Prey Center"
          ],
          [
           "Prey Center"
          ],
          [
           "Prey Center"
          ],
          [
           "Prey Center"
          ],
          [
           "Prey Center"
          ],
          [
           "Prey Center"
          ],
          [
           "Prey Center"
          ],
          [
           "Prey Center"
          ],
          [
           "Prey Center"
          ],
          [
           "Prey Center"
          ],
          [
           "Prey Center"
          ],
          [
           "Prey Center"
          ],
          [
           "Prey Center"
          ],
          [
           "Prey Center"
          ],
          [
           "Prey Center"
          ],
          [
           "Prey Center"
          ],
          [
           "Prey Center"
          ],
          [
           "Prey Center"
          ],
          [
           "Prey Center"
          ],
          [
           "Prey Center"
          ],
          [
           "Prey Center"
          ],
          [
           "Prey Center"
          ],
          [
           "Prey Center"
          ],
          [
           "Prey Center"
          ],
          [
           "Prey Center"
          ],
          [
           "Prey Center"
          ],
          [
           "Prey Center"
          ],
          [
           "Prey Center"
          ],
          [
           "Prey Center"
          ],
          [
           "Prey Center"
          ],
          [
           "Prey Center"
          ],
          [
           "Prey Center"
          ],
          [
           "Prey Center"
          ],
          [
           "Prey Center"
          ],
          [
           "Prey Center"
          ],
          [
           "Prey Center"
          ],
          [
           "Prey Center"
          ],
          [
           "Prey Center"
          ],
          [
           "Prey Center"
          ],
          [
           "Prey Center"
          ],
          [
           "Prey Center"
          ],
          [
           "Prey Center"
          ],
          [
           "Prey Center"
          ],
          [
           "Prey Center"
          ],
          [
           "Prey Center"
          ],
          [
           "Prey Center"
          ],
          [
           "Prey Center"
          ],
          [
           "Prey Center"
          ],
          [
           "Prey Center"
          ],
          [
           "Prey Center"
          ],
          [
           "Prey Center"
          ],
          [
           "Prey Center"
          ],
          [
           "Prey Center"
          ],
          [
           "Prey Center"
          ],
          [
           "Prey Center"
          ],
          [
           "Prey Center"
          ],
          [
           "Prey Center"
          ],
          [
           "Prey Center"
          ],
          [
           "Prey Center"
          ],
          [
           "Prey Center"
          ],
          [
           "Prey Center"
          ],
          [
           "Prey Center"
          ],
          [
           "Prey Center"
          ],
          [
           "Prey Center"
          ],
          [
           "Prey Center"
          ],
          [
           "Prey Center"
          ],
          [
           "Prey Center"
          ],
          [
           "Prey Center"
          ],
          [
           "Prey Center"
          ],
          [
           "Prey Center"
          ],
          [
           "Prey Center"
          ],
          [
           "Prey Center"
          ],
          [
           "Prey Center"
          ],
          [
           "Prey Center"
          ],
          [
           "Prey Center"
          ],
          [
           "Prey Center"
          ],
          [
           "Prey Center"
          ],
          [
           "Prey Center"
          ],
          [
           "Prey Center"
          ],
          [
           "Prey Center"
          ],
          [
           "Prey Center"
          ],
          [
           "Prey Center"
          ],
          [
           "Prey Center"
          ],
          [
           "Prey Center"
          ],
          [
           "Prey Center"
          ],
          [
           "Prey Center"
          ],
          [
           "Prey Center"
          ],
          [
           "Prey Center"
          ],
          [
           "Prey Center"
          ],
          [
           "Prey Center"
          ],
          [
           "Prey Center"
          ],
          [
           "Prey Center"
          ],
          [
           "Prey Center"
          ],
          [
           "Prey Center"
          ],
          [
           "Prey Center"
          ],
          [
           "Prey Center"
          ],
          [
           "Prey Center"
          ],
          [
           "Prey Center"
          ],
          [
           "Prey Center"
          ],
          [
           "Prey Center"
          ],
          [
           "Prey Center"
          ],
          [
           "Prey Center"
          ],
          [
           "Prey Center"
          ],
          [
           "Prey Center"
          ],
          [
           "Prey Center"
          ],
          [
           "Prey Center"
          ],
          [
           "Prey Center"
          ],
          [
           "Prey Center"
          ],
          [
           "Prey Center"
          ],
          [
           "Prey Center"
          ],
          [
           "Prey Center"
          ],
          [
           "Prey Center"
          ],
          [
           "Prey Center"
          ],
          [
           "Prey Center"
          ],
          [
           "Prey Center"
          ],
          [
           "Prey Center"
          ],
          [
           "Prey Center"
          ],
          [
           "Prey Center"
          ],
          [
           "Prey Center"
          ],
          [
           "Prey Center"
          ],
          [
           "Prey Center"
          ],
          [
           "Prey Center"
          ],
          [
           "Prey Center"
          ],
          [
           "Prey Center"
          ],
          [
           "Prey Center"
          ],
          [
           "Prey Center"
          ],
          [
           "Prey Center"
          ],
          [
           "Prey Center"
          ],
          [
           "Prey Center"
          ],
          [
           "Prey Center"
          ],
          [
           "Prey Center"
          ],
          [
           "Prey Center"
          ],
          [
           "Prey Center"
          ],
          [
           "Prey Center"
          ],
          [
           "Prey Center"
          ],
          [
           "Prey Center"
          ],
          [
           "Prey Center"
          ],
          [
           "Prey Center"
          ],
          [
           "Prey Center"
          ],
          [
           "Prey Center"
          ],
          [
           "Prey Center"
          ],
          [
           "Prey Center"
          ],
          [
           "Prey Center"
          ],
          [
           "Prey Center"
          ],
          [
           "Prey Center"
          ],
          [
           "Prey Center"
          ],
          [
           "Prey Center"
          ],
          [
           "Prey Center"
          ],
          [
           "Prey Center"
          ],
          [
           "Prey Center"
          ],
          [
           "Prey Center"
          ],
          [
           "Prey Center"
          ],
          [
           "Prey Center"
          ],
          [
           "Prey Center"
          ],
          [
           "Prey Center"
          ],
          [
           "Prey Center"
          ],
          [
           "Prey Center"
          ],
          [
           "Prey Center"
          ],
          [
           "Prey Center"
          ],
          [
           "Prey Center"
          ],
          [
           "Prey Center"
          ],
          [
           "Prey Center"
          ],
          [
           "Prey Center"
          ],
          [
           "Prey Center"
          ],
          [
           "Prey Center"
          ],
          [
           "Prey Center"
          ],
          [
           "Prey Center"
          ],
          [
           "Prey Center"
          ],
          [
           "Prey Center"
          ],
          [
           "Prey Center"
          ],
          [
           "Prey Center"
          ],
          [
           "Prey Center"
          ],
          [
           "Prey Center"
          ],
          [
           "Prey Center"
          ],
          [
           "Prey Center"
          ],
          [
           "Prey Center"
          ],
          [
           "Prey Center"
          ],
          [
           "Prey Center"
          ],
          [
           "Prey Center"
          ],
          [
           "Prey Center"
          ],
          [
           "Prey Center"
          ],
          [
           "Prey Center"
          ],
          [
           "Prey Center"
          ],
          [
           "Prey Center"
          ],
          [
           "Prey Center"
          ],
          [
           "Prey Center"
          ],
          [
           "Prey Center"
          ],
          [
           "Prey Center"
          ],
          [
           "Prey Center"
          ],
          [
           "Prey Center"
          ],
          [
           "Prey Center"
          ],
          [
           "Prey Center"
          ],
          [
           "Prey Center"
          ],
          [
           "Prey Center"
          ],
          [
           "Prey Center"
          ],
          [
           "Prey Center"
          ],
          [
           "Prey Center"
          ],
          [
           "Prey Center"
          ],
          [
           "Prey Center"
          ],
          [
           "Prey Center"
          ],
          [
           "Prey Center"
          ],
          [
           "Prey Center"
          ],
          [
           "Prey Center"
          ]
         ],
         "hovertemplate": "Description=%{customdata[0]}<br>TSNE-1=%{x}<br>TSNE-2=%{y}<extra></extra>",
         "legendgroup": "Prey Center",
         "marker": {
          "color": "#19d3f3",
          "opacity": 0.8,
          "size": 6,
          "symbol": "circle"
         },
         "mode": "markers",
         "name": "Prey Center",
         "showlegend": true,
         "type": "scattergl",
         "x": {
          "bdata": "8C83QSdETsIbpbhBmdMTwmlirsHfYBHC0k9MwXDY+cAyJOnAcq7bwC2w28CRXRhAsC/2wdqcg8EdGYjBm4OBwUSytcGbg4HBZ37NwSZFe8GykPTBwMAPwrotB8K2wA/C/coYwplUSsKbNnnC93t+woMQOsKd1RHCI5cewgWzfsJ5pIPCf3aFwvGGmUEUxJVB7aSDQewMiEG4OtVAyiTBQI0ol0Htm6BBWlLLQLXp1EAFDYhBzjUhwSx5nEGOxAJBORCLwejsC0HywJHB8sCRwY7EAkFKb99A91eLQY9s30Cxm6BBsdkOQfeDE0Ff3A5BcJXpQCbnxT9cHw/B1B4PwcFenkHNnAbBqIWcQdwxgsEp2gbC6796QfGJ3z/0ewDCgC3TwHh2mEF6+z3CE7K0QeGfkUFFuTQ/L3XFwYvh8cFP4PfB7i+IwmkajcLysIHCXNVCwvJIcsHAAO/BsWrxwSxjtMCvvgzC3E8OwivGlsCDxpbA3E8OwgiXKsIikLvAPYCNwTkQi8HywJHBORCLwTYnl0EGoonCB76yQJYzv0D2rYnCaKCeQahIQMK20hLCK42eQUfRlUES6C3CusamQKgABME30ZVB4x0uwjt8L8J7tDDCT4bxwUZJQ8IEmvbBcjZBwkZJQ8JRFxTCrRUIQfLAkcGgyezBqXr+wU3GAMIw5gRBPhcMQUIWDEG+1cPBjWPCwO8QlL6qMs8/5/02Qf4LGcLbiRfC6B4UQXzrmkG3ikPBrUc7wTmTlUGw9rfBdezCwRCTEMLKhx3CJh64wVsQusF4gu3AHd5awCCTEMKlHLjBrClGwtdZg8AG1DvCJot6wguTh8Imi3rCCpOHwgqTh8JPK4HCVT+pwMSEsMCkFAPCdyWXwSHgl8FCM4jCQjOIwsFenkHBXp5B80hKQbq0hcJPK4HCmdMTwp3vUcKrrVPCQjOIwmd6g8LsoYDC7KGAwgq2NsJkzxvBsUkRwo/wPcLZTJrBPKuHwqWHK8EeAQu/nv02QX1Lj0EK37lAqYWOQRsIaMLZvGjCVU7UwaKvrMAOlirC9dnrwYrH9EB1qx1AXPlzQSJFtsBreb/A9sWHwoxmhcJ274LCALt7wjtSSMJeUkjCw5KDwsTvYsJeE7XA4hm0wMbJrsDExj/C9Kg/wm2/QcIE24nCbipEwk3HNkHzSEpBTcc2QTDHNkFbgkPBEV6qQPApEsJZhZxBy0iswaer9MDC8pxBfs02QLpXtMBhdT9Afs02QIRBf0GOyWrBg4F5wQbG28Gco1rBl//gwR6Fi0GNYAbCjWAGwiNFDcFPSAnCcUr6QGMMUsFjDFLBw7NDwRjG+0AJDZVAbCxHwZDIskB+IYbB8Q6VQKCTn0AcRizCSi5LwWJGLMK/3g1BoNADwpf/4MFiRizCdxzmwZhE68EFoOnALHmcQY7EAkEEmvbBos0LQYjp08Cd1RHC30a9wXj6v8E50YPBO9BCwrcPEMLlDRDCevs9wkytiMJqyDfCTlWMwqaowsA198fB1ywRwknzTMK7WD7CIbd3wgFtg8K+YYPCILd3wjwlSsEsQO5AeQ8BwTqjVEFdUC/C3UMFwQIDR8I/QIzCf3mPwu6VakHdN//AhDh9wQsMFkGqK7nBpkV7wR+bT8JpYq7B7bGGwoDuKsKXwyvCXWIRwtPVY8LMTSzCWRcqwnRnicLV1XLC1NVywh49aEFMrYjCJfNMwlnNjcJJ80zCPvQ7wssivsGGtcTBr/3nwd85pMBv/efB0/OYQFXhxz49w8XBK7UewjRBPMK9z8jA2Hq9QbXR1sCc4WzCsRk+wpzqQMKV6kDCQ7LNwX3mgcIAIXDCACFwwnjmgcK85W7CACFwwqSB2MG2fqlB1ZGlQbRoA0FZ6qlBP/ySQdc2mUGvD51Bh8APQU38mkFbJpJBxZeVQcnzN8FbgkPBFOUFwpMPusHKihDC9AqNwtlQhcEEaTpBr3aYQSzHU70GIJTBTiOSQfe5yEDNnAbB52MfQToQ6UD/H4jBVks7wYfAD0HVzwNBljO/QLa8O8Ggk59AGDSNwM6fnEEy8JlBKFeCQGL+TcH6/q/BKq3EwdMOBsEYNI3AjKNswGa3rMFUOLDBrTINwdsuAsF3oWzArTINwUBWF8H6Ir/B+iK/wTDmBEFGUaBB0vcIQS0qC8HQc2rBn/7gwRbD48FudHTCSd49wm2/QcIV24nCCb6CwpfVxz6wWy9BiOweQfUwN0EEaTpBdggHwU9ICcIstKxAUBM4wWgAAMLPkcxAUTXpwDAi6cD73+HB30hwwt9IcMKIFYfCeK56wkFaY8KIVGfCEFpjwgdZY8IUTHbCJAyFwnZtg8KxavHBwHyQwr+SbcJbiIzCmfRCwlwkRcJcJEXC/fEJwb656MGbuejBbXR0wv3xCcEb0IPCiAnqwQRpOkFQWj3CquUKwuEDDcJoqAvCIzA1wYwKwcEjMDXBAgkewhowNcECCR7C2Y5SQbXIEMJ0H5LBItNKwndftMBKLkvB68WWwGwsR8Elqp/BuLt7QJqZlUEW7ATCAtgMwY/mFMHvehzBCt+5QNu6GMKEIrRBqFIawSNGC8KA4vHBVpbFwJCowsCHhO/B3oTvwV37lkBZB5DCRQeQwjuCKcJo6A7CpAGFwqQBhcKdXkLBMKtJwR0ZiMGbg4HBn22DwkSytcE4tC/CjSm5wbHAD8Kd7tnA2XBMwji0L8KAvrXBm4OBwQOxy8Cbg4HBolJkwTLjsMHMfTHCUXR4wlF0eMLVfTHCQHwvwrJkLcLdaC7CMxZCQdd4ZsKD/TZBAFAYwgzUOcJhQdHBA5xGwu2dQ8J78D3CdAyBwlyKQcJxDULCAPQ/wuWvicLyM0LC/0aEwqP5hcJ8bV3Cf3Eawt88+EAv2AzBYouhwf2Ij8FjnhPCT54TwhNGi8IdiIzC+gOOwlfE68EdOPDBpZoqwoEKKEEslyrCFlgUQSGEpcCBCihB3GGWwXRIIEFRLwLB5FFzwo6DE0F7ZDDC+0MHQVaK5MGvEy/C94MTQZogisJ4SCBBB+dBwo/mFMGN6pzBPnzywZOPQ8HlzDvBrvOhQUrv38GANWvBpT5rweEDDcLH5QrCHymiQe0rmEHR1s9A0w4GwRg0jcCW86FBScimQRGL9UC8z6VByfM3we0rmEGM57bBjOe2wRRmu8HwMhTCFGa7wQUsycFglRPCJglAwrRoA0G4ZgLCJSH5QAFIRsCFn3nA2y4Cwd03/8Cs0xPCxnSNQfDAO8HwwDvBOCWTwRpS+sHb5YvBGlL6wdvli8E4JZPBSDOJQcV0jUE=",
          "dtype": "f4"
         },
         "xaxis": "x",
         "y": {
          "bdata": "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",
          "dtype": "f4"
         },
         "yaxis": "y"
        },
        {
         "customdata": [
          [
           "Prey North East"
          ],
          [
           "Prey North East"
          ],
          [
           "Prey North East"
          ],
          [
           "Prey North East"
          ],
          [
           "Prey North East"
          ],
          [
           "Prey North East"
          ],
          [
           "Prey North East"
          ],
          [
           "Prey North East"
          ],
          [
           "Prey North East"
          ],
          [
           "Prey North East"
          ],
          [
           "Prey North East"
          ],
          [
           "Prey North East"
          ],
          [
           "Prey North East"
          ],
          [
           "Prey North East"
          ],
          [
           "Prey North East"
          ],
          [
           "Prey North East"
          ],
          [
           "Prey North East"
          ],
          [
           "Prey North East"
          ],
          [
           "Prey North East"
          ],
          [
           "Prey North East"
          ],
          [
           "Prey North East"
          ],
          [
           "Prey North East"
          ],
          [
           "Prey North East"
          ],
          [
           "Prey North East"
          ],
          [
           "Prey North East"
          ],
          [
           "Prey North East"
          ],
          [
           "Prey North East"
          ],
          [
           "Prey North East"
          ],
          [
           "Prey North East"
          ],
          [
           "Prey North East"
          ],
          [
           "Prey North East"
          ],
          [
           "Prey North East"
          ],
          [
           "Prey North East"
          ],
          [
           "Prey North East"
          ],
          [
           "Prey North East"
          ],
          [
           "Prey North East"
          ],
          [
           "Prey North East"
          ],
          [
           "Prey North East"
          ],
          [
           "Prey North East"
          ],
          [
           "Prey North East"
          ],
          [
           "Prey North East"
          ],
          [
           "Prey North East"
          ],
          [
           "Prey North East"
          ],
          [
           "Prey North East"
          ],
          [
           "Prey North East"
          ],
          [
           "Prey North East"
          ],
          [
           "Prey North East"
          ],
          [
           "Prey North East"
          ],
          [
           "Prey North East"
          ],
          [
           "Prey North East"
          ],
          [
           "Prey North East"
          ],
          [
           "Prey North East"
          ],
          [
           "Prey North East"
          ],
          [
           "Prey North East"
          ],
          [
           "Prey North East"
          ],
          [
           "Prey North East"
          ],
          [
           "Prey North East"
          ],
          [
           "Prey North East"
          ],
          [
           "Prey North East"
          ],
          [
           "Prey North East"
          ],
          [
           "Prey North East"
          ],
          [
           "Prey North East"
          ],
          [
           "Prey North East"
          ],
          [
           "Prey North East"
          ],
          [
           "Prey North East"
          ],
          [
           "Prey North East"
          ],
          [
           "Prey North East"
          ],
          [
           "Prey North East"
          ],
          [
           "Prey North East"
          ],
          [
           "Prey North East"
          ],
          [
           "Prey North East"
          ],
          [
           "Prey North East"
          ],
          [
           "Prey North East"
          ],
          [
           "Prey North East"
          ],
          [
           "Prey North East"
          ],
          [
           "Prey North East"
          ],
          [
           "Prey North East"
          ],
          [
           "Prey North East"
          ],
          [
           "Prey North East"
          ],
          [
           "Prey North East"
          ],
          [
           "Prey North East"
          ],
          [
           "Prey North East"
          ],
          [
           "Prey North East"
          ],
          [
           "Prey North East"
          ],
          [
           "Prey North East"
          ],
          [
           "Prey North East"
          ],
          [
           "Prey North East"
          ],
          [
           "Prey North East"
          ],
          [
           "Prey North East"
          ],
          [
           "Prey North East"
          ],
          [
           "Prey North East"
          ],
          [
           "Prey North East"
          ],
          [
           "Prey North East"
          ],
          [
           "Prey North East"
          ],
          [
           "Prey North East"
          ],
          [
           "Prey North East"
          ],
          [
           "Prey North East"
          ]
         ],
         "hovertemplate": "Description=%{customdata[0]}<br>TSNE-1=%{x}<br>TSNE-2=%{y}<extra></extra>",
         "legendgroup": "Prey North East",
         "marker": {
          "color": "#FF6692",
          "opacity": 0.8,
          "size": 6,
          "symbol": "circle"
         },
         "mode": "markers",
         "name": "Prey North East",
         "showlegend": true,
         "type": "scattergl",
         "x": {
          "bdata": "PceBwg4zzMETM8zB8ZXKweOtkcKgiGTCfv5kwkYPu8EUM7vBn5XawKoVwMEW7U/CPgRRwt9lT8Jy61DC32VPwgFjY8KFw2PCEGaTwiBFY8I3CWbC9jxiwiBFY8ITiRNBviyBwkZIMUHWJDHCjkgxQQr7m8GccypBrFchQNk0BkFb5KpBf1TLwTvQ4sG3sfzAMrH8wEesAcG0EitBiIEnQVMsD0F9gSdBPyMMQWYp3cHrjdfB91KMwOuN18EVgU/CLisswkNK2cEmSdnBpVfAwQTSvMBr6SFAejwAQU0ODL8HTY2/B02Nv9UyA8HusfzASssoQcEqFEGBe6DA0gmiwFNA4b9pReG/63XDwX9A3MFM58XBeWPFv0vnxcEbHVLCPgRRwgYKgsK7jNLBQMbNwUXAk8JFSZXCPceBwkVJlcLSllDCAJGMwhrQLMIJ8s3BR0OLwg3GzcF57RE/35aKwDxA0cFNabvB9obdwGSH3cCbNQZBY3sqQWN7KkFvNwZBiAKZwg==",
          "dtype": "f4"
         },
         "xaxis": "x",
         "y": {
          "bdata": "31PGQb+WUcKvllHClcVRws8wYb5fG8zBm+kvQTHS/cHECADCQISPwWfXAsJW/XXBF4Z3wc6DgMH5c4HBzoOAwRjvzcFKQdDByaTYvilQQ0HwHeHBcro4QSlQQ0GKpMg/F4fIQYIuvMB6NUhCCS+8wAVIT0I9857A14SKwXRyAUDJJ9nB/BhWwvs46b05wjFCRcIxQliKMkJeT9bA5qDCwPvoiz/xocLAR/5FP+Cc4MHseefBgBLSwex558HJpoTBfbAowhB66MF8eujBum4AwsfujsFOWorBP2GKP18XtsE+DbrBPg26wcCtMEIwwjFCIjDZwKPeIj/SmozB2DyNwfdMv8HXTL/BfbEDwjqb6sEO8QLCxZe9wQ7xAsJH2nnBF4Z3wXFjzUGp2FjCTfxYwmY4db63DbW+8lPGQbcNtb6fr4fBMOQfwRtlKsJs4FPCKKchwVf8WMJ5CRLC+M/UwTUGVsLIlgPCtt+HwQbgh8HQcwFA5vKewObynsDofgFABn0Xvw==",
          "dtype": "f4"
         },
         "yaxis": "y"
        },
        {
         "customdata": [
          [
           "Prey South East"
          ],
          [
           "Prey South East"
          ],
          [
           "Prey South East"
          ],
          [
           "Prey South East"
          ],
          [
           "Prey South East"
          ],
          [
           "Prey South East"
          ],
          [
           "Prey South East"
          ],
          [
           "Prey South East"
          ],
          [
           "Prey South East"
          ],
          [
           "Prey South East"
          ],
          [
           "Prey South East"
          ],
          [
           "Prey South East"
          ],
          [
           "Prey South East"
          ],
          [
           "Prey South East"
          ],
          [
           "Prey South East"
          ],
          [
           "Prey South East"
          ],
          [
           "Prey South East"
          ],
          [
           "Prey South East"
          ],
          [
           "Prey South East"
          ],
          [
           "Prey South East"
          ],
          [
           "Prey South East"
          ],
          [
           "Prey South East"
          ],
          [
           "Prey South East"
          ],
          [
           "Prey South East"
          ],
          [
           "Prey South East"
          ],
          [
           "Prey South East"
          ],
          [
           "Prey South East"
          ],
          [
           "Prey South East"
          ],
          [
           "Prey South East"
          ],
          [
           "Prey South East"
          ],
          [
           "Prey South East"
          ],
          [
           "Prey South East"
          ],
          [
           "Prey South East"
          ],
          [
           "Prey South East"
          ],
          [
           "Prey South East"
          ],
          [
           "Prey South East"
          ],
          [
           "Prey South East"
          ],
          [
           "Prey South East"
          ],
          [
           "Prey South East"
          ],
          [
           "Prey South East"
          ],
          [
           "Prey South East"
          ],
          [
           "Prey South East"
          ],
          [
           "Prey South East"
          ],
          [
           "Prey South East"
          ],
          [
           "Prey South East"
          ],
          [
           "Prey South East"
          ],
          [
           "Prey South East"
          ],
          [
           "Prey South East"
          ],
          [
           "Prey South East"
          ],
          [
           "Prey South East"
          ],
          [
           "Prey South East"
          ],
          [
           "Prey South East"
          ],
          [
           "Prey South East"
          ],
          [
           "Prey South East"
          ],
          [
           "Prey South East"
          ],
          [
           "Prey South East"
          ],
          [
           "Prey South East"
          ],
          [
           "Prey South East"
          ],
          [
           "Prey South East"
          ],
          [
           "Prey South East"
          ],
          [
           "Prey South East"
          ],
          [
           "Prey South East"
          ],
          [
           "Prey South East"
          ],
          [
           "Prey South East"
          ],
          [
           "Prey South East"
          ],
          [
           "Prey South East"
          ],
          [
           "Prey South East"
          ]
         ],
         "hovertemplate": "Description=%{customdata[0]}<br>TSNE-1=%{x}<br>TSNE-2=%{y}<extra></extra>",
         "legendgroup": "Prey South East",
         "marker": {
          "color": "#B6E880",
          "opacity": 0.8,
          "size": 6,
          "symbol": "circle"
         },
         "mode": "markers",
         "name": "Prey South East",
         "showlegend": true,
         "type": "scattergl",
         "x": {
          "bdata": "VcCCwo5tgsKvdSrCHjKmv9taK0HAJ92/a5YqQZNdK0EdON2/EdGgQPLOqUBWtSfBmHRfwq9Cu8Ej+F7CY/cEwpMQFcKTEBXCJCBfws4FdsI8IF/CcXdcwtESTcK6SylBukspQZMQFcKMHcLBe+ZlwdESTcIeMqa/FRiHPzqa/r8VGIc/dQBwPRhJBMAY7gHBQyFwPRkT8cGhU2jB5w75wM1XuMFPBvnAmt+Cwj/IWcK+dt2/4fMxwRhbasGGVi/BF+lkweHzMcF1/jrBlK+9wTW1J8FW+TrB2K69wVjRE8JW+TrBAuJ6wc1PtMFxfHXBuGp0wfr9N8GGVi/BKb0Twll3XMLREk3CUbQpwg==",
          "dtype": "f4"
         },
         "xaxis": "x",
         "y": {
          "bdata": "H+YAP8j+lD+QB/NBmwjCQIXGk8Hy5bhAAR6PwffEk8HSx7hAskzBwSOIwsEj6d3BAF/rwAeGqsGT2vnAWy1VwlTwP8JU8D/CDFwIwS03o8HgWAjBROMPwRakzz97jYfBe42HwVTwP8ImE+NBwaL4QBakzz+bCMJAi4KHwOEn0UCLgofAfI1gwPh+4EAGeR1BAYdgwDGEvkGYaAZCuOYTQSdO5kGT5RNBtBUvPqvQGMHRv7hArDffwTYtCUIQXtnB5GoIQqw338EBtd3BcBGowVfr3cHUxd3BTxKowRUzQsLUxd3BU9/CwXzMDsFj0sPBn7XFwVMs2cEQXtnBhDs9wqbiD8EWpM8/FaHsQQ==",
          "dtype": "f4"
         },
         "yaxis": "y"
        },
        {
         "customdata": [
          [
           "Prey South"
          ],
          [
           "Prey South"
          ],
          [
           "Prey South"
          ],
          [
           "Prey South"
          ],
          [
           "Prey South"
          ],
          [
           "Prey South"
          ],
          [
           "Prey South"
          ],
          [
           "Prey South"
          ],
          [
           "Prey South"
          ],
          [
           "Prey South"
          ],
          [
           "Prey South"
          ],
          [
           "Prey South"
          ],
          [
           "Prey South"
          ],
          [
           "Prey South"
          ],
          [
           "Prey South"
          ],
          [
           "Prey South"
          ],
          [
           "Prey South"
          ],
          [
           "Prey South"
          ],
          [
           "Prey South"
          ],
          [
           "Prey South"
          ],
          [
           "Prey South"
          ],
          [
           "Prey South"
          ],
          [
           "Prey South"
          ],
          [
           "Prey South"
          ],
          [
           "Prey South"
          ],
          [
           "Prey South"
          ],
          [
           "Prey South"
          ],
          [
           "Prey South"
          ],
          [
           "Prey South"
          ],
          [
           "Prey South"
          ],
          [
           "Prey South"
          ],
          [
           "Prey South"
          ],
          [
           "Prey South"
          ],
          [
           "Prey South"
          ],
          [
           "Prey South"
          ],
          [
           "Prey South"
          ],
          [
           "Prey South"
          ],
          [
           "Prey South"
          ],
          [
           "Prey South"
          ],
          [
           "Prey South"
          ],
          [
           "Prey South"
          ],
          [
           "Prey South"
          ],
          [
           "Prey South"
          ],
          [
           "Prey South"
          ],
          [
           "Prey South"
          ],
          [
           "Prey South"
          ],
          [
           "Prey South"
          ],
          [
           "Prey South"
          ],
          [
           "Prey South"
          ],
          [
           "Prey South"
          ],
          [
           "Prey South"
          ],
          [
           "Prey South"
          ],
          [
           "Prey South"
          ],
          [
           "Prey South"
          ],
          [
           "Prey South"
          ],
          [
           "Prey South"
          ],
          [
           "Prey South"
          ],
          [
           "Prey South"
          ],
          [
           "Prey South"
          ],
          [
           "Prey South"
          ],
          [
           "Prey South"
          ],
          [
           "Prey South"
          ],
          [
           "Prey South"
          ],
          [
           "Prey South"
          ],
          [
           "Prey South"
          ],
          [
           "Prey South"
          ],
          [
           "Prey South"
          ],
          [
           "Prey South"
          ],
          [
           "Prey South"
          ],
          [
           "Prey South"
          ],
          [
           "Prey South"
          ],
          [
           "Prey South"
          ],
          [
           "Prey South"
          ],
          [
           "Prey South"
          ],
          [
           "Prey South"
          ],
          [
           "Prey South"
          ],
          [
           "Prey South"
          ],
          [
           "Prey South"
          ],
          [
           "Prey South"
          ],
          [
           "Prey South"
          ],
          [
           "Prey South"
          ],
          [
           "Prey South"
          ],
          [
           "Prey South"
          ],
          [
           "Prey South"
          ],
          [
           "Prey South"
          ],
          [
           "Prey South"
          ],
          [
           "Prey South"
          ],
          [
           "Prey South"
          ],
          [
           "Prey South"
          ],
          [
           "Prey South"
          ],
          [
           "Prey South"
          ],
          [
           "Prey South"
          ],
          [
           "Prey South"
          ],
          [
           "Prey South"
          ],
          [
           "Prey South"
          ],
          [
           "Prey South"
          ],
          [
           "Prey South"
          ],
          [
           "Prey South"
          ],
          [
           "Prey South"
          ],
          [
           "Prey South"
          ],
          [
           "Prey South"
          ],
          [
           "Prey South"
          ],
          [
           "Prey South"
          ],
          [
           "Prey South"
          ],
          [
           "Prey South"
          ],
          [
           "Prey South"
          ],
          [
           "Prey South"
          ],
          [
           "Prey South"
          ],
          [
           "Prey South"
          ],
          [
           "Prey South"
          ],
          [
           "Prey South"
          ],
          [
           "Prey South"
          ],
          [
           "Prey South"
          ],
          [
           "Prey South"
          ],
          [
           "Prey South"
          ],
          [
           "Prey South"
          ],
          [
           "Prey South"
          ],
          [
           "Prey South"
          ],
          [
           "Prey South"
          ],
          [
           "Prey South"
          ],
          [
           "Prey South"
          ],
          [
           "Prey South"
          ],
          [
           "Prey South"
          ],
          [
           "Prey South"
          ],
          [
           "Prey South"
          ],
          [
           "Prey South"
          ],
          [
           "Prey South"
          ],
          [
           "Prey South"
          ],
          [
           "Prey South"
          ],
          [
           "Prey South"
          ],
          [
           "Prey South"
          ],
          [
           "Prey South"
          ],
          [
           "Prey South"
          ],
          [
           "Prey South"
          ],
          [
           "Prey South"
          ],
          [
           "Prey South"
          ],
          [
           "Prey South"
          ],
          [
           "Prey South"
          ],
          [
           "Prey South"
          ],
          [
           "Prey South"
          ],
          [
           "Prey South"
          ],
          [
           "Prey South"
          ],
          [
           "Prey South"
          ],
          [
           "Prey South"
          ],
          [
           "Prey South"
          ],
          [
           "Prey South"
          ],
          [
           "Prey South"
          ],
          [
           "Prey South"
          ],
          [
           "Prey South"
          ],
          [
           "Prey South"
          ],
          [
           "Prey South"
          ],
          [
           "Prey South"
          ],
          [
           "Prey South"
          ],
          [
           "Prey South"
          ],
          [
           "Prey South"
          ],
          [
           "Prey South"
          ],
          [
           "Prey South"
          ],
          [
           "Prey South"
          ],
          [
           "Prey South"
          ],
          [
           "Prey South"
          ],
          [
           "Prey South"
          ],
          [
           "Prey South"
          ],
          [
           "Prey South"
          ],
          [
           "Prey South"
          ],
          [
           "Prey South"
          ],
          [
           "Prey South"
          ],
          [
           "Prey South"
          ],
          [
           "Prey South"
          ],
          [
           "Prey South"
          ],
          [
           "Prey South"
          ],
          [
           "Prey South"
          ],
          [
           "Prey South"
          ],
          [
           "Prey South"
          ],
          [
           "Prey South"
          ],
          [
           "Prey South"
          ],
          [
           "Prey South"
          ],
          [
           "Prey South"
          ],
          [
           "Prey South"
          ],
          [
           "Prey South"
          ],
          [
           "Prey South"
          ],
          [
           "Prey South"
          ],
          [
           "Prey South"
          ],
          [
           "Prey South"
          ],
          [
           "Prey South"
          ],
          [
           "Prey South"
          ],
          [
           "Prey South"
          ],
          [
           "Prey South"
          ],
          [
           "Prey South"
          ],
          [
           "Prey South"
          ],
          [
           "Prey South"
          ],
          [
           "Prey South"
          ],
          [
           "Prey South"
          ],
          [
           "Prey South"
          ],
          [
           "Prey South"
          ],
          [
           "Prey South"
          ],
          [
           "Prey South"
          ],
          [
           "Prey South"
          ],
          [
           "Prey South"
          ],
          [
           "Prey South"
          ],
          [
           "Prey South"
          ],
          [
           "Prey South"
          ],
          [
           "Prey South"
          ],
          [
           "Prey South"
          ],
          [
           "Prey South"
          ],
          [
           "Prey South"
          ],
          [
           "Prey South"
          ],
          [
           "Prey South"
          ],
          [
           "Prey South"
          ],
          [
           "Prey South"
          ],
          [
           "Prey South"
          ],
          [
           "Prey South"
          ],
          [
           "Prey South"
          ],
          [
           "Prey South"
          ],
          [
           "Prey South"
          ],
          [
           "Prey South"
          ],
          [
           "Prey South"
          ],
          [
           "Prey South"
          ],
          [
           "Prey South"
          ],
          [
           "Prey South"
          ],
          [
           "Prey South"
          ],
          [
           "Prey South"
          ],
          [
           "Prey South"
          ],
          [
           "Prey South"
          ],
          [
           "Prey South"
          ],
          [
           "Prey South"
          ],
          [
           "Prey South"
          ],
          [
           "Prey South"
          ],
          [
           "Prey South"
          ],
          [
           "Prey South"
          ],
          [
           "Prey South"
          ],
          [
           "Prey South"
          ],
          [
           "Prey South"
          ],
          [
           "Prey South"
          ],
          [
           "Prey South"
          ],
          [
           "Prey South"
          ],
          [
           "Prey South"
          ],
          [
           "Prey South"
          ],
          [
           "Prey South"
          ],
          [
           "Prey South"
          ],
          [
           "Prey South"
          ],
          [
           "Prey South"
          ],
          [
           "Prey South"
          ],
          [
           "Prey South"
          ],
          [
           "Prey South"
          ],
          [
           "Prey South"
          ],
          [
           "Prey South"
          ],
          [
           "Prey South"
          ],
          [
           "Prey South"
          ],
          [
           "Prey South"
          ],
          [
           "Prey South"
          ],
          [
           "Prey South"
          ],
          [
           "Prey South"
          ],
          [
           "Prey South"
          ],
          [
           "Prey South"
          ],
          [
           "Prey South"
          ],
          [
           "Prey South"
          ],
          [
           "Prey South"
          ]
         ],
         "hovertemplate": "Description=%{customdata[0]}<br>TSNE-1=%{x}<br>TSNE-2=%{y}<extra></extra>",
         "legendgroup": "Prey South",
         "marker": {
          "color": "#FF97FF",
          "opacity": 0.8,
          "size": 6,
          "symbol": "circle"
         },
         "mode": "markers",
         "name": "Prey South",
         "showlegend": true,
         "type": "scattergl",
         "x": {
          "bdata": "gZQswpNr+cAYbWjBVH7Twa4TR8GWnPjAAAv+wP/0ur+BktXBpAN/wk55qz/sJn3CCqeDwuKxbsLBn23CHyHKwVI8OMI5VoPCi6NtwkiRf8IREzTCZJs6whvSHcKyFTTCKcA7wrIVNMIpwDvCBZs6wgQta8I1HoDCAB1+wt1Ra8L+11DBikXZwJGxeD+O3OHAkbF4P9pWbMG7vMbB2MDvQKxhDMKsYQzCBhWDwaxhDMLCV2zBMx8KwjPEacFLxGnBQZ6BwQdCM0HoQTNBful9wY1u8cGdOmnBPXFrQRAeWUHp8bC/XbyQP1d7esIue3rCjk5FwnaTLMLNkyzC8FuAwmV2e8Ke7lw/YriLwX3chsF/64LBSpKEweLuCEEimoTBxo2JwRAeWUFpReTAff7mwDbM0sANKDLC09dxwjvRB8H75zXC0XY1wol5NcK/HDXCiRw1wuKxbsLisW7CF1ckwl6cHcLisW7CRFVrwVxWhML0Y+rA6Un7wOT95sDuAMvBIjjOwW0VNMIjxDvC+ZTDwXOyA8HKuNC+ZZaBwu3pgML3iGLCk4Z1QX3chsE9XvU/k4Z1QcJKD0F0kGPBHwFvQSa/ZEGzxYLBQDN7wXgze8Fh88/A3vpGwfhDScHcCWfBTI7XwbPjDcK1xCbBUxcowQrwFEHLx47BpIfcv5TjXD9akvTA3P5rwcqUJcKDM4HCHrhuwsL+YcIsgH3C9399wiBlLsL75AfCNe8uwiF4LMI3erzB+VgJwgFYCcJW9gvC6jnxwKPTUMFh7sJAnOl9wRyty79CFofBsBemP0cBb0HEioJBMMxlweraJcGDVoTCuxAcwrsQHMLLstTBQe4nwV2bJsEDXw7CNBxwwpo1K8HKOw7CnU2Ewso7DsIrNSvBbCgZwtYgy8EJVmnC/1wZwmnwa8Lt6YDCgNQ+wmGa1MG85CbCNyAdwkAjNcKxm9bADb1wwWIRj78dal7BJmFVwdhgVcGPmmHBV7n+wI+aYcFNmsPBUhHCwWFwvMHvuL7Bz7O+wSu5tsEYphXCZE5Fwh8DQ8Jg5YDC9399wogERMIOp8LBK7m2wfeIYsIrubbB/pwWwoWpwsEI4sPBr2fIwaPx6MASYvXAQ/Q1wou0CsJnFcHBCVyAwYxcgMFvZoDBb2aAwSMMy0At5jBBiebEv69kj7+o7u7Bn56Gwbjvh8HM8YbB/Si1wf0otcHfvEnCbsZQwY73gcLfvEnCAVgJwnBmVcFDta+/Cg2BwcGQPUHBkD1BD2NIQcGQPUEStAnCSuEKwjcUG8IeuG7CN/V8wlB8fsJ1dzXClSDJwUyO18HLY7nBckdfwbXEJsFOJh7CLsvZwaDqHsIBR9zBNRGKwYj7gUE=",
          "dtype": "f4"
         },
         "xaxis": "x",
         "y": {
          "bdata": "snn2QUMhT0Hn1yxBqUoAQgrg90EK3ldBcPVSQSDR57+jHgJCF5jnQIiYR0ErFedAxsyUweSnl8AZ7bXAZNVWwYsPrz9cL5jBqPS1wAlt10BuZQZCCSimPw+hm8BSIgNCQM4KQFIiA0JAzgpAlTOmP8nTwMBXIcZAND3LQJg2p8A6UQhCXGIkQUJMZcAXnBVBQkxlwBTIEUGFY/VBzl/PwXoqCEJ6KghCSuvRwXoqCEIwyBFBBHMKQuhkIUHaZCFBfljNwbHaicGY2onB8GCMwWYrvkH0pwZBWRiFwT5bhMEjLui/2sE7QVYUnMG5E5zBe/FCP+ZZ+0HMWftBRFQhQKtcl8EASEJBOVZnwU7TYMEcCmrBI09twc8F0sFsYm3BCS5wwT5bhMHuKUVBa5M5QY+hMkGu1c0/m4+5wLHgBEKcNI0/kWq4P6Jsvz/BozM/3KUzP+Snl8Dkp5fAwz4UQhYQnMDkp5fAt9c3QS0dl8H96SxB8U80QSOTOUHeAfxBgDcAQnUiA0LXjgpAfpzoQca2LkGhGkHA28DAQIQRoMHw0AHBqVeCwU7TYME860JBqVeCwYUz0cEscR7CmQN9wVe5gcHFIWnBt7sYQfS8GEFjfD9BQoX4QYYH+kFl5SZB3jKawYXDYcL7agTCNJkFwhPkzcGDO2HB2+rFv1lJQkERI3FB0+s7QcNdFUIM3tVAJoXRwPWY7MBAapvB0mibwfgd/0EXgghCXUf7Qbkp8EHyLOlBUq8FQvCzBUL1XQRCJs4gQXVQCEILcMXB7WCMwVDv4kBfLGHBIhZCQQYEfcH3Z3HBW70hwqFoBsKPHZfBPK1NwjytTcJ4WJ3BAVkAwid2AsIM5F7CfsaswNt0+8HvfFzCfFSUwe98XMIEdfvBZNJJwp8xo8EUiufAvWZIwvuO3MCEEaDBn88KQB2OBUJK9BZCIcecwJamB0L/wnZBpAz5QLDD00DUPQdCbg0FQscNBUKVqARC2VwoQZWoBEIjp+hBfpXmQVca6UEv3exBZdXsQeDL7UG8zETCzvNCP/XlRz+E3z1A0mibwWronz+Ej6fB4MvtQfDQAcHgy+1BFhdDwoSCp8EmPqvBf+mnwVzwgUHcd4FBuPAMQibIWcLPqKTBk2DCwZhWwsHkn8XB5J/FwavrxcH13ITBaFwDQdrnDsBoHMJBbHWKweLiisERb4zBfHAQwXxwEMGF3ek/EE4IQuRlPECF3ek/8LMFQnAOBUKWN/RAeJ6JwYvxhsGL8YbBXeCEwYvxhsFFo1vC+nFdwmrWSsImhdHAERr2QCZj+EBnfLc/QbJWwd4ymsE2yhXBu4wewvtqBMLKu0/Ce0eXwWPCT8KiPJnBmzFawbiYbcE=",
          "dtype": "f4"
         },
         "yaxis": "y"
        },
        {
         "customdata": [
          [
           "Prey East"
          ],
          [
           "Prey East"
          ],
          [
           "Prey East"
          ],
          [
           "Prey East"
          ],
          [
           "Prey East"
          ],
          [
           "Prey East"
          ],
          [
           "Prey East"
          ],
          [
           "Prey East"
          ],
          [
           "Prey East"
          ],
          [
           "Prey East"
          ],
          [
           "Prey East"
          ],
          [
           "Prey East"
          ],
          [
           "Prey East"
          ],
          [
           "Prey East"
          ],
          [
           "Prey East"
          ],
          [
           "Prey East"
          ],
          [
           "Prey East"
          ],
          [
           "Prey East"
          ],
          [
           "Prey East"
          ],
          [
           "Prey East"
          ],
          [
           "Prey East"
          ],
          [
           "Prey East"
          ],
          [
           "Prey East"
          ],
          [
           "Prey East"
          ],
          [
           "Prey East"
          ],
          [
           "Prey East"
          ],
          [
           "Prey East"
          ],
          [
           "Prey East"
          ],
          [
           "Prey East"
          ],
          [
           "Prey East"
          ],
          [
           "Prey East"
          ],
          [
           "Prey East"
          ],
          [
           "Prey East"
          ],
          [
           "Prey East"
          ],
          [
           "Prey East"
          ],
          [
           "Prey East"
          ],
          [
           "Prey East"
          ],
          [
           "Prey East"
          ],
          [
           "Prey East"
          ],
          [
           "Prey East"
          ],
          [
           "Prey East"
          ],
          [
           "Prey East"
          ],
          [
           "Prey East"
          ],
          [
           "Prey East"
          ],
          [
           "Prey East"
          ],
          [
           "Prey East"
          ],
          [
           "Prey East"
          ],
          [
           "Prey East"
          ],
          [
           "Prey East"
          ],
          [
           "Prey East"
          ],
          [
           "Prey East"
          ],
          [
           "Prey East"
          ],
          [
           "Prey East"
          ],
          [
           "Prey East"
          ],
          [
           "Prey East"
          ],
          [
           "Prey East"
          ],
          [
           "Prey East"
          ],
          [
           "Prey East"
          ],
          [
           "Prey East"
          ],
          [
           "Prey East"
          ],
          [
           "Prey East"
          ],
          [
           "Prey East"
          ],
          [
           "Prey East"
          ],
          [
           "Prey East"
          ],
          [
           "Prey East"
          ],
          [
           "Prey East"
          ],
          [
           "Prey East"
          ],
          [
           "Prey East"
          ],
          [
           "Prey East"
          ],
          [
           "Prey East"
          ],
          [
           "Prey East"
          ],
          [
           "Prey East"
          ],
          [
           "Prey East"
          ],
          [
           "Prey East"
          ],
          [
           "Prey East"
          ],
          [
           "Prey East"
          ],
          [
           "Prey East"
          ],
          [
           "Prey East"
          ],
          [
           "Prey East"
          ],
          [
           "Prey East"
          ],
          [
           "Prey East"
          ],
          [
           "Prey East"
          ],
          [
           "Prey East"
          ],
          [
           "Prey East"
          ],
          [
           "Prey East"
          ],
          [
           "Prey East"
          ],
          [
           "Prey East"
          ],
          [
           "Prey East"
          ],
          [
           "Prey East"
          ],
          [
           "Prey East"
          ],
          [
           "Prey East"
          ],
          [
           "Prey East"
          ],
          [
           "Prey East"
          ],
          [
           "Prey East"
          ],
          [
           "Prey East"
          ],
          [
           "Prey East"
          ],
          [
           "Prey East"
          ],
          [
           "Prey East"
          ],
          [
           "Prey East"
          ],
          [
           "Prey East"
          ],
          [
           "Prey East"
          ],
          [
           "Prey East"
          ],
          [
           "Prey East"
          ],
          [
           "Prey East"
          ],
          [
           "Prey East"
          ],
          [
           "Prey East"
          ],
          [
           "Prey East"
          ],
          [
           "Prey East"
          ],
          [
           "Prey East"
          ],
          [
           "Prey East"
          ],
          [
           "Prey East"
          ],
          [
           "Prey East"
          ],
          [
           "Prey East"
          ],
          [
           "Prey East"
          ],
          [
           "Prey East"
          ],
          [
           "Prey East"
          ],
          [
           "Prey East"
          ],
          [
           "Prey East"
          ],
          [
           "Prey East"
          ],
          [
           "Prey East"
          ],
          [
           "Prey East"
          ],
          [
           "Prey East"
          ],
          [
           "Prey East"
          ],
          [
           "Prey East"
          ],
          [
           "Prey East"
          ],
          [
           "Prey East"
          ],
          [
           "Prey East"
          ],
          [
           "Prey East"
          ],
          [
           "Prey East"
          ],
          [
           "Prey East"
          ],
          [
           "Prey East"
          ],
          [
           "Prey East"
          ],
          [
           "Prey East"
          ],
          [
           "Prey East"
          ],
          [
           "Prey East"
          ],
          [
           "Prey East"
          ],
          [
           "Prey East"
          ],
          [
           "Prey East"
          ],
          [
           "Prey East"
          ],
          [
           "Prey East"
          ],
          [
           "Prey East"
          ],
          [
           "Prey East"
          ],
          [
           "Prey East"
          ],
          [
           "Prey East"
          ],
          [
           "Prey East"
          ],
          [
           "Prey East"
          ],
          [
           "Prey East"
          ],
          [
           "Prey East"
          ],
          [
           "Prey East"
          ],
          [
           "Prey East"
          ],
          [
           "Prey East"
          ],
          [
           "Prey East"
          ],
          [
           "Prey East"
          ],
          [
           "Prey East"
          ],
          [
           "Prey East"
          ],
          [
           "Prey East"
          ],
          [
           "Prey East"
          ],
          [
           "Prey East"
          ],
          [
           "Prey East"
          ],
          [
           "Prey East"
          ],
          [
           "Prey East"
          ],
          [
           "Prey East"
          ],
          [
           "Prey East"
          ],
          [
           "Prey East"
          ],
          [
           "Prey East"
          ],
          [
           "Prey East"
          ],
          [
           "Prey East"
          ],
          [
           "Prey East"
          ],
          [
           "Prey East"
          ],
          [
           "Prey East"
          ],
          [
           "Prey East"
          ],
          [
           "Prey East"
          ],
          [
           "Prey East"
          ],
          [
           "Prey East"
          ],
          [
           "Prey East"
          ],
          [
           "Prey East"
          ],
          [
           "Prey East"
          ],
          [
           "Prey East"
          ],
          [
           "Prey East"
          ],
          [
           "Prey East"
          ],
          [
           "Prey East"
          ],
          [
           "Prey East"
          ],
          [
           "Prey East"
          ],
          [
           "Prey East"
          ],
          [
           "Prey East"
          ],
          [
           "Prey East"
          ],
          [
           "Prey East"
          ],
          [
           "Prey East"
          ],
          [
           "Prey East"
          ],
          [
           "Prey East"
          ],
          [
           "Prey East"
          ],
          [
           "Prey East"
          ],
          [
           "Prey East"
          ],
          [
           "Prey East"
          ],
          [
           "Prey East"
          ],
          [
           "Prey East"
          ],
          [
           "Prey East"
          ],
          [
           "Prey East"
          ],
          [
           "Prey East"
          ],
          [
           "Prey East"
          ],
          [
           "Prey East"
          ],
          [
           "Prey East"
          ],
          [
           "Prey East"
          ],
          [
           "Prey East"
          ],
          [
           "Prey East"
          ],
          [
           "Prey East"
          ],
          [
           "Prey East"
          ],
          [
           "Prey East"
          ],
          [
           "Prey East"
          ],
          [
           "Prey East"
          ],
          [
           "Prey East"
          ],
          [
           "Prey East"
          ],
          [
           "Prey East"
          ],
          [
           "Prey East"
          ],
          [
           "Prey East"
          ],
          [
           "Prey East"
          ],
          [
           "Prey East"
          ],
          [
           "Prey East"
          ],
          [
           "Prey East"
          ],
          [
           "Prey East"
          ],
          [
           "Prey East"
          ],
          [
           "Prey East"
          ],
          [
           "Prey East"
          ],
          [
           "Prey East"
          ],
          [
           "Prey East"
          ],
          [
           "Prey East"
          ],
          [
           "Prey East"
          ],
          [
           "Prey East"
          ],
          [
           "Prey East"
          ],
          [
           "Prey East"
          ],
          [
           "Prey East"
          ],
          [
           "Prey East"
          ],
          [
           "Prey East"
          ],
          [
           "Prey East"
          ],
          [
           "Prey East"
          ],
          [
           "Prey East"
          ],
          [
           "Prey East"
          ],
          [
           "Prey East"
          ],
          [
           "Prey East"
          ],
          [
           "Prey East"
          ],
          [
           "Prey East"
          ],
          [
           "Prey East"
          ],
          [
           "Prey East"
          ],
          [
           "Prey East"
          ]
         ],
         "hovertemplate": "Description=%{customdata[0]}<br>TSNE-1=%{x}<br>TSNE-2=%{y}<extra></extra>",
         "legendgroup": "Prey East",
         "marker": {
          "color": "#FECB52",
          "opacity": 0.8,
          "size": 6,
          "symbol": "circle"
         },
         "mode": "markers",
         "name": "Prey East",
         "showlegend": true,
         "type": "scattergl",
         "x": {
          "bdata": "/T8nwsa6E8KDuxPCb+lTwj9scsJx9V/CFAVxwjrUGMKGpVzCo0SHwgWoF8JVGVzC7SVrwoc6Cr/b2I/BJ9ePwaQrBMKkKwTC3P6zwHFOxME4HK7BLiKowZ0hDMFJg7RACVyCwQlcgsFM2IDBwbXywNuI4UBP/+hAc3/jQC9Rjr5A66nB/sHOwECbIMJ2XmnCXGxqwn67E8JgvSTCpNKlwYu3FMJKFJPBDBTLQFYUk8EMFMtAyVaBwWq8skCWy+/AybZpQHq1x0DK4wHBZa3HQE516j7+98dANzjvwSrD/8DFal9Aq1X3wP+Xsj0816fB/5eyPTzXp8Gh4QHBPNenweLJtT0aK/fA/5eyPRhR98AnFrHB4XS1wcm8p8BfR9PBZ6qDwv7BzsCWb6XBEb3twWufjcL9bV/CdMdnwseqU8J/gSPCAIEjwtw2JMJo+a7BGCxEP2xa6j4Dzp1AgzGFwUgV6sDRFbHBWvuzwGAVUsJgWWXCTFllwnedj8JOZo/Cofdfwp7+b8IJihDBynwcwsK918A83abBV6x8QIUcDMHaKQTBt9B9wXA+8cDWBWNA0T6CwaVGV8L48ybCcD0nwr43+MCJGu/A84JawnqXW8IMaH3BC+SYwU4BY0CjWkhAXpWTwYuL+sGLi/rB6ri3wR65t8EtOa/BUWmZwR+LVsJcYVXCm1HDwZtRw8FMYFXClbZewgNpVsJgYRXCVvGKwgo3HMJly4jCDD5twoCEWcK7ZRnCkoRZwpCY88DnYbjBBKPzwOZhuME61BjChqVcwsvzX8J8/lXCZT8XwtjyWMGzmiZAqg9TwfKHt8EmbvbB8D3zwVMW9MG2XfDBt2F+wfGf4MByxjJAwf0kwuGc4MA7gSjCNwwnwjDFKMIwxSjCgvNfwsOKGsKzhgzBTL0CwaQSlMFnU5fBBuOEQN06mr5XUZ0+U1KdPgKvqUCjGoBAC+SYwaoPU8HF+4lAlpiVwWQDB8Gn7xbC1t5zwjkA68DBrQ9AlKoPQAIKd8EgCnfBpNRxwWzaccFBKfPBUeLzPz7y5cD+zXS/9gnlQPwk1ECeHPrAownlQNt7nkADzp1A1aWBwXFL7cA38OzAN/DswOG/ZUA1PZFAZHWqPd06mr6zmiZACmcHwZx7tkB2/PPBVxuGwY/888FXG4bB6OCHwejgh8ETR5+/YgbjP94lhcKP7q3BO4EowhQFccL3a3LCr+wVwuq4t8Gn7xbC1L9cwgZkuEC1kgjBLiKowVC0Tz9XrHxArMGJQAbBiUDbe55AgqeAQODIbsI1spHBIvubQA==",
          "dtype": "f4"
         },
         "xaxis": "x",
         "y": {
          "bdata": "WwXbQeGF9kHShfZBNXQrQJ8hr8GaejDBECO0wfMnOMJnbTXBnSfAPUJKNsKGVypAFuC2weeKlECml+fBW5fnwSKUVsIilFbCOiXRweb42sHQhfTBeJC+wDdrncHGC14/qqubP6qrmz+HeHE/AR9RQC8O2MBpJcvAbyuPPwFYssFxhPPBKJHTwamWL8J2lrzBBMm5wdqF9kHk89dBN/nuQWP77UFnRkpCMDfGwGJGSkIwN8bAXZ/FPyrBxsDQenZASeaFwSpZ2MChBpXBV2HYwA+nssHYi+LAc/anQaHXl8GMdoTBMG2awSnnrsE4NbzAKeeuwTg1vMBMp5fBODW8wLnbrsFRUJrBKeeuwSdqmsHSpPbB+CP6wYkX0cHKxFDCK+hvPyiR08HxHPHB74NRwjCX570n9FRAuA/AwYKEacFL8y3CKPMtwi9aLsLuhvrBDGezwXinssEV46/AGJBlQMB2mEB4pPbBzyXRwXVPbMGEVcXBr1XFwbdJp74BhSM+n/s6wctJuMEW4SdC9wE1wni+1cFimfTB5lGBwQtvncHDGZ3BK+2kP+WnZ0B0mqXAJ/qRQPyNUkD89NZB0QbbQYvw38Gf0drBwLBDQMkNUEDEQl5A7vPuwaagpcBdZcrA+5fnwT8JVcI/CVXCGQ/FwSsPxcESpfbAxwnqwbNQVsGr6VnBxwbawccG2sFW6lnBa/Y+QC5rU8Gune1BV7RsvqXnOMJgIAs9jr22wRcLMECQqzjCQgkwQEG718HszMrBG7vXwezMysHzJzjCZ201wQFzMMGtTEBABAk+woS8DEIwMozA0qeSwQwoyMEjRFXChotVwk8oWMJ4oFjCC2KnQG0J50CEcaLA2hTfQfQL50BCHOBBmC/hQZBl5kGQZeZBa3EwwXb+OsJrrd7BQYTfwWQS8cGcGvXB/9q/wYn7nEC8sY5AkbKOQOcDhsEuk77B7vPuwdKnksFVZr/BAgrrwejQ2sFabDrCBM6pwTKT2kArg7DAinewwC6jjUAopI1A0WCdQJBlnUA0t7dBQOidwF0g/ECNFqpAEOM1QKqQp8DN9ofB8uM1QJpQxsAV46/A/pIZQD4hhUBsdI1AbHSNQEK8usD7AoPBI3yCQIn7nEAwMozAOjiHwWCapMAs5qlB/zlEQOPlqUH/OURAU+0mQFPtJkBY4ZpAsjKKwEh7Nj9J9O1BQhzgQRAjtMEdIa/BX7s5whkPxcFabDrCmhopwV+uYj+oTprBeJC+wCaHrcHmUYHBVuqDwUbqg8GaUMbAq3eFwfJ3r8HZk+zBYmjBwQ==",
          "dtype": "f4"
         },
         "yaxis": "y"
        },
        {
         "customdata": [
          [
           "Prey South Prey South"
          ],
          [
           "Prey South Prey South"
          ],
          [
           "Prey South Prey South"
          ],
          [
           "Prey South Prey South"
          ],
          [
           "Prey South Prey South"
          ],
          [
           "Prey South Prey South"
          ]
         ],
         "hovertemplate": "Description=%{customdata[0]}<br>TSNE-1=%{x}<br>TSNE-2=%{y}<extra></extra>",
         "legendgroup": "Prey South Prey South",
         "marker": {
          "color": "#636efa",
          "opacity": 0.8,
          "size": 6,
          "symbol": "circle"
         },
         "mode": "markers",
         "name": "Prey South Prey South",
         "showlegend": true,
         "type": "scattergl",
         "x": {
          "bdata": "U+gzwZ3p28FJVDPBEjLUwafl28GBXE7C",
          "dtype": "f4"
         },
         "xaxis": "x",
         "y": {
          "bdata": "91KSQU34EkLOS5NBpEgKQldNE0ItmhVC",
          "dtype": "f4"
         },
         "yaxis": "y"
        },
        {
         "customdata": [
          [
           "Prey Center Prey Center"
          ],
          [
           "Prey Center Prey Center"
          ],
          [
           "Prey Center Prey Center"
          ],
          [
           "Prey Center Prey Center"
          ],
          [
           "Prey Center Prey Center"
          ],
          [
           "Prey Center Prey Center"
          ]
         ],
         "hovertemplate": "Description=%{customdata[0]}<br>TSNE-1=%{x}<br>TSNE-2=%{y}<extra></extra>",
         "legendgroup": "Prey Center Prey Center",
         "marker": {
          "color": "#EF553B",
          "opacity": 0.8,
          "size": 6,
          "symbol": "circle"
         },
         "mode": "markers",
         "name": "Prey Center Prey Center",
         "showlegend": true,
         "type": "scattergl",
         "x": {
          "bdata": "3PAwwjO1msGBOl5BECJVQd/FVEG8fl9B",
          "dtype": "f4"
         },
         "xaxis": "x",
         "y": {
          "bdata": "g8hrwukhJsKYaURBGutRQZFJTkG8ziNB",
          "dtype": "f4"
         },
         "yaxis": "y"
        },
        {
         "customdata": [
          [
           "Prey West Prey West"
          ],
          [
           "Prey West Prey West"
          ],
          [
           "Prey West Prey West"
          ],
          [
           "Prey West Prey West"
          ],
          [
           "Prey West Prey West"
          ],
          [
           "Prey West Prey West"
          ],
          [
           "Prey West Prey West"
          ],
          [
           "Prey West Prey West"
          ],
          [
           "Prey West Prey West"
          ],
          [
           "Prey West Prey West"
          ],
          [
           "Prey West Prey West"
          ],
          [
           "Prey West Prey West"
          ],
          [
           "Prey West Prey West"
          ],
          [
           "Prey West Prey West"
          ],
          [
           "Prey West Prey West"
          ]
         ],
         "hovertemplate": "Description=%{customdata[0]}<br>TSNE-1=%{x}<br>TSNE-2=%{y}<extra></extra>",
         "legendgroup": "Prey West Prey West",
         "marker": {
          "color": "#00cc96",
          "opacity": 0.8,
          "size": 6,
          "symbol": "circle"
         },
         "mode": "markers",
         "name": "Prey West Prey West",
         "showlegend": true,
         "type": "scattergl",
         "x": {
          "bdata": "xAmdwi0zY8IncpPC1yTywUgmY0HjyhzBW9vKQdvT18GR8zDC5CmbwtFyk8KBXp/Ch4OSwtpfk8IcIJHC",
          "dtype": "f4"
         },
         "xaxis": "x",
         "y": {
          "bdata": "x4VTQbR8AUKuxo1Beh4uwU3YG0HfDyrCoXFUQFbahcK2zmvCBJaDwa7AjUENtFRBCQjDweQSvMFSBMfB",
          "dtype": "f4"
         },
         "yaxis": "y"
        },
        {
         "customdata": [
          [
           "Prey West Prey Center"
          ],
          [
           "Prey West Prey Center"
          ]
         ],
         "hovertemplate": "Description=%{customdata[0]}<br>TSNE-1=%{x}<br>TSNE-2=%{y}<extra></extra>",
         "legendgroup": "Prey West Prey Center",
         "marker": {
          "color": "#ab63fa",
          "opacity": 0.8,
          "size": 6,
          "symbol": "circle"
         },
         "mode": "markers",
         "name": "Prey West Prey Center",
         "showlegend": true,
         "type": "scattergl",
         "x": {
          "bdata": "Evuawsv0MMI=",
          "dtype": "f4"
         },
         "xaxis": "x",
         "y": {
          "bdata": "qxh0wZnIa8I=",
          "dtype": "f4"
         },
         "yaxis": "y"
        },
        {
         "customdata": [
          [
           "Prey East Prey Center"
          ]
         ],
         "hovertemplate": "Description=%{customdata[0]}<br>TSNE-1=%{x}<br>TSNE-2=%{y}<extra></extra>",
         "legendgroup": "Prey East Prey Center",
         "marker": {
          "color": "#FFA15A",
          "opacity": 0.8,
          "size": 6,
          "symbol": "circle"
         },
         "mode": "markers",
         "name": "Prey East Prey Center",
         "showlegend": true,
         "type": "scattergl",
         "x": {
          "bdata": "lX61wQ==",
          "dtype": "f4"
         },
         "xaxis": "x",
         "y": {
          "bdata": "w/dewg==",
          "dtype": "f4"
         },
         "yaxis": "y"
        },
        {
         "customdata": [
          [
           "Prey East Prey East"
          ],
          [
           "Prey East Prey East"
          ],
          [
           "Prey East Prey East"
          ],
          [
           "Prey East Prey East"
          ],
          [
           "Prey East Prey East"
          ],
          [
           "Prey East Prey East"
          ],
          [
           "Prey East Prey East"
          ],
          [
           "Prey East Prey East"
          ],
          [
           "Prey East Prey East"
          ],
          [
           "Prey East Prey East"
          ],
          [
           "Prey East Prey East"
          ]
         ],
         "hovertemplate": "Description=%{customdata[0]}<br>TSNE-1=%{x}<br>TSNE-2=%{y}<extra></extra>",
         "legendgroup": "Prey East Prey East",
         "marker": {
          "color": "#19d3f3",
          "opacity": 0.8,
          "size": 6,
          "symbol": "circle"
         },
         "mode": "markers",
         "name": "Prey East Prey East",
         "showlegend": true,
         "type": "scattergl",
         "x": {
          "bdata": "IsmRv2jUuMH2AbO/S0v/wdapicInkYnCH75kwe4eDkDRJ3LBkHVxwZy3IUA=",
          "dtype": "f4"
         },
         "xaxis": "x",
         "y": {
          "bdata": "xpUNwopnX8KqBQ3CpVPdwRPi+8DqFvnAX1oJwn4E98G2OgvCvSULwoUh98E=",
          "dtype": "f4"
         },
         "yaxis": "y"
        },
        {
         "customdata": [
          [
           "Prey Center Prey South"
          ],
          [
           "Prey Center Prey South"
          ],
          [
           "Prey Center Prey South"
          ],
          [
           "Prey Center Prey South"
          ],
          [
           "Prey Center Prey South"
          ],
          [
           "Prey Center Prey South"
          ],
          [
           "Prey Center Prey South"
          ]
         ],
         "hovertemplate": "Description=%{customdata[0]}<br>TSNE-1=%{x}<br>TSNE-2=%{y}<extra></extra>",
         "legendgroup": "Prey Center Prey South",
         "marker": {
          "color": "#FF6692",
          "opacity": 0.8,
          "size": 6,
          "symbol": "circle"
         },
         "mode": "markers",
         "name": "Prey Center Prey South",
         "showlegend": true,
         "type": "scattergl",
         "x": {
          "bdata": "0JnFP1ma28FHbbk/03oJQWGfgUENv75BFb++QQ==",
          "dtype": "f4"
         },
         "xaxis": "x",
         "y": {
          "bdata": "efX0wS8gEEIb2vTBregqQY/JRUHsxpHB68aRwQ==",
          "dtype": "f4"
         },
         "yaxis": "y"
        },
        {
         "customdata": [
          [
           "Prey North Prey Center"
          ],
          [
           "Prey North Prey Center"
          ],
          [
           "Prey North Prey Center"
          ],
          [
           "Prey North Prey Center"
          ],
          [
           "Prey North Prey Center"
          ],
          [
           "Prey North Prey Center"
          ]
         ],
         "hovertemplate": "Description=%{customdata[0]}<br>TSNE-1=%{x}<br>TSNE-2=%{y}<extra></extra>",
         "legendgroup": "Prey North Prey Center",
         "marker": {
          "color": "#B6E880",
          "opacity": 0.8,
          "size": 6,
          "symbol": "circle"
         },
         "mode": "markers",
         "name": "Prey North Prey Center",
         "showlegend": true,
         "type": "scattergl",
         "x": {
          "bdata": "yjGbwtkxm8Jk+3xBW/d6QZmvmcKjUpvC",
          "dtype": "f4"
         },
         "xaxis": "x",
         "y": {
          "bdata": "O9cHQUnXB0Ej/kJBgPVAQSQ6DEElo0JB",
          "dtype": "f4"
         },
         "yaxis": "y"
        },
        {
         "customdata": [
          [
           "Prey North Prey North"
          ],
          [
           "Prey North Prey North"
          ],
          [
           "Prey North Prey North"
          ],
          [
           "Prey North Prey North"
          ]
         ],
         "hovertemplate": "Description=%{customdata[0]}<br>TSNE-1=%{x}<br>TSNE-2=%{y}<extra></extra>",
         "legendgroup": "Prey North Prey North",
         "marker": {
          "color": "#FF97FF",
          "opacity": 0.8,
          "size": 6,
          "symbol": "circle"
         },
         "mode": "markers",
         "name": "Prey North Prey North",
         "showlegend": true,
         "type": "scattergl",
         "x": {
          "bdata": "0GeRwp3jkMJ7fBbC7yaZwg==",
          "dtype": "f4"
         },
         "xaxis": "x",
         "y": {
          "bdata": "uk1rwU70c8HVgePBaVwOQQ==",
          "dtype": "f4"
         },
         "yaxis": "y"
        }
       ],
       "layout": {
        "height": 1000,
        "legend": {
         "itemsizing": "constant",
         "title": {
          "text": "Descriptions"
         },
         "tracegroupgap": 0
        },
        "template": {
         "data": {
          "bar": [
           {
            "error_x": {
             "color": "#2a3f5f"
            },
            "error_y": {
             "color": "#2a3f5f"
            },
            "marker": {
             "line": {
              "color": "#E5ECF6",
              "width": 0.5
             },
             "pattern": {
              "fillmode": "overlay",
              "size": 10,
              "solidity": 0.2
             }
            },
            "type": "bar"
           }
          ],
          "barpolar": [
           {
            "marker": {
             "line": {
              "color": "#E5ECF6",
              "width": 0.5
             },
             "pattern": {
              "fillmode": "overlay",
              "size": 10,
              "solidity": 0.2
             }
            },
            "type": "barpolar"
           }
          ],
          "carpet": [
           {
            "aaxis": {
             "endlinecolor": "#2a3f5f",
             "gridcolor": "white",
             "linecolor": "white",
             "minorgridcolor": "white",
             "startlinecolor": "#2a3f5f"
            },
            "baxis": {
             "endlinecolor": "#2a3f5f",
             "gridcolor": "white",
             "linecolor": "white",
             "minorgridcolor": "white",
             "startlinecolor": "#2a3f5f"
            },
            "type": "carpet"
           }
          ],
          "choropleth": [
           {
            "colorbar": {
             "outlinewidth": 0,
             "ticks": ""
            },
            "type": "choropleth"
           }
          ],
          "contour": [
           {
            "colorbar": {
             "outlinewidth": 0,
             "ticks": ""
            },
            "colorscale": [
             [
              0,
              "#0d0887"
             ],
             [
              0.1111111111111111,
              "#46039f"
             ],
             [
              0.2222222222222222,
              "#7201a8"
             ],
             [
              0.3333333333333333,
              "#9c179e"
             ],
             [
              0.4444444444444444,
              "#bd3786"
             ],
             [
              0.5555555555555556,
              "#d8576b"
             ],
             [
              0.6666666666666666,
              "#ed7953"
             ],
             [
              0.7777777777777778,
              "#fb9f3a"
             ],
             [
              0.8888888888888888,
              "#fdca26"
             ],
             [
              1,
              "#f0f921"
             ]
            ],
            "type": "contour"
           }
          ],
          "contourcarpet": [
           {
            "colorbar": {
             "outlinewidth": 0,
             "ticks": ""
            },
            "type": "contourcarpet"
           }
          ],
          "heatmap": [
           {
            "colorbar": {
             "outlinewidth": 0,
             "ticks": ""
            },
            "colorscale": [
             [
              0,
              "#0d0887"
             ],
             [
              0.1111111111111111,
              "#46039f"
             ],
             [
              0.2222222222222222,
              "#7201a8"
             ],
             [
              0.3333333333333333,
              "#9c179e"
             ],
             [
              0.4444444444444444,
              "#bd3786"
             ],
             [
              0.5555555555555556,
              "#d8576b"
             ],
             [
              0.6666666666666666,
              "#ed7953"
             ],
             [
              0.7777777777777778,
              "#fb9f3a"
             ],
             [
              0.8888888888888888,
              "#fdca26"
             ],
             [
              1,
              "#f0f921"
             ]
            ],
            "type": "heatmap"
           }
          ],
          "histogram": [
           {
            "marker": {
             "pattern": {
              "fillmode": "overlay",
              "size": 10,
              "solidity": 0.2
             }
            },
            "type": "histogram"
           }
          ],
          "histogram2d": [
           {
            "colorbar": {
             "outlinewidth": 0,
             "ticks": ""
            },
            "colorscale": [
             [
              0,
              "#0d0887"
             ],
             [
              0.1111111111111111,
              "#46039f"
             ],
             [
              0.2222222222222222,
              "#7201a8"
             ],
             [
              0.3333333333333333,
              "#9c179e"
             ],
             [
              0.4444444444444444,
              "#bd3786"
             ],
             [
              0.5555555555555556,
              "#d8576b"
             ],
             [
              0.6666666666666666,
              "#ed7953"
             ],
             [
              0.7777777777777778,
              "#fb9f3a"
             ],
             [
              0.8888888888888888,
              "#fdca26"
             ],
             [
              1,
              "#f0f921"
             ]
            ],
            "type": "histogram2d"
           }
          ],
          "histogram2dcontour": [
           {
            "colorbar": {
             "outlinewidth": 0,
             "ticks": ""
            },
            "colorscale": [
             [
              0,
              "#0d0887"
             ],
             [
              0.1111111111111111,
              "#46039f"
             ],
             [
              0.2222222222222222,
              "#7201a8"
             ],
             [
              0.3333333333333333,
              "#9c179e"
             ],
             [
              0.4444444444444444,
              "#bd3786"
             ],
             [
              0.5555555555555556,
              "#d8576b"
             ],
             [
              0.6666666666666666,
              "#ed7953"
             ],
             [
              0.7777777777777778,
              "#fb9f3a"
             ],
             [
              0.8888888888888888,
              "#fdca26"
             ],
             [
              1,
              "#f0f921"
             ]
            ],
            "type": "histogram2dcontour"
           }
          ],
          "mesh3d": [
           {
            "colorbar": {
             "outlinewidth": 0,
             "ticks": ""
            },
            "type": "mesh3d"
           }
          ],
          "parcoords": [
           {
            "line": {
             "colorbar": {
              "outlinewidth": 0,
              "ticks": ""
             }
            },
            "type": "parcoords"
           }
          ],
          "pie": [
           {
            "automargin": true,
            "type": "pie"
           }
          ],
          "scatter": [
           {
            "fillpattern": {
             "fillmode": "overlay",
             "size": 10,
             "solidity": 0.2
            },
            "type": "scatter"
           }
          ],
          "scatter3d": [
           {
            "line": {
             "colorbar": {
              "outlinewidth": 0,
              "ticks": ""
             }
            },
            "marker": {
             "colorbar": {
              "outlinewidth": 0,
              "ticks": ""
             }
            },
            "type": "scatter3d"
           }
          ],
          "scattercarpet": [
           {
            "marker": {
             "colorbar": {
              "outlinewidth": 0,
              "ticks": ""
             }
            },
            "type": "scattercarpet"
           }
          ],
          "scattergeo": [
           {
            "marker": {
             "colorbar": {
              "outlinewidth": 0,
              "ticks": ""
             }
            },
            "type": "scattergeo"
           }
          ],
          "scattergl": [
           {
            "marker": {
             "colorbar": {
              "outlinewidth": 0,
              "ticks": ""
             }
            },
            "type": "scattergl"
           }
          ],
          "scattermap": [
           {
            "marker": {
             "colorbar": {
              "outlinewidth": 0,
              "ticks": ""
             }
            },
            "type": "scattermap"
           }
          ],
          "scattermapbox": [
           {
            "marker": {
             "colorbar": {
              "outlinewidth": 0,
              "ticks": ""
             }
            },
            "type": "scattermapbox"
           }
          ],
          "scatterpolar": [
           {
            "marker": {
             "colorbar": {
              "outlinewidth": 0,
              "ticks": ""
             }
            },
            "type": "scatterpolar"
           }
          ],
          "scatterpolargl": [
           {
            "marker": {
             "colorbar": {
              "outlinewidth": 0,
              "ticks": ""
             }
            },
            "type": "scatterpolargl"
           }
          ],
          "scatterternary": [
           {
            "marker": {
             "colorbar": {
              "outlinewidth": 0,
              "ticks": ""
             }
            },
            "type": "scatterternary"
           }
          ],
          "surface": [
           {
            "colorbar": {
             "outlinewidth": 0,
             "ticks": ""
            },
            "colorscale": [
             [
              0,
              "#0d0887"
             ],
             [
              0.1111111111111111,
              "#46039f"
             ],
             [
              0.2222222222222222,
              "#7201a8"
             ],
             [
              0.3333333333333333,
              "#9c179e"
             ],
             [
              0.4444444444444444,
              "#bd3786"
             ],
             [
              0.5555555555555556,
              "#d8576b"
             ],
             [
              0.6666666666666666,
              "#ed7953"
             ],
             [
              0.7777777777777778,
              "#fb9f3a"
             ],
             [
              0.8888888888888888,
              "#fdca26"
             ],
             [
              1,
              "#f0f921"
             ]
            ],
            "type": "surface"
           }
          ],
          "table": [
           {
            "cells": {
             "fill": {
              "color": "#EBF0F8"
             },
             "line": {
              "color": "white"
             }
            },
            "header": {
             "fill": {
              "color": "#C8D4E3"
             },
             "line": {
              "color": "white"
             }
            },
            "type": "table"
           }
          ]
         },
         "layout": {
          "annotationdefaults": {
           "arrowcolor": "#2a3f5f",
           "arrowhead": 0,
           "arrowwidth": 1
          },
          "autotypenumbers": "strict",
          "coloraxis": {
           "colorbar": {
            "outlinewidth": 0,
            "ticks": ""
           }
          },
          "colorscale": {
           "diverging": [
            [
             0,
             "#8e0152"
            ],
            [
             0.1,
             "#c51b7d"
            ],
            [
             0.2,
             "#de77ae"
            ],
            [
             0.3,
             "#f1b6da"
            ],
            [
             0.4,
             "#fde0ef"
            ],
            [
             0.5,
             "#f7f7f7"
            ],
            [
             0.6,
             "#e6f5d0"
            ],
            [
             0.7,
             "#b8e186"
            ],
            [
             0.8,
             "#7fbc41"
            ],
            [
             0.9,
             "#4d9221"
            ],
            [
             1,
             "#276419"
            ]
           ],
           "sequential": [
            [
             0,
             "#0d0887"
            ],
            [
             0.1111111111111111,
             "#46039f"
            ],
            [
             0.2222222222222222,
             "#7201a8"
            ],
            [
             0.3333333333333333,
             "#9c179e"
            ],
            [
             0.4444444444444444,
             "#bd3786"
            ],
            [
             0.5555555555555556,
             "#d8576b"
            ],
            [
             0.6666666666666666,
             "#ed7953"
            ],
            [
             0.7777777777777778,
             "#fb9f3a"
            ],
            [
             0.8888888888888888,
             "#fdca26"
            ],
            [
             1,
             "#f0f921"
            ]
           ],
           "sequentialminus": [
            [
             0,
             "#0d0887"
            ],
            [
             0.1111111111111111,
             "#46039f"
            ],
            [
             0.2222222222222222,
             "#7201a8"
            ],
            [
             0.3333333333333333,
             "#9c179e"
            ],
            [
             0.4444444444444444,
             "#bd3786"
            ],
            [
             0.5555555555555556,
             "#d8576b"
            ],
            [
             0.6666666666666666,
             "#ed7953"
            ],
            [
             0.7777777777777778,
             "#fb9f3a"
            ],
            [
             0.8888888888888888,
             "#fdca26"
            ],
            [
             1,
             "#f0f921"
            ]
           ]
          },
          "colorway": [
           "#636efa",
           "#EF553B",
           "#00cc96",
           "#ab63fa",
           "#FFA15A",
           "#19d3f3",
           "#FF6692",
           "#B6E880",
           "#FF97FF",
           "#FECB52"
          ],
          "font": {
           "color": "#2a3f5f"
          },
          "geo": {
           "bgcolor": "white",
           "lakecolor": "white",
           "landcolor": "#E5ECF6",
           "showlakes": true,
           "showland": true,
           "subunitcolor": "white"
          },
          "hoverlabel": {
           "align": "left"
          },
          "hovermode": "closest",
          "mapbox": {
           "style": "light"
          },
          "paper_bgcolor": "white",
          "plot_bgcolor": "#E5ECF6",
          "polar": {
           "angularaxis": {
            "gridcolor": "white",
            "linecolor": "white",
            "ticks": ""
           },
           "bgcolor": "#E5ECF6",
           "radialaxis": {
            "gridcolor": "white",
            "linecolor": "white",
            "ticks": ""
           }
          },
          "scene": {
           "xaxis": {
            "backgroundcolor": "#E5ECF6",
            "gridcolor": "white",
            "gridwidth": 2,
            "linecolor": "white",
            "showbackground": true,
            "ticks": "",
            "zerolinecolor": "white"
           },
           "yaxis": {
            "backgroundcolor": "#E5ECF6",
            "gridcolor": "white",
            "gridwidth": 2,
            "linecolor": "white",
            "showbackground": true,
            "ticks": "",
            "zerolinecolor": "white"
           },
           "zaxis": {
            "backgroundcolor": "#E5ECF6",
            "gridcolor": "white",
            "gridwidth": 2,
            "linecolor": "white",
            "showbackground": true,
            "ticks": "",
            "zerolinecolor": "white"
           }
          },
          "shapedefaults": {
           "line": {
            "color": "#2a3f5f"
           }
          },
          "ternary": {
           "aaxis": {
            "gridcolor": "white",
            "linecolor": "white",
            "ticks": ""
           },
           "baxis": {
            "gridcolor": "white",
            "linecolor": "white",
            "ticks": ""
           },
           "bgcolor": "#E5ECF6",
           "caxis": {
            "gridcolor": "white",
            "linecolor": "white",
            "ticks": ""
           }
          },
          "title": {
           "x": 0.05
          },
          "xaxis": {
           "automargin": true,
           "gridcolor": "white",
           "linecolor": "white",
           "ticks": "",
           "title": {
            "standoff": 15
           },
           "zerolinecolor": "white",
           "zerolinewidth": 2
          },
          "yaxis": {
           "automargin": true,
           "gridcolor": "white",
           "linecolor": "white",
           "ticks": "",
           "title": {
            "standoff": 15
           },
           "zerolinecolor": "white",
           "zerolinewidth": 2
          }
         }
        },
        "title": {
         "text": "Interactive t-SNE Reduced Embeddings"
        },
        "width": 1000,
        "xaxis": {
         "anchor": "y",
         "domain": [
          0,
          1
         ],
         "title": {
          "text": "TSNE-1"
         }
        },
        "yaxis": {
         "anchor": "x",
         "domain": [
          0,
          1
         ],
         "title": {
          "text": "TSNE-2"
         }
        }
       }
      }
     },
     "metadata": {},
     "output_type": "display_data"
    }
   ],
   "source": [
    "plot_tsne(enc_obs, labels)"
   ]
  },
  {
   "cell_type": "code",
   "execution_count": null,
   "id": "a67d8f1b",
   "metadata": {},
   "outputs": [],
   "source": []
  }
 ],
 "metadata": {
  "kernelspec": {
   "display_name": "venv",
   "language": "python",
   "name": "python3"
  },
  "language_info": {
   "codemirror_mode": {
    "name": "ipython",
    "version": 3
   },
   "file_extension": ".py",
   "mimetype": "text/x-python",
   "name": "python",
   "nbconvert_exporter": "python",
   "pygments_lexer": "ipython3",
   "version": "3.10.12"
  }
 },
 "nbformat": 4,
 "nbformat_minor": 5
}
