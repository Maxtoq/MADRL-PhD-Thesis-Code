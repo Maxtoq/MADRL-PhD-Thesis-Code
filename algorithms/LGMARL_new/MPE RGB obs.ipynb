{
 "cells": [
  {
   "cell_type": "code",
   "execution_count": 26,
   "id": "fa4c0055",
   "metadata": {},
   "outputs": [],
   "source": [
    "import numpy as np\n",
    "import matplotlib.pyplot as plt\n",
    "\n",
    "def draw_circle(image: np.ndarray, position: tuple, size_cm: float, color: tuple):\n",
    "    \"\"\"\n",
    "    Draws a circle in a given RGB NumPy matrix.\n",
    "\n",
    "    Parameters:\n",
    "        image (np.ndarray): A 3D NumPy array (NxNx3) representing the RGB image.\n",
    "        size_cm (float): Diameter of the circle in centimeters.\n",
    "        color (tuple): A tuple (R, G, B) representing the color of the circle, with values in [0, 255].\n",
    "        position (tuple): A tuple (x, y) specifying the circle's center in [-1, 1]² space.\n",
    "\n",
    "    Returns:\n",
    "        np.ndarray: The modified image with the circle drawn.\n",
    "    \"\"\"\n",
    "    # Ensure the input image is valid\n",
    "    if image.ndim != 3 or image.shape[2] != 3:\n",
    "        raise ValueError(\"Input image must be a 3D NumPy array with shape (N, N, 3).\")\n",
    "\n",
    "    if not (0 <= color[0] <= 255 and 0 <= color[1] <= 255 and 0 <= color[2] <= 255):\n",
    "        raise ValueError(\"Color values must be in the range [0, 255].\")\n",
    "\n",
    "    if not (-1 <= position[0] <= 1 and -1 <= position[1] <= 1):\n",
    "        raise ValueError(\"Position coordinates must be in the range [-1, 1].\")\n",
    "\n",
    "    # Get image dimensions\n",
    "    height, width, _ = image.shape\n",
    "\n",
    "    # Map size in cm to size in pixels\n",
    "    meters_per_pixel = 2 / height  # Since the image represents 2x2 meters\n",
    "    radius_pixels = (size_cm / 100) / meters_per_pixel / 2\n",
    "\n",
    "    # Map position from [-1, 1]² to pixel coordinates\n",
    "    center_x = int((position[0] + 1) / 2 * width)\n",
    "    center_y = int((position[1] + 1) / 2 * height)\n",
    "\n",
    "    # Draw the circle\n",
    "    y, x = np.ogrid[:height, :width]\n",
    "    distance_from_center = np.sqrt((x - center_x) ** 2 + (y - center_y) ** 2)\n",
    "    mask = distance_from_center <= radius_pixels\n",
    "\n",
    "    # Apply the color to the circle region\n",
    "    image[mask] = color\n",
    "\n",
    "def draw_agent(image: np.ndarray, position: tuple):\n",
    "    size = 10\n",
    "    color = (0, 0, 255)\n",
    "    draw_circle(image, position, size, color)\n",
    "\n",
    "def draw_prey(image: np.ndarray, position: tuple):\n",
    "    size = 10\n",
    "    color = (255, 0, 0)\n",
    "    draw_circle(image, position, size, color)\n",
    "\n",
    "def display_image(image: np.ndarray):\n",
    "    \"\"\"\n",
    "    Displays the given image using Matplotlib.\n",
    "\n",
    "    Parameters:\n",
    "        image (np.ndarray): A 3D NumPy array (NxNx3) representing the RGB image.\n",
    "    \"\"\"\n",
    "    plt.imshow(image)\n",
    "    plt.axis(\"off\")\n",
    "    plt.show()\n",
    "\n",
    "def observe_subarea(image: np.ndarray, position: tuple):\n",
    "    \"\"\"\n",
    "    Observes a 5x5 pixelated subarea of the image centered around the given position.\n",
    "\n",
    "    Parameters:\n",
    "        image (np.ndarray): A 3D NumPy array (NxNx3) representing the RGB image.\n",
    "        position (tuple): A tuple (x, y) specifying the center of the subarea in [-1, 1]² space.\n",
    "\n",
    "    Returns:\n",
    "        np.ndarray: A 5x5x3 NumPy array representing the pixelated subarea.\n",
    "    \"\"\"\n",
    "    if not (-1 <= position[0] <= 1 and -1 <= position[1] <= 1):\n",
    "        raise ValueError(\"Position coordinates must be in the range [-1, 1].\")\n",
    "\n",
    "    # Get image dimensions\n",
    "    height, width, _ = image.shape\n",
    "\n",
    "    # Map position from [-1, 1]² to pixel coordinates\n",
    "    center_x = int((position[0] + 1) / 2 * width)\n",
    "    center_y = int((position[1] + 1) / 2 * height)\n",
    "\n",
    "    # Define the size of each pixel in the subarea in real pixels\n",
    "    meters_per_pixel = 2 / height  # Since the image represents 2x2 meters\n",
    "    pixel_size = int(0.1 / meters_per_pixel)  # 10 cm in pixels\n",
    "\n",
    "    # Initialize the 5x5x3 subarea array\n",
    "    subarea = np.zeros((5, 5, 3), dtype=np.uint8)\n",
    "\n",
    "    # Calculate the subarea\n",
    "    for i in range(-2, 3):\n",
    "        for j in range(-2, 3):\n",
    "            # Determine the bounds of the 10x10 cm square\n",
    "            x_start = max(int(center_x + i * pixel_size - pixel_size / 2), 0)\n",
    "            x_end = min(int(center_x + (i + 1) * pixel_size - pixel_size / 2), width)\n",
    "            y_start = max(int(center_y + j * pixel_size - pixel_size / 2), 0)\n",
    "            y_end = min(int(center_y + (j + 1) * pixel_size - pixel_size / 2), height)\n",
    "\n",
    "            # Extract the subregion and calculate the average color\n",
    "            subregion = image[y_start:y_end, x_start:x_end]\n",
    "            if subregion.size > 0:\n",
    "                subarea[j + 2, i + 2] = subregion.mean(axis=(0, 1)).astype(np.uint8)\n",
    "\n",
    "    return subarea\n"
   ]
  },
  {
   "cell_type": "code",
   "execution_count": 27,
   "id": "4916074f",
   "metadata": {},
   "outputs": [
    {
     "data": {
      "image/png": "[encoded data removed]",
      "text/plain": [
       "<Figure size 640x480 with 1 Axes>"
      ]
     },
     "metadata": {},
     "output_type": "display_data"
    }
   ],
   "source": [
    "# Create an empty image (black background)\n",
    "img_size = 1000  # 1000x1000 pixels\n",
    "image = np.zeros((img_size, img_size, 3), dtype=np.uint8)\n",
    "\n",
    "# Draw a red circle with a diameter of 50 cm at position (-0.5, 0.5)\n",
    "red = (255, 0, 0)  # Red color\n",
    "blue = (0, 0, 255)\n",
    "circle_position = (-0.5, 0.5)\n",
    "\n",
    "draw_prey(image, (-0.75, 0.5))\n",
    "draw_agent(image, (-0.9, 0.75))\n",
    "\n",
    "# Display the resulting image\n",
    "display_image(image)"
   ]
  },
  {
   "cell_type": "code",
   "execution_count": 33,
   "id": "a8eb437c",
   "metadata": {},
   "outputs": [
    {
     "data": {
      "image/png": "[encoded data removed]",
      "text/plain": [
       "<Figure size 640x480 with 1 Axes>"
      ]
     },
     "metadata": {},
     "output_type": "display_data"
    }
   ],
   "source": [
    "o = observe_subarea(image, (-0.8, 0.6))\n",
    "display_image(o)"
   ]
  },
  {
   "cell_type": "code",
   "execution_count": 35,
   "id": "9f40f621",
   "metadata": {},
   "outputs": [
    {
     "data": {
      "text/plain": [
       "array([[[0.        , 0.        , 0.        ],\n",
       "        [0.        , 0.        , 0.        ],\n",
       "        [0.        , 0.        , 0.        ],\n",
       "        [0.        , 0.        , 0.        ],\n",
       "        [0.        , 0.        , 0.        ]],\n",
       "\n",
       "       [[0.        , 0.        , 0.        ],\n",
       "        [0.        , 0.        , 0.        ],\n",
       "        [0.36078431, 0.        , 0.        ],\n",
       "        [0.41960784, 0.        , 0.        ],\n",
       "        [0.        , 0.        , 0.        ]],\n",
       "\n",
       "       [[0.        , 0.        , 0.        ],\n",
       "        [0.        , 0.        , 0.        ],\n",
       "        [0.        , 0.        , 0.        ],\n",
       "        [0.        , 0.        , 0.        ],\n",
       "        [0.        , 0.        , 0.        ]],\n",
       "\n",
       "       [[0.        , 0.        , 0.        ],\n",
       "        [0.        , 0.        , 0.38039216],\n",
       "        [0.        , 0.        , 0.        ],\n",
       "        [0.        , 0.        , 0.        ],\n",
       "        [0.        , 0.        , 0.        ]],\n",
       "\n",
       "       [[0.        , 0.        , 0.        ],\n",
       "        [0.        , 0.        , 0.4       ],\n",
       "        [0.        , 0.        , 0.        ],\n",
       "        [0.        , 0.        , 0.        ],\n",
       "        [0.        , 0.        , 0.        ]]])"
      ]
     },
     "execution_count": 35,
     "metadata": {},
     "output_type": "execute_result"
    }
   ],
   "source": [
    "o / 255"
   ]
  },
  {
   "cell_type": "code",
   "execution_count": null,
   "id": "82fd76db",
   "metadata": {},
   "outputs": [],
   "source": []
  }
 ],
 "metadata": {
  "kernelspec": {
   "display_name": "Python 3 (ipykernel)",
   "language": "python",
   "name": "python3"
  },
  "language_info": {
   "codemirror_mode": {
    "name": "ipython",
    "version": 3
   },
   "file_extension": ".py",
   "mimetype": "text/x-python",
   "name": "python",
   "nbconvert_exporter": "python",
   "pygments_lexer": "ipython3",
   "version": "3.10.12"
  }
 },
 "nbformat": 4,
 "nbformat_minor": 5
}
