{
 "cells": [
  {
   "cell_type": "markdown",
   "id": "842d20ad",
   "metadata": {},
   "source": [
    "Make model"
   ]
  },
  {
   "cell_type": "code",
   "execution_count": 2,
   "id": "61d61cd4",
   "metadata": {},
   "outputs": [],
   "source": [
    "import torch\n",
    "import numpy as np\n",
    "from torch import nn\n",
    "\n",
    "from src.algo.language.lm import GRUEncoder, OneHotEncoder\n",
    "from src.algo.nn_modules.mlp import MLPNetwork\n",
    "    \n",
    "\n",
    "class LanguageEncoder(nn.Module):\n",
    "\n",
    "    \"\"\" \n",
    "    Class to manage and train the language modules: the Language Encoder, the \n",
    "    Observation Encoder and the Decoder. \n",
    "    \"\"\"\n",
    "\n",
    "    def __init__(self, input_dim, context_dim, hidden_dim, embed_dim, policy_layer_N, \n",
    "                 lr, vocab, max_message_len, device=\"cuda:0\"):\n",
    "        super(LanguageEncoder, self).__init__()\n",
    "        self.device = device\n",
    "\n",
    "        self.word_encoder = OneHotEncoder(vocab, max_message_len)\n",
    "\n",
    "        self.lang_encoder = GRUEncoder(\n",
    "            context_dim, \n",
    "            hidden_dim, \n",
    "            embed_dim, \n",
    "            self.word_encoder,\n",
    "            device=device)\n",
    "\n",
    "        self.obs_encoder = MLPNetwork(\n",
    "            input_dim, context_dim, hidden_dim, policy_layer_N)\n",
    "\n",
    "        self.clip_loss = nn.CrossEntropyLoss()\n",
    "        # self.captioning_loss = nn.NLLLoss()\n",
    "\n",
    "        self.optim = torch.optim.Adam( \n",
    "            self.parameters(),\n",
    "            # list(self.lang_encoder.parameters()) +\n",
    "            # list(self.obs_encoder.parameters()) +\n",
    "            # list(self.decoder.parameters()),\n",
    "            lr=lr)\n",
    "\n",
    "    def prep_rollout(self, device):\n",
    "        self.device = device\n",
    "        self.eval()\n",
    "        self.to(self.device)\n",
    "        self.lang_encoder.device = self.device\n",
    "\n",
    "    def prep_training(self, device):\n",
    "        self.device = device\n",
    "        self.train()\n",
    "        self.to(self.device)\n",
    "        self.lang_encoder.device = self.device\n",
    "\n",
    "    def encode_sentences(self, sentence_batch):\n",
    "        \"\"\" \n",
    "        Encode a batch of sentences. \n",
    "        :param sentence_batch (list(list(int))): Batch of enoded sentences.\n",
    "\n",
    "        :return context_batch (torch.Tensor): Batch of context vectors, \n",
    "            dim=(batch_size, context_dim).\n",
    "        \"\"\"\n",
    "        context_batch = self.lang_encoder(sentence_batch).squeeze(0)\n",
    "        return context_batch\n",
    "\n",
    "    def get_save_dict(self):\n",
    "        save_dict = {\n",
    "            \"lang_encoder\": self.lang_encoder.state_dict(),\n",
    "            \"obs_encoder\": self.obs_encoder.state_dict()}\n",
    "        return save_dict\n",
    "\n",
    "    def load_params(self, save_dict):\n",
    "        self.lang_encoder.load_state_dict(save_dict[\"lang_encoder\"])\n",
    "        self.obs_encoder.load_state_dict(save_dict[\"obs_encoder\"])"
   ]
  },
  {
   "cell_type": "code",
   "execution_count": 4,
   "id": "0775417e",
   "metadata": {},
   "outputs": [],
   "source": [
    "obs_dim = 77\n",
    "context_dim = 2\n",
    "hidden_dim = 64\n",
    "embed_dim = 4\n",
    "n_layer = 2\n",
    "lr = 0.007\n",
    "vocab = [\"Prey\", \"Center\", \"North\", \"South\", \"East\", \"West\",\n",
    "                        \"Gem\", \"Yellow\", \"Green\", \"Purple\"]\n",
    "max_mess_len = 6\n",
    "\n",
    "ll = LanguageEncoder(obs_dim, context_dim, hidden_dim, embed_dim, n_layer, lr, vocab, max_mess_len)"
   ]
  },
  {
   "cell_type": "markdown",
   "id": "eadc8cdb",
   "metadata": {},
   "source": [
    "Transform sentences to ids"
   ]
  },
  {
   "cell_type": "code",
   "execution_count": 2,
   "id": "f09687fe",
   "metadata": {},
   "outputs": [],
   "source": [
    "import pandas as pd\n",
    "import random\n",
    "import json\n",
    "\n",
    "def load_data(path):\n",
    "    df = pd.read_csv(path, index_col=0)\n",
    "    df = df.fillna('')\n",
    "\n",
    "    # Drop majority of rows with empty message\n",
    "    empty_ids = df.index[df[\"lang\"] == ''].tolist()\n",
    "    if len(empty_ids) > len(df) * 0.1:\n",
    "        drop_ids = random.sample(empty_ids, int(len(empty_ids) - len(df) * 0.1))\n",
    "        df = df.drop(drop_ids)\n",
    "\n",
    "    # Prepare data\n",
    "    df[\"lang\"] = df[\"lang\"].apply(lambda x: x.split(\" \"))\n",
    "    df[\"obs\"] = df[\"obs\"].apply(json.loads)\n",
    "\n",
    "    obs_dim = len(df.iloc[0][\"obs\"])\n",
    "    max_len = max(df[\"lang\"].apply(len))\n",
    "\n",
    "    print(f\"Obs dim = {obs_dim}, Max message length = {max_len}.\")\n",
    "\n",
    "    return df, obs_dim, max_len\n",
    "\n",
    "def prep_data(df, ll):\n",
    "    # Prepare data\n",
    "    df[\"lang\"] = df[\"lang\"].apply(lambda x: x.split(\" \"))\n",
    "    df[\"obs\"] = df[\"obs\"].apply(json.loads)\n",
    "\n",
    "    # Encode words to token ids\n",
    "    df[\"lang\"] = ll.word_encoder.encode_batch(list(df[\"lang\"]))\n",
    "\n",
    "    return df"
   ]
  },
  {
   "cell_type": "code",
   "execution_count": 13,
   "id": "45080ad9",
   "metadata": {},
   "outputs": [
    {
     "data": {
      "text/html": [
       "<div>\n",
       "<style scoped>\n",
       "    .dataframe tbody tr th:only-of-type {\n",
       "        vertical-align: middle;\n",
       "    }\n",
       "\n",
       "    .dataframe tbody tr th {\n",
       "        vertical-align: top;\n",
       "    }\n",
       "\n",
       "    .dataframe thead th {\n",
       "        text-align: right;\n",
       "    }\n",
       "</style>\n",
       "<table border=\"1\" class=\"dataframe\">\n",
       "  <thead>\n",
       "    <tr style=\"text-align: right;\">\n",
       "      <th></th>\n",
       "      <th>obs</th>\n",
       "      <th>lang</th>\n",
       "    </tr>\n",
       "  </thead>\n",
       "  <tbody>\n",
       "    <tr>\n",
       "      <th>1</th>\n",
       "      <td>[0.5454545454545454, 0.18181818181818182, 0.0,...</td>\n",
       "      <td>[2, 3, 1]</td>\n",
       "    </tr>\n",
       "    <tr>\n",
       "      <th>5</th>\n",
       "      <td>[0.45454545454545453, 0.18181818181818182, 0.0...</td>\n",
       "      <td>[2, 3, 1]</td>\n",
       "    </tr>\n",
       "    <tr>\n",
       "      <th>9</th>\n",
       "      <td>[0.36363636363636365, 0.18181818181818182, 0.0...</td>\n",
       "      <td>[2, 3, 1]</td>\n",
       "    </tr>\n",
       "    <tr>\n",
       "      <th>13</th>\n",
       "      <td>[0.36363636363636365, 0.18181818181818182, 0.0...</td>\n",
       "      <td>[2, 3, 1]</td>\n",
       "    </tr>\n",
       "    <tr>\n",
       "      <th>17</th>\n",
       "      <td>[0.36363636363636365, 0.18181818181818182, 0.0...</td>\n",
       "      <td>[2, 3, 1]</td>\n",
       "    </tr>\n",
       "    <tr>\n",
       "      <th>...</th>\n",
       "      <td>...</td>\n",
       "      <td>...</td>\n",
       "    </tr>\n",
       "    <tr>\n",
       "      <th>3999965</th>\n",
       "      <td>[0.18181818181818182, 0.9090909090909091, 0.0,...</td>\n",
       "      <td>[1]</td>\n",
       "    </tr>\n",
       "    <tr>\n",
       "      <th>3999968</th>\n",
       "      <td>[0.9090909090909091, 0.8181818181818182, 1.0, ...</td>\n",
       "      <td>[2, 3, 1]</td>\n",
       "    </tr>\n",
       "    <tr>\n",
       "      <th>3999988</th>\n",
       "      <td>[1.0, 0.9090909090909091, 1.0, 0.0, 0.0, 0.0, ...</td>\n",
       "      <td>[2, 5, 1]</td>\n",
       "    </tr>\n",
       "    <tr>\n",
       "      <th>3999992</th>\n",
       "      <td>[1.0, 0.8181818181818182, 0.0, 0.0, 0.0, 0.0, ...</td>\n",
       "      <td>[2, 5, 6, 1]</td>\n",
       "    </tr>\n",
       "    <tr>\n",
       "      <th>3999996</th>\n",
       "      <td>[1.0, 0.8181818181818182, 0.0, 0.0, 0.0, 0.0, ...</td>\n",
       "      <td>[2, 5, 6, 1]</td>\n",
       "    </tr>\n",
       "  </tbody>\n",
       "</table>\n",
       "<p>828384 rows × 2 columns</p>\n",
       "</div>"
      ],
      "text/plain": [
       "                                                       obs          lang\n",
       "1        [0.5454545454545454, 0.18181818181818182, 0.0,...     [2, 3, 1]\n",
       "5        [0.45454545454545453, 0.18181818181818182, 0.0...     [2, 3, 1]\n",
       "9        [0.36363636363636365, 0.18181818181818182, 0.0...     [2, 3, 1]\n",
       "13       [0.36363636363636365, 0.18181818181818182, 0.0...     [2, 3, 1]\n",
       "17       [0.36363636363636365, 0.18181818181818182, 0.0...     [2, 3, 1]\n",
       "...                                                    ...           ...\n",
       "3999965  [0.18181818181818182, 0.9090909090909091, 0.0,...           [1]\n",
       "3999968  [0.9090909090909091, 0.8181818181818182, 1.0, ...     [2, 3, 1]\n",
       "3999988  [1.0, 0.9090909090909091, 1.0, 0.0, 0.0, 0.0, ...     [2, 5, 1]\n",
       "3999992  [1.0, 0.8181818181818182, 0.0, 0.0, 0.0, 0.0, ...  [2, 5, 6, 1]\n",
       "3999996  [1.0, 0.8181818181818182, 0.0, 0.0, 0.0, 0.0, ...  [2, 5, 6, 1]\n",
       "\n",
       "[828384 rows x 2 columns]"
      ]
     },
     "execution_count": 13,
     "metadata": {},
     "output_type": "execute_result"
    }
   ],
   "source": [
    "df = load_n_prep_data(\"../../results/data/lamarl_data/PPrgb_12.csv\", ll)\n",
    "df"
   ]
  },
  {
   "cell_type": "markdown",
   "id": "a5c27ed8",
   "metadata": {},
   "source": [
    "Train"
   ]
  },
  {
   "cell_type": "code",
   "execution_count": 4,
   "id": "9143e997",
   "metadata": {},
   "outputs": [],
   "source": [
    "import matplotlib.pyplot as plt\n",
    "from tqdm import trange\n",
    "import numpy as np \n",
    "%matplotlib inline\n",
    "\n",
    "def clip(ll, enc_obs, enc_lang, temp, device):\n",
    "    # Compute similarity\n",
    "    norm_enc_obs = enc_obs / (enc_obs.norm(\n",
    "        dim=1, keepdim=True))\n",
    "    norm_enc_lang = enc_lang / enc_lang.norm(\n",
    "        dim=1, keepdim=True)\n",
    "    sim = norm_enc_obs @ norm_enc_lang.t() * temp\n",
    "    mean_sim = sim.diag().mean()\n",
    "\n",
    "    # Compute CLIP loss\n",
    "    labels = torch.arange(enc_obs.shape[0]).to(device)\n",
    "    loss_o = ll.clip_loss(sim, labels)\n",
    "    loss_l = ll.clip_loss(sim.t(), labels)\n",
    "    clip_loss = (loss_o + loss_l) / 2\n",
    "\n",
    "    return clip_loss, mean_sim.item()\n",
    "\n",
    "def train_lang_encoder(data, ll, n_epochs=5000, batch_size=512, temp=1.0, eval_every=500,\n",
    "                       device=\"cuda:0\", seed=0):\n",
    "    # rs = np.random.RandomState(seed)\n",
    "\n",
    "    train_data = data.iloc[:int(len(data) * 0.9)]\n",
    "    eval_data = data.iloc[int(len(data) * 0.9):]\n",
    "\n",
    "    train_losses = []\n",
    "    eval_losses = []\n",
    "    eval_sims = []\n",
    "\n",
    "    ll.prep_training(device)\n",
    "\n",
    "    for e_i in trange(n_epochs):\n",
    "        ll.optim.zero_grad()\n",
    "        sample = train_data.sample(n=batch_size)\n",
    "        \n",
    "        obs_batch = torch.Tensor(np.array(list(sample[\"obs\"]))).to(device)\n",
    "        lang_batch = list(sample[\"lang\"])\n",
    "    \n",
    "        enc_obs = ll.obs_encoder(obs_batch)\n",
    "        enc_lang = ll.encode_sentences(lang_batch)\n",
    "        # print(enc_obs)\n",
    "        # print(enc_lang)\n",
    "        # return 0, 0, 0\n",
    "\n",
    "        clip_loss, mean_sim = clip(ll, enc_obs, enc_lang, temp, device)\n",
    "        train_losses.append(clip_loss.item())\n",
    "\n",
    "        clip_loss.backward()\n",
    "        ll.optim.step()\n",
    "\n",
    "        if (e_i + 1) % eval_every == 0:\n",
    "            with torch.no_grad():\n",
    "                sample = eval_data.sample(n=batch_size) #, random_state=rs)\n",
    "\n",
    "                obs_batch = torch.Tensor(np.array(list(sample[\"obs\"]))).to(device)\n",
    "                lang_batch = list(sample[\"lang\"])\n",
    "            \n",
    "                enc_obs = ll.obs_encoder(obs_batch)\n",
    "                enc_lang = ll.encode_sentences(lang_batch)\n",
    "\n",
    "                clip_loss, mean_sim = clip(ll, enc_obs, enc_lang, temp, device)\n",
    "                eval_losses.append(clip_loss.item())\n",
    "                eval_sims.append(mean_sim)\n",
    "\n",
    "    return train_losses, eval_losses, eval_sims\n",
    "\n",
    "def plot_curves(train_losses, eval_losses, eval_sims, eval_every=500):\n",
    "    plt.plot(train_losses, label=\"train loss\")\n",
    "    plt.plot(range(eval_every, len(train_losses) + 1, eval_every), eval_losses, label=\"eval loss\")\n",
    "    plt.plot(range(eval_every, len(train_losses) + 1, eval_every), eval_sims, label=\"mean sim\")\n",
    "    plt.legend()\n",
    "    "
   ]
  },
  {
   "cell_type": "code",
   "execution_count": 8,
   "id": "08272535",
   "metadata": {},
   "outputs": [
    {
     "name": "stderr",
     "output_type": "stream",
     "text": [
      "  0%|          | 0/10000 [00:00<?, ?it/s]/home/maxtoq/Desktop/Dev/MADRL-PhD-Thesis-Code/venv/lib/python3.10/site-packages/torch/autograd/__init__.py:197: UserWarning: CUDA initialization: CUDA unknown error - this may be due to an incorrectly set up environment, e.g. changing env variable CUDA_VISIBLE_DEVICES after program start. Setting the available devices to be zero. (Triggered internally at ../c10/cuda/CUDAFunctions.cpp:109.)\n",
      "  Variable._execution_engine.run_backward(  # Calls into the C++ engine to run the backward pass\n",
      "100%|██████████| 10000/10000 [03:36<00:00, 46.15it/s]\n"
     ]
    },
    {
     "data": {
      "image/png": "[encoded data removed]",
      "text/plain": [
       "<Figure size 640x480 with 1 Axes>"
      ]
     },
     "metadata": {},
     "output_type": "display_data"
    }
   ],
   "source": [
    "obs_dim = 77\n",
    "context_dim = 4\n",
    "hidden_dim = 64\n",
    "embed_dim = 4\n",
    "n_layer = 2\n",
    "lr = 0.007\n",
    "vocab = [\"Prey\", \"Center\", \"North\", \"South\", \"East\", \"West\",\n",
    "                        \"Gem\", \"Yellow\", \"Green\", \"Purple\"]\n",
    "max_mess_len = 6\n",
    "\n",
    "ll = LanguageEncoder(obs_dim, context_dim, hidden_dim, embed_dim, n_layer, lr, vocab, max_mess_len)\n",
    "\n",
    "n_ep = 10000\n",
    "eval_every = 500\n",
    "batch_size=128\n",
    "\n",
    "train_losses, eval_losses, eval_sims = train_lang_encoder(\n",
    "    df, ll, n_ep, batch_size, eval_every=eval_every, device=\"cpu\")\n",
    "\n",
    "plot_curves(train_losses, eval_losses, eval_sims, eval_every)"
   ]
  },
  {
   "cell_type": "code",
   "execution_count": 29,
   "id": "e943b8b4",
   "metadata": {},
   "outputs": [],
   "source": [
    "torch.save(ll.get_save_dict(), \"../../results/data/lamarl_data/PPrgb_15_langground.pt\")"
   ]
  },
  {
   "cell_type": "markdown",
   "id": "2d6e3f44",
   "metadata": {},
   "source": [
    "PP_12"
   ]
  },
  {
   "cell_type": "code",
   "execution_count": 15,
   "id": "4e84d7c2",
   "metadata": {},
   "outputs": [
    {
     "name": "stderr",
     "output_type": "stream",
     "text": [
      "  0%|          | 0/10000 [00:00<?, ?it/s]/home/maxtoq/Desktop/Dev/MADRL-PhD-Thesis-Code/venv/lib/python3.10/site-packages/torch/autograd/__init__.py:197: UserWarning: CUDA initialization: CUDA unknown error - this may be due to an incorrectly set up environment, e.g. changing env variable CUDA_VISIBLE_DEVICES after program start. Setting the available devices to be zero. (Triggered internally at ../c10/cuda/CUDAFunctions.cpp:109.)\n",
      "  Variable._execution_engine.run_backward(  # Calls into the C++ engine to run the backward pass\n",
      "100%|██████████| 10000/10000 [04:11<00:00, 39.80it/s]\n"
     ]
    },
    {
     "data": {
      "image/png": "[encoded data removed]",
      "text/plain": [
       "<Figure size 640x480 with 1 Axes>"
      ]
     },
     "metadata": {},
     "output_type": "display_data"
    }
   ],
   "source": [
    "obs_dim = 77\n",
    "context_dim = 4\n",
    "hidden_dim = 64\n",
    "embed_dim = 4\n",
    "n_layer = 2\n",
    "lr = 0.007\n",
    "vocab = [\"Prey\", \"Center\", \"North\", \"South\", \"East\", \"West\",\n",
    "                        \"Gem\", \"Yellow\", \"Green\", \"Purple\"]\n",
    "max_mess_len = 6\n",
    "\n",
    "# Make model\n",
    "ll = LanguageEncoder(obs_dim, context_dim, hidden_dim, embed_dim, n_layer, lr, vocab, max_mess_len)\n",
    "\n",
    "# Load and prepare data\n",
    "print(\"Prepare data...\")\n",
    "df = load_n_prep_data(\"../../results/data/lamarl_data/PPrgb_12.csv\", ll)\n",
    "\n",
    "n_ep = 10000\n",
    "eval_every = 500\n",
    "batch_size=128\n",
    "\n",
    "# Training\n",
    "print(\"Training...\")\n",
    "train_losses, eval_losses, eval_sims = train_lang_encoder(\n",
    "    df, ll, n_ep, batch_size, eval_every=eval_every, device=\"cpu\")\n",
    "\n",
    "print(\"Saving model...\")\n",
    "torch.save(ll.get_save_dict(), \"../../results/data/lamarl_data/PPrgb_12_langground.pt\")\n",
    "\n",
    "print(\"Plot...\")\n",
    "plot_curves(train_losses, eval_losses, eval_sims, eval_every)"
   ]
  },
  {
   "cell_type": "markdown",
   "id": "6b64223a",
   "metadata": {},
   "source": [
    "PP_18"
   ]
  },
  {
   "cell_type": "code",
   "execution_count": 16,
   "id": "148fef8d",
   "metadata": {},
   "outputs": [
    {
     "name": "stdout",
     "output_type": "stream",
     "text": [
      "Prepare data...\n",
      "Training...\n"
     ]
    },
    {
     "name": "stderr",
     "output_type": "stream",
     "text": [
      "100%|██████████| 10000/10000 [03:48<00:00, 43.86it/s]\n"
     ]
    },
    {
     "name": "stdout",
     "output_type": "stream",
     "text": [
      "Saving model...\n",
      "Plot...\n"
     ]
    },
    {
     "data": {
      "image/png": "[encoded data removed]",
      "text/plain": [
       "<Figure size 640x480 with 1 Axes>"
      ]
     },
     "metadata": {},
     "output_type": "display_data"
    }
   ],
   "source": [
    "obs_dim = 77\n",
    "context_dim = 4\n",
    "hidden_dim = 64\n",
    "embed_dim = 4\n",
    "n_layer = 2\n",
    "lr = 0.007\n",
    "vocab = [\"Prey\", \"Center\", \"North\", \"South\", \"East\", \"West\",\n",
    "                        \"Gem\", \"Yellow\", \"Green\", \"Purple\"]\n",
    "max_mess_len = 6\n",
    "\n",
    "# Make model\n",
    "ll = LanguageEncoder(obs_dim, context_dim, hidden_dim, embed_dim, n_layer, lr, vocab, max_mess_len)\n",
    "\n",
    "# Load and prepare data\n",
    "print(\"Prepare data...\")\n",
    "df = load_n_prep_data(\"../../results/data/lamarl_data/PPrgb_18.csv\", ll)\n",
    "df.head()\n",
    "\n",
    "n_ep = 10000\n",
    "eval_every = 500\n",
    "batch_size=128\n",
    "\n",
    "# Training\n",
    "print(\"Training...\")\n",
    "train_losses, eval_losses, eval_sims = train_lang_encoder(\n",
    "    df, ll, n_ep, batch_size, eval_every=eval_every, device=\"cpu\")\n",
    "\n",
    "print(\"Saving model...\")\n",
    "torch.save(ll.get_save_dict(), \"../../results/data/lamarl_data/PPrgb_18_langground.pt\")\n",
    "\n",
    "print(\"Plot...\")\n",
    "plot_curves(train_losses, eval_losses, eval_sims, eval_every)"
   ]
  },
  {
   "cell_type": "markdown",
   "id": "96e241e1",
   "metadata": {},
   "source": [
    "F_18"
   ]
  },
  {
   "cell_type": "code",
   "execution_count": 17,
   "id": "60ecd954",
   "metadata": {},
   "outputs": [
    {
     "name": "stdout",
     "output_type": "stream",
     "text": [
      "Prepare data...\n",
      "Training...\n"
     ]
    },
    {
     "name": "stderr",
     "output_type": "stream",
     "text": [
      "100%|██████████| 10000/10000 [07:12<00:00, 23.10it/s]\n"
     ]
    },
    {
     "name": "stdout",
     "output_type": "stream",
     "text": [
      "Saving model...\n",
      "Plot...\n"
     ]
    },
    {
     "data": {
      "image/png": "[encoded data removed]",
      "text/plain": [
       "<Figure size 640x480 with 1 Axes>"
      ]
     },
     "metadata": {},
     "output_type": "display_data"
    }
   ],
   "source": [
    "obs_dim = 77\n",
    "context_dim = 4\n",
    "hidden_dim = 64\n",
    "embed_dim = 4\n",
    "n_layer = 2\n",
    "lr = 0.007\n",
    "vocab = [\"Prey\", \"Center\", \"North\", \"South\", \"East\", \"West\",\n",
    "                        \"Gem\", \"Yellow\", \"Green\", \"Purple\"]\n",
    "max_mess_len = 6\n",
    "\n",
    "# Make model\n",
    "ll = LanguageEncoder(obs_dim, context_dim, hidden_dim, embed_dim, n_layer, lr, vocab, max_mess_len)\n",
    "\n",
    "# Load and prepare data\n",
    "print(\"Prepare data...\")\n",
    "df = load_n_prep_data(\"../../results/data/lamarl_data/Frgb_18.csv\", ll)\n",
    "print(df.head())\n",
    "\n",
    "n_ep = 10000\n",
    "eval_every = 500\n",
    "batch_size=128\n",
    "\n",
    "# Training\n",
    "print(\"Training...\")\n",
    "train_losses, eval_losses, eval_sims = train_lang_encoder(\n",
    "    df, ll, n_ep, batch_size, eval_every=eval_every, device=\"cpu\")\n",
    "\n",
    "print(\"Saving model...\")\n",
    "torch.save(ll.get_save_dict(), \"../../results/data/lamarl_data/Frgb_18_langground.pt\")\n",
    "\n",
    "print(\"Plot...\")\n",
    "plot_curves(train_losses, eval_losses, eval_sims, eval_every)"
   ]
  },
  {
   "cell_type": "markdown",
   "id": "87e5af1e",
   "metadata": {},
   "source": [
    "#### Coordinated Placement"
   ]
  },
  {
   "cell_type": "code",
   "execution_count": 5,
   "id": "6243f826",
   "metadata": {},
   "outputs": [
    {
     "name": "stdout",
     "output_type": "stream",
     "text": [
      "Prepare data...\n",
      "                                obs lang\n",
      "130  [0.6, 0.4, 0.0, 0.0, 0.0, 0.0]  [1]\n",
      "138  [0.6, 0.6, 0.0, 0.0, 0.0, 0.0]  [1]\n",
      "211  [0.4, 0.6, 0.0, 0.0, 0.0, 0.0]  [1]\n",
      "359  [0.4, 0.4, 0.0, 0.0, 0.0, 0.0]  [1]\n",
      "406  [0.6, 0.4, 0.0, 0.0, 0.0, 0.0]  [1]\n",
      "Training...\n"
     ]
    },
    {
     "name": "stderr",
     "output_type": "stream",
     "text": [
      "100%|██████████| 10000/10000 [04:02<00:00, 41.15it/s]\n"
     ]
    },
    {
     "name": "stdout",
     "output_type": "stream",
     "text": [
      "Saving model...\n",
      "Plot...\n"
     ]
    },
    {
     "data": {
      "image/png": "[encoded data removed]",
      "text/plain": [
       "<Figure size 640x480 with 1 Axes>"
      ]
     },
     "metadata": {},
     "output_type": "display_data"
    }
   ],
   "source": [
    "obs_dim = 6\n",
    "context_dim = 4\n",
    "hidden_dim = 64\n",
    "embed_dim = 4\n",
    "n_layer = 2\n",
    "lr = 0.007\n",
    "vocab = [\"Red\", \"Green\", \"Blue\", \"Yellow\", \"Cyan\", \"Purple\", \n",
    "         \"Center\", \"North\", \"South\", \"East\", \"West\"]\n",
    "max_mess_len = 6\n",
    "\n",
    "ll = LanguageEncoder(obs_dim, context_dim, hidden_dim, embed_dim, n_layer, lr, vocab, max_mess_len)\n",
    "\n",
    "# Load and prepare data\n",
    "print(\"Prepare data...\")\n",
    "df = load_n_prep_data(\"../../results/data/lamarl_data/CPrgb.csv\", ll)\n",
    "print(df.head())\n",
    "\n",
    "n_ep = 10000\n",
    "eval_every = 500\n",
    "batch_size=128\n",
    "\n",
    "# Training\n",
    "print(\"Training...\")\n",
    "train_losses, eval_losses, eval_sims = train_lang_encoder(\n",
    "    df, ll, n_ep, batch_size, eval_every=eval_every, device=\"cpu\")\n",
    "\n",
    "print(\"Saving model...\")\n",
    "torch.save(ll.get_save_dict(), \"../../results/data/lamarl_data/CPrgb2a_langground.pt\")\n",
    "\n",
    "print(\"Plot...\")\n",
    "plot_curves(train_losses, eval_losses, eval_sims, eval_every)"
   ]
  },
  {
   "cell_type": "markdown",
   "id": "dcaf3b4f",
   "metadata": {},
   "source": [
    "#### MPE PredPrey shape"
   ]
  },
  {
   "cell_type": "code",
   "execution_count": 9,
   "id": "61f32596",
   "metadata": {},
   "outputs": [
    {
     "name": "stdout",
     "output_type": "stream",
     "text": [
      "Prepare data...\n",
      "                                                  obs          lang\n",
      "3   [-0.3978937954675634, 0.6037069236883319, 0.0,...  [2, 3, 6, 1]\n",
      "10  [0.6647520869790569, -0.46581742637504625, 1.0...     [2, 5, 1]\n",
      "25  [-0.43972410571943776, 0.8303000586581575, 0.0...           [1]\n",
      "27  [0.7176012056710457, -0.6751510004988324, 0.0,...  [2, 4, 5, 1]\n",
      "39  [-0.5801896936144422, -0.3628454873403809, 0.0...  [2, 4, 6, 1]\n",
      "Training...\n"
     ]
    },
    {
     "name": "stderr",
     "output_type": "stream",
     "text": [
      "100%|██████████| 10000/10000 [03:26<00:00, 48.48it/s]\n"
     ]
    },
    {
     "name": "stdout",
     "output_type": "stream",
     "text": [
      "Saving model...\n",
      "Plot...\n"
     ]
    },
    {
     "data": {
      "image/png": "[encoded data removed]",
      "text/plain": [
       "<Figure size 640x480 with 1 Axes>"
      ]
     },
     "metadata": {},
     "output_type": "display_data"
    }
   ],
   "source": [
    "from src.algo.policy_diff.langground import LanguageGrounder\n",
    "\n",
    "import torch\n",
    "import numpy as np\n",
    "from torch import nn\n",
    "\n",
    "obs_dim = 14\n",
    "context_dim = 4\n",
    "hidden_dim = 64\n",
    "embed_dim = 4\n",
    "n_layer = 2\n",
    "lr = 0.007\n",
    "vocab = [\"Prey\", \"North\", \"South\", \"East\", \"West\", \"Center\"]\n",
    "max_mess_len = 3\n",
    "\n",
    "ll = LanguageGrounder(obs_dim, context_dim, hidden_dim, embed_dim, n_layer, lr, vocab, max_mess_len)\n",
    "\n",
    "# Load and prepare data\n",
    "print(\"Prepare data...\")\n",
    "df = load_n_prep_data(\"../../results/data/lamarl_data/MPEPPshap.csv\", ll)\n",
    "print(df.head())\n",
    "\n",
    "n_ep = 10000\n",
    "eval_every = 500\n",
    "batch_size=128\n",
    "\n",
    "# Training\n",
    "print(\"Training...\")\n",
    "train_losses, eval_losses, eval_sims = train_lang_encoder(\n",
    "    df, ll, n_ep, batch_size, eval_every=eval_every, device=\"cpu\")\n",
    "\n",
    "print(\"Saving model...\")\n",
    "torch.save(ll.get_save_dict(), \"../../results/data/lamarl_data/MPEPPshap_langground.pt\")\n",
    "\n",
    "print(\"Plot...\")\n",
    "plot_curves(train_losses, eval_losses, eval_sims, eval_every)"
   ]
  },
  {
   "cell_type": "markdown",
   "id": "f600bc46",
   "metadata": {},
   "source": [
    "MPE simple reference"
   ]
  },
  {
   "cell_type": "code",
   "execution_count": null,
   "id": "93f654ce",
   "metadata": {},
   "outputs": [
    {
     "name": "stdout",
     "output_type": "stream",
     "text": [
      "Prepare data...\n",
      "                                                 obs          lang\n",
      "0  [-0.546905157736554, 0.1888402887822651, 0.0, ...  [8, 2, 4, 1]\n",
      "1  [-0.14338263014061048, 0.52828137310774, 0.0, ...     [9, 4, 1]\n",
      "2  [0.3473246945042501, 0.711111465136617, 0.0, 0...     [9, 2, 1]\n",
      "3  [-0.8438883202843137, -0.29500029288046825, 0....  [8, 3, 5, 1]\n",
      "4  [0.837783303678836, -0.07007698848430999, 0.0,...     [7, 5, 1]\n",
      "Training...\n"
     ]
    },
    {
     "name": "stderr",
     "output_type": "stream",
     "text": [
      "  0%|          | 0/10000 [00:00<?, ?it/s]/home/maxtoq/Desktop/Dev/MADRL-PhD-Thesis-Code/venv/lib/python3.10/site-packages/torch/autograd/__init__.py:197: UserWarning: CUDA initialization: CUDA unknown error - this may be due to an incorrectly set up environment, e.g. changing env variable CUDA_VISIBLE_DEVICES after program start. Setting the available devices to be zero. (Triggered internally at ../c10/cuda/CUDAFunctions.cpp:109.)\n",
      "  Variable._execution_engine.run_backward(  # Calls into the C++ engine to run the backward pass\n",
      "100%|██████████| 10000/10000 [16:24<00:00, 10.15it/s]\n"
     ]
    },
    {
     "name": "stdout",
     "output_type": "stream",
     "text": [
      "Saving model...\n",
      "Plot...\n"
     ]
    },
    {
     "data": {
      "image/png": "[encoded data removed]",
      "text/plain": [
       "<Figure size 640x480 with 1 Axes>"
      ]
     },
     "metadata": {},
     "output_type": "display_data"
    }
   ],
   "source": [
    "from src.algo.policy_diff.langground import LanguageGrounder\n",
    "\n",
    "import torch\n",
    "import numpy as np\n",
    "\n",
    "obs_dim = 27\n",
    "context_dim = 4\n",
    "hidden_dim = 64\n",
    "embed_dim = 4\n",
    "n_layer = 2\n",
    "lr = 0.007\n",
    "vocab = [\"North\", \"South\", \"East\", \"West\", \"Center\", \"Red\", \"Green\", \"Blue\"]\n",
    "max_mess_len = 3\n",
    "\n",
    "ll = LanguageGrounder(obs_dim, context_dim, hidden_dim, embed_dim, n_layer, lr, vocab, max_mess_len)\n",
    "\n",
    "# Load and prepare data\n",
    "print(\"Prepare data...\")\n",
    "df = load_n_prep_data(\"../../results/data/lamarl_data/MPESimpRef.csv\", ll)\n",
    "print(df.head())\n",
    "\n",
    "n_ep = 10000\n",
    "eval_every = 500\n",
    "batch_size=128\n",
    "\n",
    "# Training\n",
    "print(\"Training...\")\n",
    "train_losses, eval_losses, eval_sims = train_lang_encoder(\n",
    "    df, ll, n_ep, batch_size, eval_every=eval_every, device=\"cpu\")\n",
    "\n",
    "print(\"Saving model...\")\n",
    "torch.save(ll.get_save_dict(), \"../../results/data/lamarl_data/MPESimpRef_langground.pt\")\n",
    "\n",
    "print(\"Plot...\")\n",
    "plot_curves(train_losses, eval_losses, eval_sims, eval_every)"
   ]
  },
  {
   "cell_type": "markdown",
   "id": "fb99dad2",
   "metadata": {},
   "source": [
    "### Foraging Hostile\n",
    "\n",
    "18"
   ]
  },
  {
   "cell_type": "code",
   "execution_count": 8,
   "id": "4e43ad7b",
   "metadata": {},
   "outputs": [
    {
     "name": "stdout",
     "output_type": "stream",
     "text": [
      "Prepare data...\n",
      "                                                 obs                     lang\n",
      "2  [0.5294117647058824, 0.47058823529411764, 0.0,...                      [1]\n",
      "3  [0.5294117647058824, 0.5294117647058824, 0.0, ...                      [1]\n",
      "4  [0.47058823529411764, 0.47058823529411764, 0.0...            [10, 8, 3, 1]\n",
      "5  [0.47058823529411764, 0.5294117647058824, 0.0,...  [10, 8, 3, 10, 8, 3, 1]\n",
      "7  [0.5294117647058824, 0.5294117647058824, 1.0, ...            [10, 8, 3, 1]\n",
      "Training...\n"
     ]
    },
    {
     "name": "stderr",
     "output_type": "stream",
     "text": [
      "100%|██████████| 10000/10000 [08:38<00:00, 19.27it/s]"
     ]
    },
    {
     "name": "stdout",
     "output_type": "stream",
     "text": [
      "Saving model...\n",
      "Plot...\n"
     ]
    },
    {
     "name": "stderr",
     "output_type": "stream",
     "text": [
      "\n"
     ]
    },
    {
     "data": {
      "image/png": "[encoded data removed]",
      "text/plain": [
       "<Figure size 640x480 with 1 Axes>"
      ]
     },
     "metadata": {},
     "output_type": "display_data"
    }
   ],
   "source": [
    "from src.algo.policy_diff.langground import LanguageGrounder\n",
    "\n",
    "import torch\n",
    "import numpy as np\n",
    "\n",
    "obs_dim = 78\n",
    "context_dim = 4\n",
    "hidden_dim = 64\n",
    "embed_dim = 4\n",
    "n_layer = 2\n",
    "lr = 0.007\n",
    "vocab = [\n",
    "            \"Prey\", \"Center\", \"North\", \"South\", \"East\", \"West\",\n",
    "            \"Gem\", \"Yellow\", \"Green\", \"Purple\", \"Danger\"]\n",
    "max_mess_len = 3\n",
    "\n",
    "ll = LanguageGrounder(obs_dim, context_dim, hidden_dim, embed_dim, n_layer, lr, vocab, max_mess_len)\n",
    "\n",
    "# Load and prepare data\n",
    "print(\"Prepare data...\")\n",
    "df = load_n_prep_data(\"../../results/data/lamarl_data/FH_18.csv\", ll)\n",
    "print(df.head())\n",
    "\n",
    "n_ep = 10000\n",
    "eval_every = 500\n",
    "batch_size=128\n",
    "\n",
    "# Training\n",
    "print(\"Training...\")\n",
    "train_losses, eval_losses, eval_sims = train_lang_encoder(\n",
    "    df, ll, n_ep, batch_size, eval_every=eval_every, device=\"cpu\")\n",
    "\n",
    "print(\"Saving model...\")\n",
    "torch.save(ll.get_save_dict(), \"../../results/data/lamarl_data/FH18_langground.pt\")\n",
    "\n",
    "print(\"Plot...\")\n",
    "plot_curves(train_losses, eval_losses, eval_sims, eval_every)"
   ]
  },
  {
   "cell_type": "markdown",
   "id": "888e4c3c",
   "metadata": {},
   "source": [
    "15"
   ]
  },
  {
   "cell_type": "code",
   "execution_count": 3,
   "id": "c41d4898",
   "metadata": {},
   "outputs": [
    {
     "name": "stdout",
     "output_type": "stream",
     "text": [
      "Prepare data...\n",
      "                                                 obs           lang\n",
      "0  [0.42857142857142855, 0.42857142857142855, 0.0...            [1]\n",
      "2  [0.5, 0.42857142857142855, 0.0, 0.0, 0.0, 0.0,...  [10, 8, 3, 1]\n",
      "4  [0.42857142857142855, 0.42857142857142855, 0.0...  [10, 8, 3, 1]\n",
      "5  [0.42857142857142855, 0.5, 0.0, 0.0, 0.0, 0.0,...  [10, 8, 3, 1]\n",
      "7  [0.5, 0.5, 0.0, 0.0, 0.0, 0.0, 0.0, 0.0, 0.0, ...            [1]\n",
      "Training...\n"
     ]
    },
    {
     "name": "stderr",
     "output_type": "stream",
     "text": [
      "100%|██████████| 10000/10000 [12:26<00:00, 13.39it/s]\n"
     ]
    },
    {
     "name": "stdout",
     "output_type": "stream",
     "text": [
      "Saving model...\n",
      "Plot...\n"
     ]
    },
    {
     "data": {
      "image/png": "[encoded data removed]",
      "text/plain": [
       "<Figure size 640x480 with 1 Axes>"
      ]
     },
     "metadata": {},
     "output_type": "display_data"
    }
   ],
   "source": [
    "from src.algo.policy_diff.langground import LanguageGrounder\n",
    "\n",
    "import torch\n",
    "import numpy as np\n",
    "\n",
    "obs_dim = 78\n",
    "context_dim = 8\n",
    "hidden_dim = 64\n",
    "embed_dim = 4\n",
    "n_layer = 2\n",
    "lr = 0.007\n",
    "vocab = [\n",
    "            \"Prey\", \"Center\", \"North\", \"South\", \"East\", \"West\",\n",
    "            \"Gem\", \"Yellow\", \"Green\", \"Purple\", \"Danger\"]\n",
    "max_mess_len = 6\n",
    "\n",
    "ll = LanguageGrounder(obs_dim, context_dim, hidden_dim, embed_dim, n_layer, lr, vocab, max_mess_len)\n",
    "ll.prep_training(\"cuda:0\")\n",
    "\n",
    "# Load and prepare data\n",
    "print(\"Prepare data...\")\n",
    "df = load_n_prep_data(\"../../results/data/lamarl_data/FH_15.csv\", ll)\n",
    "print(df.head())\n",
    "\n",
    "n_ep = 10000\n",
    "eval_every = 500\n",
    "batch_size=128\n",
    "\n",
    "# Training\n",
    "print(\"Training...\")\n",
    "train_losses, eval_losses, eval_sims = train_lang_encoder(\n",
    "    df, ll, n_ep, batch_size, eval_every=eval_every, device=\"cpu\")\n",
    "\n",
    "print(\"Saving model...\")\n",
    "torch.save(ll.get_save_dict(), \"../../results/data/lamarl_data/FH15_langground.pt\")\n",
    "\n",
    "print(\"Plot...\")\n",
    "plot_curves(train_losses, eval_losses, eval_sims, eval_every)"
   ]
  },
  {
   "cell_type": "markdown",
   "id": "60ae1cbd",
   "metadata": {},
   "source": [
    "### MPE Simple Hard Color Reference"
   ]
  },
  {
   "cell_type": "code",
   "execution_count": null,
   "id": "c6fd0a29",
   "metadata": {},
   "outputs": [
    {
     "name": "stdout",
     "output_type": "stream",
     "text": [
      "Prepare data...\n",
      "                                                 obs              lang\n",
      "0  [-0.4546727185061965, -0.28532076742924795, 0....     [10, 7, 6, 1]\n",
      "1  [0.23724878091226564, 0.28268197107716686, 0.0...  [11, 9, 2, 5, 1]\n",
      "2  [-0.6453985839886807, -0.8833278563832387, 0.0...      [9, 2, 4, 1]\n",
      "3  [-0.680088702468495, -0.02283318361665554, 0.0...     [11, 8, 3, 1]\n",
      "4  [-0.6296575878278001, -0.2676881379165008, 0.0...         [8, 3, 1]\n",
      "Training...\n"
     ]
    },
    {
     "name": "stderr",
     "output_type": "stream",
     "text": [
      "100%|██████████| 10000/10000 [07:33<00:00, 22.07it/s]\n"
     ]
    },
    {
     "name": "stdout",
     "output_type": "stream",
     "text": [
      "Saving model...\n",
      "Plot...\n"
     ]
    },
    {
     "data": {
      "image/png": "[encoded data removed]",
      "text/plain": [
       "<Figure size 640x480 with 1 Axes>"
      ]
     },
     "metadata": {},
     "output_type": "display_data"
    }
   ],
   "source": [
    "from src.algo.policy_diff.langground import LanguageGrounder\n",
    "\n",
    "import torch\n",
    "\n",
    "\n",
    "df, obs_dim, max_len = load_data(\"../../results/data/lamarl_data/MPEHardSimpRef.csv\", ll)\n",
    "print(df.head())\n",
    "\n",
    "context_dim = 4\n",
    "hidden_dim = 64\n",
    "embed_dim = 4\n",
    "n_layer = 2\n",
    "lr = 0.007\n",
    "vocab = [\"North\", \"South\", \"East\", \"West\", \"Center\", \"Red\", \"Green\", \"Blue\", \"Light\", \"Dark\"]\n",
    "\n",
    "ll = LanguageGrounder(obs_dim, context_dim, hidden_dim, embed_dim, n_layer, lr, vocab, max_mess_len)\n",
    "\n",
    "# Load and prepare data\n",
    "print(\"Prepare data...\")\n",
    "df = prep_data(df, ll)\n",
    "\n",
    "n_ep = 10000\n",
    "eval_every = 500\n",
    "batch_size=128\n",
    "\n",
    "# Training\n",
    "print(\"Training...\")\n",
    "train_losses, eval_losses, eval_sims = train_lang_encoder(\n",
    "    df, ll, n_ep, batch_size, eval_every=eval_every, device=\"cpu\")\n",
    "\n",
    "print(\"Saving model...\")\n",
    "torch.save(ll.get_save_dict(), \"../../results/data/lamarl_data/MPEHardSimpRef_lg.pt\")\n",
    "\n",
    "print(\"Plot...\")\n",
    "plot_curves(train_losses, eval_losses, eval_sims, eval_every)"
   ]
  },
  {
   "cell_type": "markdown",
   "id": "64aad996",
   "metadata": {},
   "source": [
    "## Display embedding clusters"
   ]
  },
  {
   "cell_type": "code",
   "execution_count": 29,
   "id": "245be370",
   "metadata": {},
   "outputs": [],
   "source": [
    "import random\n",
    "import math\n",
    "\n",
    "def color_distance(c1, c2):\n",
    "    return math.sqrt(sum((a - b) ** 2 for a, b in zip(c1, c2)))\n",
    "\n",
    "def generate_distinct_colors(n, threshold=0.3, max_attempts=1000):\n",
    "    colors = []\n",
    "    attempts = 0\n",
    "\n",
    "    while len(colors) < n and attempts < max_attempts:\n",
    "        candidate = (random.random(), random.random(), random.random())\n",
    "        if all(color_distance(candidate, existing) >= threshold for existing in colors):\n",
    "            colors.append(candidate)\n",
    "        attempts += 1\n",
    "\n",
    "    if len(colors) < n:\n",
    "        raise ValueError(\"Could not generate enough distinct colors. Try lowering the threshold.\")\n",
    "\n",
    "    return colors\n",
    "\n",
    "import matplotlib.pyplot as plt\n",
    "import matplotlib.cm as cm\n",
    "import numpy as np\n",
    "import seaborn as sns\n",
    "\n",
    "def generate_gradient_colors(n, cmap_name='hls'):\n",
    "    # cmap = cm.get_cmap(cmap_name)\n",
    "    cmap = sns.color_palette(cmap_name, n, as_cmap=True)\n",
    "    colors = [cmap(i / (n - 1))[:3] for i in range(n)]  # Get RGB part only\n",
    "    return colors"
   ]
  },
  {
   "cell_type": "code",
   "execution_count": 3,
   "id": "869c0c78",
   "metadata": {},
   "outputs": [
    {
     "name": "stdout",
     "output_type": "stream",
     "text": [
      "Prepare data...\n",
      "                                                 obs           lang\n",
      "2  [0.5, 0.42857142857142855, 0.0, 0.0, 0.0, 0.0,...  [10, 8, 3, 1]\n",
      "3  [0.5, 0.5, 0.0, 0.0, 0.0, 0.0, 0.0, 0.0, 0.0, ...            [1]\n",
      "4  [0.42857142857142855, 0.42857142857142855, 0.0...  [10, 8, 3, 1]\n",
      "5  [0.42857142857142855, 0.5, 0.0, 0.0, 0.0, 0.0,...  [10, 8, 3, 1]\n",
      "7  [0.5, 0.5, 0.0, 0.0, 0.0, 0.0, 0.0, 0.0, 0.0, ...            [1]\n"
     ]
    }
   ],
   "source": [
    "from src.algo.policy_diff.langground import LanguageGrounder\n",
    "\n",
    "import torch\n",
    "import numpy as np\n",
    "\n",
    "obs_dim = 78\n",
    "context_dim = 4\n",
    "hidden_dim = 64\n",
    "embed_dim = 4\n",
    "n_layer = 2\n",
    "lr = 0.007\n",
    "vocab = [\n",
    "            \"Prey\", \"Center\", \"North\", \"South\", \"East\", \"West\",\n",
    "            \"Gem\", \"Yellow\", \"Green\", \"Purple\", \"Danger\"]\n",
    "max_mess_len = 3\n",
    "\n",
    "ll = LanguageGrounder(obs_dim, context_dim, hidden_dim, embed_dim, n_layer, lr, vocab, max_mess_len)\n",
    "ll.load_params(torch.load(\"../../results/data/lamarl_data/FH15_langground.pt\"))\n",
    "\n",
    "# Load and prepare data\n",
    "print(\"Prepare data...\")\n",
    "df = load_n_prep_data(\"../../results/data/lamarl_data/FH_15.csv\", ll)\n",
    "print(df.head())"
   ]
  },
  {
   "cell_type": "code",
   "execution_count": null,
   "id": "144c5d6f",
   "metadata": {},
   "outputs": [
    {
     "data": {
      "text/html": [
       "<div>\n",
       "<style scoped>\n",
       "    .dataframe tbody tr th:only-of-type {\n",
       "        vertical-align: middle;\n",
       "    }\n",
       "\n",
       "    .dataframe tbody tr th {\n",
       "        vertical-align: top;\n",
       "    }\n",
       "\n",
       "    .dataframe thead th {\n",
       "        text-align: right;\n",
       "    }\n",
       "</style>\n",
       "<table border=\"1\" class=\"dataframe\">\n",
       "  <thead>\n",
       "    <tr style=\"text-align: right;\">\n",
       "      <th></th>\n",
       "      <th>obs</th>\n",
       "      <th>lang</th>\n",
       "    </tr>\n",
       "  </thead>\n",
       "  <tbody>\n",
       "    <tr>\n",
       "      <th>3993322</th>\n",
       "      <td>[0.7857142857142857, 1.0, 0.0, 0.0, 0.0, 0.0, ...</td>\n",
       "      <td>[1]</td>\n",
       "    </tr>\n",
       "    <tr>\n",
       "      <th>3993323</th>\n",
       "      <td>[0.5714285714285714, 0.5714285714285714, 0.0, ...</td>\n",
       "      <td>[10, 8, 3, 1]</td>\n",
       "    </tr>\n",
       "    <tr>\n",
       "      <th>3993324</th>\n",
       "      <td>[0.2857142857142857, 0.6428571428571429, 0.0, ...</td>\n",
       "      <td>[11, 8, 4, 1]</td>\n",
       "    </tr>\n",
       "    <tr>\n",
       "      <th>3993325</th>\n",
       "      <td>[0.35714285714285715, 0.2857142857142857, 0.0,...</td>\n",
       "      <td>[10, 8, 4, 1]</td>\n",
       "    </tr>\n",
       "    <tr>\n",
       "      <th>3993326</th>\n",
       "      <td>[0.9285714285714286, 0.35714285714285715, 0.0,...</td>\n",
       "      <td>[10, 8, 5, 1]</td>\n",
       "    </tr>\n",
       "    <tr>\n",
       "      <th>...</th>\n",
       "      <td>...</td>\n",
       "      <td>...</td>\n",
       "    </tr>\n",
       "    <tr>\n",
       "      <th>3999990</th>\n",
       "      <td>[0.8571428571428571, 0.7857142857142857, 0.0, ...</td>\n",
       "      <td>[10, 8, 5, 6, 1]</td>\n",
       "    </tr>\n",
       "    <tr>\n",
       "      <th>3999995</th>\n",
       "      <td>[0.21428571428571427, 0.6428571428571429, 0.0,...</td>\n",
       "      <td>[11, 8, 4, 1]</td>\n",
       "    </tr>\n",
       "    <tr>\n",
       "      <th>3999996</th>\n",
       "      <td>[0.8571428571428571, 0.5, 0.0, 0.0, 0.0, 0.0, ...</td>\n",
       "      <td>[10, 8, 5, 1]</td>\n",
       "    </tr>\n",
       "    <tr>\n",
       "      <th>3999997</th>\n",
       "      <td>[0.0, 0.35714285714285715, 0.0, 0.0, 0.0, 0.0,...</td>\n",
       "      <td>[10, 8, 4, 1]</td>\n",
       "    </tr>\n",
       "    <tr>\n",
       "      <th>3999998</th>\n",
       "      <td>[0.8571428571428571, 0.35714285714285715, 0.0,...</td>\n",
       "      <td>[10, 8, 5, 1]</td>\n",
       "    </tr>\n",
       "  </tbody>\n",
       "</table>\n",
       "<p>3308 rows × 2 columns</p>\n",
       "</div>"
      ],
      "text/plain": [
       "                                                       obs              lang\n",
       "3993322  [0.7857142857142857, 1.0, 0.0, 0.0, 0.0, 0.0, ...               [1]\n",
       "3993323  [0.5714285714285714, 0.5714285714285714, 0.0, ...     [10, 8, 3, 1]\n",
       "3993324  [0.2857142857142857, 0.6428571428571429, 0.0, ...     [11, 8, 4, 1]\n",
       "3993325  [0.35714285714285715, 0.2857142857142857, 0.0,...     [10, 8, 4, 1]\n",
       "3993326  [0.9285714285714286, 0.35714285714285715, 0.0,...     [10, 8, 5, 1]\n",
       "...                                                    ...               ...\n",
       "3999990  [0.8571428571428571, 0.7857142857142857, 0.0, ...  [10, 8, 5, 6, 1]\n",
       "3999995  [0.21428571428571427, 0.6428571428571429, 0.0,...     [11, 8, 4, 1]\n",
       "3999996  [0.8571428571428571, 0.5, 0.0, 0.0, 0.0, 0.0, ...     [10, 8, 5, 1]\n",
       "3999997  [0.0, 0.35714285714285715, 0.0, 0.0, 0.0, 0.0,...     [10, 8, 4, 1]\n",
       "3999998  [0.8571428571428571, 0.35714285714285715, 0.0,...     [10, 8, 5, 1]\n",
       "\n",
       "[3308 rows x 2 columns]"
      ]
     },
     "execution_count": 33,
     "metadata": {},
     "output_type": "execute_result"
    }
   ],
   "source": [
    "from sklearn.preprocessing import LabelEncoder\n",
    "from sklearn.manifold import TSNE\n",
    "from matplotlib.cm import get_cmap\n",
    "import seaborn as sns\n",
    "\n",
    "\n",
    "\n",
    "ll.prep_rollout(\"cpu\")\n",
    "\n",
    "eval_data = df.iloc[-5000:]\n",
    "\n",
    "# Remove rows with long messages\n",
    "rids = []\n",
    "for i, row in eval_data.iterrows():\n",
    "    if len(row[\"lang\"]) > 5:# or len(row[\"lang\"]) <= 1 or 10 not in row[\"lang\"]:# or 10 not in row[\"lang\"]:\n",
    "        rids.append(i)\n",
    "display_data = eval_data.drop(rids)\n",
    "display_data\n"
   ]
  },
  {
   "cell_type": "code",
   "execution_count": 43,
   "id": "df68bb26",
   "metadata": {},
   "outputs": [],
   "source": [
    "obs = torch.Tensor(np.array(list(display_data[\"obs\"])))\n",
    "lang = [' '.join(s) for s in ll.word_encoder.decode_batch(list(display_data[\"lang\"]))]\n",
    "\n",
    "enc_obs = ll.obs_encoder(obs).detach().numpy()\n",
    "\n",
    "tsne = TSNE(n_components=2, random_state=42)\n",
    "embeddings_2d = tsne.fit_transform(enc_obs)"
   ]
  },
  {
   "cell_type": "code",
   "execution_count": 35,
   "id": "7b14a68c",
   "metadata": {},
   "outputs": [
    {
     "data": {
      "image/png": "[encoded data removed]",
      "text/plain": [
       "<Figure size 1300x800 with 1 Axes>"
      ]
     },
     "metadata": {},
     "output_type": "display_data"
    }
   ],
   "source": [
    "# Map descriptions to unique numeric labels\n",
    "label_encoder = LabelEncoder()\n",
    "labels = label_encoder.fit_transform(lang)\n",
    "\n",
    "# Generate a color map\n",
    "unique_labels = np.unique(labels)\n",
    "# cmap = get_cmap('glasbey_bw', len(unique_labels))  # Use a larger colormap\n",
    "# clrs = sns.color_palette('husl', n_colors=len(unique_labels))\n",
    "# clrs = [(random.random(), random.random(), random.random()) for _ in range(len(unique_labels))]\n",
    "# clrs = generate_distinct_colors(len(unique_labels), threshold=0.3)\n",
    "clrs = generate_gradient_colors(len(unique_labels), cmap_name='Paired')\n",
    "label_to_color = {label: clrs[idx] for idx, label in enumerate(unique_labels)}\n",
    "\n",
    "# Scatter plot\n",
    "plt.figure(figsize=(13, 8))\n",
    "for idx, embedding in enumerate(embeddings_2d):\n",
    "    label = labels[idx]\n",
    "    plt.scatter(embedding[0], embedding[1], color=label_to_color[label], label=lang[idx])\n",
    "\n",
    "# Add legend\n",
    "handles = [plt.Line2D([0], [0], marker='o', color='w', markerfacecolor=label_to_color[label], markersize=10) \n",
    "           for label in unique_labels]\n",
    "labels = label_encoder.inverse_transform(unique_labels)\n",
    "plt.legend(handles, labels, title=\"Descriptions\", loc=\"center left\", bbox_to_anchor=(1, 0.5))\n",
    "\n",
    "# Plot settings\n",
    "plt.title(\"t-SNE Reduced Embeddings Scatter Plot\")\n",
    "plt.xlabel(\"t-SNE Dimension 1\")\n",
    "plt.ylabel(\"t-SNE Dimension 2\")\n",
    "plt.grid(True)\n",
    "\n",
    "# Show plot\n",
    "plt.tight_layout(rect=[0, 0, 0.85, 1])"
   ]
  },
  {
   "cell_type": "code",
   "execution_count": null,
   "id": "892fba04",
   "metadata": {},
   "outputs": [
    {
     "data": {
      "application/vnd.plotly.v1+json": {
       "config": {
        "plotlyServerURL": "https://plot.ly"
       },
       "data": [
        {
         "customdata": [
          [
           ""
          ],
          [
           ""
          ],
          [
           ""
          ],
          [
           ""
          ],
          [
           ""
          ],
          [
           ""
          ],
          [
           ""
          ],
          [
           ""
          ],
          [
           ""
          ],
          [
           ""
          ],
          [
           ""
          ],
          [
           ""
          ],
          [
           ""
          ],
          [
           ""
          ],
          [
           ""
          ],
          [
           ""
          ],
          [
           ""
          ],
          [
           ""
          ],
          [
           ""
          ],
          [
           ""
          ],
          [
           ""
          ],
          [
           ""
          ],
          [
           ""
          ],
          [
           ""
          ],
          [
           ""
          ],
          [
           ""
          ],
          [
           ""
          ],
          [
           ""
          ],
          [
           ""
          ],
          [
           ""
          ],
          [
           ""
          ],
          [
           ""
          ],
          [
           ""
          ],
          [
           ""
          ],
          [
           ""
          ],
          [
           ""
          ],
          [
           ""
          ],
          [
           ""
          ],
          [
           ""
          ],
          [
           ""
          ],
          [
           ""
          ],
          [
           ""
          ],
          [
           ""
          ],
          [
           ""
          ],
          [
           ""
          ],
          [
           ""
          ],
          [
           ""
          ],
          [
           ""
          ],
          [
           ""
          ],
          [
           ""
          ],
          [
           ""
          ],
          [
           ""
          ],
          [
           ""
          ],
          [
           ""
          ],
          [
           ""
          ],
          [
           ""
          ],
          [
           ""
          ],
          [
           ""
          ],
          [
           ""
          ],
          [
           ""
          ],
          [
           ""
          ],
          [
           ""
          ],
          [
           ""
          ],
          [
           ""
          ],
          [
           ""
          ],
          [
           ""
          ],
          [
           ""
          ],
          [
           ""
          ],
          [
           ""
          ],
          [
           ""
          ],
          [
           ""
          ],
          [
           ""
          ],
          [
           ""
          ],
          [
           ""
          ],
          [
           ""
          ],
          [
           ""
          ],
          [
           ""
          ],
          [
           ""
          ],
          [
           ""
          ],
          [
           ""
          ],
          [
           ""
          ],
          [
           ""
          ],
          [
           ""
          ],
          [
           ""
          ],
          [
           ""
          ],
          [
           ""
          ],
          [
           ""
          ],
          [
           ""
          ],
          [
           ""
          ],
          [
           ""
          ],
          [
           ""
          ],
          [
           ""
          ],
          [
           ""
          ],
          [
           ""
          ],
          [
           ""
          ],
          [
           ""
          ],
          [
           ""
          ],
          [
           ""
          ],
          [
           ""
          ],
          [
           ""
          ],
          [
           ""
          ],
          [
           ""
          ],
          [
           ""
          ],
          [
           ""
          ],
          [
           ""
          ],
          [
           ""
          ],
          [
           ""
          ],
          [
           ""
          ],
          [
           ""
          ],
          [
           ""
          ],
          [
           ""
          ],
          [
           ""
          ],
          [
           ""
          ],
          [
           ""
          ],
          [
           ""
          ],
          [
           ""
          ],
          [
           ""
          ],
          [
           ""
          ],
          [
           ""
          ],
          [
           ""
          ],
          [
           ""
          ],
          [
           ""
          ],
          [
           ""
          ],
          [
           ""
          ],
          [
           ""
          ],
          [
           ""
          ],
          [
           ""
          ],
          [
           ""
          ],
          [
           ""
          ],
          [
           ""
          ],
          [
           ""
          ],
          [
           ""
          ],
          [
           ""
          ],
          [
           ""
          ],
          [
           ""
          ],
          [
           ""
          ],
          [
           ""
          ],
          [
           ""
          ],
          [
           ""
          ],
          [
           ""
          ],
          [
           ""
          ],
          [
           ""
          ],
          [
           ""
          ],
          [
           ""
          ],
          [
           ""
          ],
          [
           ""
          ],
          [
           ""
          ],
          [
           ""
          ],
          [
           ""
          ],
          [
           ""
          ],
          [
           ""
          ],
          [
           ""
          ],
          [
           ""
          ],
          [
           ""
          ],
          [
           ""
          ],
          [
           ""
          ],
          [
           ""
          ],
          [
           ""
          ],
          [
           ""
          ],
          [
           ""
          ],
          [
           ""
          ],
          [
           ""
          ],
          [
           ""
          ],
          [
           ""
          ],
          [
           ""
          ],
          [
           ""
          ],
          [
           ""
          ],
          [
           ""
          ],
          [
           ""
          ],
          [
           ""
          ],
          [
           ""
          ],
          [
           ""
          ],
          [
           ""
          ],
          [
           ""
          ],
          [
           ""
          ],
          [
           ""
          ],
          [
           ""
          ],
          [
           ""
          ],
          [
           ""
          ],
          [
           ""
          ],
          [
           ""
          ],
          [
           ""
          ],
          [
           ""
          ],
          [
           ""
          ],
          [
           ""
          ],
          [
           ""
          ],
          [
           ""
          ],
          [
           ""
          ],
          [
           ""
          ],
          [
           ""
          ],
          [
           ""
          ],
          [
           ""
          ],
          [
           ""
          ],
          [
           ""
          ],
          [
           ""
          ],
          [
           ""
          ],
          [
           ""
          ],
          [
           ""
          ],
          [
           ""
          ],
          [
           ""
          ],
          [
           ""
          ],
          [
           ""
          ],
          [
           ""
          ],
          [
           ""
          ],
          [
           ""
          ],
          [
           ""
          ],
          [
           ""
          ],
          [
           ""
          ],
          [
           ""
          ],
          [
           ""
          ],
          [
           ""
          ],
          [
           ""
          ],
          [
           ""
          ],
          [
           ""
          ],
          [
           ""
          ],
          [
           ""
          ],
          [
           ""
          ],
          [
           ""
          ],
          [
           ""
          ],
          [
           ""
          ],
          [
           ""
          ],
          [
           ""
          ],
          [
           ""
          ],
          [
           ""
          ],
          [
           ""
          ],
          [
           ""
          ],
          [
           ""
          ],
          [
           ""
          ],
          [
           ""
          ],
          [
           ""
          ],
          [
           ""
          ],
          [
           ""
          ],
          [
           ""
          ],
          [
           ""
          ],
          [
           ""
          ],
          [
           ""
          ],
          [
           ""
          ],
          [
           ""
          ],
          [
           ""
          ],
          [
           ""
          ],
          [
           ""
          ],
          [
           ""
          ],
          [
           ""
          ],
          [
           ""
          ],
          [
           ""
          ],
          [
           ""
          ],
          [
           ""
          ],
          [
           ""
          ],
          [
           ""
          ],
          [
           ""
          ],
          [
           ""
          ],
          [
           ""
          ],
          [
           ""
          ],
          [
           ""
          ],
          [
           ""
          ],
          [
           ""
          ],
          [
           ""
          ],
          [
           ""
          ],
          [
           ""
          ],
          [
           ""
          ],
          [
           ""
          ],
          [
           ""
          ],
          [
           ""
          ],
          [
           ""
          ],
          [
           ""
          ],
          [
           ""
          ],
          [
           ""
          ],
          [
           ""
          ],
          [
           ""
          ],
          [
           ""
          ],
          [
           ""
          ],
          [
           ""
          ],
          [
           ""
          ],
          [
           ""
          ],
          [
           ""
          ],
          [
           ""
          ],
          [
           ""
          ],
          [
           ""
          ],
          [
           ""
          ],
          [
           ""
          ],
          [
           ""
          ],
          [
           ""
          ],
          [
           ""
          ],
          [
           ""
          ],
          [
           ""
          ],
          [
           ""
          ],
          [
           ""
          ],
          [
           ""
          ],
          [
           ""
          ],
          [
           ""
          ],
          [
           ""
          ],
          [
           ""
          ],
          [
           ""
          ],
          [
           ""
          ],
          [
           ""
          ],
          [
           ""
          ],
          [
           ""
          ],
          [
           ""
          ],
          [
           ""
          ],
          [
           ""
          ],
          [
           ""
          ],
          [
           ""
          ],
          [
           ""
          ],
          [
           ""
          ],
          [
           ""
          ],
          [
           ""
          ],
          [
           ""
          ],
          [
           ""
          ],
          [
           ""
          ],
          [
           ""
          ],
          [
           ""
          ],
          [
           ""
          ],
          [
           ""
          ],
          [
           ""
          ],
          [
           ""
          ],
          [
           ""
          ],
          [
           ""
          ],
          [
           ""
          ],
          [
           ""
          ],
          [
           ""
          ],
          [
           ""
          ],
          [
           ""
          ],
          [
           ""
          ],
          [
           ""
          ],
          [
           ""
          ],
          [
           ""
          ],
          [
           ""
          ],
          [
           ""
          ],
          [
           ""
          ],
          [
           ""
          ],
          [
           ""
          ],
          [
           ""
          ],
          [
           ""
          ],
          [
           ""
          ],
          [
           ""
          ],
          [
           ""
          ],
          [
           ""
          ],
          [
           ""
          ],
          [
           ""
          ],
          [
           ""
          ],
          [
           ""
          ],
          [
           ""
          ],
          [
           ""
          ],
          [
           ""
          ],
          [
           ""
          ],
          [
           ""
          ],
          [
           ""
          ],
          [
           ""
          ],
          [
           ""
          ],
          [
           ""
          ],
          [
           ""
          ],
          [
           ""
          ],
          [
           ""
          ],
          [
           ""
          ],
          [
           ""
          ],
          [
           ""
          ],
          [
           ""
          ],
          [
           ""
          ],
          [
           ""
          ],
          [
           ""
          ],
          [
           ""
          ],
          [
           ""
          ],
          [
           ""
          ],
          [
           ""
          ],
          [
           ""
          ],
          [
           ""
          ],
          [
           ""
          ],
          [
           ""
          ],
          [
           ""
          ],
          [
           ""
          ],
          [
           ""
          ],
          [
           ""
          ],
          [
           ""
          ],
          [
           ""
          ],
          [
           ""
          ],
          [
           ""
          ],
          [
           ""
          ],
          [
           ""
          ],
          [
           ""
          ],
          [
           ""
          ],
          [
           ""
          ],
          [
           ""
          ],
          [
           ""
          ],
          [
           ""
          ],
          [
           ""
          ],
          [
           ""
          ],
          [
           ""
          ],
          [
           ""
          ],
          [
           ""
          ],
          [
           ""
          ],
          [
           ""
          ],
          [
           ""
          ],
          [
           ""
          ],
          [
           ""
          ],
          [
           ""
          ],
          [
           ""
          ],
          [
           ""
          ],
          [
           ""
          ],
          [
           ""
          ],
          [
           ""
          ],
          [
           ""
          ],
          [
           ""
          ],
          [
           ""
          ],
          [
           ""
          ],
          [
           ""
          ],
          [
           ""
          ],
          [
           ""
          ],
          [
           ""
          ],
          [
           ""
          ],
          [
           ""
          ],
          [
           ""
          ],
          [
           ""
          ],
          [
           ""
          ],
          [
           ""
          ],
          [
           ""
          ],
          [
           ""
          ],
          [
           ""
          ],
          [
           ""
          ],
          [
           ""
          ],
          [
           ""
          ],
          [
           ""
          ],
          [
           ""
          ],
          [
           ""
          ],
          [
           ""
          ],
          [
           ""
          ],
          [
           ""
          ],
          [
           ""
          ],
          [
           ""
          ],
          [
           ""
          ],
          [
           ""
          ],
          [
           ""
          ],
          [
           ""
          ],
          [
           ""
          ],
          [
           ""
          ],
          [
           ""
          ],
          [
           ""
          ],
          [
           ""
          ],
          [
           ""
          ],
          [
           ""
          ],
          [
           ""
          ],
          [
           ""
          ],
          [
           ""
          ],
          [
           ""
          ],
          [
           ""
          ],
          [
           ""
          ],
          [
           ""
          ],
          [
           ""
          ],
          [
           ""
          ],
          [
           ""
          ],
          [
           ""
          ],
          [
           ""
          ],
          [
           ""
          ],
          [
           ""
          ],
          [
           ""
          ],
          [
           ""
          ],
          [
           ""
          ],
          [
           ""
          ],
          [
           ""
          ],
          [
           ""
          ],
          [
           ""
          ],
          [
           ""
          ],
          [
           ""
          ],
          [
           ""
          ],
          [
           ""
          ],
          [
           ""
          ],
          [
           ""
          ],
          [
           ""
          ],
          [
           ""
          ],
          [
           ""
          ],
          [
           ""
          ],
          [
           ""
          ],
          [
           ""
          ],
          [
           ""
          ],
          [
           ""
          ],
          [
           ""
          ],
          [
           ""
          ],
          [
           ""
          ],
          [
           ""
          ],
          [
           ""
          ],
          [
           ""
          ],
          [
           ""
          ],
          [
           ""
          ],
          [
           ""
          ],
          [
           ""
          ],
          [
           ""
          ],
          [
           ""
          ],
          [
           ""
          ],
          [
           ""
          ],
          [
           ""
          ],
          [
           ""
          ],
          [
           ""
          ],
          [
           ""
          ],
          [
           ""
          ],
          [
           ""
          ],
          [
           ""
          ],
          [
           ""
          ],
          [
           ""
          ],
          [
           ""
          ],
          [
           ""
          ],
          [
           ""
          ],
          [
           ""
          ],
          [
           ""
          ],
          [
           ""
          ],
          [
           ""
          ],
          [
           ""
          ],
          [
           ""
          ],
          [
           ""
          ],
          [
           ""
          ],
          [
           ""
          ],
          [
           ""
          ],
          [
           ""
          ],
          [
           ""
          ],
          [
           ""
          ],
          [
           ""
          ],
          [
           ""
          ],
          [
           ""
          ],
          [
           ""
          ],
          [
           ""
          ],
          [
           ""
          ],
          [
           ""
          ],
          [
           ""
          ],
          [
           ""
          ],
          [
           ""
          ],
          [
           ""
          ],
          [
           ""
          ],
          [
           ""
          ],
          [
           ""
          ],
          [
           ""
          ],
          [
           ""
          ],
          [
           ""
          ],
          [
           ""
          ],
          [
           ""
          ],
          [
           ""
          ],
          [
           ""
          ],
          [
           ""
          ],
          [
           ""
          ],
          [
           ""
          ],
          [
           ""
          ],
          [
           ""
          ],
          [
           ""
          ],
          [
           ""
          ],
          [
           ""
          ],
          [
           ""
          ],
          [
           ""
          ],
          [
           ""
          ],
          [
           ""
          ],
          [
           ""
          ],
          [
           ""
          ],
          [
           ""
          ],
          [
           ""
          ],
          [
           ""
          ],
          [
           ""
          ],
          [
           ""
          ],
          [
           ""
          ],
          [
           ""
          ],
          [
           ""
          ],
          [
           ""
          ],
          [
           ""
          ],
          [
           ""
          ],
          [
           ""
          ],
          [
           ""
          ],
          [
           ""
          ],
          [
           ""
          ],
          [
           ""
          ],
          [
           ""
          ],
          [
           ""
          ],
          [
           ""
          ],
          [
           ""
          ],
          [
           ""
          ],
          [
           ""
          ],
          [
           ""
          ],
          [
           ""
          ],
          [
           ""
          ],
          [
           ""
          ],
          [
           ""
          ],
          [
           ""
          ],
          [
           ""
          ],
          [
           ""
          ],
          [
           ""
          ],
          [
           ""
          ],
          [
           ""
          ],
          [
           ""
          ],
          [
           ""
          ],
          [
           ""
          ],
          [
           ""
          ],
          [
           ""
          ],
          [
           ""
          ],
          [
           ""
          ],
          [
           ""
          ],
          [
           ""
          ],
          [
           ""
          ],
          [
           ""
          ],
          [
           ""
          ]
         ],
         "hovertemplate": "Description=%{customdata[0]}<br>TSNE-1=%{x}<br>TSNE-2=%{y}<extra></extra>",
         "legendgroup": "",
         "marker": {
          "color": "#636efa",
          "opacity": 0.8,
          "size": 6,
          "symbol": "circle"
         },
         "mode": "markers",
         "name": "",
         "showlegend": false,
         "type": "scattergl",
         "x": {
          "bdata": "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",
          "dtype": "f4"
         },
         "xaxis": "x",
         "y": {
          "bdata": "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",
          "dtype": "f4"
         },
         "yaxis": "y"
        },
        {
         "customdata": [
          [
           "Green Gem Center"
          ],
          [
           "Green Gem Center"
          ],
          [
           "Green Gem Center"
          ],
          [
           "Green Gem Center"
          ],
          [
           "Green Gem Center"
          ],
          [
           "Green Gem Center"
          ],
          [
           "Green Gem Center"
          ],
          [
           "Green Gem Center"
          ],
          [
           "Green Gem Center"
          ],
          [
           "Green Gem Center"
          ],
          [
           "Green Gem Center"
          ],
          [
           "Green Gem Center"
          ],
          [
           "Green Gem Center"
          ],
          [
           "Green Gem Center"
          ],
          [
           "Green Gem Center"
          ],
          [
           "Green Gem Center"
          ],
          [
           "Green Gem Center"
          ],
          [
           "Green Gem Center"
          ],
          [
           "Green Gem Center"
          ],
          [
           "Green Gem Center"
          ],
          [
           "Green Gem Center"
          ],
          [
           "Green Gem Center"
          ],
          [
           "Green Gem Center"
          ],
          [
           "Green Gem Center"
          ],
          [
           "Green Gem Center"
          ],
          [
           "Green Gem Center"
          ],
          [
           "Green Gem Center"
          ],
          [
           "Green Gem Center"
          ],
          [
           "Green Gem Center"
          ],
          [
           "Green Gem Center"
          ],
          [
           "Green Gem Center"
          ],
          [
           "Green Gem Center"
          ],
          [
           "Green Gem Center"
          ],
          [
           "Green Gem Center"
          ],
          [
           "Green Gem Center"
          ],
          [
           "Green Gem Center"
          ],
          [
           "Green Gem Center"
          ],
          [
           "Green Gem Center"
          ],
          [
           "Green Gem Center"
          ],
          [
           "Green Gem Center"
          ],
          [
           "Green Gem Center"
          ],
          [
           "Green Gem Center"
          ],
          [
           "Green Gem Center"
          ],
          [
           "Green Gem Center"
          ],
          [
           "Green Gem Center"
          ],
          [
           "Green Gem Center"
          ],
          [
           "Green Gem Center"
          ],
          [
           "Green Gem Center"
          ],
          [
           "Green Gem Center"
          ],
          [
           "Green Gem Center"
          ],
          [
           "Green Gem Center"
          ],
          [
           "Green Gem Center"
          ],
          [
           "Green Gem Center"
          ],
          [
           "Green Gem Center"
          ],
          [
           "Green Gem Center"
          ],
          [
           "Green Gem Center"
          ],
          [
           "Green Gem Center"
          ],
          [
           "Green Gem Center"
          ],
          [
           "Green Gem Center"
          ],
          [
           "Green Gem Center"
          ],
          [
           "Green Gem Center"
          ],
          [
           "Green Gem Center"
          ],
          [
           "Green Gem Center"
          ],
          [
           "Green Gem Center"
          ],
          [
           "Green Gem Center"
          ],
          [
           "Green Gem Center"
          ],
          [
           "Green Gem Center"
          ],
          [
           "Green Gem Center"
          ],
          [
           "Green Gem Center"
          ],
          [
           "Green Gem Center"
          ],
          [
           "Green Gem Center"
          ],
          [
           "Green Gem Center"
          ],
          [
           "Green Gem Center"
          ],
          [
           "Green Gem Center"
          ],
          [
           "Green Gem Center"
          ],
          [
           "Green Gem Center"
          ],
          [
           "Green Gem Center"
          ],
          [
           "Green Gem Center"
          ],
          [
           "Green Gem Center"
          ],
          [
           "Green Gem Center"
          ],
          [
           "Green Gem Center"
          ],
          [
           "Green Gem Center"
          ],
          [
           "Green Gem Center"
          ],
          [
           "Green Gem Center"
          ],
          [
           "Green Gem Center"
          ],
          [
           "Green Gem Center"
          ],
          [
           "Green Gem Center"
          ],
          [
           "Green Gem Center"
          ],
          [
           "Green Gem Center"
          ],
          [
           "Green Gem Center"
          ],
          [
           "Green Gem Center"
          ],
          [
           "Green Gem Center"
          ],
          [
           "Green Gem Center"
          ],
          [
           "Green Gem Center"
          ],
          [
           "Green Gem Center"
          ],
          [
           "Green Gem Center"
          ],
          [
           "Green Gem Center"
          ],
          [
           "Green Gem Center"
          ],
          [
           "Green Gem Center"
          ],
          [
           "Green Gem Center"
          ],
          [
           "Green Gem Center"
          ],
          [
           "Green Gem Center"
          ],
          [
           "Green Gem Center"
          ],
          [
           "Green Gem Center"
          ],
          [
           "Green Gem Center"
          ],
          [
           "Green Gem Center"
          ],
          [
           "Green Gem Center"
          ],
          [
           "Green Gem Center"
          ],
          [
           "Green Gem Center"
          ],
          [
           "Green Gem Center"
          ],
          [
           "Green Gem Center"
          ],
          [
           "Green Gem Center"
          ],
          [
           "Green Gem Center"
          ],
          [
           "Green Gem Center"
          ],
          [
           "Green Gem Center"
          ],
          [
           "Green Gem Center"
          ],
          [
           "Green Gem Center"
          ],
          [
           "Green Gem Center"
          ],
          [
           "Green Gem Center"
          ],
          [
           "Green Gem Center"
          ],
          [
           "Green Gem Center"
          ],
          [
           "Green Gem Center"
          ],
          [
           "Green Gem Center"
          ],
          [
           "Green Gem Center"
          ],
          [
           "Green Gem Center"
          ],
          [
           "Green Gem Center"
          ],
          [
           "Green Gem Center"
          ],
          [
           "Green Gem Center"
          ],
          [
           "Green Gem Center"
          ],
          [
           "Green Gem Center"
          ],
          [
           "Green Gem Center"
          ],
          [
           "Green Gem Center"
          ],
          [
           "Green Gem Center"
          ],
          [
           "Green Gem Center"
          ],
          [
           "Green Gem Center"
          ],
          [
           "Green Gem Center"
          ],
          [
           "Green Gem Center"
          ],
          [
           "Green Gem Center"
          ],
          [
           "Green Gem Center"
          ],
          [
           "Green Gem Center"
          ],
          [
           "Green Gem Center"
          ],
          [
           "Green Gem Center"
          ],
          [
           "Green Gem Center"
          ],
          [
           "Green Gem Center"
          ],
          [
           "Green Gem Center"
          ],
          [
           "Green Gem Center"
          ],
          [
           "Green Gem Center"
          ],
          [
           "Green Gem Center"
          ],
          [
           "Green Gem Center"
          ],
          [
           "Green Gem Center"
          ],
          [
           "Green Gem Center"
          ],
          [
           "Green Gem Center"
          ],
          [
           "Green Gem Center"
          ],
          [
           "Green Gem Center"
          ],
          [
           "Green Gem Center"
          ],
          [
           "Green Gem Center"
          ],
          [
           "Green Gem Center"
          ],
          [
           "Green Gem Center"
          ],
          [
           "Green Gem Center"
          ],
          [
           "Green Gem Center"
          ],
          [
           "Green Gem Center"
          ],
          [
           "Green Gem Center"
          ],
          [
           "Green Gem Center"
          ],
          [
           "Green Gem Center"
          ],
          [
           "Green Gem Center"
          ],
          [
           "Green Gem Center"
          ],
          [
           "Green Gem Center"
          ],
          [
           "Green Gem Center"
          ],
          [
           "Green Gem Center"
          ],
          [
           "Green Gem Center"
          ],
          [
           "Green Gem Center"
          ],
          [
           "Green Gem Center"
          ],
          [
           "Green Gem Center"
          ],
          [
           "Green Gem Center"
          ],
          [
           "Green Gem Center"
          ],
          [
           "Green Gem Center"
          ],
          [
           "Green Gem Center"
          ],
          [
           "Green Gem Center"
          ],
          [
           "Green Gem Center"
          ],
          [
           "Green Gem Center"
          ],
          [
           "Green Gem Center"
          ],
          [
           "Green Gem Center"
          ],
          [
           "Green Gem Center"
          ],
          [
           "Green Gem Center"
          ],
          [
           "Green Gem Center"
          ],
          [
           "Green Gem Center"
          ],
          [
           "Green Gem Center"
          ],
          [
           "Green Gem Center"
          ],
          [
           "Green Gem Center"
          ],
          [
           "Green Gem Center"
          ],
          [
           "Green Gem Center"
          ],
          [
           "Green Gem Center"
          ],
          [
           "Green Gem Center"
          ],
          [
           "Green Gem Center"
          ],
          [
           "Green Gem Center"
          ],
          [
           "Green Gem Center"
          ],
          [
           "Green Gem Center"
          ],
          [
           "Green Gem Center"
          ],
          [
           "Green Gem Center"
          ],
          [
           "Green Gem Center"
          ],
          [
           "Green Gem Center"
          ],
          [
           "Green Gem Center"
          ],
          [
           "Green Gem Center"
          ],
          [
           "Green Gem Center"
          ],
          [
           "Green Gem Center"
          ],
          [
           "Green Gem Center"
          ],
          [
           "Green Gem Center"
          ],
          [
           "Green Gem Center"
          ],
          [
           "Green Gem Center"
          ],
          [
           "Green Gem Center"
          ],
          [
           "Green Gem Center"
          ],
          [
           "Green Gem Center"
          ],
          [
           "Green Gem Center"
          ],
          [
           "Green Gem Center"
          ],
          [
           "Green Gem Center"
          ],
          [
           "Green Gem Center"
          ],
          [
           "Green Gem Center"
          ],
          [
           "Green Gem Center"
          ],
          [
           "Green Gem Center"
          ],
          [
           "Green Gem Center"
          ],
          [
           "Green Gem Center"
          ],
          [
           "Green Gem Center"
          ],
          [
           "Green Gem Center"
          ],
          [
           "Green Gem Center"
          ],
          [
           "Green Gem Center"
          ],
          [
           "Green Gem Center"
          ],
          [
           "Green Gem Center"
          ],
          [
           "Green Gem Center"
          ],
          [
           "Green Gem Center"
          ],
          [
           "Green Gem Center"
          ],
          [
           "Green Gem Center"
          ],
          [
           "Green Gem Center"
          ],
          [
           "Green Gem Center"
          ],
          [
           "Green Gem Center"
          ],
          [
           "Green Gem Center"
          ],
          [
           "Green Gem Center"
          ],
          [
           "Green Gem Center"
          ],
          [
           "Green Gem Center"
          ],
          [
           "Green Gem Center"
          ],
          [
           "Green Gem Center"
          ],
          [
           "Green Gem Center"
          ],
          [
           "Green Gem Center"
          ],
          [
           "Green Gem Center"
          ],
          [
           "Green Gem Center"
          ],
          [
           "Green Gem Center"
          ],
          [
           "Green Gem Center"
          ],
          [
           "Green Gem Center"
          ],
          [
           "Green Gem Center"
          ],
          [
           "Green Gem Center"
          ],
          [
           "Green Gem Center"
          ],
          [
           "Green Gem Center"
          ],
          [
           "Green Gem Center"
          ],
          [
           "Green Gem Center"
          ],
          [
           "Green Gem Center"
          ],
          [
           "Green Gem Center"
          ],
          [
           "Green Gem Center"
          ],
          [
           "Green Gem Center"
          ],
          [
           "Green Gem Center"
          ],
          [
           "Green Gem Center"
          ],
          [
           "Green Gem Center"
          ],
          [
           "Green Gem Center"
          ],
          [
           "Green Gem Center"
          ],
          [
           "Green Gem Center"
          ],
          [
           "Green Gem Center"
          ],
          [
           "Green Gem Center"
          ],
          [
           "Green Gem Center"
          ],
          [
           "Green Gem Center"
          ],
          [
           "Green Gem Center"
          ],
          [
           "Green Gem Center"
          ],
          [
           "Green Gem Center"
          ]
         ],
         "hovertemplate": "Description=%{customdata[0]}<br>TSNE-1=%{x}<br>TSNE-2=%{y}<extra></extra>",
         "legendgroup": "Green Gem Center",
         "marker": {
          "color": "#EF553B",
          "opacity": 0.8,
          "size": 6,
          "symbol": "circle"
         },
         "mode": "markers",
         "name": "Green Gem Center",
         "showlegend": true,
         "type": "scattergl",
         "x": {
          "bdata": "n308QkVFMUACzPhAsQRdQhYSkr/MDaTAkl4QQrGsA0FJJPVBANleQvta5EGqkE5CybFfQggd/kF6Z8NA8PhmQvqL9kHyrQzA2izUvzVYukENrVdCGDieQbKbXEGCfQhCwxyeQegc/kE2tXJBIyBPQvta5EFi3hM/WmGxQYLyIkJGDS1C1y70QFphsUHehJNBeDHav8enNUHqsIzAH0a1QW3VuUF2ssdBnbgUQpqQTkID2fJBovO5Qfud40F2ssdBwK7WP4Zgkr9t/AfAqfWZwPBvu0FUHgRCCFvkQbKbXEHg8lVChzLKQdGOvkHqJ9xBzgEjQgDZXkIS1B9C1/z0QSHwcUJnLqxBwcbGwIPAmcDBxsbAc+FvQj8s9EAI2Hy/WT3wQfL2mcBah7pB8RwtQo7l5UG5pjVBpsHEP4R9kMBEl37Azyy1wLrpAkLhh5xB4YecQc8stcDO0QJCrWT+QdIy48C02x9Cx6c1QT5+LUIri8pAYkHIQNwy48BNiLZBUieiQS3tsL9ierhB8PhmQrTLocA1WLpBI5O8QTxFMUBkuhRCH0a1QaEBYUK5pjVBcDqVvx9GtUFZmhpAczHav9HS7L+x8s8+4YecQc0yykH/T8RBp65mQHPhb0KQKChCKrwrQrEEXUIjIE9CYOXlQdsbPEKVVchA29xmQt6Ek0H7neNBcK/WP96Ek0Hw+GZCoCH0QJpHB0Kn0glBNVO6QbpexMCGYJK/hzLKQbKbXEF8MXrAn308QjXQqkErZv5B4YecQVphsUHqJ9xBdrLHQbpexMDF1ktCTs61vjt9KUKPp15C2dE9QQ4GDkI+fi1Cs7BmQEABYUIE4ji/+53jQSYPHMAfw71ADa1XQhHv7EB5dblB8dcSQgng+b+6/yxChmCSvxNRuUFbT1tCOhJpQrpexMBe2EtCXQq+QJzat0E1Zv5B1PWPQaVgkMAYOJ5B+1rkQWzn5UF1RxRC0ClqQnUwq0H1K8tAmsjEQfD4ZkLw+GZCJByeQRzu7EDb3GZCIyBPQiYPHMCc2rdB235WQkbXYEKyxyBC5RGSv7QrwUEQT1tC0sopQgDZXkKc2rdBoriyQT7W8kFL5pJBFYMWQu28qEFU0vy/1QFyQitSukFO3JnAOChgQqOQBEIHHf5BzmYHQtf89EE/SW3APEUxQMcFz0Hu0FZCciMMwEYSAr+0OdZBULVyQRrRVkL3fi1C94tlQh1WQkDbflZCKdf0QRMuDUL3i2VCX8YgQvdBlb/hTltCsptcQeIGvkCp5/RBuukCQitm/kGtRolBEaSTQds2REJfpl1CnpIEQkqv1j8E2fJBsO9xQvNotMBST1xCCCO2QRMuDUIKr+e/S5tmQEg690HY+OfA3oSTQVphsUEf8AJCoCK2QdxerkCJ2EtCcLjMwLGsA0EffCBCCwJyQi1SukFq12BC",
          "dtype": "f4"
         },
         "xaxis": "x",
         "y": {
          "bdata": "x/bQQd1hcUJVtHJChG8eQqWsf0JGG2NCscg2QRe0dkJK3h5CARksQujWZ0EtE+pBkeQwQs0eRkEVxS5CCZERQkRTiUFucHlChCIsQjLpeELvRgxCH2/ZQQWueELRZmBBaXjZQaceRkGfsnxCADjbQejWZ0GAdWhC451iQnfNKUHQILtB8wl4QuOdYkJpeXpClIEzQu5Ag0J7PDNCdtB7QtQeo0EDrt1B/TCKQfkS6kESD6lByiujQZTGD0IDrt1BmcB+Quusf0L/HDFC2uVgQkMmj0LW8EZB7NZnQQWueEKDvshBsjfaQWQslUEF7wlC7KQkQQEZLEKgzA5Bm9JZQkmnHUJ4KrVBX6lOQi8BZ0JfqU5ChTcaQv0IeEJiVSZCO8ccQpzlYEKR6opCTTS7QQMHYULmQINC+jhrQtjZZkKCdzFCcLRJQvfMUUJQ4olCUOKJQnC0SUI4ED1BhqNjQcTDTkJ3Vg5B7kCDQtQZukGPN0ZCeyJHQsLDTkLIDY5C82CKQuFmJkKmGp9BCZERQhyISUIy6XhCXx6hQd1hcUJRLYpBdtB7QjEWFkLmQINCrOVjQnbQe0ImuGxCkoEzQklwLkLQgGlCUOKJQvo32kFrGtxBdSp1QoU3GkKWXRdBV8gTQYRvHkIAONtBKwdhQs50zEHwGUdCqnclQml5ekKUxg9CsMB+Qml5ekIJkRFC+wV4QubUVkJrM3pCtNW/QeZ6WULrrH9CsjfaQQWueEJipENCx/bQQbf8tEGZpGNBUOKJQuOdYkIF7wlCA67dQeZ6WUICXNhBSSBgQsBHtEFhCNNA5CeDQs7plEHUGbpBaSp1QiMWFkJQ72RClMYPQu+/KkLiHDNC70YMQps+fEKQ/I9CK1OHQWz+KEJ4qBJB66x/QiIAkEKXIt5A7XxzQOZ6WULHSNhB/bwxQiqBn0GjpGNBRVZ4QnPZZkIfb9lB6NZnQXoGYUIhNpxBjARgQBP+tkEU+kVCpF+KQgmREUIJkRFCrHjZQYg+fEKqdyVCADjbQe+/KkIqgZ9BtIrJQWgSJkK3Zv1AqKx/QpKGy0F4I95AFeYVQQEZLEIqgZ9BHkmAQvAQqUHVuXdCOlmZQajXaEIZ3WBCuaMdQhXTv0EFAWdCfIPNQIsuXUJfH0ZBJ9YuQZvSWULiEVFC3WFxQmjZ8UHvHR1CGyF3QkWXaUJPrAdCnLJ8QpobHULyGLpBcxoQQgUyZkG0islB+JwbQs76ekFzGhBCK6b8QIflY0ILJN5ABa54QpOnMULrnRtC98xRQpmkY0H3R3xCt7t3Qn6iwkHB5x1CUStdQs7AfkIUD6lBma0dQvV9TUKG7dpAGNKPQs76ekEYdihCcit1QlpOVULruUxCaXl6QuOdYkJk/zNB+dGPQqwNgEJ1TNhBIfRdQhe0dkKTOPdA8qMdQhXTv0F5EiZC",
          "dtype": "f4"
         },
         "yaxis": "y"
        },
        {
         "customdata": [
          [
           "Purple Gem North"
          ],
          [
           "Purple Gem North"
          ],
          [
           "Purple Gem North"
          ],
          [
           "Purple Gem North"
          ],
          [
           "Purple Gem North"
          ],
          [
           "Purple Gem North"
          ],
          [
           "Purple Gem North"
          ],
          [
           "Purple Gem North"
          ],
          [
           "Purple Gem North"
          ],
          [
           "Purple Gem North"
          ],
          [
           "Purple Gem North"
          ],
          [
           "Purple Gem North"
          ],
          [
           "Purple Gem North"
          ],
          [
           "Purple Gem North"
          ],
          [
           "Purple Gem North"
          ],
          [
           "Purple Gem North"
          ],
          [
           "Purple Gem North"
          ],
          [
           "Purple Gem North"
          ],
          [
           "Purple Gem North"
          ],
          [
           "Purple Gem North"
          ],
          [
           "Purple Gem North"
          ],
          [
           "Purple Gem North"
          ],
          [
           "Purple Gem North"
          ],
          [
           "Purple Gem North"
          ],
          [
           "Purple Gem North"
          ],
          [
           "Purple Gem North"
          ],
          [
           "Purple Gem North"
          ],
          [
           "Purple Gem North"
          ],
          [
           "Purple Gem North"
          ],
          [
           "Purple Gem North"
          ],
          [
           "Purple Gem North"
          ],
          [
           "Purple Gem North"
          ],
          [
           "Purple Gem North"
          ],
          [
           "Purple Gem North"
          ],
          [
           "Purple Gem North"
          ],
          [
           "Purple Gem North"
          ],
          [
           "Purple Gem North"
          ],
          [
           "Purple Gem North"
          ],
          [
           "Purple Gem North"
          ],
          [
           "Purple Gem North"
          ],
          [
           "Purple Gem North"
          ],
          [
           "Purple Gem North"
          ],
          [
           "Purple Gem North"
          ],
          [
           "Purple Gem North"
          ],
          [
           "Purple Gem North"
          ],
          [
           "Purple Gem North"
          ],
          [
           "Purple Gem North"
          ],
          [
           "Purple Gem North"
          ],
          [
           "Purple Gem North"
          ],
          [
           "Purple Gem North"
          ],
          [
           "Purple Gem North"
          ],
          [
           "Purple Gem North"
          ],
          [
           "Purple Gem North"
          ],
          [
           "Purple Gem North"
          ],
          [
           "Purple Gem North"
          ],
          [
           "Purple Gem North"
          ],
          [
           "Purple Gem North"
          ],
          [
           "Purple Gem North"
          ],
          [
           "Purple Gem North"
          ],
          [
           "Purple Gem North"
          ],
          [
           "Purple Gem North"
          ],
          [
           "Purple Gem North"
          ],
          [
           "Purple Gem North"
          ],
          [
           "Purple Gem North"
          ],
          [
           "Purple Gem North"
          ],
          [
           "Purple Gem North"
          ],
          [
           "Purple Gem North"
          ],
          [
           "Purple Gem North"
          ],
          [
           "Purple Gem North"
          ],
          [
           "Purple Gem North"
          ],
          [
           "Purple Gem North"
          ],
          [
           "Purple Gem North"
          ],
          [
           "Purple Gem North"
          ],
          [
           "Purple Gem North"
          ],
          [
           "Purple Gem North"
          ],
          [
           "Purple Gem North"
          ],
          [
           "Purple Gem North"
          ],
          [
           "Purple Gem North"
          ],
          [
           "Purple Gem North"
          ],
          [
           "Purple Gem North"
          ],
          [
           "Purple Gem North"
          ],
          [
           "Purple Gem North"
          ],
          [
           "Purple Gem North"
          ],
          [
           "Purple Gem North"
          ],
          [
           "Purple Gem North"
          ],
          [
           "Purple Gem North"
          ],
          [
           "Purple Gem North"
          ],
          [
           "Purple Gem North"
          ],
          [
           "Purple Gem North"
          ],
          [
           "Purple Gem North"
          ],
          [
           "Purple Gem North"
          ],
          [
           "Purple Gem North"
          ],
          [
           "Purple Gem North"
          ],
          [
           "Purple Gem North"
          ],
          [
           "Purple Gem North"
          ],
          [
           "Purple Gem North"
          ],
          [
           "Purple Gem North"
          ],
          [
           "Purple Gem North"
          ],
          [
           "Purple Gem North"
          ],
          [
           "Purple Gem North"
          ],
          [
           "Purple Gem North"
          ],
          [
           "Purple Gem North"
          ],
          [
           "Purple Gem North"
          ],
          [
           "Purple Gem North"
          ],
          [
           "Purple Gem North"
          ],
          [
           "Purple Gem North"
          ],
          [
           "Purple Gem North"
          ],
          [
           "Purple Gem North"
          ],
          [
           "Purple Gem North"
          ],
          [
           "Purple Gem North"
          ],
          [
           "Purple Gem North"
          ],
          [
           "Purple Gem North"
          ],
          [
           "Purple Gem North"
          ],
          [
           "Purple Gem North"
          ],
          [
           "Purple Gem North"
          ],
          [
           "Purple Gem North"
          ],
          [
           "Purple Gem North"
          ],
          [
           "Purple Gem North"
          ],
          [
           "Purple Gem North"
          ],
          [
           "Purple Gem North"
          ],
          [
           "Purple Gem North"
          ],
          [
           "Purple Gem North"
          ],
          [
           "Purple Gem North"
          ],
          [
           "Purple Gem North"
          ],
          [
           "Purple Gem North"
          ],
          [
           "Purple Gem North"
          ],
          [
           "Purple Gem North"
          ],
          [
           "Purple Gem North"
          ],
          [
           "Purple Gem North"
          ],
          [
           "Purple Gem North"
          ]
         ],
         "hovertemplate": "Description=%{customdata[0]}<br>TSNE-1=%{x}<br>TSNE-2=%{y}<extra></extra>",
         "legendgroup": "Purple Gem North",
         "marker": {
          "color": "#00cc96",
          "opacity": 0.8,
          "size": 6,
          "symbol": "circle"
         },
         "mode": "markers",
         "name": "Purple Gem North",
         "showlegend": true,
         "type": "scattergl",
         "x": {
          "bdata": "X2VLwo34YsK9FmzC8U2CwmqqbsIXQkrCiJgUwr/YLsLtCxnCLmRRwuYGKsJ0H/jBZQFHwqyUNMLvfRXCZaEGwlzeJsKg7H3C5idLwlSTS8Iy+WvCnPhJwhOxLMJCPoDCWz0UwjcKLcIE2UTC4gIBwgBnAMLNHfjB/tRGwrRvNMIZ6gbCG8Qmwh0BgsLaH0vCv9ZiwiNIgsKROITCdCqGwjsXG8IREFTCMrcHwmHaOMKBAgHCEhz4wUGpRsKsYQvCNoa3wNpsasISeBnCxO9YwjuoLsJWqibC5MwKwmkPg8IXqi/CIItkwnlQfMIASm7CiCqGwoPdE8Jy1AfCOsMHwoDlcsJRAwjCFlQLwvylCMKx1xnCU18VwpvcWMLYASPCaCsswpx+gsJvxG3CeTM4wshJScJLfm7CEmZqwmHtGsL/5GnCbwIBwrtSRsKNIlHCVjwVwgmmCsLWpXrC+GI4wgNxTsL7U2rCpNMawni2acL1EwjCuVdKwp8LFcKejSPC5kMnwkhXS8KMRU7CPGNuwsHKhsLniRPCpI9pwpIZCMLoIC3CRbB/wiMqMMKJwhTCAl7twQ+HPMI7aILCIqQywtmEesJ/mhrCHysMwjb6asKeX0PCiGIswiyGM8LRHC3CwpZ/wmEgFsIsTRnCbPJIwvJPesL05zzCUg1owj58EcKsNCrC6/AJwg==",
          "dtype": "f4"
         },
         "xaxis": "x",
         "y": {
          "bdata": "pzZ2wVV8YcG8knDBLI1fwZtVPcEu3pPB8SR+wfAh08FDHFjBzuSAwavk7sED2QnBg+mXwT0jYsEmw23B1QIRwpKn9MEF8m/B25BgwXGiXsG7dXDBawlOwZRCx8EEXnTBAtp+wfOOyMGa9HzB9MZ4wbmEC8Jb2AnBkRWYwZNKYsEddXTBnKD0wcXgU8GgGHbBQGdhweE2X8GtbkrBc7Q+wY6ZRcHfhnvBzle7wcbrasEWxXjBydcJwSNCmMF5RpPBHoN5wlm+ccHkzUnBSXeUwYOvDcL+oPTBRaQKwgsdTMGp9YTBXY1ewa5VcsF080PB/7g+wVgJgMF9yLvBEo+7wQNyR8Es7RnBVkqTwWj9wMEqLj/BjuV6wQOAlMH/DxDCuvXdwaMkW8HF5zrBRH9VwcUZk8G1QT3BqTiTwXhiRsGRdF/BIMF4wX6ZmMFoC3PB2mh7wbC1CsLFvXPBuU5Uwc7cZcEtNZPBf/BGwdNZX8E5lxnBI76QwW/re8HSUg/CyWz0wZrLn8GbQULBrzM9wTqMQ8FOxYDBuT5fwWljGcFXvsTBq41TwY8mZcFAfXzBpmU2wuAM3MHZOlvB5qHYwVwCRsHzHkjB1QmWwXsPWcFb3l/B59GEwR9VY8Gx5cTBb2hTweKlicGvW0zBMDqowef3c8GgrN7BauabwdQCfMEYiVnBx9zLwQ==",
          "dtype": "f4"
         },
         "yaxis": "y"
        },
        {
         "customdata": [
          [
           "Green Gem North"
          ],
          [
           "Green Gem North"
          ],
          [
           "Green Gem North"
          ],
          [
           "Green Gem North"
          ],
          [
           "Green Gem North"
          ],
          [
           "Green Gem North"
          ],
          [
           "Green Gem North"
          ],
          [
           "Green Gem North"
          ],
          [
           "Green Gem North"
          ],
          [
           "Green Gem North"
          ],
          [
           "Green Gem North"
          ],
          [
           "Green Gem North"
          ],
          [
           "Green Gem North"
          ],
          [
           "Green Gem North"
          ],
          [
           "Green Gem North"
          ],
          [
           "Green Gem North"
          ],
          [
           "Green Gem North"
          ],
          [
           "Green Gem North"
          ],
          [
           "Green Gem North"
          ],
          [
           "Green Gem North"
          ],
          [
           "Green Gem North"
          ],
          [
           "Green Gem North"
          ],
          [
           "Green Gem North"
          ],
          [
           "Green Gem North"
          ],
          [
           "Green Gem North"
          ],
          [
           "Green Gem North"
          ],
          [
           "Green Gem North"
          ],
          [
           "Green Gem North"
          ],
          [
           "Green Gem North"
          ],
          [
           "Green Gem North"
          ],
          [
           "Green Gem North"
          ],
          [
           "Green Gem North"
          ],
          [
           "Green Gem North"
          ],
          [
           "Green Gem North"
          ],
          [
           "Green Gem North"
          ],
          [
           "Green Gem North"
          ],
          [
           "Green Gem North"
          ],
          [
           "Green Gem North"
          ],
          [
           "Green Gem North"
          ],
          [
           "Green Gem North"
          ],
          [
           "Green Gem North"
          ],
          [
           "Green Gem North"
          ],
          [
           "Green Gem North"
          ],
          [
           "Green Gem North"
          ],
          [
           "Green Gem North"
          ],
          [
           "Green Gem North"
          ],
          [
           "Green Gem North"
          ],
          [
           "Green Gem North"
          ],
          [
           "Green Gem North"
          ],
          [
           "Green Gem North"
          ],
          [
           "Green Gem North"
          ],
          [
           "Green Gem North"
          ],
          [
           "Green Gem North"
          ],
          [
           "Green Gem North"
          ],
          [
           "Green Gem North"
          ],
          [
           "Green Gem North"
          ],
          [
           "Green Gem North"
          ],
          [
           "Green Gem North"
          ],
          [
           "Green Gem North"
          ],
          [
           "Green Gem North"
          ],
          [
           "Green Gem North"
          ],
          [
           "Green Gem North"
          ],
          [
           "Green Gem North"
          ],
          [
           "Green Gem North"
          ],
          [
           "Green Gem North"
          ],
          [
           "Green Gem North"
          ],
          [
           "Green Gem North"
          ],
          [
           "Green Gem North"
          ],
          [
           "Green Gem North"
          ],
          [
           "Green Gem North"
          ],
          [
           "Green Gem North"
          ],
          [
           "Green Gem North"
          ],
          [
           "Green Gem North"
          ],
          [
           "Green Gem North"
          ],
          [
           "Green Gem North"
          ],
          [
           "Green Gem North"
          ],
          [
           "Green Gem North"
          ],
          [
           "Green Gem North"
          ],
          [
           "Green Gem North"
          ],
          [
           "Green Gem North"
          ],
          [
           "Green Gem North"
          ],
          [
           "Green Gem North"
          ],
          [
           "Green Gem North"
          ],
          [
           "Green Gem North"
          ],
          [
           "Green Gem North"
          ],
          [
           "Green Gem North"
          ],
          [
           "Green Gem North"
          ],
          [
           "Green Gem North"
          ],
          [
           "Green Gem North"
          ],
          [
           "Green Gem North"
          ],
          [
           "Green Gem North"
          ],
          [
           "Green Gem North"
          ],
          [
           "Green Gem North"
          ],
          [
           "Green Gem North"
          ],
          [
           "Green Gem North"
          ],
          [
           "Green Gem North"
          ],
          [
           "Green Gem North"
          ],
          [
           "Green Gem North"
          ],
          [
           "Green Gem North"
          ],
          [
           "Green Gem North"
          ],
          [
           "Green Gem North"
          ],
          [
           "Green Gem North"
          ],
          [
           "Green Gem North"
          ],
          [
           "Green Gem North"
          ],
          [
           "Green Gem North"
          ],
          [
           "Green Gem North"
          ],
          [
           "Green Gem North"
          ],
          [
           "Green Gem North"
          ],
          [
           "Green Gem North"
          ],
          [
           "Green Gem North"
          ],
          [
           "Green Gem North"
          ],
          [
           "Green Gem North"
          ],
          [
           "Green Gem North"
          ],
          [
           "Green Gem North"
          ],
          [
           "Green Gem North"
          ],
          [
           "Green Gem North"
          ],
          [
           "Green Gem North"
          ],
          [
           "Green Gem North"
          ],
          [
           "Green Gem North"
          ],
          [
           "Green Gem North"
          ],
          [
           "Green Gem North"
          ],
          [
           "Green Gem North"
          ],
          [
           "Green Gem North"
          ],
          [
           "Green Gem North"
          ],
          [
           "Green Gem North"
          ],
          [
           "Green Gem North"
          ],
          [
           "Green Gem North"
          ],
          [
           "Green Gem North"
          ],
          [
           "Green Gem North"
          ],
          [
           "Green Gem North"
          ],
          [
           "Green Gem North"
          ],
          [
           "Green Gem North"
          ],
          [
           "Green Gem North"
          ],
          [
           "Green Gem North"
          ],
          [
           "Green Gem North"
          ],
          [
           "Green Gem North"
          ],
          [
           "Green Gem North"
          ],
          [
           "Green Gem North"
          ],
          [
           "Green Gem North"
          ],
          [
           "Green Gem North"
          ],
          [
           "Green Gem North"
          ],
          [
           "Green Gem North"
          ],
          [
           "Green Gem North"
          ],
          [
           "Green Gem North"
          ],
          [
           "Green Gem North"
          ],
          [
           "Green Gem North"
          ],
          [
           "Green Gem North"
          ],
          [
           "Green Gem North"
          ],
          [
           "Green Gem North"
          ],
          [
           "Green Gem North"
          ],
          [
           "Green Gem North"
          ],
          [
           "Green Gem North"
          ],
          [
           "Green Gem North"
          ],
          [
           "Green Gem North"
          ],
          [
           "Green Gem North"
          ],
          [
           "Green Gem North"
          ],
          [
           "Green Gem North"
          ],
          [
           "Green Gem North"
          ],
          [
           "Green Gem North"
          ],
          [
           "Green Gem North"
          ],
          [
           "Green Gem North"
          ],
          [
           "Green Gem North"
          ],
          [
           "Green Gem North"
          ],
          [
           "Green Gem North"
          ],
          [
           "Green Gem North"
          ],
          [
           "Green Gem North"
          ],
          [
           "Green Gem North"
          ],
          [
           "Green Gem North"
          ],
          [
           "Green Gem North"
          ],
          [
           "Green Gem North"
          ],
          [
           "Green Gem North"
          ],
          [
           "Green Gem North"
          ],
          [
           "Green Gem North"
          ],
          [
           "Green Gem North"
          ],
          [
           "Green Gem North"
          ],
          [
           "Green Gem North"
          ],
          [
           "Green Gem North"
          ],
          [
           "Green Gem North"
          ],
          [
           "Green Gem North"
          ],
          [
           "Green Gem North"
          ],
          [
           "Green Gem North"
          ],
          [
           "Green Gem North"
          ],
          [
           "Green Gem North"
          ],
          [
           "Green Gem North"
          ],
          [
           "Green Gem North"
          ],
          [
           "Green Gem North"
          ],
          [
           "Green Gem North"
          ],
          [
           "Green Gem North"
          ],
          [
           "Green Gem North"
          ],
          [
           "Green Gem North"
          ],
          [
           "Green Gem North"
          ],
          [
           "Green Gem North"
          ],
          [
           "Green Gem North"
          ],
          [
           "Green Gem North"
          ],
          [
           "Green Gem North"
          ],
          [
           "Green Gem North"
          ],
          [
           "Green Gem North"
          ],
          [
           "Green Gem North"
          ],
          [
           "Green Gem North"
          ],
          [
           "Green Gem North"
          ],
          [
           "Green Gem North"
          ],
          [
           "Green Gem North"
          ],
          [
           "Green Gem North"
          ],
          [
           "Green Gem North"
          ],
          [
           "Green Gem North"
          ],
          [
           "Green Gem North"
          ],
          [
           "Green Gem North"
          ],
          [
           "Green Gem North"
          ],
          [
           "Green Gem North"
          ],
          [
           "Green Gem North"
          ],
          [
           "Green Gem North"
          ],
          [
           "Green Gem North"
          ],
          [
           "Green Gem North"
          ],
          [
           "Green Gem North"
          ],
          [
           "Green Gem North"
          ],
          [
           "Green Gem North"
          ],
          [
           "Green Gem North"
          ],
          [
           "Green Gem North"
          ],
          [
           "Green Gem North"
          ],
          [
           "Green Gem North"
          ],
          [
           "Green Gem North"
          ],
          [
           "Green Gem North"
          ],
          [
           "Green Gem North"
          ],
          [
           "Green Gem North"
          ],
          [
           "Green Gem North"
          ],
          [
           "Green Gem North"
          ],
          [
           "Green Gem North"
          ],
          [
           "Green Gem North"
          ],
          [
           "Green Gem North"
          ],
          [
           "Green Gem North"
          ],
          [
           "Green Gem North"
          ],
          [
           "Green Gem North"
          ],
          [
           "Green Gem North"
          ],
          [
           "Green Gem North"
          ],
          [
           "Green Gem North"
          ],
          [
           "Green Gem North"
          ],
          [
           "Green Gem North"
          ],
          [
           "Green Gem North"
          ],
          [
           "Green Gem North"
          ],
          [
           "Green Gem North"
          ],
          [
           "Green Gem North"
          ],
          [
           "Green Gem North"
          ],
          [
           "Green Gem North"
          ],
          [
           "Green Gem North"
          ],
          [
           "Green Gem North"
          ],
          [
           "Green Gem North"
          ],
          [
           "Green Gem North"
          ],
          [
           "Green Gem North"
          ],
          [
           "Green Gem North"
          ],
          [
           "Green Gem North"
          ],
          [
           "Green Gem North"
          ],
          [
           "Green Gem North"
          ],
          [
           "Green Gem North"
          ],
          [
           "Green Gem North"
          ],
          [
           "Green Gem North"
          ],
          [
           "Green Gem North"
          ],
          [
           "Green Gem North"
          ],
          [
           "Green Gem North"
          ],
          [
           "Green Gem North"
          ],
          [
           "Green Gem North"
          ],
          [
           "Green Gem North"
          ],
          [
           "Green Gem North"
          ],
          [
           "Green Gem North"
          ],
          [
           "Green Gem North"
          ]
         ],
         "hovertemplate": "Description=%{customdata[0]}<br>TSNE-1=%{x}<br>TSNE-2=%{y}<extra></extra>",
         "legendgroup": "Green Gem North",
         "marker": {
          "color": "#ab63fa",
          "opacity": 0.8,
          "size": 6,
          "symbol": "circle"
         },
         "mode": "markers",
         "name": "Green Gem North",
         "showlegend": true,
         "type": "scattergl",
         "x": {
          "bdata": "MGq7QU2ItkGnfVRCfxcLQtf89EHiIcjA6rCMwPrIxEGNrQzAZddLQhWDFkLu0FZC1/z0QTa1ckFpfvBBmkcHQtf89EGtZP5BNVi6Qe0+PUL7neNBWT3wQd6Ek0Hu2sBAfDF6wDGDFkLtPj1C5zZEQkC8FEKUHgFCtjnWQUbtAkI4RTFAmK2bQdu3FELbGzxCxmtqwImv1j9GDS1C5zZEQrEEXULbGzxCCfq8QEbtAkLtvKhBSDr3QYt1U0I/0jTA8Nb9QUkk9UH7neNB6HIFwF31oL9El37A0dbFQNj458BUYkFCSKyawEkk9UGABiBCANleQhMuDUItUrpBCwJyQvrIxEFaYbFBvMTSQIUu9ECxBF1C3oSTQW598EGpq9ZBQAFhQvOPTkLJsV9ChbGKv3Q0V0JIOvdBUvtxQj/SNMBl5eVBRekCQg89ZUDehJNBIyBPQp/yJsDqsIzAH9cSQhwbxkBoyNpB8dcSQg0EDkJRODtCn9YoQiMgT0K5CLZBbKJVQtwy48AYOJ5B1/z0QbEEXULehJNBNpO8QaEBYUKjkARCNVi6QW598EGBBvdB1/z0QVWDvEFhtVjAFXZTQoE2xUHBkdFAXsSSvzGXfsDrsIzAYbVYwJ5fxkDSHC1CEe/sQPmR90Hw+GZCRl8QQq9B20Hb5GFBo5AEQuAEYcBUHgRC7UW7QbI0XUJ+P0FCyAbPQdf89EFwuMzAxnZDQaPu2UGO5eVBmkcHQg2tV0K36gBCmHxTQiMgT0Kp5/RB3oSTQXgx2r+NxhLAeIXGQE6S90EsOKxBdrLHQTGDFkJDrAzAnbgUQmyiVULtRbtBcpmyQWyiVUKjkARCfDF6wD0e5MDu3QJCj3m1QN6Ek0E1krxBSdKxQd0DE0LtRbtB75C+QbEEXUJRODtCnpIEQrKbXEHK/om/75C+QfD4ZkIpffBBrUaJQfD4ZkKKp8ZB2PjnwHJfrkBhtVjAUpbGQAQRq0F9WflBc8+6Qad9VELqJ9xBsVIgQmyiVUK58qXAYbVYwDf10kByNQNCdTCrQRV2U0JiES1CUvtxQv3qAkIZyvy/GDieQbmmNUGQ5eVBp9IJQdvcZkJfLQDAUM+6QdHS7L+BNsVBANleQg2tV0LHF6tBtDnWQaeuZkDU8s8+Ey4NQk3PukHw+GZC8PhmQml/AUJaYbFBSDr3QbKbXEG55GFBwUUFwAgd/kGyNF1C5H4tQlQ/QUJh12BC7ZH3QWfP/L87TflBSDr3QZCbCUJJJPVBI7ZyQebo0EBLkr5BErdyQeR98EGIi2RBfDF6wFX6rUFsolVCB0ivwL+0msCHMspBa+cAQkkk9UF8MXrAJlgiQp6SBELCSylCg16uQIOTsEByNQNC6ifcQaEBYUKHkr5BgNdLQg2tV0I1WLpB",
          "dtype": "f4"
         },
         "xaxis": "x",
         "y": {
          "bdata": "yyyPQsgNjkKukMhBsd+UQZvSWUKxY15CezwzQuFfikJ2cHlCu1XYQTpZmUHvHR1Cm9JZQp+yfEJf8LJB5tRWQpvSWUKGo2NBMul4Qn/Bz0GUxg9CO8ccQml5ekLO1i9CYqRDQoRZmUF/wc9BhKLCQa8tikHM42FBTqwHQpHMUULbYXFCMSN4QnYwikHOdMxBsGo5QrHAfkLQILtBhKLCQYRvHkLOdMxBatozQpHMUUKo12hCWk5VQj8mzEET1TVC7zxVQUreHkKUxg9CXLw3Qk+OJUKCdzFCQ1owQuu5TEKoDtZBXmVrQkreHkJ4eupAARksQs76ekEV079B8qMdQuFfikLjnWJCe+pBQu8JeEKEbx5CaXl6QjPwskHA8gVCIxYWQsER6kGR5DBCXU4iQn8AzEFaTlVCg6cdQhPVNUImB2FCec1RQheORUFpeXpCADjbQXb5OkJ7PDNCWVSHQQ0dMEKYSgZCK1OHQSdedEE91s9BAskWQQA420Fqzo9Cu//OQcLDTkIfb9lBm9JZQoRvHkJpeXpCSfOgQTEWFkKLLl1CMul4QjPwskGSs19Cm9JZQiXNoUEMdThC5i3MQZUJ2kECVkhCtpUkQnx3MUJ4PDNCDHU4QsnbL0I3NLtBmz58Qthrh0EJkRFCKr42QbVwBkJbYHtCiy5dQqEiUkLW8EZBOUmPQjucHUK4hMlBINvxQZvSWUIh9F1Corx6Qnb9BUIDB2FC5tRWQu9GDEL7dzW/KX7KQQA420HrnRtCaXl6QpSBM0If0CNC75wvQqBrh0GkVLVBA67dQYRZmUF1cHlC/TCKQbv/zkE5SY9CwddhQrv/zkGLLl1CYqRDQgzJTkI/7TlB+GxHQml5ekJdLaFBbtKLQg7xjkE5SY9CCy2VQYRvHkI91s9BUStdQgWueEK8TCJCCy2VQQmREUI58LJB90d8QgmREULmetVB67lMQqsNgEIMdThCpWEvQk7StkFbF39BkUi5Qa6QyEEF7wlCOIMJQbv/zkG5eF1CDHU4QvzgQUJmwjNBE/62QeYtzEE3IrtBg6cdQubMUUJG3GBCH2/ZQeZAg0L/BmFCazN6Qqp3JUKJAilCl0i5QUlwLkKVCdpBARksQu9GDEL46LZBT6wHQnUqdULRgGlCzvp6QZhIuUEJkRFCCZERQvoTNEHjnWJCWk5VQgWueEJVYHtCEL03Qs0eRkE7nB1C7xi6QcuEyUFkEiZC22uHQercYEKFsllCWk5VQmbZZ0FK3h5C/LJ8QjcFQ0J0LZVB9rJ8QtfuskGrt35CYqRDQj1ljkK7/85BolNLQp5la0KyN9pBdgAyv0reHkJipENC1EIoQVErXUL73RVBpg2AQl3of0JmwjNBBe8JQjEWFkJ4LZVBrFnYQe9GDEIy6XhC",
          "dtype": "f4"
         },
         "yaxis": "y"
        },
        {
         "customdata": [
          [
           "Green Gem South"
          ],
          [
           "Green Gem South"
          ],
          [
           "Green Gem South"
          ],
          [
           "Green Gem South"
          ],
          [
           "Green Gem South"
          ],
          [
           "Green Gem South"
          ],
          [
           "Green Gem South"
          ],
          [
           "Green Gem South"
          ],
          [
           "Green Gem South"
          ],
          [
           "Green Gem South"
          ],
          [
           "Green Gem South"
          ],
          [
           "Green Gem South"
          ],
          [
           "Green Gem South"
          ],
          [
           "Green Gem South"
          ],
          [
           "Green Gem South"
          ],
          [
           "Green Gem South"
          ],
          [
           "Green Gem South"
          ],
          [
           "Green Gem South"
          ],
          [
           "Green Gem South"
          ],
          [
           "Green Gem South"
          ],
          [
           "Green Gem South"
          ],
          [
           "Green Gem South"
          ],
          [
           "Green Gem South"
          ],
          [
           "Green Gem South"
          ],
          [
           "Green Gem South"
          ],
          [
           "Green Gem South"
          ],
          [
           "Green Gem South"
          ],
          [
           "Green Gem South"
          ],
          [
           "Green Gem South"
          ],
          [
           "Green Gem South"
          ],
          [
           "Green Gem South"
          ],
          [
           "Green Gem South"
          ],
          [
           "Green Gem South"
          ],
          [
           "Green Gem South"
          ],
          [
           "Green Gem South"
          ],
          [
           "Green Gem South"
          ],
          [
           "Green Gem South"
          ],
          [
           "Green Gem South"
          ],
          [
           "Green Gem South"
          ],
          [
           "Green Gem South"
          ],
          [
           "Green Gem South"
          ],
          [
           "Green Gem South"
          ],
          [
           "Green Gem South"
          ],
          [
           "Green Gem South"
          ],
          [
           "Green Gem South"
          ],
          [
           "Green Gem South"
          ],
          [
           "Green Gem South"
          ],
          [
           "Green Gem South"
          ],
          [
           "Green Gem South"
          ],
          [
           "Green Gem South"
          ],
          [
           "Green Gem South"
          ],
          [
           "Green Gem South"
          ],
          [
           "Green Gem South"
          ],
          [
           "Green Gem South"
          ],
          [
           "Green Gem South"
          ],
          [
           "Green Gem South"
          ],
          [
           "Green Gem South"
          ],
          [
           "Green Gem South"
          ],
          [
           "Green Gem South"
          ],
          [
           "Green Gem South"
          ],
          [
           "Green Gem South"
          ],
          [
           "Green Gem South"
          ],
          [
           "Green Gem South"
          ],
          [
           "Green Gem South"
          ],
          [
           "Green Gem South"
          ],
          [
           "Green Gem South"
          ],
          [
           "Green Gem South"
          ],
          [
           "Green Gem South"
          ],
          [
           "Green Gem South"
          ],
          [
           "Green Gem South"
          ],
          [
           "Green Gem South"
          ],
          [
           "Green Gem South"
          ],
          [
           "Green Gem South"
          ],
          [
           "Green Gem South"
          ],
          [
           "Green Gem South"
          ],
          [
           "Green Gem South"
          ],
          [
           "Green Gem South"
          ],
          [
           "Green Gem South"
          ],
          [
           "Green Gem South"
          ],
          [
           "Green Gem South"
          ],
          [
           "Green Gem South"
          ],
          [
           "Green Gem South"
          ],
          [
           "Green Gem South"
          ],
          [
           "Green Gem South"
          ],
          [
           "Green Gem South"
          ],
          [
           "Green Gem South"
          ],
          [
           "Green Gem South"
          ],
          [
           "Green Gem South"
          ],
          [
           "Green Gem South"
          ],
          [
           "Green Gem South"
          ],
          [
           "Green Gem South"
          ],
          [
           "Green Gem South"
          ],
          [
           "Green Gem South"
          ],
          [
           "Green Gem South"
          ],
          [
           "Green Gem South"
          ],
          [
           "Green Gem South"
          ],
          [
           "Green Gem South"
          ],
          [
           "Green Gem South"
          ],
          [
           "Green Gem South"
          ],
          [
           "Green Gem South"
          ],
          [
           "Green Gem South"
          ],
          [
           "Green Gem South"
          ],
          [
           "Green Gem South"
          ],
          [
           "Green Gem South"
          ],
          [
           "Green Gem South"
          ],
          [
           "Green Gem South"
          ],
          [
           "Green Gem South"
          ],
          [
           "Green Gem South"
          ],
          [
           "Green Gem South"
          ],
          [
           "Green Gem South"
          ],
          [
           "Green Gem South"
          ],
          [
           "Green Gem South"
          ],
          [
           "Green Gem South"
          ],
          [
           "Green Gem South"
          ],
          [
           "Green Gem South"
          ],
          [
           "Green Gem South"
          ],
          [
           "Green Gem South"
          ],
          [
           "Green Gem South"
          ],
          [
           "Green Gem South"
          ],
          [
           "Green Gem South"
          ],
          [
           "Green Gem South"
          ],
          [
           "Green Gem South"
          ],
          [
           "Green Gem South"
          ],
          [
           "Green Gem South"
          ],
          [
           "Green Gem South"
          ],
          [
           "Green Gem South"
          ],
          [
           "Green Gem South"
          ],
          [
           "Green Gem South"
          ],
          [
           "Green Gem South"
          ],
          [
           "Green Gem South"
          ],
          [
           "Green Gem South"
          ],
          [
           "Green Gem South"
          ],
          [
           "Green Gem South"
          ],
          [
           "Green Gem South"
          ],
          [
           "Green Gem South"
          ],
          [
           "Green Gem South"
          ],
          [
           "Green Gem South"
          ],
          [
           "Green Gem South"
          ],
          [
           "Green Gem South"
          ],
          [
           "Green Gem South"
          ],
          [
           "Green Gem South"
          ],
          [
           "Green Gem South"
          ],
          [
           "Green Gem South"
          ],
          [
           "Green Gem South"
          ],
          [
           "Green Gem South"
          ],
          [
           "Green Gem South"
          ],
          [
           "Green Gem South"
          ],
          [
           "Green Gem South"
          ],
          [
           "Green Gem South"
          ],
          [
           "Green Gem South"
          ],
          [
           "Green Gem South"
          ],
          [
           "Green Gem South"
          ],
          [
           "Green Gem South"
          ],
          [
           "Green Gem South"
          ],
          [
           "Green Gem South"
          ],
          [
           "Green Gem South"
          ],
          [
           "Green Gem South"
          ],
          [
           "Green Gem South"
          ],
          [
           "Green Gem South"
          ],
          [
           "Green Gem South"
          ],
          [
           "Green Gem South"
          ],
          [
           "Green Gem South"
          ],
          [
           "Green Gem South"
          ],
          [
           "Green Gem South"
          ],
          [
           "Green Gem South"
          ],
          [
           "Green Gem South"
          ],
          [
           "Green Gem South"
          ],
          [
           "Green Gem South"
          ],
          [
           "Green Gem South"
          ],
          [
           "Green Gem South"
          ],
          [
           "Green Gem South"
          ],
          [
           "Green Gem South"
          ],
          [
           "Green Gem South"
          ],
          [
           "Green Gem South"
          ],
          [
           "Green Gem South"
          ],
          [
           "Green Gem South"
          ],
          [
           "Green Gem South"
          ],
          [
           "Green Gem South"
          ],
          [
           "Green Gem South"
          ],
          [
           "Green Gem South"
          ],
          [
           "Green Gem South"
          ],
          [
           "Green Gem South"
          ],
          [
           "Green Gem South"
          ],
          [
           "Green Gem South"
          ],
          [
           "Green Gem South"
          ],
          [
           "Green Gem South"
          ],
          [
           "Green Gem South"
          ],
          [
           "Green Gem South"
          ],
          [
           "Green Gem South"
          ],
          [
           "Green Gem South"
          ],
          [
           "Green Gem South"
          ],
          [
           "Green Gem South"
          ],
          [
           "Green Gem South"
          ],
          [
           "Green Gem South"
          ],
          [
           "Green Gem South"
          ],
          [
           "Green Gem South"
          ],
          [
           "Green Gem South"
          ],
          [
           "Green Gem South"
          ],
          [
           "Green Gem South"
          ],
          [
           "Green Gem South"
          ],
          [
           "Green Gem South"
          ],
          [
           "Green Gem South"
          ],
          [
           "Green Gem South"
          ],
          [
           "Green Gem South"
          ],
          [
           "Green Gem South"
          ],
          [
           "Green Gem South"
          ],
          [
           "Green Gem South"
          ],
          [
           "Green Gem South"
          ],
          [
           "Green Gem South"
          ],
          [
           "Green Gem South"
          ],
          [
           "Green Gem South"
          ],
          [
           "Green Gem South"
          ],
          [
           "Green Gem South"
          ],
          [
           "Green Gem South"
          ],
          [
           "Green Gem South"
          ],
          [
           "Green Gem South"
          ],
          [
           "Green Gem South"
          ],
          [
           "Green Gem South"
          ],
          [
           "Green Gem South"
          ],
          [
           "Green Gem South"
          ],
          [
           "Green Gem South"
          ],
          [
           "Green Gem South"
          ],
          [
           "Green Gem South"
          ],
          [
           "Green Gem South"
          ],
          [
           "Green Gem South"
          ],
          [
           "Green Gem South"
          ],
          [
           "Green Gem South"
          ],
          [
           "Green Gem South"
          ],
          [
           "Green Gem South"
          ],
          [
           "Green Gem South"
          ],
          [
           "Green Gem South"
          ],
          [
           "Green Gem South"
          ],
          [
           "Green Gem South"
          ],
          [
           "Green Gem South"
          ],
          [
           "Green Gem South"
          ],
          [
           "Green Gem South"
          ],
          [
           "Green Gem South"
          ],
          [
           "Green Gem South"
          ],
          [
           "Green Gem South"
          ],
          [
           "Green Gem South"
          ],
          [
           "Green Gem South"
          ],
          [
           "Green Gem South"
          ],
          [
           "Green Gem South"
          ],
          [
           "Green Gem South"
          ],
          [
           "Green Gem South"
          ],
          [
           "Green Gem South"
          ],
          [
           "Green Gem South"
          ]
         ],
         "hovertemplate": "Description=%{customdata[0]}<br>TSNE-1=%{x}<br>TSNE-2=%{y}<extra></extra>",
         "legendgroup": "Green Gem South",
         "marker": {
          "color": "#FFA15A",
          "opacity": 0.8,
          "size": 6,
          "symbol": "circle"
         },
         "mode": "markers",
         "name": "Green Gem South",
         "showlegend": true,
         "type": "scattergl",
         "x": {
          "bdata": "X6ZdQqPu2UEssKlAWETyQYUu9EBq12BCN9I0wOGHnEHehJNBWmGxQR9GtUF0CB1CH9cSQsN+kMCOcB1CjL4cQswNpMA3nQlC1v7lv4Zgkr9NiLZBWT3wQc/W2kES8sTAybFfQtsbPEITLg1CK2b+QTVTukG1O6xB7byoQVqHukE/0jTAJByeQd6Ek0FNz7pBpEWVv+L1j0H0prVAUs/8v7cGHUKG/glClB4BQvrIxEFIUau/H1gdQisIz0HSLVRADa1XQkOZZkDF1ktCSST1QU2ItkHpUh1CDgYOQkg690FJJPVBUTg7Qkg690E3nQlCdhiuQdvcZkJPcRNCUmCSvwsCckIkHJ5B29xmQg5/0EAkHJ5BMYMWQj8s9EAfRrVBb3aZwIwDE0JYLKxB8iH0QAdIr8DehJNBzA2kwJlClb9yIwzAR0wdQlphsUE9HuTASST1QWpFPUKGYJK/+53jQUkk9UHhh5xBybFfQnHTCkLA2C1AAFDEQfud40EzErxAPAMdQm3VuUER7+xAoCK2QfrIxEE7Z69BAq2ZwOGHnEEHSK/A90GVv1InokFhrtZBrfMQQmw+D0GHekNBsQRdQuon3EHw+GZCjuXlQZrIxEEVkbxBVfqtQT5+LULIBs9BSST1QaeT90Gw9XFCcZC+QTVTukErZv5BJ9sTP1YAHUJJrspBbKJVQnwxesBi1qpBhT5UQOGHnEFDrAzATYi2QbA0V0L4pzVBo5AEQmDl5UGn0glBsSL0QBwjtkErUrpBTYi2QbQ51kEA2V5CDa1XQmjI2kGGYJK/hT5UQDtN+UEetnJBSDr3QWHn4b9n2qJBMYMWQl8tAMBzz7pBhT5UQLOwZkDbGzxCja0MwADZXkIjIE9C7tBWQm598EFaYbFBnpIEQnkaWkKFPlRAdrLHQQ4GDkIuCR9CT3ETQpHlFcDDfpDA2xs8QgYHz0G58qXAsO9xQoEG90HBxsbA/fscQrVSC0IYE/pB1PLPPpzat0G0OdZB8Nb9Qb32+75PsNY/ANleQl3XYELkUwXAtA/yQcmxX0Lukb5B82i0wIqnxkEKr+e/94tlQhSMt0EuRlRA5H4tQk2ItkEf9h5CP9I0wJ2y1j9wcRNCQ7ZyQdD9y8A6dvJB6dxdwH4tnkFgbMRBfayawATZ8kHNMspBkJsJQj0jDMCOYJDAcK/WP0v6rUGtRolBxfXtv4DXS0IrCM9BBNnyQT5N+UG+/69B29xmQscFz0FYRPJBPEUxQNtbmcAVgxZCN9I0wEg690FtqwzAEy4NQj5N+UEEN0RCH0a1QaEBYUKnfVRC8Nb9QQ==",
          "dtype": "f4"
         },
         "xaxis": "x",
         "y": {
          "bdata": "wecdQnb9BULDVIFC99EbQu8JeEJ4EiZCD9U1QlDiiUJpeXpC451iQnbQe0JexkdBWVSHQdrZZkItNTVBmbtJQUYbY0J92GdBii5iQuusf0LIDY5CO8ccQpRPBkL11ltCkeQwQs50zEHO+npBmaRjQbTVv0EWTrVBqNdoQpHqikIT1TVCrHjZQWl5ekKYSLlBK+ZjQj9WeELiWEdC5txgQrvNR0F6gSxBzONhQeFfikI6TmVCzpw1QdfY8UFKfXFC70YMQn4rdUICXNhBSt4eQsgNjkJusDRBzumUQVpOVUJK3h5CPdbPQVpOVUJ92GdBi/92Qqp3JUKKYIFB8ax/QvKjHUKseNlBqnclQuoVSEKseNlBhFmZQf0IeEJ20HtCDARnQunxjkHrKrVB/wV4QqJTS0JpeXpCRhtjQoHlY0IbIXdC98Y0QeOdYkIMyU5CSt4eQgSwz0HrrH9ClMYPQkreHkJQ4olCkeQwQm9ba0Hi6mxCYhrcQZTGD0JWMzBCHd1HQdQeo0GbPnxC+dGPQuFfikKJ8ahB6gRnQlDiiUKiU0tChuVjQvNgikK+7wVCG9eTQR/KeEKuvHpChG8eQgXvCUIJkRFCAwdhQqRfikLyUaFBPWWOQtQZukEg2/FBSt4eQmJqh0HwqR1C8SyVQbTVv0GZpGNBeHVoQh7vR0GdI+ZBu//OQWKkQ0Ln5LRBWHxxQlDiiUJ1cHlCyA2OQokCzEESQYNCiy5dQisHYUJrM3pCDwZ4QiHSj0IV079ByA2OQk6sB0IBGSxC70YMQphKBkLrrH9CWHxxQoWyWUIKs3xCWk5VQsT6LUKZI91BhFmZQYkCKUKRSLlBWHxxQmkqdULOdMxBdnB5QgEZLEIAONtB7x0dQjPwskHjnWJCUStdQrS34UBYfHFCA67dQc7plEHPci5BimCBQdnHMkLa2WZCznTMQX/b8UG5eF1Cma0dQpKzX0JfqU5CmwdIQeZHLEHGtUtB0YBpQiqBn0FOrAdC7zxVQQ6eZkKdwH5CARksQmISJkLAvDdCvjKsQZHkMEJbLZVB9X1NQuZ61UEYdihCcxoQQnqRoEEifHFC7xi6QcgNjkKksy5BE9U1QqDAfkJrYIFBhrJ8QnBFTUJK4FhC3rEuQrBr2UE+bdtBV2VrQhQPqUH6N9pBZtlnQSshd0Jx2WZCsMB+Ql1ljkL3R3xC4n4nQqxZ2EHX2PFBFA+pQYOyWUJMCnpCqnclQmjZ8UH30RtC3WFxQp8DZ0I6WZlBD9U1QlpOVUJ5cHlCzvp6QYOyWUJxosJBdtB7QjEWFkKukMhB7zxVQQ==",
          "dtype": "f4"
         },
         "yaxis": "y"
        },
        {
         "customdata": [
          [
           "Green Gem East"
          ],
          [
           "Green Gem East"
          ],
          [
           "Green Gem East"
          ],
          [
           "Green Gem East"
          ],
          [
           "Green Gem East"
          ],
          [
           "Green Gem East"
          ],
          [
           "Green Gem East"
          ],
          [
           "Green Gem East"
          ],
          [
           "Green Gem East"
          ],
          [
           "Green Gem East"
          ],
          [
           "Green Gem East"
          ],
          [
           "Green Gem East"
          ],
          [
           "Green Gem East"
          ],
          [
           "Green Gem East"
          ],
          [
           "Green Gem East"
          ],
          [
           "Green Gem East"
          ],
          [
           "Green Gem East"
          ],
          [
           "Green Gem East"
          ],
          [
           "Green Gem East"
          ],
          [
           "Green Gem East"
          ],
          [
           "Green Gem East"
          ],
          [
           "Green Gem East"
          ],
          [
           "Green Gem East"
          ],
          [
           "Green Gem East"
          ],
          [
           "Green Gem East"
          ],
          [
           "Green Gem East"
          ],
          [
           "Green Gem East"
          ],
          [
           "Green Gem East"
          ],
          [
           "Green Gem East"
          ],
          [
           "Green Gem East"
          ],
          [
           "Green Gem East"
          ],
          [
           "Green Gem East"
          ],
          [
           "Green Gem East"
          ],
          [
           "Green Gem East"
          ],
          [
           "Green Gem East"
          ],
          [
           "Green Gem East"
          ],
          [
           "Green Gem East"
          ],
          [
           "Green Gem East"
          ],
          [
           "Green Gem East"
          ],
          [
           "Green Gem East"
          ],
          [
           "Green Gem East"
          ],
          [
           "Green Gem East"
          ],
          [
           "Green Gem East"
          ],
          [
           "Green Gem East"
          ],
          [
           "Green Gem East"
          ],
          [
           "Green Gem East"
          ],
          [
           "Green Gem East"
          ],
          [
           "Green Gem East"
          ],
          [
           "Green Gem East"
          ],
          [
           "Green Gem East"
          ],
          [
           "Green Gem East"
          ],
          [
           "Green Gem East"
          ],
          [
           "Green Gem East"
          ],
          [
           "Green Gem East"
          ],
          [
           "Green Gem East"
          ],
          [
           "Green Gem East"
          ],
          [
           "Green Gem East"
          ],
          [
           "Green Gem East"
          ],
          [
           "Green Gem East"
          ],
          [
           "Green Gem East"
          ],
          [
           "Green Gem East"
          ],
          [
           "Green Gem East"
          ],
          [
           "Green Gem East"
          ],
          [
           "Green Gem East"
          ],
          [
           "Green Gem East"
          ],
          [
           "Green Gem East"
          ],
          [
           "Green Gem East"
          ],
          [
           "Green Gem East"
          ],
          [
           "Green Gem East"
          ],
          [
           "Green Gem East"
          ],
          [
           "Green Gem East"
          ],
          [
           "Green Gem East"
          ],
          [
           "Green Gem East"
          ],
          [
           "Green Gem East"
          ],
          [
           "Green Gem East"
          ],
          [
           "Green Gem East"
          ],
          [
           "Green Gem East"
          ],
          [
           "Green Gem East"
          ],
          [
           "Green Gem East"
          ],
          [
           "Green Gem East"
          ],
          [
           "Green Gem East"
          ],
          [
           "Green Gem East"
          ],
          [
           "Green Gem East"
          ],
          [
           "Green Gem East"
          ],
          [
           "Green Gem East"
          ],
          [
           "Green Gem East"
          ],
          [
           "Green Gem East"
          ],
          [
           "Green Gem East"
          ],
          [
           "Green Gem East"
          ],
          [
           "Green Gem East"
          ],
          [
           "Green Gem East"
          ],
          [
           "Green Gem East"
          ],
          [
           "Green Gem East"
          ],
          [
           "Green Gem East"
          ],
          [
           "Green Gem East"
          ],
          [
           "Green Gem East"
          ],
          [
           "Green Gem East"
          ],
          [
           "Green Gem East"
          ],
          [
           "Green Gem East"
          ],
          [
           "Green Gem East"
          ],
          [
           "Green Gem East"
          ],
          [
           "Green Gem East"
          ],
          [
           "Green Gem East"
          ],
          [
           "Green Gem East"
          ],
          [
           "Green Gem East"
          ],
          [
           "Green Gem East"
          ],
          [
           "Green Gem East"
          ],
          [
           "Green Gem East"
          ],
          [
           "Green Gem East"
          ],
          [
           "Green Gem East"
          ],
          [
           "Green Gem East"
          ],
          [
           "Green Gem East"
          ],
          [
           "Green Gem East"
          ],
          [
           "Green Gem East"
          ],
          [
           "Green Gem East"
          ],
          [
           "Green Gem East"
          ],
          [
           "Green Gem East"
          ],
          [
           "Green Gem East"
          ],
          [
           "Green Gem East"
          ],
          [
           "Green Gem East"
          ],
          [
           "Green Gem East"
          ],
          [
           "Green Gem East"
          ],
          [
           "Green Gem East"
          ],
          [
           "Green Gem East"
          ],
          [
           "Green Gem East"
          ],
          [
           "Green Gem East"
          ],
          [
           "Green Gem East"
          ],
          [
           "Green Gem East"
          ],
          [
           "Green Gem East"
          ],
          [
           "Green Gem East"
          ],
          [
           "Green Gem East"
          ],
          [
           "Green Gem East"
          ],
          [
           "Green Gem East"
          ],
          [
           "Green Gem East"
          ],
          [
           "Green Gem East"
          ],
          [
           "Green Gem East"
          ],
          [
           "Green Gem East"
          ],
          [
           "Green Gem East"
          ],
          [
           "Green Gem East"
          ],
          [
           "Green Gem East"
          ],
          [
           "Green Gem East"
          ],
          [
           "Green Gem East"
          ],
          [
           "Green Gem East"
          ],
          [
           "Green Gem East"
          ],
          [
           "Green Gem East"
          ],
          [
           "Green Gem East"
          ],
          [
           "Green Gem East"
          ],
          [
           "Green Gem East"
          ],
          [
           "Green Gem East"
          ],
          [
           "Green Gem East"
          ],
          [
           "Green Gem East"
          ],
          [
           "Green Gem East"
          ],
          [
           "Green Gem East"
          ],
          [
           "Green Gem East"
          ],
          [
           "Green Gem East"
          ],
          [
           "Green Gem East"
          ],
          [
           "Green Gem East"
          ],
          [
           "Green Gem East"
          ],
          [
           "Green Gem East"
          ],
          [
           "Green Gem East"
          ],
          [
           "Green Gem East"
          ],
          [
           "Green Gem East"
          ],
          [
           "Green Gem East"
          ],
          [
           "Green Gem East"
          ],
          [
           "Green Gem East"
          ],
          [
           "Green Gem East"
          ],
          [
           "Green Gem East"
          ],
          [
           "Green Gem East"
          ],
          [
           "Green Gem East"
          ],
          [
           "Green Gem East"
          ],
          [
           "Green Gem East"
          ],
          [
           "Green Gem East"
          ],
          [
           "Green Gem East"
          ],
          [
           "Green Gem East"
          ],
          [
           "Green Gem East"
          ],
          [
           "Green Gem East"
          ],
          [
           "Green Gem East"
          ],
          [
           "Green Gem East"
          ],
          [
           "Green Gem East"
          ],
          [
           "Green Gem East"
          ],
          [
           "Green Gem East"
          ],
          [
           "Green Gem East"
          ],
          [
           "Green Gem East"
          ],
          [
           "Green Gem East"
          ],
          [
           "Green Gem East"
          ],
          [
           "Green Gem East"
          ],
          [
           "Green Gem East"
          ],
          [
           "Green Gem East"
          ],
          [
           "Green Gem East"
          ],
          [
           "Green Gem East"
          ],
          [
           "Green Gem East"
          ],
          [
           "Green Gem East"
          ],
          [
           "Green Gem East"
          ],
          [
           "Green Gem East"
          ],
          [
           "Green Gem East"
          ],
          [
           "Green Gem East"
          ],
          [
           "Green Gem East"
          ],
          [
           "Green Gem East"
          ]
         ],
         "hovertemplate": "Description=%{customdata[0]}<br>TSNE-1=%{x}<br>TSNE-2=%{y}<extra></extra>",
         "legendgroup": "Green Gem East",
         "marker": {
          "color": "#19d3f3",
          "opacity": 0.8,
          "size": 6,
          "symbol": "circle"
         },
         "mode": "markers",
         "name": "Green Gem East",
         "showlegend": true,
         "type": "scattergl",
         "x": {
          "bdata": "2C5HQgtgYkIr22VCHaRbQm4lHELHV3JC9n0pQuagZkKotU9CrSFgQh2eT0KI2A9C25VsQniIXUJinBxC3n5WQg9dYELjfVJCRX9QQi+CSUJDr2FCXVlRQgdlYkIKskpCuANgQibfU0JRORNCQXJrQhWwZ0ITCilCdNlTQvqfZkLslFZCRR9gQg1lW0IDvw9CJHRpQnYtKkKqFS1CzO9fQoRcYEJo809C1a1hQnwGWUKvIEhCEsBQQt4gZEIepmtCYuALQm6XSkKoD1NCQAtoQheIVkIF+VBCJpFxQuxQ/0GreGlCbw5IQhvOLEJonXFCHPYvQoFiJUJt91hCbw5IQghmCUJ91WpC1/FfQtMAYEK6EW9Cpy0oQqNJaUJ64xJCBBBPQswNTkLDomZCuLVTQmnLYEJPclZCM/tQQoxcMUJCRf9BKElnQuAwTkIrT29CiZxxQrTkH0JSslJCL5NVQrpQUELE/EdCslkJQrtmZELnnmRC7dNvQkqIAkJkMWhCHo1XQlRraEL3qzBCqJ5XQtG+TUI2rVJCphRTQtdBWkJVSlZCzipPQp+KY0KLZq9BVEdVQu2yXkK+o19CWt0UQmQhJkL3b2BCYthNQkFcUkInQ1NCWVkJQnvcaELT/l9C8WFPQhM0a0JAqFhCwZMSQrltTUL1jWhCchdTQpdyZUJPn0lCTiFPQvUTMUJyBmVCxC5ZQsLnU0INiWJCBL5ZQjlOJUKsEVBC18dYQnAJR0KSdhFCOwP+QeCsY0JAuWRCkXMCQkecJUKOum9Cr4NnQh4uU0KwuWBCkR5NQtPOX0LfmVVCXs9VQvXOYkLCbmNCjGpqQpWUU0J0pFZCLb5ZQv1G/0ENYVRCOkZrQtBmZEJaAUdC1T9TQgM4CUL4OGpC12YCQi4iBUKyjR1C1U1XQiMdMkKLOmRCdn5VQh29WkJnrE9CG55OQv8ITEIckHFC2YxiQic4WUJ/kFBC/fpvQmMIUkJ9CWJCBl8AQjdcVELw+EZCtlYRQtf7/UHLVWpCULZkQmLsRkJvQV9CJoVnQuYEMkLgb19C",
          "dtype": "f4"
         },
         "xaxis": "x",
         "y": {
          "bdata": "m0egwZyCBcJbMl8//hKlwWxsmMA+b+fByqSxwMEryD/2b2fBY7qmwehvl8GCeYrAS8RYQMzkAcGP+JvAUvCXwBnogcF38vbBDvqVwaDUpMFNy9LBESKvwOkm48HBAqXBoMFTwBZUYMFD24vAZOEUwYJ/KcG7y7DAwq8EwoIZyT/2YPvBeCKmwf8np8HziorAF4vzv3ger8BhWrzAJXOWwb/DgcF4eF3B7VWuwUp7AMLOHeXBwToSwfNYt8FTUxPBqz2EwB79qsFq+iPBr2xhQAzv+sEKX4rBKM7gwcEbMMCZd/C/NOrkweamu8CQCuLBVD+5wCuQy8DhYADCNOrkwY8oisDX2OQ/blOmwDIeUcAo+bXBLtCcwCqkD0C7bIjAgKoMwUyn6cFYh4FACJYEwrV5AcG8a/rBQxaKwX6P4sDnoy/AL8KxQKDvqsGtrMPBw/7hwfB/ksCMUJDAsw3lwQAwW8Gxs+TB2xSKwCyQtsFxcLu/rR+2wUp8XMCZes7BMG/8wbDdqUBGdNbA0WXlwReh6MHaXx/Br7QiwXzVQMHlGPrBr6CTwfOYzcHR8ahBGj/4wbhdwsF8BZTBzVWKwDnQjsDQiajBq9IGwUFRksGmAjfBGUSDwNLsjEBXcE7AuuKOwPrA0MG7rYDAry+HwC6c58FP3Lc//R0iwSEzRMCqPqTBOAmTwftz4cDIFSXAhtfBwUr048HFugXCsD5jwbUlhcAI3e3B0BEAwhA66cGiLJjA3uUdwJoJBsLjq3LAGilbwDGKqcCyMcDBFsmBQNtOp8GI+33Bt6DmwfNh5b9CHP3BE/qnwaOn8sGhWsvBVhUZQFCU48HhVBnBZvNiwRlwL8CHDJrBcWYRwfuBp8GjE+nBZg41wa0Kg8Ai4M3Bhc9awP07cMAKAIfA5xgbwa+o48D2RkzAfLj8wVHxNsFqMWDBsvipwcMIq8Ho2ODBH+9BwKiAwcEQtFfBuHq9wZYqkMHAPavB93M+wLV8mcGI6+jBo5eXwDJbHcA74s3BTcpwwL/tn8ErIiXBy2mCQObw4sCcSArB",
          "dtype": "f4"
         },
         "yaxis": "y"
        },
        {
         "customdata": [
          [
           "Green Gem South West"
          ],
          [
           "Green Gem South West"
          ],
          [
           "Green Gem South West"
          ],
          [
           "Green Gem South West"
          ],
          [
           "Green Gem South West"
          ],
          [
           "Green Gem South West"
          ],
          [
           "Green Gem South West"
          ],
          [
           "Green Gem South West"
          ],
          [
           "Green Gem South West"
          ],
          [
           "Green Gem South West"
          ],
          [
           "Green Gem South West"
          ],
          [
           "Green Gem South West"
          ],
          [
           "Green Gem South West"
          ],
          [
           "Green Gem South West"
          ],
          [
           "Green Gem South West"
          ],
          [
           "Green Gem South West"
          ],
          [
           "Green Gem South West"
          ],
          [
           "Green Gem South West"
          ],
          [
           "Green Gem South West"
          ],
          [
           "Green Gem South West"
          ],
          [
           "Green Gem South West"
          ],
          [
           "Green Gem South West"
          ],
          [
           "Green Gem South West"
          ],
          [
           "Green Gem South West"
          ],
          [
           "Green Gem South West"
          ],
          [
           "Green Gem South West"
          ],
          [
           "Green Gem South West"
          ],
          [
           "Green Gem South West"
          ],
          [
           "Green Gem South West"
          ],
          [
           "Green Gem South West"
          ],
          [
           "Green Gem South West"
          ],
          [
           "Green Gem South West"
          ],
          [
           "Green Gem South West"
          ],
          [
           "Green Gem South West"
          ],
          [
           "Green Gem South West"
          ],
          [
           "Green Gem South West"
          ],
          [
           "Green Gem South West"
          ],
          [
           "Green Gem South West"
          ],
          [
           "Green Gem South West"
          ],
          [
           "Green Gem South West"
          ],
          [
           "Green Gem South West"
          ],
          [
           "Green Gem South West"
          ],
          [
           "Green Gem South West"
          ],
          [
           "Green Gem South West"
          ],
          [
           "Green Gem South West"
          ],
          [
           "Green Gem South West"
          ],
          [
           "Green Gem South West"
          ],
          [
           "Green Gem South West"
          ],
          [
           "Green Gem South West"
          ],
          [
           "Green Gem South West"
          ],
          [
           "Green Gem South West"
          ],
          [
           "Green Gem South West"
          ],
          [
           "Green Gem South West"
          ],
          [
           "Green Gem South West"
          ],
          [
           "Green Gem South West"
          ],
          [
           "Green Gem South West"
          ],
          [
           "Green Gem South West"
          ],
          [
           "Green Gem South West"
          ],
          [
           "Green Gem South West"
          ],
          [
           "Green Gem South West"
          ],
          [
           "Green Gem South West"
          ],
          [
           "Green Gem South West"
          ],
          [
           "Green Gem South West"
          ],
          [
           "Green Gem South West"
          ],
          [
           "Green Gem South West"
          ],
          [
           "Green Gem South West"
          ],
          [
           "Green Gem South West"
          ],
          [
           "Green Gem South West"
          ],
          [
           "Green Gem South West"
          ],
          [
           "Green Gem South West"
          ],
          [
           "Green Gem South West"
          ],
          [
           "Green Gem South West"
          ],
          [
           "Green Gem South West"
          ],
          [
           "Green Gem South West"
          ],
          [
           "Green Gem South West"
          ],
          [
           "Green Gem South West"
          ],
          [
           "Green Gem South West"
          ],
          [
           "Green Gem South West"
          ],
          [
           "Green Gem South West"
          ],
          [
           "Green Gem South West"
          ],
          [
           "Green Gem South West"
          ],
          [
           "Green Gem South West"
          ],
          [
           "Green Gem South West"
          ],
          [
           "Green Gem South West"
          ],
          [
           "Green Gem South West"
          ]
         ],
         "hovertemplate": "Description=%{customdata[0]}<br>TSNE-1=%{x}<br>TSNE-2=%{y}<extra></extra>",
         "legendgroup": "Green Gem South West",
         "marker": {
          "color": "#FF6692",
          "opacity": 0.8,
          "size": 6,
          "symbol": "circle"
         },
         "mode": "markers",
         "name": "Green Gem South West",
         "showlegend": true,
         "type": "scattergl",
         "x": {
          "bdata": "iY2xwXF3isHC3g3ATTmcwWbRiMEdWZrA3UOPwaqcpMHJ7IvBYoCLwQZOicEfcoPBniPywRqpjMHYorHBt0CKweXWDcCUy93AgcuIwXthS8HAn5nAiAWFwVggUsEyDJ/BX2GJweRtg8Gh7fHBJmtgwWv1ysES+InBkcwNwD5Mj8FVTmbBI4+owczimMDx94TBeV+vwYwYjMGMa7LB54ftwU3PEsFTJOXBd+v7wINzj8HAg8DB8makwQg8bsGEaYzBCkbdwfGNEsG5eInBErsNwDaL4cBDVgbC+m3AwYzbhMH0wYzBO1SywczU/MGrUBLBGHvlwYxGcsDmv+LAJskywY5XwMG1TaTB7AuNwbKqicFOTt3B0RUSwRam5cGFO3DAzUDAwbR+msEwEbe8OtwRweP88sEMBmTB7kyVwETUD8EKcQLCqPDlwfndX8FA0mzA3vRjwQ==",
          "dtype": "f4"
         },
         "xaxis": "x",
         "y": {
          "bdata": "MVhsQZC+1UHoOUZBVm69QYBW40B3P1JBEQbUQaS620FVHtFB3bTDQUoVN0H/OYdAn/ZKQe0B20ElcGxBELnVQVM9RkEblF5BgVfiQGCMOUHXSlJBMZe7QTZbQ0G+2txBX/c2QQ48h0BvGktBC4KxQUPJf0EhsdVBYURGQb/0ukBKsWlB4s/YQWlWUkHX87tBPNNbQe8NxEH8wUtBl0ZKQeL5tkHWSytBiMVLQSrlukCyywNBnSfcQfr8ukB4PcRBFD0DQcRCt0FGpdVBa0tGQWk3XEGs8fFADOoDQVezvEEobsRBgRxMQew1IUFxjbdBcv8qQV4sk0GEdVtBAxS3Qf8HBEGpddxBZJrEQT18NkFiaQNBQdK3QX7YKkFAPZNBhSYEQcXN60GXuTtBSRS4QcXWPUG/YoRBzZZSQdZgq0BmJQVBAVAiQQQoskFtW5NBZsRgQQ==",
          "dtype": "f4"
         },
         "yaxis": "y"
        },
        {
         "customdata": [
          [
           "Danger South West"
          ],
          [
           "Danger South West"
          ],
          [
           "Danger South West"
          ],
          [
           "Danger South West"
          ],
          [
           "Danger South West"
          ],
          [
           "Danger South West"
          ],
          [
           "Danger South West"
          ],
          [
           "Danger South West"
          ],
          [
           "Danger South West"
          ],
          [
           "Danger South West"
          ],
          [
           "Danger South West"
          ],
          [
           "Danger South West"
          ],
          [
           "Danger South West"
          ],
          [
           "Danger South West"
          ],
          [
           "Danger South West"
          ],
          [
           "Danger South West"
          ],
          [
           "Danger South West"
          ],
          [
           "Danger South West"
          ],
          [
           "Danger South West"
          ],
          [
           "Danger South West"
          ],
          [
           "Danger South West"
          ],
          [
           "Danger South West"
          ],
          [
           "Danger South West"
          ],
          [
           "Danger South West"
          ],
          [
           "Danger South West"
          ],
          [
           "Danger South West"
          ],
          [
           "Danger South West"
          ],
          [
           "Danger South West"
          ],
          [
           "Danger South West"
          ],
          [
           "Danger South West"
          ],
          [
           "Danger South West"
          ],
          [
           "Danger South West"
          ],
          [
           "Danger South West"
          ],
          [
           "Danger South West"
          ],
          [
           "Danger South West"
          ],
          [
           "Danger South West"
          ]
         ],
         "hovertemplate": "Description=%{customdata[0]}<br>TSNE-1=%{x}<br>TSNE-2=%{y}<extra></extra>",
         "legendgroup": "Danger South West",
         "marker": {
          "color": "#B6E880",
          "opacity": 0.8,
          "size": 6,
          "symbol": "circle"
         },
         "mode": "markers",
         "name": "Danger South West",
         "showlegend": true,
         "type": "scattergl",
         "x": {
          "bdata": "yPfcwTTq58F9md3B1GcJwmQf1cFCfQvCrl35wWls3cHW3ALCkmAJwoTiA8Ll3efB0ZQZwhL59ME1WgnC4aoDwp9MC8JE1+fBSY8ZwkZCFcJidt3BwdgTwghdGsIZHBXCXlTdwSRaGsJXgArC9jTdwbUMCsJQfhnC3KUHwsG23sG8pgLCnXzcwUKiFMKpDgrC",
          "dtype": "f4"
         },
         "xaxis": "x",
         "y": {
          "bdata": "dGNnQrG4a0JHkG5CLWhDQkuaakJTRVNCnPZfQm+AbkKivDpCXXBDQl0MVUJ+vWtCsd5PQly2YEKcdkNCTC1VQsuCU0JlvmtCVu5PQr/OT0LBt29ClsJRQjfbTELo7k9CF8BvQm/mTEIcIFJC/9tvQsIBVkJQH1BC8R1dQl15ZkL8fVVCfUhuQr5DUEJPFFZC",
          "dtype": "f4"
         },
         "yaxis": "y"
        },
        {
         "customdata": [
          [
           "Danger Center"
          ],
          [
           "Danger Center"
          ],
          [
           "Danger Center"
          ],
          [
           "Danger Center"
          ],
          [
           "Danger Center"
          ],
          [
           "Danger Center"
          ],
          [
           "Danger Center"
          ],
          [
           "Danger Center"
          ],
          [
           "Danger Center"
          ],
          [
           "Danger Center"
          ],
          [
           "Danger Center"
          ],
          [
           "Danger Center"
          ],
          [
           "Danger Center"
          ],
          [
           "Danger Center"
          ],
          [
           "Danger Center"
          ],
          [
           "Danger Center"
          ],
          [
           "Danger Center"
          ],
          [
           "Danger Center"
          ],
          [
           "Danger Center"
          ],
          [
           "Danger Center"
          ],
          [
           "Danger Center"
          ],
          [
           "Danger Center"
          ],
          [
           "Danger Center"
          ],
          [
           "Danger Center"
          ],
          [
           "Danger Center"
          ],
          [
           "Danger Center"
          ],
          [
           "Danger Center"
          ],
          [
           "Danger Center"
          ],
          [
           "Danger Center"
          ],
          [
           "Danger Center"
          ],
          [
           "Danger Center"
          ],
          [
           "Danger Center"
          ],
          [
           "Danger Center"
          ],
          [
           "Danger Center"
          ],
          [
           "Danger Center"
          ],
          [
           "Danger Center"
          ],
          [
           "Danger Center"
          ],
          [
           "Danger Center"
          ],
          [
           "Danger Center"
          ],
          [
           "Danger Center"
          ],
          [
           "Danger Center"
          ],
          [
           "Danger Center"
          ],
          [
           "Danger Center"
          ],
          [
           "Danger Center"
          ],
          [
           "Danger Center"
          ],
          [
           "Danger Center"
          ],
          [
           "Danger Center"
          ],
          [
           "Danger Center"
          ],
          [
           "Danger Center"
          ],
          [
           "Danger Center"
          ],
          [
           "Danger Center"
          ],
          [
           "Danger Center"
          ],
          [
           "Danger Center"
          ],
          [
           "Danger Center"
          ],
          [
           "Danger Center"
          ],
          [
           "Danger Center"
          ],
          [
           "Danger Center"
          ],
          [
           "Danger Center"
          ],
          [
           "Danger Center"
          ],
          [
           "Danger Center"
          ],
          [
           "Danger Center"
          ]
         ],
         "hovertemplate": "Description=%{customdata[0]}<br>TSNE-1=%{x}<br>TSNE-2=%{y}<extra></extra>",
         "legendgroup": "Danger Center",
         "marker": {
          "color": "#FF97FF",
          "opacity": 0.8,
          "size": 6,
          "symbol": "circle"
         },
         "mode": "markers",
         "name": "Danger Center",
         "showlegend": true,
         "type": "scattergl",
         "x": {
          "bdata": "nMYJv+exocB/KAtAob7RwAmBSUAxPhPA2OZmwOeo6sCT4jPAOgdXQKbG3sDOHTG8O1QZwL9/HUBvxwBAPcaFwOWwFT8DSKfAfxKdvtRHR0DRnBxAGJAnwFkAxsDRu6bASrufv2Brv8Djy6e+bLoZwJklhT9mqifAvwcRP+vT3MBAaKLAn0enwNpX0jzaV9I84pfjwO/sRECaxsPAeBjdwFN+lMB4GMTAVLVDQEsFgjtOqOPAYsTCP/hPrMCAh9I+7ezJvt+usT+PAlHAvU0GP4xKs8C0TFVAp6DdwHe4psBa2Eg/0FVhwNEDVUAcf/W/NuTdwA==",
          "dtype": "f4"
         },
         "xaxis": "x",
         "y": {
          "bdata": "huGNwnJrhsIcwXTCpUWLwsouc8JlCYzCGfuEwhkdi8K2F4TCsut2wrzXisLm+H7CLXyLwkRBdMIy3HLCkP2FwhKceMKtrXzCg8B+wkw+c8JHR3TCRKGJwtq2icIlVHzCzL+AwjBNisJB3n7CyXuLwkPwd8KPo4nCpqV4wpvugsIPdobCkrB8wuK9f8LivX/C+j6DwvdOc8KulYHCLveCwtEwhcKYq4HCvVdzwrL5f8J0RIPCiE52wns6e8L9ZoDCTI+AwvDwc8L3LYTCHEh/wlhAhcI0NnfCxgiDwkRhfMIml3vC/yiFwjVDd8LhH4PClxGDwg==",
          "dtype": "f4"
         },
         "yaxis": "y"
        },
        {
         "customdata": [
          [
           "Green Gem West"
          ],
          [
           "Green Gem West"
          ],
          [
           "Green Gem West"
          ],
          [
           "Green Gem West"
          ],
          [
           "Green Gem West"
          ],
          [
           "Green Gem West"
          ],
          [
           "Green Gem West"
          ],
          [
           "Green Gem West"
          ],
          [
           "Green Gem West"
          ],
          [
           "Green Gem West"
          ],
          [
           "Green Gem West"
          ],
          [
           "Green Gem West"
          ],
          [
           "Green Gem West"
          ],
          [
           "Green Gem West"
          ],
          [
           "Green Gem West"
          ],
          [
           "Green Gem West"
          ],
          [
           "Green Gem West"
          ],
          [
           "Green Gem West"
          ],
          [
           "Green Gem West"
          ],
          [
           "Green Gem West"
          ],
          [
           "Green Gem West"
          ],
          [
           "Green Gem West"
          ],
          [
           "Green Gem West"
          ],
          [
           "Green Gem West"
          ],
          [
           "Green Gem West"
          ],
          [
           "Green Gem West"
          ],
          [
           "Green Gem West"
          ],
          [
           "Green Gem West"
          ],
          [
           "Green Gem West"
          ],
          [
           "Green Gem West"
          ],
          [
           "Green Gem West"
          ],
          [
           "Green Gem West"
          ],
          [
           "Green Gem West"
          ],
          [
           "Green Gem West"
          ],
          [
           "Green Gem West"
          ],
          [
           "Green Gem West"
          ],
          [
           "Green Gem West"
          ],
          [
           "Green Gem West"
          ],
          [
           "Green Gem West"
          ],
          [
           "Green Gem West"
          ],
          [
           "Green Gem West"
          ],
          [
           "Green Gem West"
          ],
          [
           "Green Gem West"
          ],
          [
           "Green Gem West"
          ],
          [
           "Green Gem West"
          ],
          [
           "Green Gem West"
          ],
          [
           "Green Gem West"
          ],
          [
           "Green Gem West"
          ],
          [
           "Green Gem West"
          ],
          [
           "Green Gem West"
          ],
          [
           "Green Gem West"
          ],
          [
           "Green Gem West"
          ],
          [
           "Green Gem West"
          ],
          [
           "Green Gem West"
          ],
          [
           "Green Gem West"
          ],
          [
           "Green Gem West"
          ],
          [
           "Green Gem West"
          ],
          [
           "Green Gem West"
          ],
          [
           "Green Gem West"
          ],
          [
           "Green Gem West"
          ],
          [
           "Green Gem West"
          ],
          [
           "Green Gem West"
          ],
          [
           "Green Gem West"
          ],
          [
           "Green Gem West"
          ],
          [
           "Green Gem West"
          ],
          [
           "Green Gem West"
          ],
          [
           "Green Gem West"
          ],
          [
           "Green Gem West"
          ],
          [
           "Green Gem West"
          ],
          [
           "Green Gem West"
          ],
          [
           "Green Gem West"
          ],
          [
           "Green Gem West"
          ],
          [
           "Green Gem West"
          ],
          [
           "Green Gem West"
          ],
          [
           "Green Gem West"
          ],
          [
           "Green Gem West"
          ],
          [
           "Green Gem West"
          ],
          [
           "Green Gem West"
          ],
          [
           "Green Gem West"
          ],
          [
           "Green Gem West"
          ],
          [
           "Green Gem West"
          ],
          [
           "Green Gem West"
          ],
          [
           "Green Gem West"
          ],
          [
           "Green Gem West"
          ],
          [
           "Green Gem West"
          ],
          [
           "Green Gem West"
          ],
          [
           "Green Gem West"
          ],
          [
           "Green Gem West"
          ],
          [
           "Green Gem West"
          ],
          [
           "Green Gem West"
          ],
          [
           "Green Gem West"
          ],
          [
           "Green Gem West"
          ],
          [
           "Green Gem West"
          ],
          [
           "Green Gem West"
          ],
          [
           "Green Gem West"
          ],
          [
           "Green Gem West"
          ],
          [
           "Green Gem West"
          ],
          [
           "Green Gem West"
          ],
          [
           "Green Gem West"
          ],
          [
           "Green Gem West"
          ],
          [
           "Green Gem West"
          ],
          [
           "Green Gem West"
          ],
          [
           "Green Gem West"
          ],
          [
           "Green Gem West"
          ],
          [
           "Green Gem West"
          ],
          [
           "Green Gem West"
          ],
          [
           "Green Gem West"
          ],
          [
           "Green Gem West"
          ],
          [
           "Green Gem West"
          ],
          [
           "Green Gem West"
          ],
          [
           "Green Gem West"
          ],
          [
           "Green Gem West"
          ],
          [
           "Green Gem West"
          ],
          [
           "Green Gem West"
          ],
          [
           "Green Gem West"
          ],
          [
           "Green Gem West"
          ],
          [
           "Green Gem West"
          ],
          [
           "Green Gem West"
          ],
          [
           "Green Gem West"
          ],
          [
           "Green Gem West"
          ],
          [
           "Green Gem West"
          ],
          [
           "Green Gem West"
          ],
          [
           "Green Gem West"
          ],
          [
           "Green Gem West"
          ],
          [
           "Green Gem West"
          ],
          [
           "Green Gem West"
          ],
          [
           "Green Gem West"
          ],
          [
           "Green Gem West"
          ],
          [
           "Green Gem West"
          ],
          [
           "Green Gem West"
          ],
          [
           "Green Gem West"
          ],
          [
           "Green Gem West"
          ],
          [
           "Green Gem West"
          ],
          [
           "Green Gem West"
          ],
          [
           "Green Gem West"
          ],
          [
           "Green Gem West"
          ],
          [
           "Green Gem West"
          ],
          [
           "Green Gem West"
          ],
          [
           "Green Gem West"
          ],
          [
           "Green Gem West"
          ],
          [
           "Green Gem West"
          ],
          [
           "Green Gem West"
          ],
          [
           "Green Gem West"
          ],
          [
           "Green Gem West"
          ],
          [
           "Green Gem West"
          ],
          [
           "Green Gem West"
          ],
          [
           "Green Gem West"
          ],
          [
           "Green Gem West"
          ],
          [
           "Green Gem West"
          ],
          [
           "Green Gem West"
          ],
          [
           "Green Gem West"
          ],
          [
           "Green Gem West"
          ],
          [
           "Green Gem West"
          ],
          [
           "Green Gem West"
          ],
          [
           "Green Gem West"
          ],
          [
           "Green Gem West"
          ],
          [
           "Green Gem West"
          ],
          [
           "Green Gem West"
          ],
          [
           "Green Gem West"
          ],
          [
           "Green Gem West"
          ],
          [
           "Green Gem West"
          ],
          [
           "Green Gem West"
          ],
          [
           "Green Gem West"
          ],
          [
           "Green Gem West"
          ],
          [
           "Green Gem West"
          ],
          [
           "Green Gem West"
          ],
          [
           "Green Gem West"
          ],
          [
           "Green Gem West"
          ],
          [
           "Green Gem West"
          ],
          [
           "Green Gem West"
          ],
          [
           "Green Gem West"
          ],
          [
           "Green Gem West"
          ],
          [
           "Green Gem West"
          ],
          [
           "Green Gem West"
          ],
          [
           "Green Gem West"
          ],
          [
           "Green Gem West"
          ],
          [
           "Green Gem West"
          ],
          [
           "Green Gem West"
          ],
          [
           "Green Gem West"
          ],
          [
           "Green Gem West"
          ],
          [
           "Green Gem West"
          ],
          [
           "Green Gem West"
          ],
          [
           "Green Gem West"
          ],
          [
           "Green Gem West"
          ],
          [
           "Green Gem West"
          ],
          [
           "Green Gem West"
          ],
          [
           "Green Gem West"
          ],
          [
           "Green Gem West"
          ],
          [
           "Green Gem West"
          ],
          [
           "Green Gem West"
          ],
          [
           "Green Gem West"
          ],
          [
           "Green Gem West"
          ],
          [
           "Green Gem West"
          ],
          [
           "Green Gem West"
          ],
          [
           "Green Gem West"
          ],
          [
           "Green Gem West"
          ],
          [
           "Green Gem West"
          ],
          [
           "Green Gem West"
          ],
          [
           "Green Gem West"
          ],
          [
           "Green Gem West"
          ],
          [
           "Green Gem West"
          ],
          [
           "Green Gem West"
          ],
          [
           "Green Gem West"
          ],
          [
           "Green Gem West"
          ],
          [
           "Green Gem West"
          ],
          [
           "Green Gem West"
          ],
          [
           "Green Gem West"
          ],
          [
           "Green Gem West"
          ],
          [
           "Green Gem West"
          ],
          [
           "Green Gem West"
          ],
          [
           "Green Gem West"
          ],
          [
           "Green Gem West"
          ],
          [
           "Green Gem West"
          ],
          [
           "Green Gem West"
          ],
          [
           "Green Gem West"
          ],
          [
           "Green Gem West"
          ],
          [
           "Green Gem West"
          ],
          [
           "Green Gem West"
          ],
          [
           "Green Gem West"
          ],
          [
           "Green Gem West"
          ],
          [
           "Green Gem West"
          ],
          [
           "Green Gem West"
          ],
          [
           "Green Gem West"
          ],
          [
           "Green Gem West"
          ],
          [
           "Green Gem West"
          ],
          [
           "Green Gem West"
          ],
          [
           "Green Gem West"
          ],
          [
           "Green Gem West"
          ],
          [
           "Green Gem West"
          ],
          [
           "Green Gem West"
          ]
         ],
         "hovertemplate": "Description=%{customdata[0]}<br>TSNE-1=%{x}<br>TSNE-2=%{y}<extra></extra>",
         "legendgroup": "Green Gem West",
         "marker": {
          "color": "#FECB52",
          "opacity": 0.8,
          "size": 6,
          "symbol": "circle"
         },
         "mode": "markers",
         "name": "Green Gem West",
         "showlegend": true,
         "type": "scattergl",
         "x": {
          "bdata": "bG1mwdLaH8GfzA/B/ISQwXNT08EpYerBM0hdwRYacME/5QXCMpYowQD2XUAJhCbBG3nzwHFaV8H8pIfBzyACwmKxNMGWh5LB01jtvzRr78GdvATBbnWgwYqYzsHKVqrBB08KwKwkOcGux6c+QreOwZEk9cFRw8/AKeJowSEsXcG38G/BMeIFwqlCA8J6XSjBZV5dQJu+nMHVc8bBmp3zwL0m0sDVDAfC3H3Twb1SoT46bgPCmlTvwYQT1cGf/qDBUWFowc6YScCpQgPCIu04wR/WsT6bq4bBK0UJwpKIvMEXrurBpozewKV8fECy9ifB7VIiQJ2wJsFDZonB9LzzwOnQqT4NagPCOfTqwWRLfcFTWQTBTNzUwQvizsGVY1rBOXMMwVj6uL8EgaTB5r/gPwHCuz5RhobB77cFwjW+CcLAypvBEprKwRHroj2qMRPB7lgHwfUgZMGWjyfB5UquvPpSRkBBBsW/hQiOwUkTxsG84PPABr4BwjAVsD43SxrCm/cBwlRXfcFO1CtAmbLUwe4n6MHKDRA7ae5ZwWY9A8Kn4bW/TCS7wRqvxT72PxfBViAHwiu/CcINt5vB5KiQPvY5ycAwQgfB/ANhwUjHDkBKPg9A/mWiPqVBJcFMQZDBmOCKwSlCWUA3RO8+IE3JP5DO+r5Ma3DB1JTswchifcFotyxAcw2gwWaJBsGHA+jBMFbMwH9AZcHFeAzBBirwvz6bpMF+t6bBH9a9wcDdBcJ9j6TBr6KbwX+R8L+QxmTBFA+WwamymMFu57LBr9e5we9BD0ALxLjBNmuMwZEr2cD3yoTBxr+MwQqvWUDlvHjB1xcCwn2TmsG8Tn9A+A0UwYdVucEqdZQ9d1rjwK/mWMGeP6+/hSAdwdqTk8H/IQfCj2qDP1SPm8GzA6vByASGwVTQYMGXZSbBxjnxwUaljME3oCTBbAOSwaX1isHLZzS+w/d3waiVqcFJsPjBXECawdbzAcK+3hPBcNqfwcETwcEMWrA9HJCIwZlqWMHNvwrCUCsYweGnpsHSG4jBrCMHwuCjFT+NwII/1ArXwWO2qsHQ24XBHl9rwSz/EsCUTX3BfkwkwYcdkcEUG5HBJdGDwOsyd8EGGGfBSyQhwWTs98E+cgrCm68TweO/n8HztLQ/bQEGwZ4FBsIxSX9A1xSSwS/9u8HhAAbBlVMnwSlDiMFjSP8/Sd/6wOAFtsCLi/C/4HjAwS+Bl8A=",
          "dtype": "f4"
         },
         "xaxis": "x",
         "y": {
          "bdata": "9Xh6QQrXv0E3WbJAR09uQWvcBkE08TpB8r/GQFaW50Cnb+VA3VmzQSewg0E9TrpBHnjKQFafSUGMjqtAYTcTQVcfRUFyAulBogq3QboIbUEVUatBHGHjQY3hwkDeSgFBmwGhQcwBwEHBEZlBTZKyQKGcVEFgnHtBcjhIQSTNxkAXCuhAravlQN8bE0FUmLNB0DWEQfypYkHNbYBBYmTKQMTteEGfrMdAj4C0QEcen0FB7DRCIDNtQRTqrkDV7eZAmvJIQTaAn0HfGxNBlRfAQer+mEGWb7RBicLhQB3RbEFA6zpB4+ljQb0sZEFC2LNBzQmAQT+8ukHRfcpBhE3KQNk6n0EB6TRC9+M5QdHJeUGUFKxBPd6uQNsYwkAUmUNBiRG8QIV9t0G/5MpBckp+Qe3rmEHXs7RBKicBQSq12kAyU1hBQlYeQb2He0G51klBvberQYNtqUC4GLRBcCGBQTIhiUFPx0BBcLrfQUZkgEHDOcpAEJEVQfdWn0Ea/zxC84kPQZAHekH6IYJBcK6uQD+mFkErMj1B+yREQfaME0GybLdBQaqDQSjZmEFEOWZANtQKQdu72kC6kFhB7YOvQV00dEGHGKxBUFM7QdqrpkEZ3qhBOrmrQb+hREHhL+pB6fOLQNG+iUE+RaZBwMaFQdA9OEElDuZAputBQRBMekGxHoJB4/LjQdhurEGraxVBElRsQZP/SkE76rtAxwSzQXJUy0GpRNhBcvt/QXGTB0ElRtJBzclYQdTUvUGH60pBIUfwQalLvUEL9QJBOiBlQTKppkFlcHpBNoLCQf0TeEEI9uBBS72sQceniUFB5rRBYxARQV+ruEH6hm1BXmumQQylekE7crRB7stDQYJlRUE8SLdBz6i+QQ8Vx0FjNgtBdN1PQY8BWUFw8whBAHcyQSd8OUEf0LRBAQVvQbG2wkG55URBI80jQSTOi0BJ5pZBbw21QbJlEEHENU1BILC4QTb/D0EDlqZBR0DkQb9mhkFyaLRB0maGQGcDRkEepwdBFBK2Qfik2EHFcK9BTWcLQd78SUHNyE9BHbf2QJwgCUFzwTJB2KKyQaR9jUEPNNlBeQdFQRbrqUGQ4ONBYwKjQb0xtUHHyOtAQhPEQEYSTkEJZxFBM7umQcpm5EFQb69BoI2tQYy17EDchWxBmujAQEcI/0Dhba5BjOe6QReFr0EX9HxBq/lNQWaEaEGh7b1Bx0f5QI/QV0E=",
          "dtype": "f4"
         },
         "yaxis": "y"
        },
        {
         "customdata": [
          [
           "Purple Gem West"
          ],
          [
           "Purple Gem West"
          ],
          [
           "Purple Gem West"
          ],
          [
           "Purple Gem West"
          ],
          [
           "Purple Gem West"
          ],
          [
           "Purple Gem West"
          ],
          [
           "Purple Gem West"
          ],
          [
           "Purple Gem West"
          ],
          [
           "Purple Gem West"
          ],
          [
           "Purple Gem West"
          ],
          [
           "Purple Gem West"
          ],
          [
           "Purple Gem West"
          ],
          [
           "Purple Gem West"
          ],
          [
           "Purple Gem West"
          ],
          [
           "Purple Gem West"
          ],
          [
           "Purple Gem West"
          ],
          [
           "Purple Gem West"
          ],
          [
           "Purple Gem West"
          ],
          [
           "Purple Gem West"
          ],
          [
           "Purple Gem West"
          ],
          [
           "Purple Gem West"
          ],
          [
           "Purple Gem West"
          ],
          [
           "Purple Gem West"
          ],
          [
           "Purple Gem West"
          ],
          [
           "Purple Gem West"
          ],
          [
           "Purple Gem West"
          ],
          [
           "Purple Gem West"
          ],
          [
           "Purple Gem West"
          ],
          [
           "Purple Gem West"
          ],
          [
           "Purple Gem West"
          ],
          [
           "Purple Gem West"
          ],
          [
           "Purple Gem West"
          ],
          [
           "Purple Gem West"
          ],
          [
           "Purple Gem West"
          ],
          [
           "Purple Gem West"
          ],
          [
           "Purple Gem West"
          ],
          [
           "Purple Gem West"
          ],
          [
           "Purple Gem West"
          ],
          [
           "Purple Gem West"
          ],
          [
           "Purple Gem West"
          ],
          [
           "Purple Gem West"
          ],
          [
           "Purple Gem West"
          ],
          [
           "Purple Gem West"
          ],
          [
           "Purple Gem West"
          ],
          [
           "Purple Gem West"
          ],
          [
           "Purple Gem West"
          ],
          [
           "Purple Gem West"
          ],
          [
           "Purple Gem West"
          ],
          [
           "Purple Gem West"
          ],
          [
           "Purple Gem West"
          ],
          [
           "Purple Gem West"
          ],
          [
           "Purple Gem West"
          ],
          [
           "Purple Gem West"
          ],
          [
           "Purple Gem West"
          ],
          [
           "Purple Gem West"
          ],
          [
           "Purple Gem West"
          ],
          [
           "Purple Gem West"
          ],
          [
           "Purple Gem West"
          ],
          [
           "Purple Gem West"
          ],
          [
           "Purple Gem West"
          ],
          [
           "Purple Gem West"
          ],
          [
           "Purple Gem West"
          ],
          [
           "Purple Gem West"
          ],
          [
           "Purple Gem West"
          ],
          [
           "Purple Gem West"
          ],
          [
           "Purple Gem West"
          ],
          [
           "Purple Gem West"
          ],
          [
           "Purple Gem West"
          ],
          [
           "Purple Gem West"
          ],
          [
           "Purple Gem West"
          ],
          [
           "Purple Gem West"
          ],
          [
           "Purple Gem West"
          ],
          [
           "Purple Gem West"
          ],
          [
           "Purple Gem West"
          ]
         ],
         "hovertemplate": "Description=%{customdata[0]}<br>TSNE-1=%{x}<br>TSNE-2=%{y}<extra></extra>",
         "legendgroup": "Purple Gem West",
         "marker": {
          "color": "#636efa",
          "opacity": 0.8,
          "size": 6,
          "symbol": "circle"
         },
         "mode": "markers",
         "name": "Purple Gem West",
         "showlegend": true,
         "type": "scattergl",
         "x": {
          "bdata": "03tjwrRBacJ2gIPC4mpWwqmjS8JCDmfC8EdnwtL6asLiWFPCxwNrwo5WY8JERoPCmUNLwoCeS8LwwnXCuPxWwhrta8I3iXfCfK1LwoO3gcIdzWbCPOx7wsaEgcKjTGnC8+xrwoF4d8LJnUvCcnt0wsVST8IKS4LC0ZFmwnZlacLWNWHCns1rwpZsd8IGoEvCWv5Zwt5IgsIWY1fCTE94wmn8UMIFpX3CqLJdwiTYeMJ1mkvCeo54wp25VcLU9FDCj0VuwtQ+g8ICmF3C+zhbwl+HS8KaBGfCi0JmwsruZcKLAlHC3t9owrCGYMKQQIPC+ZZ4wixzS8Lvt4LCiA9PwmYfacInKnvCFJtUwn15S8JA4WTCim9qwuKgZ8K6MXfCdnxqwmrTZsI=",
          "dtype": "f4"
         },
         "xaxis": "x",
         "y": {
          "bdata": "GFC1QbOu40Ad7VtBO32tQQgbxEF6Z2tBfuL0QKLV+kD0nL9BOFnzQJWLtUHmQmdBTUzKQUhHxEFn3F9Bqkq9QULwHkGrAjtBL3nEQU2xSkHu/GxBfEQnQV8/Q0FnvrJBCj0fQYeEO0EltcRB0A1CQdMfxEEze0RB8AGFQN8ts0H2p7RBiJ3+QJ8HPEHu7sRB2ra8Qa8FRUEeaLdBMj5CQb+V0kElyT9B7FutQbQVS0HrIMVBDc9OQakqv0EKmNJBznYpQa6FREElka1B8Rm7QZhJxUEF6YNBjZhwQdginUAao9NBKOuzQeo+tUGSxkRBRPtMQfxtxUHq+zlB1KHEQR0Rl0CLnidB9da3QfKl1UGf/bBB4D3rQGh7s0Fydj5BmgSEQb2VhEE=",
          "dtype": "f4"
         },
         "yaxis": "y"
        },
        {
         "customdata": [
          [
           "Purple Gem North West"
          ],
          [
           "Purple Gem North West"
          ],
          [
           "Purple Gem North West"
          ],
          [
           "Purple Gem North West"
          ],
          [
           "Purple Gem North West"
          ],
          [
           "Purple Gem North West"
          ],
          [
           "Purple Gem North West"
          ],
          [
           "Purple Gem North West"
          ],
          [
           "Purple Gem North West"
          ],
          [
           "Purple Gem North West"
          ],
          [
           "Purple Gem North West"
          ],
          [
           "Purple Gem North West"
          ],
          [
           "Purple Gem North West"
          ],
          [
           "Purple Gem North West"
          ],
          [
           "Purple Gem North West"
          ],
          [
           "Purple Gem North West"
          ],
          [
           "Purple Gem North West"
          ],
          [
           "Purple Gem North West"
          ],
          [
           "Purple Gem North West"
          ],
          [
           "Purple Gem North West"
          ],
          [
           "Purple Gem North West"
          ],
          [
           "Purple Gem North West"
          ],
          [
           "Purple Gem North West"
          ],
          [
           "Purple Gem North West"
          ],
          [
           "Purple Gem North West"
          ],
          [
           "Purple Gem North West"
          ],
          [
           "Purple Gem North West"
          ],
          [
           "Purple Gem North West"
          ],
          [
           "Purple Gem North West"
          ],
          [
           "Purple Gem North West"
          ],
          [
           "Purple Gem North West"
          ],
          [
           "Purple Gem North West"
          ]
         ],
         "hovertemplate": "Description=%{customdata[0]}<br>TSNE-1=%{x}<br>TSNE-2=%{y}<extra></extra>",
         "legendgroup": "Purple Gem North West",
         "marker": {
          "color": "#EF553B",
          "opacity": 0.8,
          "size": 6,
          "symbol": "circle"
         },
         "mode": "markers",
         "name": "Purple Gem North West",
         "showlegend": true,
         "type": "scattergl",
         "x": {
          "bdata": "yQdLwoANasKpwXrCu2ODwu16gMLEPGbCrgVLwsKCg8LoQ4PCn1Brwsg6a8JVUm7Ce3tpwhgBS8JUglvCsRlbwgW9T8J5dmzCAixmwpogacKrWW3CBxmDwpt8ZMJEWk/C9Z15wlTYc8I+O2vCMudkwsYTg8LealPCjilqwoSwecI=",
          "dtype": "f4"
         },
         "xaxis": "x",
         "y": {
          "bdata": "p5fVQaEZKUHoyDxBC9RQQUdJREGxBYVAP5rVQbXwYEGcJGhBf9r6QAZMqkFkmexA9QunQYmf1UHf/qhBwKiwQWB70EGqRSRBBpw9QXOWp0E/xPNAleZRQW6FjEEZtrFBb6NBQfC7N0Fwp5JBxdZVQG1PUkEr/bZBlAIZQaWwQkE=",
          "dtype": "f4"
         },
         "yaxis": "y"
        },
        {
         "customdata": [
          [
           "Purple Gem Center"
          ],
          [
           "Purple Gem Center"
          ],
          [
           "Purple Gem Center"
          ],
          [
           "Purple Gem Center"
          ],
          [
           "Purple Gem Center"
          ],
          [
           "Purple Gem Center"
          ],
          [
           "Purple Gem Center"
          ],
          [
           "Purple Gem Center"
          ],
          [
           "Purple Gem Center"
          ],
          [
           "Purple Gem Center"
          ],
          [
           "Purple Gem Center"
          ],
          [
           "Purple Gem Center"
          ],
          [
           "Purple Gem Center"
          ],
          [
           "Purple Gem Center"
          ],
          [
           "Purple Gem Center"
          ],
          [
           "Purple Gem Center"
          ],
          [
           "Purple Gem Center"
          ],
          [
           "Purple Gem Center"
          ],
          [
           "Purple Gem Center"
          ],
          [
           "Purple Gem Center"
          ],
          [
           "Purple Gem Center"
          ],
          [
           "Purple Gem Center"
          ],
          [
           "Purple Gem Center"
          ],
          [
           "Purple Gem Center"
          ],
          [
           "Purple Gem Center"
          ],
          [
           "Purple Gem Center"
          ],
          [
           "Purple Gem Center"
          ],
          [
           "Purple Gem Center"
          ],
          [
           "Purple Gem Center"
          ],
          [
           "Purple Gem Center"
          ],
          [
           "Purple Gem Center"
          ],
          [
           "Purple Gem Center"
          ],
          [
           "Purple Gem Center"
          ],
          [
           "Purple Gem Center"
          ],
          [
           "Purple Gem Center"
          ],
          [
           "Purple Gem Center"
          ],
          [
           "Purple Gem Center"
          ],
          [
           "Purple Gem Center"
          ],
          [
           "Purple Gem Center"
          ],
          [
           "Purple Gem Center"
          ],
          [
           "Purple Gem Center"
          ],
          [
           "Purple Gem Center"
          ],
          [
           "Purple Gem Center"
          ],
          [
           "Purple Gem Center"
          ],
          [
           "Purple Gem Center"
          ],
          [
           "Purple Gem Center"
          ],
          [
           "Purple Gem Center"
          ],
          [
           "Purple Gem Center"
          ],
          [
           "Purple Gem Center"
          ],
          [
           "Purple Gem Center"
          ],
          [
           "Purple Gem Center"
          ],
          [
           "Purple Gem Center"
          ],
          [
           "Purple Gem Center"
          ],
          [
           "Purple Gem Center"
          ],
          [
           "Purple Gem Center"
          ],
          [
           "Purple Gem Center"
          ],
          [
           "Purple Gem Center"
          ],
          [
           "Purple Gem Center"
          ],
          [
           "Purple Gem Center"
          ],
          [
           "Purple Gem Center"
          ],
          [
           "Purple Gem Center"
          ],
          [
           "Purple Gem Center"
          ],
          [
           "Purple Gem Center"
          ],
          [
           "Purple Gem Center"
          ],
          [
           "Purple Gem Center"
          ],
          [
           "Purple Gem Center"
          ],
          [
           "Purple Gem Center"
          ],
          [
           "Purple Gem Center"
          ],
          [
           "Purple Gem Center"
          ],
          [
           "Purple Gem Center"
          ],
          [
           "Purple Gem Center"
          ],
          [
           "Purple Gem Center"
          ],
          [
           "Purple Gem Center"
          ],
          [
           "Purple Gem Center"
          ],
          [
           "Purple Gem Center"
          ],
          [
           "Purple Gem Center"
          ],
          [
           "Purple Gem Center"
          ],
          [
           "Purple Gem Center"
          ],
          [
           "Purple Gem Center"
          ],
          [
           "Purple Gem Center"
          ],
          [
           "Purple Gem Center"
          ],
          [
           "Purple Gem Center"
          ],
          [
           "Purple Gem Center"
          ],
          [
           "Purple Gem Center"
          ],
          [
           "Purple Gem Center"
          ],
          [
           "Purple Gem Center"
          ],
          [
           "Purple Gem Center"
          ],
          [
           "Purple Gem Center"
          ],
          [
           "Purple Gem Center"
          ],
          [
           "Purple Gem Center"
          ],
          [
           "Purple Gem Center"
          ],
          [
           "Purple Gem Center"
          ],
          [
           "Purple Gem Center"
          ],
          [
           "Purple Gem Center"
          ],
          [
           "Purple Gem Center"
          ],
          [
           "Purple Gem Center"
          ],
          [
           "Purple Gem Center"
          ],
          [
           "Purple Gem Center"
          ],
          [
           "Purple Gem Center"
          ],
          [
           "Purple Gem Center"
          ],
          [
           "Purple Gem Center"
          ],
          [
           "Purple Gem Center"
          ],
          [
           "Purple Gem Center"
          ],
          [
           "Purple Gem Center"
          ],
          [
           "Purple Gem Center"
          ],
          [
           "Purple Gem Center"
          ],
          [
           "Purple Gem Center"
          ],
          [
           "Purple Gem Center"
          ],
          [
           "Purple Gem Center"
          ],
          [
           "Purple Gem Center"
          ],
          [
           "Purple Gem Center"
          ],
          [
           "Purple Gem Center"
          ],
          [
           "Purple Gem Center"
          ],
          [
           "Purple Gem Center"
          ],
          [
           "Purple Gem Center"
          ],
          [
           "Purple Gem Center"
          ],
          [
           "Purple Gem Center"
          ],
          [
           "Purple Gem Center"
          ],
          [
           "Purple Gem Center"
          ],
          [
           "Purple Gem Center"
          ],
          [
           "Purple Gem Center"
          ],
          [
           "Purple Gem Center"
          ],
          [
           "Purple Gem Center"
          ],
          [
           "Purple Gem Center"
          ],
          [
           "Purple Gem Center"
          ],
          [
           "Purple Gem Center"
          ],
          [
           "Purple Gem Center"
          ],
          [
           "Purple Gem Center"
          ],
          [
           "Purple Gem Center"
          ],
          [
           "Purple Gem Center"
          ],
          [
           "Purple Gem Center"
          ],
          [
           "Purple Gem Center"
          ],
          [
           "Purple Gem Center"
          ],
          [
           "Purple Gem Center"
          ],
          [
           "Purple Gem Center"
          ],
          [
           "Purple Gem Center"
          ],
          [
           "Purple Gem Center"
          ],
          [
           "Purple Gem Center"
          ],
          [
           "Purple Gem Center"
          ],
          [
           "Purple Gem Center"
          ],
          [
           "Purple Gem Center"
          ],
          [
           "Purple Gem Center"
          ],
          [
           "Purple Gem Center"
          ],
          [
           "Purple Gem Center"
          ],
          [
           "Purple Gem Center"
          ],
          [
           "Purple Gem Center"
          ],
          [
           "Purple Gem Center"
          ],
          [
           "Purple Gem Center"
          ],
          [
           "Purple Gem Center"
          ],
          [
           "Purple Gem Center"
          ],
          [
           "Purple Gem Center"
          ],
          [
           "Purple Gem Center"
          ],
          [
           "Purple Gem Center"
          ],
          [
           "Purple Gem Center"
          ],
          [
           "Purple Gem Center"
          ],
          [
           "Purple Gem Center"
          ],
          [
           "Purple Gem Center"
          ],
          [
           "Purple Gem Center"
          ],
          [
           "Purple Gem Center"
          ],
          [
           "Purple Gem Center"
          ],
          [
           "Purple Gem Center"
          ],
          [
           "Purple Gem Center"
          ],
          [
           "Purple Gem Center"
          ],
          [
           "Purple Gem Center"
          ],
          [
           "Purple Gem Center"
          ],
          [
           "Purple Gem Center"
          ],
          [
           "Purple Gem Center"
          ],
          [
           "Purple Gem Center"
          ]
         ],
         "hovertemplate": "Description=%{customdata[0]}<br>TSNE-1=%{x}<br>TSNE-2=%{y}<extra></extra>",
         "legendgroup": "Purple Gem Center",
         "marker": {
          "color": "#00cc96",
          "opacity": 0.8,
          "size": 6,
          "symbol": "circle"
         },
         "mode": "markers",
         "name": "Purple Gem Center",
         "showlegend": true,
         "type": "scattergl",
         "x": {
          "bdata": "yGFmwpd0dMK3xYXCmc8mwthvZ8L4hXLCwu7jwUOGCsIztwnCBisXwmtLM8Lfdy7CO/ABwjtJCcK0uhXCS1Fjwvd1D8Iy4FbCh0kswoJndsJmnwTCYD8qwijSFcLudizCcvZxwp/oSMIDiBHCN8wHwiHWCMJRKAbCqlkCwh79E8IWik/Cyp07wmLyJ8LIGgTCft0Qwp3lK8Ji8W3CmjwWwrE8K8I5MhHCYnlpwr/hFsJysALCbUsxwuQSKcKfgBDCnxwGwq46QcK0ChbC6UBNwiXeB8IxhwrCp5IPwndyKsKJxGfCINNtwp1SUcL0bC3CNx0JwgsXB8JR8mrC3jgZwmXEZcK4AC7CKwIYwnZqKsIeaTDCF9IIwr0WCcK6tQvC2N5Bwmz6MMIGUAPC5U92wsHBEsI2/gPCvtMQwqFKaMJ6xWXC/o1IwtUmUcINYi3CrOskwiwaO8K2t3/CINcXwswjL8IHRUfCQY0MwhoKBMKNAjnCTkN2wo3JN8KQbQjCXu8DwrbOEMIIaoHC3GUvwu2UbcJ6+VDCSk1owo64NsK0IyDCX+ZqwqfD+8H7/zrCKmB0wh+0gMJCKirCMjofwoRAVcInvwLCmtzqwSxYFcKliWnCqzNMwu3AB8JgYCHC1T4Gwp4FGMJ+N2jCRTCFwph/a8LrUUjCCKl1wnCthcLacy3CdlYUwvDGGML7Z3/CDXszwtbfB8JwJFXCgEIwwtX3M8KzzynC4C52wgvpZ8JCfQPCAF4MwlWcP8I4XIHCzbVEwqyiUMKZVy3CmSoUwjOfGMKJQX/CS64rwo06A8JzCVXCBiMwws2iKMKObEvC3mAGwmHNBcJAkz/C8DyFwqFYG8KwWhDCrT1vwkCZBsKyUi7CeG1pwu87LcLVaS/C",
          "dtype": "f4"
         },
         "xaxis": "x",
         "y": {
          "bdata": "p+uWwTWpRsFy1FvBKCtzwSBoZcGTy3jB4K84wslNEcLmcMjBZKOGwcGADsIgAWjB+yRowcMaEcEyuQ7Cw8COwbFijMF34oLBIlQAwu6nbsEA8zbB2hDhwZnvisH0AGnBkyNxwbVTbcG89InBkZKSwQp+G8Hv/B3BCFEuwfpnB8LqkGnBCqdWwQgCa8GJgy7BiRQdwRa/BcLyt3bBIn6Gwfty1sHjbRXBb2xcwUnhhsH8iYnB4NZ0wd6aYcHpVB/Bs1EewVToRcGyJQnC6MN5wWGkPMFWNpPB+nVewbp37MG/ZYvBh7h2wQYXecGe4JHBlkNkwfsCMsF/V4fBVbRiwfNFZMFt78zB5FNAwTJsd8HLLXDBMN8fwUDCGMFWTwzB0chJwfZ8AcIsNQ/C1ShLwdX7i8HwnS/Bx1YdwfRYnsFXCJzB2USNwS0hecGRF8nBJvSJwQHbUMFcgG/BlM1AwTTaa8EnfVLB/6IewdVdLsHokN/ByR9LwbCbWcFHMZTB7iYwwaZ4HcEOSGfBVImGwcGzdsFTKnnBjmKdwRXl38GdEZDBPFyHwUuMB8F86lDBqPRFwY4kcMEPXm3Beg6UwUughMFjIyjB31cwwsdGBsIVtJfBvod7wZ4vPcHMvHHBoNotwWKlPMGEVp7BwCNWwexposGRyo3B1SVGwfCXXMFejgjC0x2IwQbbZcEfkm/B5IBqwe4WcsFVnoTB0IEEwozQ28E3q9XBJAFLwTR+bsHO8kDBgls4wf8T4cFhCWfBbJB/weQ3ecGxjAjCkE+IwQnFZsHgl2/BGCKGwTzQV8HqnITBge34wQnD38FNfXzBsbAfwV18LsFWD+HBj7NVwQ+cUMHBMyDBznhmwbbDcsEcV4DBGqpTwYaLCMIhLADC",
          "dtype": "f4"
         },
         "yaxis": "y"
        },
        {
         "customdata": [
          [
           "Green Gem North East"
          ],
          [
           "Green Gem North East"
          ],
          [
           "Green Gem North East"
          ],
          [
           "Green Gem North East"
          ],
          [
           "Green Gem North East"
          ],
          [
           "Green Gem North East"
          ],
          [
           "Green Gem North East"
          ],
          [
           "Green Gem North East"
          ],
          [
           "Green Gem North East"
          ],
          [
           "Green Gem North East"
          ],
          [
           "Green Gem North East"
          ],
          [
           "Green Gem North East"
          ],
          [
           "Green Gem North East"
          ],
          [
           "Green Gem North East"
          ],
          [
           "Green Gem North East"
          ],
          [
           "Green Gem North East"
          ],
          [
           "Green Gem North East"
          ],
          [
           "Green Gem North East"
          ],
          [
           "Green Gem North East"
          ],
          [
           "Green Gem North East"
          ],
          [
           "Green Gem North East"
          ],
          [
           "Green Gem North East"
          ],
          [
           "Green Gem North East"
          ],
          [
           "Green Gem North East"
          ],
          [
           "Green Gem North East"
          ],
          [
           "Green Gem North East"
          ],
          [
           "Green Gem North East"
          ],
          [
           "Green Gem North East"
          ],
          [
           "Green Gem North East"
          ],
          [
           "Green Gem North East"
          ],
          [
           "Green Gem North East"
          ],
          [
           "Green Gem North East"
          ],
          [
           "Green Gem North East"
          ],
          [
           "Green Gem North East"
          ],
          [
           "Green Gem North East"
          ],
          [
           "Green Gem North East"
          ],
          [
           "Green Gem North East"
          ],
          [
           "Green Gem North East"
          ],
          [
           "Green Gem North East"
          ],
          [
           "Green Gem North East"
          ],
          [
           "Green Gem North East"
          ],
          [
           "Green Gem North East"
          ],
          [
           "Green Gem North East"
          ],
          [
           "Green Gem North East"
          ],
          [
           "Green Gem North East"
          ],
          [
           "Green Gem North East"
          ],
          [
           "Green Gem North East"
          ],
          [
           "Green Gem North East"
          ],
          [
           "Green Gem North East"
          ],
          [
           "Green Gem North East"
          ],
          [
           "Green Gem North East"
          ],
          [
           "Green Gem North East"
          ],
          [
           "Green Gem North East"
          ],
          [
           "Green Gem North East"
          ],
          [
           "Green Gem North East"
          ],
          [
           "Green Gem North East"
          ],
          [
           "Green Gem North East"
          ],
          [
           "Green Gem North East"
          ],
          [
           "Green Gem North East"
          ],
          [
           "Green Gem North East"
          ],
          [
           "Green Gem North East"
          ],
          [
           "Green Gem North East"
          ],
          [
           "Green Gem North East"
          ],
          [
           "Green Gem North East"
          ],
          [
           "Green Gem North East"
          ],
          [
           "Green Gem North East"
          ],
          [
           "Green Gem North East"
          ],
          [
           "Green Gem North East"
          ],
          [
           "Green Gem North East"
          ],
          [
           "Green Gem North East"
          ],
          [
           "Green Gem North East"
          ],
          [
           "Green Gem North East"
          ],
          [
           "Green Gem North East"
          ],
          [
           "Green Gem North East"
          ],
          [
           "Green Gem North East"
          ],
          [
           "Green Gem North East"
          ],
          [
           "Green Gem North East"
          ],
          [
           "Green Gem North East"
          ],
          [
           "Green Gem North East"
          ],
          [
           "Green Gem North East"
          ],
          [
           "Green Gem North East"
          ],
          [
           "Green Gem North East"
          ],
          [
           "Green Gem North East"
          ],
          [
           "Green Gem North East"
          ],
          [
           "Green Gem North East"
          ]
         ],
         "hovertemplate": "Description=%{customdata[0]}<br>TSNE-1=%{x}<br>TSNE-2=%{y}<extra></extra>",
         "legendgroup": "Green Gem North East",
         "marker": {
          "color": "#ab63fa",
          "opacity": 0.8,
          "size": 6,
          "symbol": "circle"
         },
         "mode": "markers",
         "name": "Green Gem North East",
         "showlegend": true,
         "type": "scattergl",
         "x": {
          "bdata": "t7hoQuMGZEK5fWZCHwlUQkMNTkJtQSFCZKEnQnn9bkJoEWJCNGhiQh/yZEJ891RCZglUQkgGTkKyIgRCzzZRQrmBXkK6qWhCzgprQpCbZUInA05CMxAEQjheSkK2CWJCFKNoQuIJa0LD9VRCmQVOQl75A0Iwll5C9+tQQp1nZEK9wkhCtCRmQoTMYkJm02FCS0ZmQrWi/UHi/GNCLSxOQpI4V0J5EmJChNgWQjrNUELfGFJCnqNqQiEFZkJbUWJCRtdqQuwFa0I2nWdCOfRUQvjuUkLAe09CPj1XQqoQYkI/mBZCl3YlQje0SEIs0WFCgKRnQrtbWEKSSU9CTEZXQjpZFkLC9iRCbv0hQgmrSEINqmpCQY9bQoElZkL8t2FCiNkYQv7VYUIVmmdCdyBPQl2qA0LrGxZCtZ9QQrJRaUKLoUhCwJFbQhkRc0IhlGdC0PZOQg==",
          "dtype": "f4"
         },
         "xaxis": "x",
         "y": {
          "bdata": "1m40QHDoLb9gKhm+jK2dwAXmWcE9EKDAiI2FwJbVxcEMSvjAQXaQwP9Zvr+wUgrBDyGdwDqnWMEhmmvAYmaHwffSg8HO2zZAAoV5QPbTNr9wbVfBKPRqwCYGq8EcRPbAsy44QLIke0BiKQnBQolVwc2WasDActnBuJSFwfjL4sEnue7BdO8bP8XkwkBkYpHBJDc2Pu3JGMBYgJu/G21TwXjdl8E92uLBRCWGwH+rhMEyMf3Bt3tJQMH948GE8ZXBEFyEQMhhfkAeAKzBPQQIwRyhk8AX6VHBy3aXwbqi4sFhvYXAE5CGwIDg7cHS/AfB66GrwTxw0sDysVDBIBWXwYUjhcDoA4fANa2hwIFx7cFe50tARXWNwb3s4sFSIgjBMhGSwCYu2MH6AY1AdadPweg0aMAhdITAupeBwSBiLsHWAe3BWwqNwYA16cG5/4xAarpOwQ==",
          "dtype": "f4"
         },
         "yaxis": "y"
        },
        {
         "customdata": [
          [
           "Danger North West"
          ],
          [
           "Danger North West"
          ],
          [
           "Danger North West"
          ],
          [
           "Danger North West"
          ],
          [
           "Danger North West"
          ],
          [
           "Danger North West"
          ],
          [
           "Danger North West"
          ],
          [
           "Danger North West"
          ],
          [
           "Danger North West"
          ],
          [
           "Danger North West"
          ],
          [
           "Danger North West"
          ],
          [
           "Danger North West"
          ],
          [
           "Danger North West"
          ],
          [
           "Danger North West"
          ],
          [
           "Danger North West"
          ],
          [
           "Danger North West"
          ],
          [
           "Danger North West"
          ],
          [
           "Danger North West"
          ],
          [
           "Danger North West"
          ],
          [
           "Danger North West"
          ],
          [
           "Danger North West"
          ],
          [
           "Danger North West"
          ],
          [
           "Danger North West"
          ],
          [
           "Danger North West"
          ],
          [
           "Danger North West"
          ],
          [
           "Danger North West"
          ],
          [
           "Danger North West"
          ],
          [
           "Danger North West"
          ],
          [
           "Danger North West"
          ],
          [
           "Danger North West"
          ],
          [
           "Danger North West"
          ],
          [
           "Danger North West"
          ],
          [
           "Danger North West"
          ],
          [
           "Danger North West"
          ],
          [
           "Danger North West"
          ],
          [
           "Danger North West"
          ],
          [
           "Danger North West"
          ],
          [
           "Danger North West"
          ],
          [
           "Danger North West"
          ],
          [
           "Danger North West"
          ],
          [
           "Danger North West"
          ],
          [
           "Danger North West"
          ],
          [
           "Danger North West"
          ],
          [
           "Danger North West"
          ],
          [
           "Danger North West"
          ],
          [
           "Danger North West"
          ],
          [
           "Danger North West"
          ],
          [
           "Danger North West"
          ],
          [
           "Danger North West"
          ],
          [
           "Danger North West"
          ],
          [
           "Danger North West"
          ],
          [
           "Danger North West"
          ],
          [
           "Danger North West"
          ],
          [
           "Danger North West"
          ],
          [
           "Danger North West"
          ],
          [
           "Danger North West"
          ],
          [
           "Danger North West"
          ]
         ],
         "hovertemplate": "Description=%{customdata[0]}<br>TSNE-1=%{x}<br>TSNE-2=%{y}<extra></extra>",
         "legendgroup": "Danger North West",
         "marker": {
          "color": "#FFA15A",
          "opacity": 0.8,
          "size": 6,
          "symbol": "circle"
         },
         "mode": "markers",
         "name": "Danger North West",
         "showlegend": true,
         "type": "scattergl",
         "x": {
          "bdata": "xoETwiZ2GMI0ve3BPMkMwkJtAcKj9RnCVLIIwnL0CMIngxfCDu4ZwlGTDMLtyffBxSMGwkVFAcKBHg3CnXsXwivcDMJAWAzC4LL3wY0cAcLoONnBzHUMwsC9A8JyuerBLM8Dwgd89MFxLt/BRgPZwQPcGcJdoPDBBpjqwZC+A8IAMfTBJDH0wYfkA8JutAvCvlX8wWyS9cHSAN/BfqX+wX6l/sH6xQjCYHcLwuW3CMJ7jdjBMPIawrUI2MGgEQbCspnzwS/HIML9TAvCu2vYweVg2cEbyNvBiMYgwpurCMLBvAPC",
          "dtype": "f4"
         },
         "xaxis": "x",
         "y": {
          "bdata": "r7Y/QukCTUKW7VVCF2g+QhzlXULD5kJC7hFHQlHyQUIr2VBCX+ZBQt13PkLduVJCLiU9Qsb9XUL2PDxCQOxQQlktPELBgD5C9MJSQhsWXkJhxW5Cxh88Qk56NkIT42lCbHpJQvQkVUKg42VCN6FuQp3lQUJ+MVlC/fJpQtaLSUJdTVVCZU1VQsTgOEKWLDxC3JFXQliBVUKbD2hCJtNeQibTXkKZGUJC518+QoUfQkI/dW5CebhEQirycEK1Nz1Cv55VQhDDQkJmXT5C9nBuQjiKaUJwhWlCOMNCQq8kQkJFjDZC",
          "dtype": "f4"
         },
         "yaxis": "y"
        },
        {
         "customdata": [
          [
           "Green Gem North West"
          ],
          [
           "Green Gem North West"
          ],
          [
           "Green Gem North West"
          ],
          [
           "Green Gem North West"
          ],
          [
           "Green Gem North West"
          ],
          [
           "Green Gem North West"
          ],
          [
           "Green Gem North West"
          ],
          [
           "Green Gem North West"
          ],
          [
           "Green Gem North West"
          ],
          [
           "Green Gem North West"
          ],
          [
           "Green Gem North West"
          ],
          [
           "Green Gem North West"
          ],
          [
           "Green Gem North West"
          ],
          [
           "Green Gem North West"
          ],
          [
           "Green Gem North West"
          ],
          [
           "Green Gem North West"
          ],
          [
           "Green Gem North West"
          ],
          [
           "Green Gem North West"
          ],
          [
           "Green Gem North West"
          ],
          [
           "Green Gem North West"
          ],
          [
           "Green Gem North West"
          ],
          [
           "Green Gem North West"
          ],
          [
           "Green Gem North West"
          ],
          [
           "Green Gem North West"
          ],
          [
           "Green Gem North West"
          ],
          [
           "Green Gem North West"
          ],
          [
           "Green Gem North West"
          ],
          [
           "Green Gem North West"
          ],
          [
           "Green Gem North West"
          ],
          [
           "Green Gem North West"
          ],
          [
           "Green Gem North West"
          ],
          [
           "Green Gem North West"
          ],
          [
           "Green Gem North West"
          ],
          [
           "Green Gem North West"
          ],
          [
           "Green Gem North West"
          ],
          [
           "Green Gem North West"
          ],
          [
           "Green Gem North West"
          ],
          [
           "Green Gem North West"
          ],
          [
           "Green Gem North West"
          ],
          [
           "Green Gem North West"
          ],
          [
           "Green Gem North West"
          ],
          [
           "Green Gem North West"
          ],
          [
           "Green Gem North West"
          ],
          [
           "Green Gem North West"
          ],
          [
           "Green Gem North West"
          ],
          [
           "Green Gem North West"
          ],
          [
           "Green Gem North West"
          ],
          [
           "Green Gem North West"
          ],
          [
           "Green Gem North West"
          ],
          [
           "Green Gem North West"
          ],
          [
           "Green Gem North West"
          ],
          [
           "Green Gem North West"
          ],
          [
           "Green Gem North West"
          ],
          [
           "Green Gem North West"
          ],
          [
           "Green Gem North West"
          ],
          [
           "Green Gem North West"
          ],
          [
           "Green Gem North West"
          ],
          [
           "Green Gem North West"
          ],
          [
           "Green Gem North West"
          ],
          [
           "Green Gem North West"
          ],
          [
           "Green Gem North West"
          ],
          [
           "Green Gem North West"
          ],
          [
           "Green Gem North West"
          ],
          [
           "Green Gem North West"
          ],
          [
           "Green Gem North West"
          ],
          [
           "Green Gem North West"
          ],
          [
           "Green Gem North West"
          ],
          [
           "Green Gem North West"
          ],
          [
           "Green Gem North West"
          ],
          [
           "Green Gem North West"
          ],
          [
           "Green Gem North West"
          ],
          [
           "Green Gem North West"
          ],
          [
           "Green Gem North West"
          ],
          [
           "Green Gem North West"
          ],
          [
           "Green Gem North West"
          ],
          [
           "Green Gem North West"
          ],
          [
           "Green Gem North West"
          ],
          [
           "Green Gem North West"
          ],
          [
           "Green Gem North West"
          ],
          [
           "Green Gem North West"
          ],
          [
           "Green Gem North West"
          ],
          [
           "Green Gem North West"
          ],
          [
           "Green Gem North West"
          ],
          [
           "Green Gem North West"
          ],
          [
           "Green Gem North West"
          ],
          [
           "Green Gem North West"
          ],
          [
           "Green Gem North West"
          ],
          [
           "Green Gem North West"
          ],
          [
           "Green Gem North West"
          ],
          [
           "Green Gem North West"
          ],
          [
           "Green Gem North West"
          ],
          [
           "Green Gem North West"
          ],
          [
           "Green Gem North West"
          ],
          [
           "Green Gem North West"
          ],
          [
           "Green Gem North West"
          ],
          [
           "Green Gem North West"
          ],
          [
           "Green Gem North West"
          ],
          [
           "Green Gem North West"
          ],
          [
           "Green Gem North West"
          ],
          [
           "Green Gem North West"
          ],
          [
           "Green Gem North West"
          ],
          [
           "Green Gem North West"
          ],
          [
           "Green Gem North West"
          ],
          [
           "Green Gem North West"
          ],
          [
           "Green Gem North West"
          ],
          [
           "Green Gem North West"
          ],
          [
           "Green Gem North West"
          ],
          [
           "Green Gem North West"
          ],
          [
           "Green Gem North West"
          ],
          [
           "Green Gem North West"
          ],
          [
           "Green Gem North West"
          ],
          [
           "Green Gem North West"
          ],
          [
           "Green Gem North West"
          ],
          [
           "Green Gem North West"
          ],
          [
           "Green Gem North West"
          ],
          [
           "Green Gem North West"
          ],
          [
           "Green Gem North West"
          ],
          [
           "Green Gem North West"
          ],
          [
           "Green Gem North West"
          ],
          [
           "Green Gem North West"
          ],
          [
           "Green Gem North West"
          ],
          [
           "Green Gem North West"
          ],
          [
           "Green Gem North West"
          ],
          [
           "Green Gem North West"
          ],
          [
           "Green Gem North West"
          ],
          [
           "Green Gem North West"
          ],
          [
           "Green Gem North West"
          ],
          [
           "Green Gem North West"
          ],
          [
           "Green Gem North West"
          ],
          [
           "Green Gem North West"
          ],
          [
           "Green Gem North West"
          ],
          [
           "Green Gem North West"
          ],
          [
           "Green Gem North West"
          ],
          [
           "Green Gem North West"
          ],
          [
           "Green Gem North West"
          ],
          [
           "Green Gem North West"
          ],
          [
           "Green Gem North West"
          ],
          [
           "Green Gem North West"
          ],
          [
           "Green Gem North West"
          ],
          [
           "Green Gem North West"
          ],
          [
           "Green Gem North West"
          ],
          [
           "Green Gem North West"
          ],
          [
           "Green Gem North West"
          ],
          [
           "Green Gem North West"
          ],
          [
           "Green Gem North West"
          ],
          [
           "Green Gem North West"
          ],
          [
           "Green Gem North West"
          ],
          [
           "Green Gem North West"
          ],
          [
           "Green Gem North West"
          ],
          [
           "Green Gem North West"
          ],
          [
           "Green Gem North West"
          ],
          [
           "Green Gem North West"
          ],
          [
           "Green Gem North West"
          ],
          [
           "Green Gem North West"
          ],
          [
           "Green Gem North West"
          ],
          [
           "Green Gem North West"
          ],
          [
           "Green Gem North West"
          ],
          [
           "Green Gem North West"
          ],
          [
           "Green Gem North West"
          ]
         ],
         "hovertemplate": "Description=%{customdata[0]}<br>TSNE-1=%{x}<br>TSNE-2=%{y}<extra></extra>",
         "legendgroup": "Green Gem North West",
         "marker": {
          "color": "#19d3f3",
          "opacity": 0.8,
          "size": 6,
          "symbol": "circle"
         },
         "mode": "markers",
         "name": "Green Gem North West",
         "showlegend": true,
         "type": "scattergl",
         "x": {
          "bdata": "CjybwQXYYcFgZBfBpjYIwerXV8C4GBs93+HfwUD1dMCCFnPBacN3wQsvCsKD24vBlaf0wWV57z/rUFfB6DscP3rk+MAjCL3BAe+2wYPajMF0nLjBef6awWuijsH8I9jAFll1PolnbsHuK1bASDZMweRWj8B+/uvBTQMfvobckMHpLwrCbb+0wQOowcHvPvfBxONWwaA3XMHup2LBBQWNwcfyd8GdjJfBGY+OwRCN+sAw9oI+cpugwX8ogcANY27B1cFcwcdlDcEMFuzBpetqwOiUkMFPQ/HBOXTnwR7S8z+ffFbBPITfwCgsjMFAKI3BSWJswR9Jk8E4E+nAl36OwU8IIMAZDIrBfJqBwAmDXMFAsHbBidNYQFxPkMFMEpfBU6UFwgcL9j8vPN/Apy2fwbrXi8F2gqPB/cmOwc18wsFcOALBBg7pwbGMH8C9K4zBz2orwP/gUMDEpfbAYILHwTB9WkAF2GLAfpy2wRpNl8GGZwXCZbSowUZH+D8XkovB8KNswTaQwsFuC5fBYXqswcu9e8BU7i3BWlDqwVCBnD54VWvBOutLwTSyeEA2Mc1AK/tfwOQF4sEhnerBXEN1QBdo98HIXYvBzv6OwW+SIcAWRobAut6WwcJgrMGA43jAHvgtwZHpq8FkeBfB6UFrwfdGeECNQM1AGt3kvXoi4sFntfDBiVbywF3zScEghL7B/FYhwGzqhMDkSpnB5LIHwhRArMGB7+HBUxrqwdF6F8FwTkvAZZi6wb4M073BQOLBDSAuQC2PScEpmcPBFdyYwU9HvD54L47ASbqJwXVU6cHLIazBEg+4PlOgScA91vTA9FdsPyYnjcH9WyBA",
          "dtype": "f4"
         },
         "xaxis": "x",
         "y": {
          "bdata": "xZeyQTCKx0DOoGVAz0LAQKf5oEF5+z1BrTgLQRICl0FCeO9AwtuSQLd6EEFbJuxBJcAKQaxArUF0HjlBXJeSQbtlUUHrh31BsspVQf/ap0DiUYRByI6yQfrVz0DHPW5BCk+EQXmeZ0FaAaFBhkKpQV8MV0GA7ktBp9aOQXDlr0FpihBBSlllQY88B0EDORJBQoM5QanehkHiEslA37inQNYpgEHkcldBohPPQLk+UEGdTYRBGDe7QQxDVkH6IGdB2o2IQRs4wECGXUpBGFmXQXG/r0FMhzVBGAEbQWS9rEHU+jlBJKKCQW8+w0DViadAoONdQcMP3UFd8J1B1W/OQMbQpkG6z7ZA3xZWQRe9iEFnct1AqdRJQUmbr0FE8KtBzZjjQCJ5rEFXgIJB62e1QSYRwkB31upBnIzeQUMGgkGuEKZBORphQQxCkEFCDK1BKYemQakXoUGPlJ1BSk0SQTwySkH+rZdBELJXQV7nqkGzGAdBynDeQYszrEEn4MBA4WBfQfgDgkE25VZBSh0IQdUimUGsnLFBTmJlQY9GhEEgAVhBASGqQXMlgkGCuStCz9iXQbD7B0EH8CJBBvCBQdNpEkGRqL9AzsbeQdNHSEHXRKFBTrNWQUqCB0GRNJlBXtCxQUL8C0EuG2VAeoJYQRNygkGwritCSQaPQYEhCEHzaRNBvsJSQZAxQkFIh4dBu19IQXU1oUGTTLJByPT3QNXnBkGEUBBB6ERlQakJZUDkGKFBdb5uQREQj0EcSAhBV4J3QU7XQUH+WvlAaazuQRPiiEHdRZVBIIfIQUtGY0E5VQZBsEKEQRseoUEKAJ5BjpSdQSJW20EB3IBB",
          "dtype": "f4"
         },
         "yaxis": "y"
        },
        {
         "customdata": [
          [
           "Purple Gem North East"
          ],
          [
           "Purple Gem North East"
          ],
          [
           "Purple Gem North East"
          ],
          [
           "Purple Gem North East"
          ],
          [
           "Purple Gem North East"
          ],
          [
           "Purple Gem North East"
          ],
          [
           "Purple Gem North East"
          ],
          [
           "Purple Gem North East"
          ],
          [
           "Purple Gem North East"
          ],
          [
           "Purple Gem North East"
          ],
          [
           "Purple Gem North East"
          ],
          [
           "Purple Gem North East"
          ],
          [
           "Purple Gem North East"
          ],
          [
           "Purple Gem North East"
          ],
          [
           "Purple Gem North East"
          ],
          [
           "Purple Gem North East"
          ],
          [
           "Purple Gem North East"
          ],
          [
           "Purple Gem North East"
          ],
          [
           "Purple Gem North East"
          ],
          [
           "Purple Gem North East"
          ],
          [
           "Purple Gem North East"
          ],
          [
           "Purple Gem North East"
          ],
          [
           "Purple Gem North East"
          ],
          [
           "Purple Gem North East"
          ],
          [
           "Purple Gem North East"
          ],
          [
           "Purple Gem North East"
          ],
          [
           "Purple Gem North East"
          ],
          [
           "Purple Gem North East"
          ],
          [
           "Purple Gem North East"
          ],
          [
           "Purple Gem North East"
          ],
          [
           "Purple Gem North East"
          ],
          [
           "Purple Gem North East"
          ],
          [
           "Purple Gem North East"
          ]
         ],
         "hovertemplate": "Description=%{customdata[0]}<br>TSNE-1=%{x}<br>TSNE-2=%{y}<extra></extra>",
         "legendgroup": "Purple Gem North East",
         "marker": {
          "color": "#FF6692",
          "opacity": 0.8,
          "size": 6,
          "symbol": "circle"
         },
         "mode": "markers",
         "name": "Purple Gem North East",
         "showlegend": true,
         "type": "scattergl",
         "x": {
          "bdata": "SkDZwas2BsLaCezBhTkXwiEq78E9kgHCcYkPwtWpJMIY0eTBUtD8wVqQBML+hrbBcEnlwXkv8MGVhQTCcJ3Awb1eLsLKfgTCGPa6wS/0HsJ8M/HBQ2Xxwe31usGC4h7CA9XbwSlQ8cF497rBBNAewhVQ3MFwfwvChY0wwgjC3MH80x/C",
          "dtype": "f4"
         },
         "xaxis": "x",
         "y": {
          "bdata": "HuE4wlPeFcJQdCzCybUIwqXJMMLyAxvCmmMUwrUVAMJ6ejLCMsUgwpbdE8LJukPCtksywimoMMIO3hPCmg5CwnMyBcIB3hPCFytHwqTVEcKVijDCkjEYwhIiR8LC3BHCXtE3wsIwGMKNFUfCtOMRwmeON8IPSBLC5QoLwlRKN8J2oRvC",
          "dtype": "f4"
         },
         "yaxis": "y"
        },
        {
         "customdata": [
          [
           "Purple Gem South West"
          ],
          [
           "Purple Gem South West"
          ],
          [
           "Purple Gem South West"
          ],
          [
           "Purple Gem South West"
          ],
          [
           "Purple Gem South West"
          ],
          [
           "Purple Gem South West"
          ],
          [
           "Purple Gem South West"
          ],
          [
           "Purple Gem South West"
          ],
          [
           "Purple Gem South West"
          ],
          [
           "Purple Gem South West"
          ],
          [
           "Purple Gem South West"
          ],
          [
           "Purple Gem South West"
          ],
          [
           "Purple Gem South West"
          ],
          [
           "Purple Gem South West"
          ],
          [
           "Purple Gem South West"
          ],
          [
           "Purple Gem South West"
          ],
          [
           "Purple Gem South West"
          ],
          [
           "Purple Gem South West"
          ],
          [
           "Purple Gem South West"
          ],
          [
           "Purple Gem South West"
          ],
          [
           "Purple Gem South West"
          ],
          [
           "Purple Gem South West"
          ],
          [
           "Purple Gem South West"
          ],
          [
           "Purple Gem South West"
          ],
          [
           "Purple Gem South West"
          ],
          [
           "Purple Gem South West"
          ],
          [
           "Purple Gem South West"
          ],
          [
           "Purple Gem South West"
          ],
          [
           "Purple Gem South West"
          ],
          [
           "Purple Gem South West"
          ],
          [
           "Purple Gem South West"
          ],
          [
           "Purple Gem South West"
          ],
          [
           "Purple Gem South West"
          ],
          [
           "Purple Gem South West"
          ],
          [
           "Purple Gem South West"
          ],
          [
           "Purple Gem South West"
          ],
          [
           "Purple Gem South West"
          ],
          [
           "Purple Gem South West"
          ],
          [
           "Purple Gem South West"
          ],
          [
           "Purple Gem South West"
          ],
          [
           "Purple Gem South West"
          ],
          [
           "Purple Gem South West"
          ],
          [
           "Purple Gem South West"
          ],
          [
           "Purple Gem South West"
          ],
          [
           "Purple Gem South West"
          ],
          [
           "Purple Gem South West"
          ],
          [
           "Purple Gem South West"
          ],
          [
           "Purple Gem South West"
          ],
          [
           "Purple Gem South West"
          ],
          [
           "Purple Gem South West"
          ],
          [
           "Purple Gem South West"
          ],
          [
           "Purple Gem South West"
          ],
          [
           "Purple Gem South West"
          ],
          [
           "Purple Gem South West"
          ],
          [
           "Purple Gem South West"
          ],
          [
           "Purple Gem South West"
          ],
          [
           "Purple Gem South West"
          ],
          [
           "Purple Gem South West"
          ],
          [
           "Purple Gem South West"
          ],
          [
           "Purple Gem South West"
          ],
          [
           "Purple Gem South West"
          ],
          [
           "Purple Gem South West"
          ],
          [
           "Purple Gem South West"
          ],
          [
           "Purple Gem South West"
          ],
          [
           "Purple Gem South West"
          ],
          [
           "Purple Gem South West"
          ],
          [
           "Purple Gem South West"
          ],
          [
           "Purple Gem South West"
          ],
          [
           "Purple Gem South West"
          ],
          [
           "Purple Gem South West"
          ],
          [
           "Purple Gem South West"
          ],
          [
           "Purple Gem South West"
          ],
          [
           "Purple Gem South West"
          ]
         ],
         "hovertemplate": "Description=%{customdata[0]}<br>TSNE-1=%{x}<br>TSNE-2=%{y}<extra></extra>",
         "legendgroup": "Purple Gem South West",
         "marker": {
          "color": "#B6E880",
          "opacity": 0.8,
          "size": 6,
          "symbol": "circle"
         },
         "mode": "markers",
         "name": "Purple Gem South West",
         "showlegend": true,
         "type": "scattergl",
         "x": {
          "bdata": "N9Frwn78bcItf4DCbhlowuZuZcILGWTCOEVawhxObsJCNmnCdz5qwqa2a8IaYmzC9cl6wjoYaMIi22zChLJjwkZfXMKvnlXClT1twmcKacLjK2rCNh9RwvPOasL1D3/CExdowhd4ecJNHGnCsjtvwizuZMI9+mbCcuFowtgTasLrfoPC1dBmwrcVaMIWsW7CUqxqwoznbMKWvEvCC2dzwvwfWcKE+mvClBRowjPraMKBD1jCGKNWwhSyZsL+U4LCnKF6wmpNU8I762jCHptlwokqZ8JrbmrC2gZswqGibMJbiWbC8EF4wuH4dMKeKWfCiVtqwsqmdsKdC3/CfFtmwrxwbcJVEVPC8j1XwmE2V8I0EWjCdbRowoS7Z8Lke2nCdfNSwg==",
          "dtype": "f4"
         },
         "xaxis": "x",
         "y": {
          "bdata": "fhBXQR8jREHl7jFBcJ+dQKYhq0HwM6RBwQWsQeTX70B9I61BY9xvQdCmV0G1IyVBwkpKQZLVnUATM6tBX5qiQQqUnkHAyrVBlKQGQbBHrUGFnXBB0IbOQbNNYEFL2UxBRgyeQJS3G0GvsIBBK7hFQeGwfEGE6qhB0WytQShQcUHyUkxBOdmvQSxGnkC6aO1AR57pQKOnRUFY2M1BL9Q2QWzdsEFjLaxBIX6eQLtveEFGp7RBl7myQeLEqUFFDj5BflZLQeWLvEGQcHhBNUy0QTM8mECRDGJBLzZ9QW4Os0EcRapB+idWQVcSRUExLphAHZFiQTGGSkFGLElBr8SqQVoHVUH4v7xBb5GxQQiQskHCJ59AaMp5QRI3XkHBIXVBdtm8QQ==",
          "dtype": "f4"
         },
         "yaxis": "y"
        },
        {
         "customdata": [
          [
           "Danger West"
          ],
          [
           "Danger West"
          ],
          [
           "Danger West"
          ],
          [
           "Danger West"
          ],
          [
           "Danger West"
          ],
          [
           "Danger West"
          ],
          [
           "Danger West"
          ],
          [
           "Danger West"
          ],
          [
           "Danger West"
          ],
          [
           "Danger West"
          ],
          [
           "Danger West"
          ],
          [
           "Danger West"
          ],
          [
           "Danger West"
          ],
          [
           "Danger West"
          ],
          [
           "Danger West"
          ],
          [
           "Danger West"
          ],
          [
           "Danger West"
          ],
          [
           "Danger West"
          ],
          [
           "Danger West"
          ],
          [
           "Danger West"
          ],
          [
           "Danger West"
          ],
          [
           "Danger West"
          ],
          [
           "Danger West"
          ],
          [
           "Danger West"
          ],
          [
           "Danger West"
          ],
          [
           "Danger West"
          ],
          [
           "Danger West"
          ],
          [
           "Danger West"
          ],
          [
           "Danger West"
          ],
          [
           "Danger West"
          ],
          [
           "Danger West"
          ],
          [
           "Danger West"
          ],
          [
           "Danger West"
          ],
          [
           "Danger West"
          ],
          [
           "Danger West"
          ],
          [
           "Danger West"
          ],
          [
           "Danger West"
          ],
          [
           "Danger West"
          ],
          [
           "Danger West"
          ],
          [
           "Danger West"
          ],
          [
           "Danger West"
          ],
          [
           "Danger West"
          ],
          [
           "Danger West"
          ],
          [
           "Danger West"
          ],
          [
           "Danger West"
          ],
          [
           "Danger West"
          ],
          [
           "Danger West"
          ],
          [
           "Danger West"
          ]
         ],
         "hovertemplate": "Description=%{customdata[0]}<br>TSNE-1=%{x}<br>TSNE-2=%{y}<extra></extra>",
         "legendgroup": "Danger West",
         "marker": {
          "color": "#FF97FF",
          "opacity": 0.8,
          "size": 6,
          "symbol": "circle"
         },
         "mode": "markers",
         "name": "Danger West",
         "showlegend": true,
         "type": "scattergl",
         "x": {
          "bdata": "aKMJwipvAsLIPwXC6cgRwrad98FZvvHBHhUMwp2cGsJQNgLC+X4Iwn4MAsKDQPjBwFUZwpe3EcLnGgLC92IIwvc0FcJL+SLCbukZwkeHC8LSH97B43jhwbbQAcKYIArCIKnwweHGHMJwuBPCdpkEwtP4IsJmoxHClioIwu9oBMJEBgrCNV3Wwchp1sHEoRPC2bTxweW3C8Ikm+TBcFMOwksnE8Iq0wPC5oD9wdywEsImqNnBMNMDwsRaEcJxVxnC",
          "dtype": "f4"
         },
         "xaxis": "x",
         "y": {
          "bdata": "TaFCQkMvVUIg4UhC/5JDQqx/W0IiCVdCa99MQi5MQkL8hVxCN2BbQm1sVULE61pCNbRBQo+ZQ0I0pVxCA3lbQnxST0KrGUBCR4BMQvIaTUKrvWpC2EVvQh7LSkIxx1FCvwZYQmRTSUKgeD9CoGhJQmsaQELpoENCgqBbQkWWRkJg6FFCfxBxQk1Wb0Lobz9Ct1VXQlx8PEKBfG1CZWs+QpqOUkLdJDZCYxpRQtqsUkKwYmpCASk2QpO1Q0LUzk9C",
          "dtype": "f4"
         },
         "yaxis": "y"
        },
        {
         "customdata": [
          [
           "Danger North"
          ],
          [
           "Danger North"
          ],
          [
           "Danger North"
          ],
          [
           "Danger North"
          ],
          [
           "Danger North"
          ],
          [
           "Danger North"
          ],
          [
           "Danger North"
          ],
          [
           "Danger North"
          ],
          [
           "Danger North"
          ],
          [
           "Danger North"
          ],
          [
           "Danger North"
          ],
          [
           "Danger North"
          ],
          [
           "Danger North"
          ],
          [
           "Danger North"
          ],
          [
           "Danger North"
          ],
          [
           "Danger North"
          ],
          [
           "Danger North"
          ],
          [
           "Danger North"
          ],
          [
           "Danger North"
          ],
          [
           "Danger North"
          ],
          [
           "Danger North"
          ],
          [
           "Danger North"
          ],
          [
           "Danger North"
          ],
          [
           "Danger North"
          ],
          [
           "Danger North"
          ],
          [
           "Danger North"
          ],
          [
           "Danger North"
          ],
          [
           "Danger North"
          ],
          [
           "Danger North"
          ],
          [
           "Danger North"
          ],
          [
           "Danger North"
          ],
          [
           "Danger North"
          ],
          [
           "Danger North"
          ]
         ],
         "hovertemplate": "Description=%{customdata[0]}<br>TSNE-1=%{x}<br>TSNE-2=%{y}<extra></extra>",
         "legendgroup": "Danger North",
         "marker": {
          "color": "#FECB52",
          "opacity": 0.8,
          "size": 6,
          "symbol": "circle"
         },
         "mode": "markers",
         "name": "Danger North",
         "showlegend": true,
         "type": "scattergl",
         "x": {
          "bdata": "7XOVwOTCBb+3lOPAMGEBP6VMXz7yZ8rA2H0uvq+gmcCgTNLA8EWPwJ4Vk8AopJ7AC5GPwDHdxsC8orVBcts2wBGMOMBGrhjAIHuowEYr0cAyEhLAEwmSwN0rAr/zG6nAbZabv8s8h8Bw3mHAsPICv89RTj6cZDRAyvcSwO2eYsDbDJTA",
          "dtype": "f4"
         },
         "xaxis": "x",
         "y": {
          "bdata": "B7+NwtIBgMLqfYrCall5wlVPfML7UIvC5OyAwnWJhcImvYnCpcWFwgmYh8IToo3CQMeFwm+DjMLmfF/CZYSGwufUiML4dIvC77+Hwl67gsJO4oDCoLKGwu/hjcJJxofCnsh+wvxAhcJZcIXCQuGNwmvNfMLL3nPCjeaAwqd3hcKwuYbC",
          "dtype": "f4"
         },
         "yaxis": "y"
        },
        {
         "customdata": [
          [
           "Danger South East"
          ],
          [
           "Danger South East"
          ],
          [
           "Danger South East"
          ],
          [
           "Danger South East"
          ],
          [
           "Danger South East"
          ],
          [
           "Danger South East"
          ],
          [
           "Danger South East"
          ],
          [
           "Danger South East"
          ],
          [
           "Danger South East"
          ],
          [
           "Danger South East"
          ],
          [
           "Danger South East"
          ],
          [
           "Danger South East"
          ],
          [
           "Danger South East"
          ],
          [
           "Danger South East"
          ],
          [
           "Danger South East"
          ],
          [
           "Danger South East"
          ],
          [
           "Danger South East"
          ],
          [
           "Danger South East"
          ],
          [
           "Danger South East"
          ],
          [
           "Danger South East"
          ],
          [
           "Danger South East"
          ],
          [
           "Danger South East"
          ],
          [
           "Danger South East"
          ],
          [
           "Danger South East"
          ],
          [
           "Danger South East"
          ],
          [
           "Danger South East"
          ],
          [
           "Danger South East"
          ],
          [
           "Danger South East"
          ],
          [
           "Danger South East"
          ],
          [
           "Danger South East"
          ],
          [
           "Danger South East"
          ],
          [
           "Danger South East"
          ],
          [
           "Danger South East"
          ]
         ],
         "hovertemplate": "Description=%{customdata[0]}<br>TSNE-1=%{x}<br>TSNE-2=%{y}<extra></extra>",
         "legendgroup": "Danger South East",
         "marker": {
          "color": "#636efa",
          "opacity": 0.8,
          "size": 6,
          "symbol": "circle"
         },
         "mode": "markers",
         "name": "Danger South East",
         "showlegend": true,
         "type": "scattergl",
         "x": {
          "bdata": "rd/tQdcv50HXL+dBjwyoQcX3tUEfcpxBTNDlQUzQ5UHzvPpBpde1QYJA6UHLeuRBCK++QQE1s0GQwOhBGwfkQZaSvkEbB+RBtfXjQbX140GGLOhB3WGyQRB+/kGMtfpB+IXnQf4bskHQi+pBCaGfQeFf6UF9zrFBFYnqQcl+n0GkS+ZB",
          "dtype": "f4"
         },
         "xaxis": "x",
         "y": {
          "bdata": "E5BwwinMZsIpzGbCreFywhR4ccJdMm3Crphmwq6YZsJ9/HfCi2hxwqd3csKwHmbCTP1uwtIxdMLqbHLCssBkwhPxbsKywGTCD6Jkwg+iZMKWZXLCSdNzwiF0XcK0/HfCilZywi6zc8JIpVzCdd1uwpTodMLWTnbCOKVcwivNbsIPUnLC",
          "dtype": "f4"
         },
         "yaxis": "y"
        },
        {
         "customdata": [
          [
           "Green Gem South East"
          ],
          [
           "Green Gem South East"
          ],
          [
           "Green Gem South East"
          ],
          [
           "Green Gem South East"
          ],
          [
           "Green Gem South East"
          ],
          [
           "Green Gem South East"
          ],
          [
           "Green Gem South East"
          ],
          [
           "Green Gem South East"
          ],
          [
           "Green Gem South East"
          ],
          [
           "Green Gem South East"
          ],
          [
           "Green Gem South East"
          ],
          [
           "Green Gem South East"
          ],
          [
           "Green Gem South East"
          ],
          [
           "Green Gem South East"
          ],
          [
           "Green Gem South East"
          ],
          [
           "Green Gem South East"
          ],
          [
           "Green Gem South East"
          ],
          [
           "Green Gem South East"
          ],
          [
           "Green Gem South East"
          ],
          [
           "Green Gem South East"
          ],
          [
           "Green Gem South East"
          ],
          [
           "Green Gem South East"
          ],
          [
           "Green Gem South East"
          ],
          [
           "Green Gem South East"
          ],
          [
           "Green Gem South East"
          ],
          [
           "Green Gem South East"
          ],
          [
           "Green Gem South East"
          ],
          [
           "Green Gem South East"
          ],
          [
           "Green Gem South East"
          ],
          [
           "Green Gem South East"
          ],
          [
           "Green Gem South East"
          ],
          [
           "Green Gem South East"
          ],
          [
           "Green Gem South East"
          ],
          [
           "Green Gem South East"
          ],
          [
           "Green Gem South East"
          ],
          [
           "Green Gem South East"
          ],
          [
           "Green Gem South East"
          ],
          [
           "Green Gem South East"
          ],
          [
           "Green Gem South East"
          ],
          [
           "Green Gem South East"
          ],
          [
           "Green Gem South East"
          ],
          [
           "Green Gem South East"
          ],
          [
           "Green Gem South East"
          ],
          [
           "Green Gem South East"
          ],
          [
           "Green Gem South East"
          ],
          [
           "Green Gem South East"
          ],
          [
           "Green Gem South East"
          ],
          [
           "Green Gem South East"
          ],
          [
           "Green Gem South East"
          ],
          [
           "Green Gem South East"
          ],
          [
           "Green Gem South East"
          ],
          [
           "Green Gem South East"
          ],
          [
           "Green Gem South East"
          ],
          [
           "Green Gem South East"
          ],
          [
           "Green Gem South East"
          ],
          [
           "Green Gem South East"
          ],
          [
           "Green Gem South East"
          ],
          [
           "Green Gem South East"
          ],
          [
           "Green Gem South East"
          ],
          [
           "Green Gem South East"
          ],
          [
           "Green Gem South East"
          ],
          [
           "Green Gem South East"
          ],
          [
           "Green Gem South East"
          ],
          [
           "Green Gem South East"
          ],
          [
           "Green Gem South East"
          ],
          [
           "Green Gem South East"
          ],
          [
           "Green Gem South East"
          ],
          [
           "Green Gem South East"
          ],
          [
           "Green Gem South East"
          ],
          [
           "Green Gem South East"
          ],
          [
           "Green Gem South East"
          ],
          [
           "Green Gem South East"
          ],
          [
           "Green Gem South East"
          ],
          [
           "Green Gem South East"
          ],
          [
           "Green Gem South East"
          ],
          [
           "Green Gem South East"
          ],
          [
           "Green Gem South East"
          ],
          [
           "Green Gem South East"
          ],
          [
           "Green Gem South East"
          ],
          [
           "Green Gem South East"
          ],
          [
           "Green Gem South East"
          ],
          [
           "Green Gem South East"
          ],
          [
           "Green Gem South East"
          ],
          [
           "Green Gem South East"
          ],
          [
           "Green Gem South East"
          ],
          [
           "Green Gem South East"
          ],
          [
           "Green Gem South East"
          ],
          [
           "Green Gem South East"
          ],
          [
           "Green Gem South East"
          ],
          [
           "Green Gem South East"
          ],
          [
           "Green Gem South East"
          ],
          [
           "Green Gem South East"
          ],
          [
           "Green Gem South East"
          ],
          [
           "Green Gem South East"
          ],
          [
           "Green Gem South East"
          ],
          [
           "Green Gem South East"
          ],
          [
           "Green Gem South East"
          ],
          [
           "Green Gem South East"
          ],
          [
           "Green Gem South East"
          ],
          [
           "Green Gem South East"
          ],
          [
           "Green Gem South East"
          ],
          [
           "Green Gem South East"
          ],
          [
           "Green Gem South East"
          ],
          [
           "Green Gem South East"
          ],
          [
           "Green Gem South East"
          ]
         ],
         "hovertemplate": "Description=%{customdata[0]}<br>TSNE-1=%{x}<br>TSNE-2=%{y}<extra></extra>",
         "legendgroup": "Green Gem South East",
         "marker": {
          "color": "#EF553B",
          "opacity": 0.8,
          "size": 6,
          "symbol": "circle"
         },
         "mode": "markers",
         "name": "Green Gem South East",
         "showlegend": true,
         "type": "scattergl",
         "x": {
          "bdata": "VytgQok0S0IoClRCwMluQmJ3W0KonGRC71ZRQpw6G0KB5iZC1jYvQjo8LUK59BtCAW5NQpy3V0JwFmlCBMlOQjAIVEKtm1ZC/5FeQlBsW0IUg2JCeJQwQr96UkLbxBxC6LcsQjI6KULsdVdCbV1mQjzMTkJtplRCOpxeQiFiW0IHoGJCkTZYQkGhTkKK/BVChCFXQqonZEIEUGJCCgNUQtinXkJ2V1tCy9FiQn8PEUKOpAxCiD5IQpWOWELYemdCFjZkQlbNU0IlLm9C5qNTQncyZUIpzGJCy34LQsJ5VkJk+2JC6XtTQnaIYUL5u2BCfvdiQjnfVUJ9elNCiEllQhY/Y0JmrhpCZqAlQi7vLELyQGxCWfFpQjUCVkK3x2pCf0liQsplZ0LMJGVChYtvQnTiVUKfXW9CFjlTQupYY0LJdWNCNpgnQq/fW0IltFVCic9qQuHtWEIESQZC2bRgQiR6YULWhVtC5epVQiiBaEIwSUhCD1ZdQgrdU0JXa15CgmtRQnnrYkL3rRNCGYBKQkfIU0J98lhCufhRQqN5aEIJNFZC",
          "dtype": "f4"
         },
         "xaxis": "x",
         "y": {
          "bdata": "q9vdv3o/rMFgeLLAX5y2wQOEK8GXdrXB/eqIwdFRlsBTfrbAJhvLwFofrcBVn5rA9iWrwYs2A8KWt+c/CmGNwUbgscDoag7Bf3QjwWv7KsEAz7LBCaTOwJUm4cHt5ZzA3KOrwG+wu8AiCQPC1wP5vvDujMFthzTBn6Aiwb5vKsF+KLLBWw/CwfJA2cET9ZjAOdYCwpt73r8D0gzBw7iwwAPSIcHr5CnBw2KxwYArjsB5o4fAkqr1wYW7isGBq7BABKnPwb7gqsCLA7bBjXz4wf+es8Ep2f3BHdGFwGk9AsIQ8PHBUpz/weZTvb/rMMtAOFT/wU3GgsC3HffBUTqzwS7qr8EHqJXA+lmzwGp7w8CC8LLB81Mrwab9AcKQ37HBCIULwSEWsUDW98zBBNK3wVZrgsD6trXB0NT1wXNRr8GnhKvB+bqmwB3Q3MFMvwHCUc6xwfvJLcFspHjAO1HLQNoDz8GqpQPCxCKCwFS2zcGtJ+LBQ82NwQxSqMCDsZLBJx9kwQxk/sFxqJTACtznwTDF4MFlLC3BbZ6mwZSkKz8IXaTB",
          "dtype": "f4"
         },
         "yaxis": "y"
        },
        {
         "customdata": [
          [
           "Purple Gem South"
          ],
          [
           "Purple Gem South"
          ],
          [
           "Purple Gem South"
          ],
          [
           "Purple Gem South"
          ],
          [
           "Purple Gem South"
          ],
          [
           "Purple Gem South"
          ],
          [
           "Purple Gem South"
          ],
          [
           "Purple Gem South"
          ],
          [
           "Purple Gem South"
          ],
          [
           "Purple Gem South"
          ],
          [
           "Purple Gem South"
          ],
          [
           "Purple Gem South"
          ],
          [
           "Purple Gem South"
          ],
          [
           "Purple Gem South"
          ],
          [
           "Purple Gem South"
          ],
          [
           "Purple Gem South"
          ],
          [
           "Purple Gem South"
          ],
          [
           "Purple Gem South"
          ],
          [
           "Purple Gem South"
          ],
          [
           "Purple Gem South"
          ],
          [
           "Purple Gem South"
          ],
          [
           "Purple Gem South"
          ],
          [
           "Purple Gem South"
          ],
          [
           "Purple Gem South"
          ],
          [
           "Purple Gem South"
          ],
          [
           "Purple Gem South"
          ],
          [
           "Purple Gem South"
          ],
          [
           "Purple Gem South"
          ],
          [
           "Purple Gem South"
          ],
          [
           "Purple Gem South"
          ],
          [
           "Purple Gem South"
          ],
          [
           "Purple Gem South"
          ],
          [
           "Purple Gem South"
          ],
          [
           "Purple Gem South"
          ],
          [
           "Purple Gem South"
          ],
          [
           "Purple Gem South"
          ],
          [
           "Purple Gem South"
          ],
          [
           "Purple Gem South"
          ],
          [
           "Purple Gem South"
          ],
          [
           "Purple Gem South"
          ],
          [
           "Purple Gem South"
          ],
          [
           "Purple Gem South"
          ],
          [
           "Purple Gem South"
          ],
          [
           "Purple Gem South"
          ],
          [
           "Purple Gem South"
          ],
          [
           "Purple Gem South"
          ],
          [
           "Purple Gem South"
          ],
          [
           "Purple Gem South"
          ],
          [
           "Purple Gem South"
          ],
          [
           "Purple Gem South"
          ],
          [
           "Purple Gem South"
          ],
          [
           "Purple Gem South"
          ],
          [
           "Purple Gem South"
          ],
          [
           "Purple Gem South"
          ],
          [
           "Purple Gem South"
          ],
          [
           "Purple Gem South"
          ],
          [
           "Purple Gem South"
          ],
          [
           "Purple Gem South"
          ],
          [
           "Purple Gem South"
          ],
          [
           "Purple Gem South"
          ],
          [
           "Purple Gem South"
          ],
          [
           "Purple Gem South"
          ],
          [
           "Purple Gem South"
          ],
          [
           "Purple Gem South"
          ],
          [
           "Purple Gem South"
          ],
          [
           "Purple Gem South"
          ],
          [
           "Purple Gem South"
          ],
          [
           "Purple Gem South"
          ],
          [
           "Purple Gem South"
          ],
          [
           "Purple Gem South"
          ],
          [
           "Purple Gem South"
          ],
          [
           "Purple Gem South"
          ]
         ],
         "hovertemplate": "Description=%{customdata[0]}<br>TSNE-1=%{x}<br>TSNE-2=%{y}<extra></extra>",
         "legendgroup": "Purple Gem South",
         "marker": {
          "color": "#00cc96",
          "opacity": 0.8,
          "size": 6,
          "symbol": "circle"
         },
         "mode": "markers",
         "name": "Purple Gem South",
         "showlegend": true,
         "type": "scattergl",
         "x": {
          "bdata": "HRlJwlkCCsJpS1jCKWwCwpjjP8JjE27C/VsmwoWqMcIGUxzCJRIqwrbiTMLkNi7C9fNtwjgsP8Jq3EjC6PspwuAaLsKICYDCbCQ/wvcAJ8L+VmPCCU1JwknRCMIucmHCnmcwwl4GgMLaHD/C4BhowgzihcKpL2PC1P9swsNkH8IO1EPCYyc1wmyOQcIJA4DCMBU/wooPaMIneRrCWyFXwu5MQcJ2lEvCi0lJwj+BMMKjZUzCrOGCwgUNP8K09zbCOtuFwotnQ8L+uinCdXFLwo8oS8IRDDDCzQg2wiqIgsKX8y7CWIM2wqPXhcLvMxrCWUT9wYvpacLKby3C9oJOwsYqRcLPdxHCe59Mwl7bgMLL5y7CpcMxwtnZhcIxag/C",
          "dtype": "f4"
         },
         "xaxis": "x",
         "y": {
          "bdata": "SEpzwfKPksEzJo7Br6dowS7b5cEUKYHBTOyCweMRiMH6XmLBFPeJwd7YSMG2+gjCviSBwV9w48HzAnTBdvyJwcj5CMIxnWbB7m3jwSOgF8IdcmXBkoyTwZ3ckcHTcmTBajQBwp6ZZsEwa+PB41aRwe6HWcEyaWXBuhODwTn/ksFml2PBSdfewROC3cG1lWbBI2jjwRRJkcGwJ1nBiEWRwesdPMF2Q27BTRWqwcIX+8EJAJPBWoVZwYVl48HjAdvBDp5ZwfesosF3DY3BXFduwcFKV8HgLvjByyAOwtq2YsErdpDBWlIMwhmqWcEkTVrBg6gHwQ6Uh8Gf3obBfXFVwVC5lMHal1bBPwBDwYC/TcGPfJDBMFbfwXyON8GRvnLB",
          "dtype": "f4"
         },
         "yaxis": "y"
        },
        {
         "customdata": [
          [
           "Danger North East"
          ],
          [
           "Danger North East"
          ],
          [
           "Danger North East"
          ],
          [
           "Danger North East"
          ],
          [
           "Danger North East"
          ],
          [
           "Danger North East"
          ],
          [
           "Danger North East"
          ],
          [
           "Danger North East"
          ],
          [
           "Danger North East"
          ],
          [
           "Danger North East"
          ],
          [
           "Danger North East"
          ],
          [
           "Danger North East"
          ],
          [
           "Danger North East"
          ],
          [
           "Danger North East"
          ],
          [
           "Danger North East"
          ],
          [
           "Danger North East"
          ],
          [
           "Danger North East"
          ],
          [
           "Danger North East"
          ],
          [
           "Danger North East"
          ],
          [
           "Danger North East"
          ],
          [
           "Danger North East"
          ],
          [
           "Danger North East"
          ],
          [
           "Danger North East"
          ],
          [
           "Danger North East"
          ],
          [
           "Danger North East"
          ],
          [
           "Danger North East"
          ],
          [
           "Danger North East"
          ],
          [
           "Danger North East"
          ],
          [
           "Danger North East"
          ],
          [
           "Danger North East"
          ]
         ],
         "hovertemplate": "Description=%{customdata[0]}<br>TSNE-1=%{x}<br>TSNE-2=%{y}<extra></extra>",
         "legendgroup": "Danger North East",
         "marker": {
          "color": "#ab63fa",
          "opacity": 0.8,
          "size": 6,
          "symbol": "circle"
         },
         "mode": "markers",
         "name": "Danger North East",
         "showlegend": true,
         "type": "scattergl",
         "x": {
          "bdata": "BuffQcz2vEEGtqZBNnGmQeN68kElKqpBgVffQSTbsUH4euZBJv72QScDm0GTE99BwbmXQRjI9kHPcqdBLjecQRGywUHASq9BgACbQVt53kGP/7BBVKi3Qf/JqkGeM6lB0/WgQcrX8EE+7qhBy+23QTFs3UHJ/ppB",
          "dtype": "f4"
         },
         "xaxis": "x",
         "y": {
          "bdata": "vHl0wpSPacLvOGrCLaVqwruPXMKMaXPCW2h0wkSQb8LRWmPC8BF4woelasIHYXTCy9towigTeMJILWrCHOVowiqrbcIUKXTCPp5qwpBEdMIutGnCTQVvwmf9asKa03LCulxpwnbAbsJUrnLCujpuwohtdcIRk2rC",
          "dtype": "f4"
         },
         "yaxis": "y"
        },
        {
         "customdata": [
          [
           "Purple Gem South East"
          ],
          [
           "Purple Gem South East"
          ],
          [
           "Purple Gem South East"
          ],
          [
           "Purple Gem South East"
          ],
          [
           "Purple Gem South East"
          ],
          [
           "Purple Gem South East"
          ],
          [
           "Purple Gem South East"
          ],
          [
           "Purple Gem South East"
          ],
          [
           "Purple Gem South East"
          ],
          [
           "Purple Gem South East"
          ],
          [
           "Purple Gem South East"
          ],
          [
           "Purple Gem South East"
          ],
          [
           "Purple Gem South East"
          ],
          [
           "Purple Gem South East"
          ],
          [
           "Purple Gem South East"
          ],
          [
           "Purple Gem South East"
          ],
          [
           "Purple Gem South East"
          ],
          [
           "Purple Gem South East"
          ],
          [
           "Purple Gem South East"
          ],
          [
           "Purple Gem South East"
          ],
          [
           "Purple Gem South East"
          ],
          [
           "Purple Gem South East"
          ],
          [
           "Purple Gem South East"
          ],
          [
           "Purple Gem South East"
          ],
          [
           "Purple Gem South East"
          ],
          [
           "Purple Gem South East"
          ],
          [
           "Purple Gem South East"
          ],
          [
           "Purple Gem South East"
          ]
         ],
         "hovertemplate": "Description=%{customdata[0]}<br>TSNE-1=%{x}<br>TSNE-2=%{y}<extra></extra>",
         "legendgroup": "Purple Gem South East",
         "marker": {
          "color": "#FFA15A",
          "opacity": 0.8,
          "size": 6,
          "symbol": "circle"
         },
         "mode": "markers",
         "name": "Purple Gem South East",
         "showlegend": true,
         "type": "scattergl",
         "x": {
          "bdata": "aTIAwuhzw8EuEwPCRd4ywqzEF8Kq8sPBQqAkwm8dycEy2dHBhpLiwcS0AMLZ/BvCM+rGwTkDJcJ+eBrCdkgdwvMwx8Hd2yjCQegLwuXqJ8KXzSTCN8oQwrdi2MEMsBvCrcXHwZitJMLQPBrCijbKwQ==",
          "dtype": "f4"
         },
         "xaxis": "x",
         "y": {
          "bdata": "S0MPwhU9QsJUMxjCh6MJwmGFFsK7P0LC4GEXwm1bP8L+qTvC7Gg3wmoJHsLB4xHC0ixBwtWi9cEYARvCOiIRwgQJQcJ1KgXC6PQUwrMaFMLk5PXBis0LwsQ6N8KY/hHC78VAwk3/9cHKDhvCTI1Bwg==",
          "dtype": "f4"
         },
         "yaxis": "y"
        },
        {
         "customdata": [
          [
           "Danger East"
          ],
          [
           "Danger East"
          ],
          [
           "Danger East"
          ],
          [
           "Danger East"
          ],
          [
           "Danger East"
          ],
          [
           "Danger East"
          ],
          [
           "Danger East"
          ],
          [
           "Danger East"
          ],
          [
           "Danger East"
          ],
          [
           "Danger East"
          ],
          [
           "Danger East"
          ],
          [
           "Danger East"
          ],
          [
           "Danger East"
          ],
          [
           "Danger East"
          ],
          [
           "Danger East"
          ],
          [
           "Danger East"
          ],
          [
           "Danger East"
          ],
          [
           "Danger East"
          ],
          [
           "Danger East"
          ],
          [
           "Danger East"
          ],
          [
           "Danger East"
          ],
          [
           "Danger East"
          ],
          [
           "Danger East"
          ],
          [
           "Danger East"
          ],
          [
           "Danger East"
          ],
          [
           "Danger East"
          ],
          [
           "Danger East"
          ],
          [
           "Danger East"
          ],
          [
           "Danger East"
          ],
          [
           "Danger East"
          ],
          [
           "Danger East"
          ],
          [
           "Danger East"
          ],
          [
           "Danger East"
          ],
          [
           "Danger East"
          ],
          [
           "Danger East"
          ],
          [
           "Danger East"
          ],
          [
           "Danger East"
          ],
          [
           "Danger East"
          ],
          [
           "Danger East"
          ],
          [
           "Danger East"
          ],
          [
           "Danger East"
          ],
          [
           "Danger East"
          ],
          [
           "Danger East"
          ],
          [
           "Danger East"
          ],
          [
           "Danger East"
          ],
          [
           "Danger East"
          ],
          [
           "Danger East"
          ],
          [
           "Danger East"
          ],
          [
           "Danger East"
          ]
         ],
         "hovertemplate": "Description=%{customdata[0]}<br>TSNE-1=%{x}<br>TSNE-2=%{y}<extra></extra>",
         "legendgroup": "Danger East",
         "marker": {
          "color": "#19d3f3",
          "opacity": 0.8,
          "size": 6,
          "symbol": "circle"
         },
         "mode": "markers",
         "name": "Danger East",
         "showlegend": true,
         "type": "scattergl",
         "x": {
          "bdata": "1Y0CQk9Y5kFVOPxB3AbrQaKCAkKY6OVB3Pz7QQzo6kE++LdBSXcCQh717kHvj+dB5NrqQZWA2EFn2+tB5NrqQajLxkFR57JBp6DpQWiC+0GnoOlBtqDuQSbL5kGD9ehBn1ehQe6z60FNQ/tB1QbtQQhm5kEiU+dBdRvGQdbYnUEVA/tBxDG3QWA/AkJq3JJB/QWyQSrl60E/JqFBbC4CQv+blUEPDrFB5qqjQWJ5oEHzDKFBWNTjQci+v0Hg/7lBOuqdQQ==",
          "dtype": "f4"
         },
         "xaxis": "x",
         "y": {
          "bdata": "oJ1ewj2vc8I8Ll3C0uhlwgqZXsK/tnPC1ihdws7gZcIzJ27CxZRewsnSeMLR9XXCVV9lwp4AZMK8mHXCVV9lwu7bZ8KNEnTCyzFkwqAdXcLLMWTCsNJ4wl4AdsJDA2TCVKpqwmZ6dcK5GF3C5GZ2wjgCdsI/6mHCr3FnwmmZdcL4E13Cot5twkx/XsImMGnC36pzwkG0XMKmnWrC33hewq+eaMIP8XXCVUppwul7bsL6l2rCOp9zwvjMaMIlCWrChg92wg==",
          "dtype": "f4"
         },
         "yaxis": "y"
        },
        {
         "customdata": [
          [
           "Purple Gem East"
          ],
          [
           "Purple Gem East"
          ],
          [
           "Purple Gem East"
          ],
          [
           "Purple Gem East"
          ],
          [
           "Purple Gem East"
          ],
          [
           "Purple Gem East"
          ],
          [
           "Purple Gem East"
          ],
          [
           "Purple Gem East"
          ],
          [
           "Purple Gem East"
          ],
          [
           "Purple Gem East"
          ],
          [
           "Purple Gem East"
          ],
          [
           "Purple Gem East"
          ],
          [
           "Purple Gem East"
          ],
          [
           "Purple Gem East"
          ],
          [
           "Purple Gem East"
          ],
          [
           "Purple Gem East"
          ],
          [
           "Purple Gem East"
          ],
          [
           "Purple Gem East"
          ],
          [
           "Purple Gem East"
          ],
          [
           "Purple Gem East"
          ],
          [
           "Purple Gem East"
          ],
          [
           "Purple Gem East"
          ],
          [
           "Purple Gem East"
          ],
          [
           "Purple Gem East"
          ],
          [
           "Purple Gem East"
          ],
          [
           "Purple Gem East"
          ],
          [
           "Purple Gem East"
          ],
          [
           "Purple Gem East"
          ],
          [
           "Purple Gem East"
          ],
          [
           "Purple Gem East"
          ],
          [
           "Purple Gem East"
          ],
          [
           "Purple Gem East"
          ],
          [
           "Purple Gem East"
          ],
          [
           "Purple Gem East"
          ],
          [
           "Purple Gem East"
          ],
          [
           "Purple Gem East"
          ],
          [
           "Purple Gem East"
          ],
          [
           "Purple Gem East"
          ],
          [
           "Purple Gem East"
          ],
          [
           "Purple Gem East"
          ],
          [
           "Purple Gem East"
          ],
          [
           "Purple Gem East"
          ],
          [
           "Purple Gem East"
          ],
          [
           "Purple Gem East"
          ],
          [
           "Purple Gem East"
          ],
          [
           "Purple Gem East"
          ],
          [
           "Purple Gem East"
          ],
          [
           "Purple Gem East"
          ],
          [
           "Purple Gem East"
          ],
          [
           "Purple Gem East"
          ],
          [
           "Purple Gem East"
          ],
          [
           "Purple Gem East"
          ],
          [
           "Purple Gem East"
          ],
          [
           "Purple Gem East"
          ],
          [
           "Purple Gem East"
          ],
          [
           "Purple Gem East"
          ],
          [
           "Purple Gem East"
          ],
          [
           "Purple Gem East"
          ],
          [
           "Purple Gem East"
          ],
          [
           "Purple Gem East"
          ],
          [
           "Purple Gem East"
          ],
          [
           "Purple Gem East"
          ],
          [
           "Purple Gem East"
          ],
          [
           "Purple Gem East"
          ],
          [
           "Purple Gem East"
          ],
          [
           "Purple Gem East"
          ],
          [
           "Purple Gem East"
          ],
          [
           "Purple Gem East"
          ],
          [
           "Purple Gem East"
          ],
          [
           "Purple Gem East"
          ],
          [
           "Purple Gem East"
          ],
          [
           "Purple Gem East"
          ],
          [
           "Purple Gem East"
          ],
          [
           "Purple Gem East"
          ],
          [
           "Purple Gem East"
          ],
          [
           "Purple Gem East"
          ],
          [
           "Purple Gem East"
          ],
          [
           "Purple Gem East"
          ],
          [
           "Purple Gem East"
          ],
          [
           "Purple Gem East"
          ],
          [
           "Purple Gem East"
          ],
          [
           "Purple Gem East"
          ],
          [
           "Purple Gem East"
          ],
          [
           "Purple Gem East"
          ],
          [
           "Purple Gem East"
          ],
          [
           "Purple Gem East"
          ],
          [
           "Purple Gem East"
          ],
          [
           "Purple Gem East"
          ],
          [
           "Purple Gem East"
          ],
          [
           "Purple Gem East"
          ],
          [
           "Purple Gem East"
          ],
          [
           "Purple Gem East"
          ]
         ],
         "hovertemplate": "Description=%{customdata[0]}<br>TSNE-1=%{x}<br>TSNE-2=%{y}<extra></extra>",
         "legendgroup": "Purple Gem East",
         "marker": {
          "color": "#FF6692",
          "opacity": 0.8,
          "size": 6,
          "symbol": "circle"
         },
         "mode": "markers",
         "name": "Purple Gem East",
         "showlegend": true,
         "type": "scattergl",
         "x": {
          "bdata": "TwgSwnuZ08F8OsXBkOa6wXvZBsLyLL7BsR0rwpM0xcEEgujBv2AMwhLmAMKd5xDCcIrrweeBA8LLzcHBQxHuwZjRtsHygQDCJBTpwXAT6MECIBzC2g4vwlhquMHwGxnCgiMMwq0SwsFE97zBD7vlwS7bFcJm4gvC3PwuwiwEFMKPdkPCfU3CwRWLA8LIMeXB6KjLweIQ6sFPnwDCdLEdwqAh68EpnRXC+b3CwQtU4MFsUSrC4TUWwvPNy8Gui+rBYRkSwqhc6sEg2BPCdjAHwtDOH8IJRTHCqW0NwjRM88HoA/DBjYn2wa34KsJpRSnCUQ4rwi7zy8E09+rBOfARwoFvAMINMfHBQbj1wf+YLMIscBXCPYkSwgegxMEgfvHB1NYvwsW658H0XRXCoEAxwrtt8cEoq+nBXJr1wViZA8KMsi7CV6AywvF7xMEQ8wvCtswvwr1+GcKgQTLCckAAwj+n8cGPJRfC5LvdwbGfEcI=",
          "dtype": "f4"
         },
         "xaxis": "x",
         "y": {
          "bdata": "/FYMwmLzOsKb1D7C5QxIwmRTFMI5ekLCDFnZwa4BPMICxTPCuFQawj/JEsKgJxTCmhAYwpsKGcKwhz/C17UuwjA1Q8I4HR/C460zwjF+L8L9xBrClfsOwoP2Q8Ki3RHCGfYawtpvP8LBV0PCkFA1wvBiGsLdfBzC4P8OwnxPFcLEdOzB/DY/wkqrGcLYMRjCLVY+wjlANcJLuhLCJ2oUwntfGMImrxbCsAA/wppnOMJ6oe7Bu+MUwsFHPsJfFTXC8wASwsj4F8JkaRXCVLEawvVwEcJIigfCjhYOwufnF8L+ey7Cz0cbwt+R2cH0LO3BgavZwfU4PsKC8jTCow0SwimxEsKl4TLCpxsXwkzhD8KnvRbCBRcUwsxWP8JMEijCiCoHwgDdNMKnehrC9LMEwh7TMsI9nhbCHR4XwrvUFcIFEg/CLnMJwuCzPsIZnR3C6CoHwvcTGcJC0v7BC6gSwgHMMsJ03RbCIcUywiPmFsI=",
          "dtype": "f4"
         },
         "yaxis": "y"
        },
        {
         "customdata": [
          [
           "Danger South"
          ],
          [
           "Danger South"
          ],
          [
           "Danger South"
          ],
          [
           "Danger South"
          ],
          [
           "Danger South"
          ],
          [
           "Danger South"
          ],
          [
           "Danger South"
          ],
          [
           "Danger South"
          ],
          [
           "Danger South"
          ],
          [
           "Danger South"
          ],
          [
           "Danger South"
          ],
          [
           "Danger South"
          ],
          [
           "Danger South"
          ],
          [
           "Danger South"
          ],
          [
           "Danger South"
          ],
          [
           "Danger South"
          ],
          [
           "Danger South"
          ],
          [
           "Danger South"
          ],
          [
           "Danger South"
          ],
          [
           "Danger South"
          ],
          [
           "Danger South"
          ],
          [
           "Danger South"
          ],
          [
           "Danger South"
          ]
         ],
         "hovertemplate": "Description=%{customdata[0]}<br>TSNE-1=%{x}<br>TSNE-2=%{y}<extra></extra>",
         "legendgroup": "Danger South",
         "marker": {
          "color": "#B6E880",
          "opacity": 0.8,
          "size": 6,
          "symbol": "circle"
         },
         "mode": "markers",
         "name": "Danger South",
         "showlegend": true,
         "type": "scattergl",
         "x": {
          "bdata": "ilgCvxxz1cCq5Ay+oEi7wFHF78AuQ7VBSFjXwN9nPcCpFJ5AZltEQDddukEW4X6+rF+RvlT4EMADIOi+r3mlvnFcr8By7bfA83q6vq8N/L+ArQnCP3GRvx5ym0A=",
          "dtype": "f4"
         },
         "xaxis": "x",
         "y": {
          "bdata": "eemNwo62isL//4HCAf2KwskAhMJ6m1/CmduBwqscg8JX6HHCulxzwr0DX8KKtXzC6aZ6ws7VgcLX9IDC4bZ6wrfWg8L1qojCw8d6ws9GjMKBVMnBVFOAwn/2ccI=",
          "dtype": "f4"
         },
         "yaxis": "y"
        }
       ],
       "layout": {
        "height": 1000,
        "legend": {
         "itemsizing": "constant",
         "title": {
          "text": "Descriptions"
         },
         "tracegroupgap": 0
        },
        "template": {
         "data": {
          "bar": [
           {
            "error_x": {
             "color": "#2a3f5f"
            },
            "error_y": {
             "color": "#2a3f5f"
            },
            "marker": {
             "line": {
              "color": "#E5ECF6",
              "width": 0.5
             },
             "pattern": {
              "fillmode": "overlay",
              "size": 10,
              "solidity": 0.2
             }
            },
            "type": "bar"
           }
          ],
          "barpolar": [
           {
            "marker": {
             "line": {
              "color": "#E5ECF6",
              "width": 0.5
             },
             "pattern": {
              "fillmode": "overlay",
              "size": 10,
              "solidity": 0.2
             }
            },
            "type": "barpolar"
           }
          ],
          "carpet": [
           {
            "aaxis": {
             "endlinecolor": "#2a3f5f",
             "gridcolor": "white",
             "linecolor": "white",
             "minorgridcolor": "white",
             "startlinecolor": "#2a3f5f"
            },
            "baxis": {
             "endlinecolor": "#2a3f5f",
             "gridcolor": "white",
             "linecolor": "white",
             "minorgridcolor": "white",
             "startlinecolor": "#2a3f5f"
            },
            "type": "carpet"
           }
          ],
          "choropleth": [
           {
            "colorbar": {
             "outlinewidth": 0,
             "ticks": ""
            },
            "type": "choropleth"
           }
          ],
          "contour": [
           {
            "colorbar": {
             "outlinewidth": 0,
             "ticks": ""
            },
            "colorscale": [
             [
              0,
              "#0d0887"
             ],
             [
              0.1111111111111111,
              "#46039f"
             ],
             [
              0.2222222222222222,
              "#7201a8"
             ],
             [
              0.3333333333333333,
              "#9c179e"
             ],
             [
              0.4444444444444444,
              "#bd3786"
             ],
             [
              0.5555555555555556,
              "#d8576b"
             ],
             [
              0.6666666666666666,
              "#ed7953"
             ],
             [
              0.7777777777777778,
              "#fb9f3a"
             ],
             [
              0.8888888888888888,
              "#fdca26"
             ],
             [
              1,
              "#f0f921"
             ]
            ],
            "type": "contour"
           }
          ],
          "contourcarpet": [
           {
            "colorbar": {
             "outlinewidth": 0,
             "ticks": ""
            },
            "type": "contourcarpet"
           }
          ],
          "heatmap": [
           {
            "colorbar": {
             "outlinewidth": 0,
             "ticks": ""
            },
            "colorscale": [
             [
              0,
              "#0d0887"
             ],
             [
              0.1111111111111111,
              "#46039f"
             ],
             [
              0.2222222222222222,
              "#7201a8"
             ],
             [
              0.3333333333333333,
              "#9c179e"
             ],
             [
              0.4444444444444444,
              "#bd3786"
             ],
             [
              0.5555555555555556,
              "#d8576b"
             ],
             [
              0.6666666666666666,
              "#ed7953"
             ],
             [
              0.7777777777777778,
              "#fb9f3a"
             ],
             [
              0.8888888888888888,
              "#fdca26"
             ],
             [
              1,
              "#f0f921"
             ]
            ],
            "type": "heatmap"
           }
          ],
          "histogram": [
           {
            "marker": {
             "pattern": {
              "fillmode": "overlay",
              "size": 10,
              "solidity": 0.2
             }
            },
            "type": "histogram"
           }
          ],
          "histogram2d": [
           {
            "colorbar": {
             "outlinewidth": 0,
             "ticks": ""
            },
            "colorscale": [
             [
              0,
              "#0d0887"
             ],
             [
              0.1111111111111111,
              "#46039f"
             ],
             [
              0.2222222222222222,
              "#7201a8"
             ],
             [
              0.3333333333333333,
              "#9c179e"
             ],
             [
              0.4444444444444444,
              "#bd3786"
             ],
             [
              0.5555555555555556,
              "#d8576b"
             ],
             [
              0.6666666666666666,
              "#ed7953"
             ],
             [
              0.7777777777777778,
              "#fb9f3a"
             ],
             [
              0.8888888888888888,
              "#fdca26"
             ],
             [
              1,
              "#f0f921"
             ]
            ],
            "type": "histogram2d"
           }
          ],
          "histogram2dcontour": [
           {
            "colorbar": {
             "outlinewidth": 0,
             "ticks": ""
            },
            "colorscale": [
             [
              0,
              "#0d0887"
             ],
             [
              0.1111111111111111,
              "#46039f"
             ],
             [
              0.2222222222222222,
              "#7201a8"
             ],
             [
              0.3333333333333333,
              "#9c179e"
             ],
             [
              0.4444444444444444,
              "#bd3786"
             ],
             [
              0.5555555555555556,
              "#d8576b"
             ],
             [
              0.6666666666666666,
              "#ed7953"
             ],
             [
              0.7777777777777778,
              "#fb9f3a"
             ],
             [
              0.8888888888888888,
              "#fdca26"
             ],
             [
              1,
              "#f0f921"
             ]
            ],
            "type": "histogram2dcontour"
           }
          ],
          "mesh3d": [
           {
            "colorbar": {
             "outlinewidth": 0,
             "ticks": ""
            },
            "type": "mesh3d"
           }
          ],
          "parcoords": [
           {
            "line": {
             "colorbar": {
              "outlinewidth": 0,
              "ticks": ""
             }
            },
            "type": "parcoords"
           }
          ],
          "pie": [
           {
            "automargin": true,
            "type": "pie"
           }
          ],
          "scatter": [
           {
            "fillpattern": {
             "fillmode": "overlay",
             "size": 10,
             "solidity": 0.2
            },
            "type": "scatter"
           }
          ],
          "scatter3d": [
           {
            "line": {
             "colorbar": {
              "outlinewidth": 0,
              "ticks": ""
             }
            },
            "marker": {
             "colorbar": {
              "outlinewidth": 0,
              "ticks": ""
             }
            },
            "type": "scatter3d"
           }
          ],
          "scattercarpet": [
           {
            "marker": {
             "colorbar": {
              "outlinewidth": 0,
              "ticks": ""
             }
            },
            "type": "scattercarpet"
           }
          ],
          "scattergeo": [
           {
            "marker": {
             "colorbar": {
              "outlinewidth": 0,
              "ticks": ""
             }
            },
            "type": "scattergeo"
           }
          ],
          "scattergl": [
           {
            "marker": {
             "colorbar": {
              "outlinewidth": 0,
              "ticks": ""
             }
            },
            "type": "scattergl"
           }
          ],
          "scattermap": [
           {
            "marker": {
             "colorbar": {
              "outlinewidth": 0,
              "ticks": ""
             }
            },
            "type": "scattermap"
           }
          ],
          "scattermapbox": [
           {
            "marker": {
             "colorbar": {
              "outlinewidth": 0,
              "ticks": ""
             }
            },
            "type": "scattermapbox"
           }
          ],
          "scatterpolar": [
           {
            "marker": {
             "colorbar": {
              "outlinewidth": 0,
              "ticks": ""
             }
            },
            "type": "scatterpolar"
           }
          ],
          "scatterpolargl": [
           {
            "marker": {
             "colorbar": {
              "outlinewidth": 0,
              "ticks": ""
             }
            },
            "type": "scatterpolargl"
           }
          ],
          "scatterternary": [
           {
            "marker": {
             "colorbar": {
              "outlinewidth": 0,
              "ticks": ""
             }
            },
            "type": "scatterternary"
           }
          ],
          "surface": [
           {
            "colorbar": {
             "outlinewidth": 0,
             "ticks": ""
            },
            "colorscale": [
             [
              0,
              "#0d0887"
             ],
             [
              0.1111111111111111,
              "#46039f"
             ],
             [
              0.2222222222222222,
              "#7201a8"
             ],
             [
              0.3333333333333333,
              "#9c179e"
             ],
             [
              0.4444444444444444,
              "#bd3786"
             ],
             [
              0.5555555555555556,
              "#d8576b"
             ],
             [
              0.6666666666666666,
              "#ed7953"
             ],
             [
              0.7777777777777778,
              "#fb9f3a"
             ],
             [
              0.8888888888888888,
              "#fdca26"
             ],
             [
              1,
              "#f0f921"
             ]
            ],
            "type": "surface"
           }
          ],
          "table": [
           {
            "cells": {
             "fill": {
              "color": "#EBF0F8"
             },
             "line": {
              "color": "white"
             }
            },
            "header": {
             "fill": {
              "color": "#C8D4E3"
             },
             "line": {
              "color": "white"
             }
            },
            "type": "table"
           }
          ]
         },
         "layout": {
          "annotationdefaults": {
           "arrowcolor": "#2a3f5f",
           "arrowhead": 0,
           "arrowwidth": 1
          },
          "autotypenumbers": "strict",
          "coloraxis": {
           "colorbar": {
            "outlinewidth": 0,
            "ticks": ""
           }
          },
          "colorscale": {
           "diverging": [
            [
             0,
             "#8e0152"
            ],
            [
             0.1,
             "#c51b7d"
            ],
            [
             0.2,
             "#de77ae"
            ],
            [
             0.3,
             "#f1b6da"
            ],
            [
             0.4,
             "#fde0ef"
            ],
            [
             0.5,
             "#f7f7f7"
            ],
            [
             0.6,
             "#e6f5d0"
            ],
            [
             0.7,
             "#b8e186"
            ],
            [
             0.8,
             "#7fbc41"
            ],
            [
             0.9,
             "#4d9221"
            ],
            [
             1,
             "#276419"
            ]
           ],
           "sequential": [
            [
             0,
             "#0d0887"
            ],
            [
             0.1111111111111111,
             "#46039f"
            ],
            [
             0.2222222222222222,
             "#7201a8"
            ],
            [
             0.3333333333333333,
             "#9c179e"
            ],
            [
             0.4444444444444444,
             "#bd3786"
            ],
            [
             0.5555555555555556,
             "#d8576b"
            ],
            [
             0.6666666666666666,
             "#ed7953"
            ],
            [
             0.7777777777777778,
             "#fb9f3a"
            ],
            [
             0.8888888888888888,
             "#fdca26"
            ],
            [
             1,
             "#f0f921"
            ]
           ],
           "sequentialminus": [
            [
             0,
             "#0d0887"
            ],
            [
             0.1111111111111111,
             "#46039f"
            ],
            [
             0.2222222222222222,
             "#7201a8"
            ],
            [
             0.3333333333333333,
             "#9c179e"
            ],
            [
             0.4444444444444444,
             "#bd3786"
            ],
            [
             0.5555555555555556,
             "#d8576b"
            ],
            [
             0.6666666666666666,
             "#ed7953"
            ],
            [
             0.7777777777777778,
             "#fb9f3a"
            ],
            [
             0.8888888888888888,
             "#fdca26"
            ],
            [
             1,
             "#f0f921"
            ]
           ]
          },
          "colorway": [
           "#636efa",
           "#EF553B",
           "#00cc96",
           "#ab63fa",
           "#FFA15A",
           "#19d3f3",
           "#FF6692",
           "#B6E880",
           "#FF97FF",
           "#FECB52"
          ],
          "font": {
           "color": "#2a3f5f"
          },
          "geo": {
           "bgcolor": "white",
           "lakecolor": "white",
           "landcolor": "#E5ECF6",
           "showlakes": true,
           "showland": true,
           "subunitcolor": "white"
          },
          "hoverlabel": {
           "align": "left"
          },
          "hovermode": "closest",
          "mapbox": {
           "style": "light"
          },
          "paper_bgcolor": "white",
          "plot_bgcolor": "#E5ECF6",
          "polar": {
           "angularaxis": {
            "gridcolor": "white",
            "linecolor": "white",
            "ticks": ""
           },
           "bgcolor": "#E5ECF6",
           "radialaxis": {
            "gridcolor": "white",
            "linecolor": "white",
            "ticks": ""
           }
          },
          "scene": {
           "xaxis": {
            "backgroundcolor": "#E5ECF6",
            "gridcolor": "white",
            "gridwidth": 2,
            "linecolor": "white",
            "showbackground": true,
            "ticks": "",
            "zerolinecolor": "white"
           },
           "yaxis": {
            "backgroundcolor": "#E5ECF6",
            "gridcolor": "white",
            "gridwidth": 2,
            "linecolor": "white",
            "showbackground": true,
            "ticks": "",
            "zerolinecolor": "white"
           },
           "zaxis": {
            "backgroundcolor": "#E5ECF6",
            "gridcolor": "white",
            "gridwidth": 2,
            "linecolor": "white",
            "showbackground": true,
            "ticks": "",
            "zerolinecolor": "white"
           }
          },
          "shapedefaults": {
           "line": {
            "color": "#2a3f5f"
           }
          },
          "ternary": {
           "aaxis": {
            "gridcolor": "white",
            "linecolor": "white",
            "ticks": ""
           },
           "baxis": {
            "gridcolor": "white",
            "linecolor": "white",
            "ticks": ""
           },
           "bgcolor": "#E5ECF6",
           "caxis": {
            "gridcolor": "white",
            "linecolor": "white",
            "ticks": ""
           }
          },
          "title": {
           "x": 0.05
          },
          "xaxis": {
           "automargin": true,
           "gridcolor": "white",
           "linecolor": "white",
           "ticks": "",
           "title": {
            "standoff": 15
           },
           "zerolinecolor": "white",
           "zerolinewidth": 2
          },
          "yaxis": {
           "automargin": true,
           "gridcolor": "white",
           "linecolor": "white",
           "ticks": "",
           "title": {
            "standoff": 15
           },
           "zerolinecolor": "white",
           "zerolinewidth": 2
          }
         }
        },
        "title": {
         "text": "Interactive t-SNE Reduced Embeddings"
        },
        "width": 1000,
        "xaxis": {
         "anchor": "y",
         "domain": [
          0,
          1
         ],
         "title": {
          "text": "TSNE-1"
         }
        },
        "yaxis": {
         "anchor": "x",
         "domain": [
          0,
          1
         ],
         "title": {
          "text": "TSNE-2"
         }
        }
       }
      }
     },
     "metadata": {},
     "output_type": "display_data"
    }
   ],
   "source": [
    "import pandas as pd\n",
    "import numpy as np\n",
    "import plotly.express as px\n",
    "from sklearn.preprocessing import LabelEncoder\n",
    "\n",
    "# Step 1: Encode labels\n",
    "label_encoder = LabelEncoder()\n",
    "encoded_labels = label_encoder.fit_transform(lang)\n",
    "label_names = label_encoder.inverse_transform(np.unique(encoded_labels))\n",
    "\n",
    "# Step 2: Prepare DataFrame for Plotly\n",
    "df = pd.DataFrame(embeddings_2d, columns=[\"TSNE-1\", \"TSNE-2\"])\n",
    "df['Label'] = [label_encoder.inverse_transform([l])[0] for l in encoded_labels]\n",
    "\n",
    "# Optional: Add color info using plotly's built-in color palettes or your own\n",
    "# If you want to customize colors:\n",
    "# from matplotlib.cm import get_cmap\n",
    "# clrs = generate_gradient_colors(len(label_names), cmap_name='Paired')\n",
    "# df['Color'] = [clrs[l] for l in encoded_labels]\n",
    "\n",
    "# Step 3: Plot using Plotly\n",
    "fig = px.scatter(\n",
    "    df,\n",
    "    x=\"TSNE-1\",\n",
    "    y=\"TSNE-2\",\n",
    "    color=\"Label\",\n",
    "    title=\"Interactive t-SNE Reduced Embeddings\",\n",
    "    labels={\"Label\": \"Description\"},\n",
    "    hover_data={\"Label\": True},\n",
    ")\n",
    "\n",
    "# Step 4: Improve interactivity\n",
    "fig.update_traces(marker=dict(size=6, opacity=0.8),\n",
    "                  selector=dict(mode='markers'))\n",
    "fig.update_layout(\n",
    "    legend_title_text='Descriptions',\n",
    "    legend=dict(itemsizing='constant'),\n",
    "    width=1000,   # Set your desired width in pixels\n",
    "    height=1000,   # Set your desired height in pixels\n",
    ")\n",
    "\n",
    "# Show the plot\n",
    "fig.show()\n"
   ]
  },
  {
   "cell_type": "code",
   "execution_count": null,
   "id": "cac3f089",
   "metadata": {},
   "outputs": [
    {
     "data": {
      "text/html": [
       "\n",
       "        <iframe\n",
       "            width=\"100%\"\n",
       "            height=\"650\"\n",
       "            src=\"http://127.0.0.1:8050/\"\n",
       "            frameborder=\"0\"\n",
       "            allowfullscreen\n",
       "            \n",
       "        ></iframe>\n",
       "        "
      ],
      "text/plain": [
       "<IPython.lib.display.IFrame at 0x7cb566e146d0>"
      ]
     },
     "metadata": {},
     "output_type": "display_data"
    },
    {
     "ename": "",
     "evalue": "",
     "output_type": "error",
     "traceback": [
      "\u001b[1;31mThe Kernel crashed while executing code in the current cell or a previous cell. \n",
      "\u001b[1;31mPlease review the code in the cell(s) to identify a possible cause of the failure. \n",
      "\u001b[1;31mClick <a href='https://aka.ms/vscodeJupyterKernelCrash'>here</a> for more info. \n",
      "\u001b[1;31mView Jupyter <a href='command:jupyter.viewOutput'>log</a> for further details."
     ]
    }
   ],
   "source": [
    "import dash\n",
    "from dash import dcc, html, Input, Output\n",
    "import plotly.express as px\n",
    "import pandas as pd\n",
    "from sklearn.preprocessing import LabelEncoder\n",
    "import numpy as np\n",
    "\n",
    "\n",
    "# Label Encoding\n",
    "label_encoder = LabelEncoder()\n",
    "encoded_labels = label_encoder.fit_transform(lang)\n",
    "label_names = label_encoder.inverse_transform(np.unique(encoded_labels))\n",
    "\n",
    "# DataFrame creation\n",
    "df = pd.DataFrame(embeddings_2d, columns=[\"TSNE-1\", \"TSNE-2\"])\n",
    "df['Label'] = [label_encoder.inverse_transform([l])[0] for l in encoded_labels]\n",
    "\n",
    "# Initial color map\n",
    "default_colors = px.colors.qualitative.Plotly\n",
    "label_to_color = {label: default_colors[i % len(default_colors)] for i, label in enumerate(label_names)}\n",
    "\n",
    "# ----- Dash App Setup -----\n",
    "app = dash.Dash(__name__)\n",
    "\n",
    "app.layout = html.Div([\n",
    "    html.H2(\"Interactive t-SNE with Color Picker\"),\n",
    "    html.Div([\n",
    "        html.Div([\n",
    "            html.Label(f\"{label} Color:\"),\n",
    "            dcc.Dropdown(\n",
    "                id={'type': 'color-picker', 'index': label},\n",
    "                options=[{'label': c, 'value': c} for c in px.colors.qualitative.Alphabet],\n",
    "                value=label_to_color[label],\n",
    "                clearable=False\n",
    "            )\n",
    "        ], style={'margin': '10px'}) for label in label_names\n",
    "    ], style={'display': 'flex', 'flexWrap': 'wrap'}),\n",
    "    dcc.Graph(id='tsne-plot')\n",
    "])\n",
    "\n",
    "# ----- Callback to update plot based on selected colors -----\n",
    "@app.callback(\n",
    "    Output('tsne-plot', 'figure'),\n",
    "    Input({'type': 'color-picker', 'index': dash.dependencies.ALL}, 'value')\n",
    ")\n",
    "def update_plot(colors):\n",
    "    color_map = {label: color for label, color in zip(label_names, colors)}\n",
    "    fig = px.scatter(\n",
    "        df,\n",
    "        x='TSNE-1',\n",
    "        y='TSNE-2',\n",
    "        color='Label',\n",
    "        color_discrete_map=color_map,\n",
    "        title='Interactive t-SNE Reduced Embeddings'\n",
    "    )\n",
    "    fig.update_layout(height=1000, width=1000)\n",
    "    return fig\n",
    "\n",
    "app.run(debug=True, use_reloader=False)\n"
   ]
  },
  {
   "cell_type": "code",
   "execution_count": null,
   "id": "41820b36",
   "metadata": {},
   "outputs": [],
   "source": [
    "def plot_tsne(points, labels):\n"
   ]
  }
 ],
 "metadata": {
  "kernelspec": {
   "display_name": "venv",
   "language": "python",
   "name": "python3"
  },
  "language_info": {
   "codemirror_mode": {
    "name": "ipython",
    "version": 3
   },
   "file_extension": ".py",
   "mimetype": "text/x-python",
   "name": "python",
   "nbconvert_exporter": "python",
   "pygments_lexer": "ipython3",
   "version": "3.10.12"
  }
 },
 "nbformat": 4,
 "nbformat_minor": 5
}
