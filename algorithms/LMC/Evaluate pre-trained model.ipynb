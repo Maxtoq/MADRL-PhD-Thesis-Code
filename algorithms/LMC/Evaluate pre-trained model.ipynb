{
 "cells": [
  {
   "cell_type": "code",
   "execution_count": 1,
   "id": "540f61df",
   "metadata": {},
   "outputs": [
    {
     "ename": "RuntimeError",
     "evalue": "Error(s) in loading state_dict for GRUEncoder:\n\tMissing key(s) in state_dict: \"embed_layer.weight\". \n\tsize mismatch for gru.weight_ih_l0: copying a param with shape torch.Size([48, 10]) from checkpoint, the shape in current model is torch.Size([96, 4]).\n\tsize mismatch for gru.weight_hh_l0: copying a param with shape torch.Size([48, 16]) from checkpoint, the shape in current model is torch.Size([96, 32]).\n\tsize mismatch for gru.bias_ih_l0: copying a param with shape torch.Size([48]) from checkpoint, the shape in current model is torch.Size([96]).\n\tsize mismatch for gru.bias_hh_l0: copying a param with shape torch.Size([48]) from checkpoint, the shape in current model is torch.Size([96]).",
     "output_type": "error",
     "traceback": [
      "\u001b[0;31m---------------------------------------------------------------------------\u001b[0m",
      "\u001b[0;31mRuntimeError\u001b[0m                              Traceback (most recent call last)",
      "Cell \u001b[0;32mIn[1], line 35\u001b[0m\n\u001b[1;32m     26\u001b[0m lang_learner \u001b[38;5;241m=\u001b[39m LanguageLearner(\n\u001b[1;32m     27\u001b[0m             obs_space[\u001b[38;5;241m0\u001b[39m]\u001b[38;5;241m.\u001b[39mshape[\u001b[38;5;241m0\u001b[39m], \n\u001b[1;32m     28\u001b[0m             context_dim, \n\u001b[1;32m     29\u001b[0m             lang_hidden_dim, \n\u001b[1;32m     30\u001b[0m             parser\u001b[38;5;241m.\u001b[39mvocab)\n\u001b[1;32m     32\u001b[0m save_dict \u001b[38;5;241m=\u001b[39m torch\u001b[38;5;241m.\u001b[39mload(\n\u001b[1;32m     33\u001b[0m     \u001b[38;5;124m\"\u001b[39m\u001b[38;5;124m../../models/magym_PredPrey/mappo_perfectcomm_8x8/run18/model_ep.pt\u001b[39m\u001b[38;5;124m\"\u001b[39m, map_location\u001b[38;5;241m=\u001b[39mtorch\u001b[38;5;241m.\u001b[39mdevice(\u001b[38;5;124m\"\u001b[39m\u001b[38;5;124mcpu\u001b[39m\u001b[38;5;124m\"\u001b[39m))\n\u001b[0;32m---> 35\u001b[0m \u001b[43mlang_learner\u001b[49m\u001b[38;5;241;43m.\u001b[39;49m\u001b[43mload_params\u001b[49m\u001b[43m(\u001b[49m\u001b[43msave_dict\u001b[49m\u001b[43m)\u001b[49m\n",
      "File \u001b[0;32m~/Desktop/Dev/MADRL-Cooperative-Push-Env/algorithms/LAMARL/src/lmc/modules/lang_learner.py:181\u001b[0m, in \u001b[0;36mLanguageLearner.load_params\u001b[0;34m(self, save_dict)\u001b[0m\n\u001b[1;32m    179\u001b[0m \u001b[38;5;28;01mdef\u001b[39;00m \u001b[38;5;21mload_params\u001b[39m(\u001b[38;5;28mself\u001b[39m, save_dict):\n\u001b[1;32m    180\u001b[0m     \u001b[38;5;28mself\u001b[39m\u001b[38;5;241m.\u001b[39mobs_encoder\u001b[38;5;241m.\u001b[39mload_state_dict(save_dict[\u001b[38;5;124m\"\u001b[39m\u001b[38;5;124mobs_encoder\u001b[39m\u001b[38;5;124m\"\u001b[39m])\n\u001b[0;32m--> 181\u001b[0m     \u001b[38;5;28;43mself\u001b[39;49m\u001b[38;5;241;43m.\u001b[39;49m\u001b[43mlang_encoder\u001b[49m\u001b[38;5;241;43m.\u001b[39;49m\u001b[43mload_state_dict\u001b[49m\u001b[43m(\u001b[49m\u001b[43msave_dict\u001b[49m\u001b[43m[\u001b[49m\u001b[38;5;124;43m\"\u001b[39;49m\u001b[38;5;124;43mlang_encoder\u001b[39;49m\u001b[38;5;124;43m\"\u001b[39;49m\u001b[43m]\u001b[49m\u001b[43m)\u001b[49m\n\u001b[1;32m    182\u001b[0m     \u001b[38;5;28mself\u001b[39m\u001b[38;5;241m.\u001b[39mdecoder\u001b[38;5;241m.\u001b[39mload_state_dict(save_dict[\u001b[38;5;124m\"\u001b[39m\u001b[38;5;124mdecoder\u001b[39m\u001b[38;5;124m\"\u001b[39m])\n\u001b[1;32m    183\u001b[0m     \u001b[38;5;28mself\u001b[39m\u001b[38;5;241m.\u001b[39moptim\u001b[38;5;241m.\u001b[39mload_state_dict(save_dict[\u001b[38;5;124m\"\u001b[39m\u001b[38;5;124moptim\u001b[39m\u001b[38;5;124m\"\u001b[39m])\n",
      "File \u001b[0;32m~/Desktop/Dev/MADRL-Cooperative-Push-Env/venv/lib/python3.8/site-packages/torch/nn/modules/module.py:1671\u001b[0m, in \u001b[0;36mModule.load_state_dict\u001b[0;34m(self, state_dict, strict)\u001b[0m\n\u001b[1;32m   1666\u001b[0m         error_msgs\u001b[38;5;241m.\u001b[39minsert(\n\u001b[1;32m   1667\u001b[0m             \u001b[38;5;241m0\u001b[39m, \u001b[38;5;124m'\u001b[39m\u001b[38;5;124mMissing key(s) in state_dict: \u001b[39m\u001b[38;5;132;01m{}\u001b[39;00m\u001b[38;5;124m. \u001b[39m\u001b[38;5;124m'\u001b[39m\u001b[38;5;241m.\u001b[39mformat(\n\u001b[1;32m   1668\u001b[0m                 \u001b[38;5;124m'\u001b[39m\u001b[38;5;124m, \u001b[39m\u001b[38;5;124m'\u001b[39m\u001b[38;5;241m.\u001b[39mjoin(\u001b[38;5;124m'\u001b[39m\u001b[38;5;124m\"\u001b[39m\u001b[38;5;132;01m{}\u001b[39;00m\u001b[38;5;124m\"\u001b[39m\u001b[38;5;124m'\u001b[39m\u001b[38;5;241m.\u001b[39mformat(k) \u001b[38;5;28;01mfor\u001b[39;00m k \u001b[38;5;129;01min\u001b[39;00m missing_keys)))\n\u001b[1;32m   1670\u001b[0m \u001b[38;5;28;01mif\u001b[39;00m \u001b[38;5;28mlen\u001b[39m(error_msgs) \u001b[38;5;241m>\u001b[39m \u001b[38;5;241m0\u001b[39m:\n\u001b[0;32m-> 1671\u001b[0m     \u001b[38;5;28;01mraise\u001b[39;00m \u001b[38;5;167;01mRuntimeError\u001b[39;00m(\u001b[38;5;124m'\u001b[39m\u001b[38;5;124mError(s) in loading state_dict for \u001b[39m\u001b[38;5;132;01m{}\u001b[39;00m\u001b[38;5;124m:\u001b[39m\u001b[38;5;130;01m\\n\u001b[39;00m\u001b[38;5;130;01m\\t\u001b[39;00m\u001b[38;5;132;01m{}\u001b[39;00m\u001b[38;5;124m'\u001b[39m\u001b[38;5;241m.\u001b[39mformat(\n\u001b[1;32m   1672\u001b[0m                        \u001b[38;5;28mself\u001b[39m\u001b[38;5;241m.\u001b[39m\u001b[38;5;18m__class__\u001b[39m\u001b[38;5;241m.\u001b[39m\u001b[38;5;18m__name__\u001b[39m, \u001b[38;5;124m\"\u001b[39m\u001b[38;5;130;01m\\n\u001b[39;00m\u001b[38;5;130;01m\\t\u001b[39;00m\u001b[38;5;124m\"\u001b[39m\u001b[38;5;241m.\u001b[39mjoin(error_msgs)))\n\u001b[1;32m   1673\u001b[0m \u001b[38;5;28;01mreturn\u001b[39;00m _IncompatibleKeys(missing_keys, unexpected_keys)\n",
      "\u001b[0;31mRuntimeError\u001b[0m: Error(s) in loading state_dict for GRUEncoder:\n\tMissing key(s) in state_dict: \"embed_layer.weight\". \n\tsize mismatch for gru.weight_ih_l0: copying a param with shape torch.Size([48, 10]) from checkpoint, the shape in current model is torch.Size([96, 4]).\n\tsize mismatch for gru.weight_hh_l0: copying a param with shape torch.Size([48, 16]) from checkpoint, the shape in current model is torch.Size([96, 32]).\n\tsize mismatch for gru.bias_ih_l0: copying a param with shape torch.Size([48]) from checkpoint, the shape in current model is torch.Size([96]).\n\tsize mismatch for gru.bias_hh_l0: copying a param with shape torch.Size([48]) from checkpoint, the shape in current model is torch.Size([96])."
     ]
    }
   ],
   "source": [
    "import torch\n",
    "\n",
    "from src.lmc.modules.lang_learner import LanguageLearner\n",
    "from src.envs.ma_gym.envs.predator_prey.predator_prey import PredatorPrey\n",
    "from src.envs.parsers.predator_prey import PredatorPrey_Parser \n",
    "\n",
    "magym_env_size = 8\n",
    "magym_n_agents = 4\n",
    "magym_n_preys = 2\n",
    "episode_length = 100\n",
    "env = PredatorPrey(\n",
    "    n_agents=magym_n_agents, \n",
    "    grid_shape=(magym_env_size, magym_env_size),\n",
    "    n_preys=magym_n_preys, \n",
    "    max_steps=episode_length)\n",
    "parser = PredatorPrey_Parser(magym_env_size)\n",
    "    \n",
    "n_agents = env.n_agents\n",
    "obs_space = env.observation_space\n",
    "shared_obs_space = env.shared_observation_space\n",
    "act_space = env.action_space\n",
    "\n",
    "context_dim = 16\n",
    "lang_hidden_dim = 32\n",
    "\n",
    "lang_learner = LanguageLearner(\n",
    "            obs_space[0].shape[0], \n",
    "            context_dim, \n",
    "            lang_hidden_dim, \n",
    "            parser.vocab)\n",
    "\n",
    "save_dict = torch.load(\n",
    "    \"../../models/magym_PredPrey/mappo_perfectcomm_8x8/run18/model_ep.pt\", map_location=torch.device(\"cpu\"))\n",
    "\n",
    "lang_learner.load_params(save_dict)"
   ]
  },
  {
   "cell_type": "code",
   "execution_count": 2,
   "id": "b4d255cb",
   "metadata": {},
   "outputs": [
    {
     "data": {
      "text/plain": [
       "[[0.42857142857142855,\n",
       "  0.42857142857142855,\n",
       "  1.0,\n",
       "  0.0,\n",
       "  0.0,\n",
       "  0.0,\n",
       "  0.0,\n",
       "  0.0,\n",
       "  0.0,\n",
       "  0.0,\n",
       "  0.0,\n",
       "  0.0,\n",
       "  0.0,\n",
       "  0.0,\n",
       "  0.0,\n",
       "  0.0,\n",
       "  0.0,\n",
       "  0.0,\n",
       "  0.0,\n",
       "  0.0,\n",
       "  0.0,\n",
       "  0.0,\n",
       "  0.0,\n",
       "  0.0,\n",
       "  0.0,\n",
       "  0.0,\n",
       "  0.0],\n",
       " [0.5714285714285714,\n",
       "  0.5714285714285714,\n",
       "  0.0,\n",
       "  0.0,\n",
       "  0.0,\n",
       "  0.0,\n",
       "  0.0,\n",
       "  0.0,\n",
       "  0.0,\n",
       "  0.0,\n",
       "  0.0,\n",
       "  0.0,\n",
       "  0.0,\n",
       "  0.0,\n",
       "  0.0,\n",
       "  0.0,\n",
       "  0.0,\n",
       "  0.0,\n",
       "  0.0,\n",
       "  0.0,\n",
       "  0.0,\n",
       "  0.0,\n",
       "  0.0,\n",
       "  0.0,\n",
       "  0.0,\n",
       "  0.0,\n",
       "  0.0],\n",
       " [0.5714285714285714,\n",
       "  0.7142857142857143,\n",
       "  0.0,\n",
       "  0.0,\n",
       "  0.0,\n",
       "  0.0,\n",
       "  0.0,\n",
       "  0.0,\n",
       "  0.0,\n",
       "  0.0,\n",
       "  0.0,\n",
       "  0.0,\n",
       "  0.0,\n",
       "  0.0,\n",
       "  0.0,\n",
       "  0.0,\n",
       "  0.0,\n",
       "  0.0,\n",
       "  0.0,\n",
       "  0.0,\n",
       "  0.0,\n",
       "  0.0,\n",
       "  0.0,\n",
       "  0.0,\n",
       "  0.0,\n",
       "  0.0,\n",
       "  0.0],\n",
       " [0.7142857142857143,\n",
       "  0.42857142857142855,\n",
       "  0.0,\n",
       "  0.0,\n",
       "  0.0,\n",
       "  0.0,\n",
       "  0.0,\n",
       "  0.0,\n",
       "  0.0,\n",
       "  0.0,\n",
       "  0.0,\n",
       "  0.0,\n",
       "  0.0,\n",
       "  0.0,\n",
       "  0.0,\n",
       "  0.0,\n",
       "  0.0,\n",
       "  0.0,\n",
       "  0.0,\n",
       "  0.0,\n",
       "  0.0,\n",
       "  0.0,\n",
       "  0.0,\n",
       "  0.0,\n",
       "  0.0,\n",
       "  0.0,\n",
       "  0.0]]"
      ]
     },
     "execution_count": 2,
     "metadata": {},
     "output_type": "execute_result"
    }
   ],
   "source": [
    "obs = env.reset()\n",
    "obs"
   ]
  },
  {
   "cell_type": "code",
   "execution_count": 3,
   "id": "d659d785",
   "metadata": {},
   "outputs": [
    {
     "data": {
      "text/plain": [
       "[['Prey', 'Located', 'North', 'West'], [], [], []]"
      ]
     },
     "execution_count": 3,
     "metadata": {},
     "output_type": "execute_result"
    }
   ],
   "source": [
    "contexts = lang_learner.encode_observations(torch.Tensor(obs))\n",
    "captions = lang_learner.generate_sentences(contexts)\n",
    "captions"
   ]
  },
  {
   "cell_type": "code",
   "execution_count": 4,
   "id": "46189ad5",
   "metadata": {},
   "outputs": [
    {
     "data": {
      "text/plain": [
       "[[['Prey', 'Located', 'North', 'West'], [], [], []]]"
      ]
     },
     "execution_count": 4,
     "metadata": {},
     "output_type": "execute_result"
    }
   ],
   "source": [
    "import numpy as np\n",
    "parsed_obs = parser.get_perfect_messages(np.array([obs]))\n",
    "parsed_obs"
   ]
  },
  {
   "cell_type": "code",
   "execution_count": 19,
   "id": "3b1d894e",
   "metadata": {},
   "outputs": [
    {
     "data": {
      "text/plain": [
       "[['Center'], ['Center'], ['Center'], ['Center']]"
      ]
     },
     "execution_count": 19,
     "metadata": {},
     "output_type": "execute_result"
    }
   ],
   "source": [
    "lang_contexts = lang_learner.encode_sentences(parsed_obs[0])\n",
    "lang_captions = lang_learner.generate_sentences(lang_contexts)\n",
    "lang_captions"
   ]
  },
  {
   "cell_type": "code",
   "execution_count": 20,
   "id": "ca80fa2b",
   "metadata": {},
   "outputs": [
    {
     "data": {
      "text/plain": [
       "tensor([[-0.3625,  1.4918, -1.7716, -0.5429,  2.1982,  1.0193,  0.4199, -0.1911,\n",
       "         -2.0710,  0.6141, -0.6164, -0.3448, -0.7480, -0.4211,  0.1539,  0.3899],\n",
       "        [-0.3625,  1.4918, -1.7716, -0.5429,  2.1982,  1.0193,  0.4199, -0.1911,\n",
       "         -2.0710,  0.6141, -0.6164, -0.3448, -0.7480, -0.4211,  0.1539,  0.3899],\n",
       "        [-0.3625,  1.4918, -1.7716, -0.5429,  2.1982,  1.0193,  0.4199, -0.1911,\n",
       "         -2.0710,  0.6141, -0.6164, -0.3448, -0.7480, -0.4211,  0.1539,  0.3899],\n",
       "        [-0.3625,  1.4918, -1.7716, -0.5429,  2.1982,  1.0193,  0.4199, -0.1911,\n",
       "         -2.0710,  0.6141, -0.6164, -0.3448, -0.7480, -0.4211,  0.1539,  0.3899]],\n",
       "       grad_fn=<SqueezeBackward1>)"
      ]
     },
     "execution_count": 20,
     "metadata": {},
     "output_type": "execute_result"
    }
   ],
   "source": [
    "lang_contexts"
   ]
  },
  {
   "cell_type": "code",
   "execution_count": 21,
   "id": "49f11ee9",
   "metadata": {},
   "outputs": [
    {
     "data": {
      "text/plain": [
       "tensor([[ 3.5465, -2.2015,  3.3764, -0.6979, -0.9155,  0.3608, -1.8657,  1.2274,\n",
       "         -2.4666,  1.3235,  2.0682, -2.6199,  1.6878, -2.1415, -0.9029, -0.7794],\n",
       "        [ 3.4802, -2.1770,  3.4070, -0.6994, -0.8836,  0.3601, -1.8812,  1.1857,\n",
       "         -2.4349,  1.3641,  2.0760, -2.6584,  1.7461, -2.1806, -0.8869, -0.8033],\n",
       "        [ 3.4802, -2.2248,  3.4232, -0.7183, -0.8630,  0.3766, -1.8462,  1.1511,\n",
       "         -2.4588,  1.3690,  2.0836, -2.6205,  1.7285, -2.1801, -0.8783, -0.8056],\n",
       "        [ 3.5441, -2.2246,  3.4070, -0.7067, -0.8883,  0.3736, -1.8685,  1.1570,\n",
       "         -2.4829,  1.3378,  2.0745, -2.5702,  1.6991, -2.1426, -0.9283, -0.7732]],\n",
       "       grad_fn=<NativeLayerNormBackward0>)"
      ]
     },
     "execution_count": 21,
     "metadata": {},
     "output_type": "execute_result"
    }
   ],
   "source": [
    "contexts"
   ]
  },
  {
   "cell_type": "code",
   "execution_count": 5,
   "id": "b0c8fdd2",
   "metadata": {},
   "outputs": [],
   "source": [
    "a = torch.zeros([1, 128, 10])\n",
    "b = torch.zeros([12, 128, 10])"
   ]
  },
  {
   "cell_type": "code",
   "execution_count": 6,
   "id": "6edae75a",
   "metadata": {},
   "outputs": [
    {
     "data": {
      "text/plain": [
       "torch.Size([13, 128, 10])"
      ]
     },
     "execution_count": 6,
     "metadata": {},
     "output_type": "execute_result"
    }
   ],
   "source": [
    "torch.cat((a, b)).shape"
   ]
  },
  {
   "cell_type": "code",
   "execution_count": null,
   "id": "89935071",
   "metadata": {},
   "outputs": [],
   "source": []
  }
 ],
 "metadata": {
  "kernelspec": {
   "display_name": "Python 3 (ipykernel)",
   "language": "python",
   "name": "python3"
  },
  "language_info": {
   "codemirror_mode": {
    "name": "ipython",
    "version": 3
   },
   "file_extension": ".py",
   "mimetype": "text/x-python",
   "name": "python",
   "nbconvert_exporter": "python",
   "pygments_lexer": "ipython3",
   "version": "3.8.10"
  }
 },
 "nbformat": 4,
 "nbformat_minor": 5
}
